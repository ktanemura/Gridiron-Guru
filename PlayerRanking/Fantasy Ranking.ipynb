{
 "cells": [
  {
   "cell_type": "code",
   "execution_count": 165,
   "metadata": {
    "collapsed": true
   },
   "outputs": [],
   "source": [
    "import numpy as np\n",
    "import sklearn as sk\n",
    "import requests\n",
    "from bs4 import BeautifulSoup\n",
    "import pandas as pd\n",
    "import sqlite3\n",
    "from sqlite_api import *\n",
    "from sklearn import linear_model"
   ]
  },
  {
   "cell_type": "raw",
   "metadata": {},
   "source": [
    "TABLE PlayerSeason\n",
    "     (Player VARCHAR(40), \n",
    "     Team VARCHAR(3), \n",
    "     Plays SMALLINT, \n",
    "     Fantasy SMALLINT, \n",
    "     Games SMALLINT,\n",
    "     FPG DECIMAL(5,2),\n",
    "     RushAttempts SMALLINT,\n",
    "     RushYrds SMALLINT,\n",
    "     RushTDs SMALLINT,\n",
    "     PassAttempts SMALLINT, \n",
    "     Complete SMALLINT, \n",
    "     PassYrds SMALLINT, \n",
    "     PassTDs SMALLINT, \n",
    "     Fumbles SMALLINT, \n",
    "     Interceptions SMALLINT,\n",
    "     Position CHARACTER(2),\n",
    "     Season CHARACTER(4))\n",
    "\n",
    "TABLE OffenseSeason\n",
    "    (Team VARCHAR(3), \n",
    "     Season CHARACTER(4), \n",
    "     Yards SMALLINT,\n",
    "     Rushes SMALLINT,\n",
    "     Passes SMALLINT,\n",
    "     Incompletes SMALLINT,\n",
    "     PassYrds SMALLINT,\n",
    "     RushYrds SMALLINT,\n",
    "     PassTDs SMALLINT,\n",
    "     RushTDs SMALLINT,\n",
    "     TDs SMALLINT,\n",
    "     Plays SMALLINT,\n",
    "     UNIQUE (Team, Season))\n",
    "  \n",
    "TABLE DefenseSeason\n",
    "    (City VARCHAR(20),\n",
    "    Team VARCHAR(3),\n",
    "    Fantasy SMALLINT,\n",
    "    Games SMALLINT,\n",
    "    FPG DECIMAL(5,2),\n",
    "    Sacks SMALLINT,\n",
    "    FRecoveries SMALLINT,\n",
    "    Interceptions SMALLINT,\n",
    "    TDs SMALLINT,\n",
    "    Safeties SMALLINT,\n",
    "    RushYrdsAllowed SMALLINT,\n",
    "    PassYrdsAllowed SMALLINT,\n",
    "    TotalYrdsAllowed SMALLINT,\n",
    "    Position CHARACTER(2),\n",
    "    Season CHARACTER(4) \n",
    " \n",
    "TABLE KickerSeason\n",
    "    (Player VARCHAR(40),\n",
    "    Team VARCHAR(3),\n",
    "    Fantasy SMALLINT,\n",
    "    Games SMALLINT,\n",
    "    FPG DECIMAL(5,2),\n",
    "    FGoals SMALLINT,\n",
    "    FGoalsMissed SMALLINT,\n",
    "    ExtraPoints SMALLINT,\n",
    "    ExtraPointsMissed SMALLINT,\n",
    "    Position CHARACTER(2),\n",
    "    Season CHARACTER(4))"
   ]
  },
  {
   "cell_type": "code",
   "execution_count": 6,
   "metadata": {
    "collapsed": true
   },
   "outputs": [],
   "source": [
    "fdb = 'fantasy.db'\n",
    "\n",
    "player_lbls = ['Player', 'Position', 'Team', 'Season', 'Plays', 'Games', 'RushAttempts', \n",
    "              'RushYrds', 'RushTDs', 'PassAttempts', 'Complete', 'PassYrds', 'PassTDs', 'Fumbles', 'Interceptions']"
   ]
  },
  {
   "cell_type": "code",
   "execution_count": 7,
   "metadata": {
    "collapsed": false
   },
   "outputs": [],
   "source": [
    "## Scoring metrics\n",
    "\n",
    "qb = {'PassYrds': 0.04, # QBs get 0.04 points per passing yard \n",
    "        'PassTDs': 4, \n",
    "        'Interceptions': -2,\n",
    "        'RushYrds': 0.1,\n",
    "        'RushTDs': 6,\n",
    "        'Fumbles': -2}\n",
    "\n",
    "wr = {'PassYrds': 0.01,\n",
    "         'PassTDs': 6,\n",
    "         'Interceptions': -2,\n",
    "         'RushYrds': 0.1,\n",
    "         'RushTDs': 6,\n",
    "         'Fumbles': -2}\n",
    "\n",
    "rb = wr.copy()\n",
    "\n",
    "te = wr.copy()\n",
    "\n",
    "scores = {'QB': qb,\n",
    "             'RB': rb,\n",
    "             'WR': wr,\n",
    "             'TE': te}\n",
    "\n",
    "# need 2 points for 2point conversions"
   ]
  },
  {
   "cell_type": "code",
   "execution_count": 3,
   "metadata": {
    "collapsed": true
   },
   "outputs": [],
   "source": [
    "def score_row(row, qb_scores, wr_scores, rb_scores, te_scores):\n",
    "    score = 0\n",
    "    if row['Position'] == 'QB':\n",
    "        metrics = qb_scores\n",
    "    elif row['Position'] == 'WR':\n",
    "        metrics = wr_scores\n",
    "    elif row['Position'] == 'RB':\n",
    "        metrics = rb_scores\n",
    "    elif row['Position'] == 'TE':\n",
    "        metrics = te_scores\n",
    "    \n",
    "    for var in metrics:\n",
    "        score += row[var] * metrics[var]\n",
    "        \n",
    "    return score"
   ]
  },
  {
   "cell_type": "code",
   "execution_count": 12,
   "metadata": {
    "collapsed": false
   },
   "outputs": [
    {
     "data": {
      "text/html": [
       "<div>\n",
       "<table border=\"1\" class=\"dataframe\">\n",
       "  <thead>\n",
       "    <tr style=\"text-align: right;\">\n",
       "      <th></th>\n",
       "      <th>Team</th>\n",
       "      <th>Season</th>\n",
       "      <th>Yards</th>\n",
       "    </tr>\n",
       "  </thead>\n",
       "  <tbody>\n",
       "    <tr>\n",
       "      <th>91</th>\n",
       "      <td>SEA</td>\n",
       "      <td>2014</td>\n",
       "      <td>6414.0</td>\n",
       "    </tr>\n",
       "    <tr>\n",
       "      <th>92</th>\n",
       "      <td>SF</td>\n",
       "      <td>2014</td>\n",
       "      <td>5771.0</td>\n",
       "    </tr>\n",
       "    <tr>\n",
       "      <th>93</th>\n",
       "      <td>TB</td>\n",
       "      <td>2014</td>\n",
       "      <td>5215.0</td>\n",
       "    </tr>\n",
       "    <tr>\n",
       "      <th>94</th>\n",
       "      <td>TEN</td>\n",
       "      <td>2014</td>\n",
       "      <td>5159.0</td>\n",
       "    </tr>\n",
       "    <tr>\n",
       "      <th>95</th>\n",
       "      <td>WAS</td>\n",
       "      <td>2014</td>\n",
       "      <td>6177.0</td>\n",
       "    </tr>\n",
       "  </tbody>\n",
       "</table>\n",
       "</div>"
      ],
      "text/plain": [
       "   Team Season   Yards\n",
       "91  SEA   2014  6414.0\n",
       "92   SF   2014  5771.0\n",
       "93   TB   2014  5215.0\n",
       "94  TEN   2014  5159.0\n",
       "95  WAS   2014  6177.0"
      ]
     },
     "execution_count": 12,
     "metadata": {},
     "output_type": "execute_result"
    }
   ],
   "source": [
    "select_to_df(fdb, 'OffenseSeason', ['Team', 'Season', 'Yards']).tail()"
   ]
  },
  {
   "cell_type": "code",
   "execution_count": 6,
   "metadata": {
    "collapsed": false,
    "scrolled": true
   },
   "outputs": [],
   "source": [
    "plyr = select_to_df(fdb, 'PlayerSeason', player_lbls, where='WHERE Season=2016')  "
   ]
  },
  {
   "cell_type": "code",
   "execution_count": 8,
   "metadata": {
    "collapsed": false
   },
   "outputs": [],
   "source": [
    "# create 2016 mock season database\n",
    "rdb = 'rankings.db'\n",
    "conn = sqlite3.connect(rdb)\n",
    "c = conn.cursor()"
   ]
  },
  {
   "cell_type": "code",
   "execution_count": 95,
   "metadata": {
    "collapsed": false
   },
   "outputs": [
    {
     "ename": "OperationalError",
     "evalue": "no such table: Kickers",
     "output_type": "error",
     "traceback": [
      "\u001b[1;31m---------------------------------------------------------------------------\u001b[0m",
      "\u001b[1;31mOperationalError\u001b[0m                          Traceback (most recent call last)",
      "\u001b[1;32m<ipython-input-95-28c9c9eb1216>\u001b[0m in \u001b[0;36m<module>\u001b[1;34m()\u001b[0m\n\u001b[1;32m----> 1\u001b[1;33m \u001b[0mc\u001b[0m\u001b[1;33m.\u001b[0m\u001b[0mexecute\u001b[0m\u001b[1;33m(\u001b[0m\u001b[1;34m'DROP TABLE Kickers'\u001b[0m\u001b[1;33m)\u001b[0m\u001b[1;33m\u001b[0m\u001b[0m\n\u001b[0m",
      "\u001b[1;31mOperationalError\u001b[0m: no such table: Kickers"
     ]
    }
   ],
   "source": [
    "c.execute('DROP TABLE Kickers')"
   ]
  },
  {
   "cell_type": "code",
   "execution_count": 96,
   "metadata": {
    "collapsed": false
   },
   "outputs": [],
   "source": [
    "for pos in ['Quarterbacks', 'RunningBacks', 'WideReceivers', 'TightEnds', 'Kickers']:\n",
    "    c.execute('''CREATE Table ''' + pos +\n",
    "                '''(Player VARCHAR(30),\n",
    "                    Team VARCHAR(3),\n",
    "                    Position CHARACTER(2),\n",
    "                    PRIMARY KEY (Player))''')"
   ]
  },
  {
   "cell_type": "code",
   "execution_count": 97,
   "metadata": {
    "collapsed": false
   },
   "outputs": [
    {
     "data": {
      "text/plain": [
       "<sqlite3.Cursor at 0x21886351f10>"
      ]
     },
     "execution_count": 97,
     "metadata": {},
     "output_type": "execute_result"
    }
   ],
   "source": [
    "c.execute('''CREATE Table Defenses\n",
    "                (Team VARCHAR(3),\n",
    "                Position CHARACTER(2),\n",
    "                PRIMARY KEY (Team))''')"
   ]
  },
  {
   "cell_type": "code",
   "execution_count": 102,
   "metadata": {
    "collapsed": false
   },
   "outputs": [],
   "source": [
    "df = select_to_df(fdb, 'PlayerSeason', player_lbls, where='WHERE Season=2016')[['Player', 'Position', 'Team']]\n",
    "QBs = df[df.Position == 'QB']\n",
    "for idx in range(len(QBs)):\n",
    "    row = df.iloc[idx]\n",
    "    c.execute('INSERT INTO Quarterbacks VALUES (?, ?, ?)', (row[0], row[2], row[1]))"
   ]
  },
  {
   "cell_type": "code",
   "execution_count": 103,
   "metadata": {
    "collapsed": true
   },
   "outputs": [],
   "source": [
    "RBs = df[df.Position == 'RB']\n",
    "for idx in range(len(RBs)):\n",
    "    row = df.iloc[idx]\n",
    "    c.execute('INSERT INTO RunningBacks VALUES (?, ?, ?)', (row[0], row[2], row[1]))"
   ]
  },
  {
   "cell_type": "code",
   "execution_count": 104,
   "metadata": {
    "collapsed": true
   },
   "outputs": [],
   "source": [
    "WRs = df[df.Position == 'WR']\n",
    "for idx in range(len(WRs)):\n",
    "    row = df.iloc[idx]\n",
    "    c.execute('INSERT INTO WideReceivers VALUES (?, ?, ?)', (row[0], row[2], row[1]))"
   ]
  },
  {
   "cell_type": "code",
   "execution_count": 105,
   "metadata": {
    "collapsed": true
   },
   "outputs": [],
   "source": [
    "TEs = df[df.Position == 'TE']\n",
    "for idx in range(len(TEs)):\n",
    "    row = df.iloc[idx]\n",
    "    c.execute('INSERT INTO TightEnds VALUES (?, ?, ?)', (row[0], row[2], row[1]))"
   ]
  },
  {
   "cell_type": "code",
   "execution_count": 107,
   "metadata": {
    "collapsed": true
   },
   "outputs": [],
   "source": [
    "df = select_to_df(fdb, 'KickerSeason', ['Player', 'Team', 'Position'], 'WHERE Season = 2016')\n",
    "for idx in range(len(df)):\n",
    "    c.execute('INSERT INTO Kickers VALUES (?, ?, ?)', df.iloc[idx])"
   ]
  },
  {
   "cell_type": "code",
   "execution_count": 108,
   "metadata": {
    "collapsed": true
   },
   "outputs": [],
   "source": [
    "df = select_to_df(fdb, 'DefenseSeason', ['Team', 'Position'], 'WHERE Season = 2016')\n",
    "for idx in range(len(df)):\n",
    "    c.execute('INSERT INTO Defenses VALUES (?, ?)', df.iloc[idx])"
   ]
  },
  {
   "cell_type": "code",
   "execution_count": 30,
   "metadata": {
    "collapsed": true
   },
   "outputs": [],
   "source": [
    "df = select_to_df(fdb, 'PlayerSeason', player_lbls, 'WHERE Season != 2016')\n",
    "df['Score'] = ply.apply(score_row, args=(qb, wr, rb, te), axis=1)"
   ]
  },
  {
   "cell_type": "code",
   "execution_count": 64,
   "metadata": {
    "collapsed": false
   },
   "outputs": [
    {
     "ename": "TypeError",
     "evalue": "'method' object is not iterable",
     "output_type": "error",
     "traceback": [
      "\u001b[1;31m---------------------------------------------------------------------------\u001b[0m",
      "\u001b[1;31mTypeError\u001b[0m                                 Traceback (most recent call last)",
      "\u001b[1;32m<ipython-input-64-632ca048a885>\u001b[0m in \u001b[0;36m<module>\u001b[1;34m()\u001b[0m\n\u001b[1;32m----> 1\u001b[1;33m \u001b[1;32mfor\u001b[0m \u001b[0mi\u001b[0m \u001b[1;32min\u001b[0m \u001b[0mply\u001b[0m\u001b[1;33m.\u001b[0m\u001b[0mTeam\u001b[0m\u001b[1;33m.\u001b[0m\u001b[0munique\u001b[0m\u001b[1;33m:\u001b[0m\u001b[1;33m\u001b[0m\u001b[0m\n\u001b[0m\u001b[0;32m      2\u001b[0m     \u001b[0mprint\u001b[0m\u001b[1;33m(\u001b[0m\u001b[0mi\u001b[0m\u001b[1;33m)\u001b[0m\u001b[1;33m\u001b[0m\u001b[0m\n",
      "\u001b[1;31mTypeError\u001b[0m: 'method' object is not iterable"
     ]
    }
   ],
   "source": [
    "for i in ply.Team.unique:\n",
    "    print(i)"
   ]
  },
  {
   "cell_type": "markdown",
   "metadata": {},
   "source": [
    "## Offensive Features"
   ]
  },
  {
   "cell_type": "code",
   "execution_count": 9,
   "metadata": {
    "collapsed": true
   },
   "outputs": [],
   "source": [
    "def add_feature(df, name, func):\n",
    "    df[name] = df.apply(func, axis=1)\n",
    "    return df"
   ]
  },
  {
   "cell_type": "code",
   "execution_count": 10,
   "metadata": {
    "collapsed": false
   },
   "outputs": [],
   "source": [
    "offense_lbls = ['Team', \n",
    "                 'Season', \n",
    "                 'Yards',\n",
    "                 'PassYrds',\n",
    "                 'RushYrds',\n",
    "                 'Points']"
   ]
  },
  {
   "cell_type": "code",
   "execution_count": 11,
   "metadata": {
    "collapsed": true
   },
   "outputs": [],
   "source": [
    "def pass_rush_rat(row):\n",
    "    return row['PassYrds'] / row['RushYrds']\n",
    "\n",
    "def yards_per_game(row):\n",
    "    return row['Yards'] / 16\n",
    "\n",
    "def pass_yrds_per_game(row):\n",
    "    return row['PassYrds'] / 16\n",
    "\n",
    "def rush_yrds_per_game(row):\n",
    "    return row['RushYrds'] / 16\n",
    "\n",
    "def points_per_game(row):\n",
    "    return row['Points'] / 16"
   ]
  },
  {
   "cell_type": "code",
   "execution_count": 12,
   "metadata": {
    "collapsed": true
   },
   "outputs": [],
   "source": [
    "off = select_to_df(fdb, 'OffenseSeason', offense_lbls)"
   ]
  },
  {
   "cell_type": "code",
   "execution_count": 13,
   "metadata": {
    "collapsed": false
   },
   "outputs": [
    {
     "data": {
      "text/html": [
       "<div>\n",
       "<table border=\"1\" class=\"dataframe\">\n",
       "  <thead>\n",
       "    <tr style=\"text-align: right;\">\n",
       "      <th></th>\n",
       "      <th>Team</th>\n",
       "      <th>Season</th>\n",
       "      <th>OffPassRushRatio</th>\n",
       "      <th>OffYardsPerGame</th>\n",
       "      <th>OffPassYrdsPerGame</th>\n",
       "      <th>OffRushYrdsPerGame</th>\n",
       "      <th>OffPointsPerGame</th>\n",
       "    </tr>\n",
       "  </thead>\n",
       "  <tbody>\n",
       "    <tr>\n",
       "      <th>0</th>\n",
       "      <td>NE</td>\n",
       "      <td>2007</td>\n",
       "      <td>2.558680</td>\n",
       "      <td>411.2500</td>\n",
       "      <td>295.6875</td>\n",
       "      <td>115.5625</td>\n",
       "      <td>36.8125</td>\n",
       "    </tr>\n",
       "    <tr>\n",
       "      <th>1</th>\n",
       "      <td>DAL</td>\n",
       "      <td>2007</td>\n",
       "      <td>2.351088</td>\n",
       "      <td>365.6875</td>\n",
       "      <td>256.5625</td>\n",
       "      <td>109.1250</td>\n",
       "      <td>28.4375</td>\n",
       "    </tr>\n",
       "    <tr>\n",
       "      <th>2</th>\n",
       "      <td>IND</td>\n",
       "      <td>2007</td>\n",
       "      <td>2.364009</td>\n",
       "      <td>358.6875</td>\n",
       "      <td>252.0625</td>\n",
       "      <td>106.6250</td>\n",
       "      <td>28.1250</td>\n",
       "    </tr>\n",
       "    <tr>\n",
       "      <th>3</th>\n",
       "      <td>JAX</td>\n",
       "      <td>2007</td>\n",
       "      <td>1.391886</td>\n",
       "      <td>357.4375</td>\n",
       "      <td>208.0000</td>\n",
       "      <td>149.4375</td>\n",
       "      <td>25.6875</td>\n",
       "    </tr>\n",
       "    <tr>\n",
       "      <th>4</th>\n",
       "      <td>SEA</td>\n",
       "      <td>2007</td>\n",
       "      <td>2.448425</td>\n",
       "      <td>348.9375</td>\n",
       "      <td>247.7500</td>\n",
       "      <td>101.1875</td>\n",
       "      <td>24.5625</td>\n",
       "    </tr>\n",
       "  </tbody>\n",
       "</table>\n",
       "</div>"
      ],
      "text/plain": [
       "  Team Season  OffPassRushRatio  OffYardsPerGame  OffPassYrdsPerGame  \\\n",
       "0   NE   2007          2.558680         411.2500            295.6875   \n",
       "1  DAL   2007          2.351088         365.6875            256.5625   \n",
       "2  IND   2007          2.364009         358.6875            252.0625   \n",
       "3  JAX   2007          1.391886         357.4375            208.0000   \n",
       "4  SEA   2007          2.448425         348.9375            247.7500   \n",
       "\n",
       "   OffRushYrdsPerGame  OffPointsPerGame  \n",
       "0            115.5625           36.8125  \n",
       "1            109.1250           28.4375  \n",
       "2            106.6250           28.1250  \n",
       "3            149.4375           25.6875  \n",
       "4            101.1875           24.5625  "
      ]
     },
     "execution_count": 13,
     "metadata": {},
     "output_type": "execute_result"
    }
   ],
   "source": [
    "off = add_feature(off, 'OffPassRushRatio', pass_rush_rat)\n",
    "off = add_feature(off, 'OffYardsPerGame', yards_per_game)\n",
    "off = add_feature(off, 'OffPassYrdsPerGame', pass_yrds_per_game)\n",
    "off = add_feature(off, 'OffRushYrdsPerGame', rush_yrds_per_game)\n",
    "off = add_feature(off, 'OffPointsPerGame', points_per_game)\n",
    "off = off.drop(['Yards', 'PassYrds', 'RushYrds', 'Points'], axis=1)\n",
    "off.head()"
   ]
  },
  {
   "cell_type": "markdown",
   "metadata": {},
   "source": [
    "## Additional Player Features"
   ]
  },
  {
   "cell_type": "code",
   "execution_count": 14,
   "metadata": {
    "collapsed": true
   },
   "outputs": [],
   "source": [
    "def pass_tdatt_rat(row):\n",
    "    if row['PassAttempts'] == 0:\n",
    "        return 0\n",
    "    return row['PassTDs'] / row['PassAttempts']\n",
    "\n",
    "def rush_tdatt_rat(row):\n",
    "    if row['RushAttempts'] == 0:\n",
    "        return 0\n",
    "    return row['RushTDs'] / row['RushAttempts']\n",
    "\n",
    "def pass_rush_att_rat(row):\n",
    "    if row['RushAttempts'] == 0:\n",
    "        return 1\n",
    "    return row['PassAttempts'] / row['RushAttempts']\n",
    "\n",
    "def complete_perc(row):\n",
    "    if row['PassAttempts'] == 0:\n",
    "        return 0\n",
    "    return row['Complete'] / row['PassAttempts']\n",
    "\n",
    "def avg_rush_yrds(row):\n",
    "    if row['RushAttempts'] == 0:\n",
    "        return 0\n",
    "    return row['RushYrds'] / row['RushAttempts']\n",
    "\n",
    "def avg_pass_yrds(row):\n",
    "    if row['PassAttempts'] == 0:\n",
    "        return 0\n",
    "    return row['PassYrds'] / row['PassAttempts']\n",
    "\n",
    "def avg_plays(row):\n",
    "    return row['Plays'] / row['Games']\n",
    "\n",
    "def score_per_play(row):\n",
    "    return row['Score'] / row['Plays']\n",
    "\n",
    "def score_per_game(row):\n",
    "    return row['Score'] / row['Games']\n",
    "\n",
    "def games_perc(row):\n",
    "    return row['Games'] / 16\n",
    "\n",
    "def intercept_rat(row):\n",
    "    if row['PassAttempts'] == 0:\n",
    "        return 0\n",
    "    return row['Interceptions'] / row['PassAttempts']\n",
    "\n",
    "def pass_att_per_game(row):\n",
    "    return row['PassAttempts'] / row['Games']\n",
    "\n",
    "def rush_att_per_game(row):\n",
    "    return row['RushAttempts'] / row['Games']\n",
    "\n",
    "def fumb_per_game(row):\n",
    "    return row['Fumbles'] / row['Games']"
   ]
  },
  {
   "cell_type": "code",
   "execution_count": 15,
   "metadata": {
    "collapsed": false
   },
   "outputs": [],
   "source": [
    "df = select_to_df(fdb, 'PlayerSeason', player_lbls)\n",
    "df['PassTDAttRatio'] = df.apply(pass_tdatt_rat, axis=1)\n",
    "df['RushTDAttRatio'] = df.apply(rush_tdatt_rat, axis=1)\n",
    "df['AvgPassYrds'] = df.apply(avg_pass_yrds, axis=1)\n",
    "df['AvgRushYrds'] = df.apply(avg_rush_yrds, axis=1)\n",
    "df['PercentComplete'] = df.apply(complete_perc, axis=1)\n",
    "df['PlaysPerGame'] = df.apply(avg_plays, axis=1)\n",
    "df['GamesPlayedPercent'] = df.apply(games_perc, axis=1)\n",
    "df['InterceptionRatio'] = df.apply(intercept_rat, axis=1)\n",
    "df['PassAttPerGame'] = df.apply(pass_att_per_game, axis=1)\n",
    "df['RushAttPerGame'] = df.apply(rush_att_per_game, axis=1)\n",
    "df['FumblesPerGame'] = df.apply(fumb_per_game, axis=1)\n",
    "df['PassRushAttRatio'] = df.apply(pass_rush_att_rat, axis=1)\n",
    "#df['ScorePerPlay'] = df.apply(score_per_play, axis=1)\n",
    "#df['ScorePerGame'] = df.apply(score_per_game, axis=1)"
   ]
  },
  {
   "cell_type": "code",
   "execution_count": 16,
   "metadata": {
    "collapsed": false
   },
   "outputs": [
    {
     "data": {
      "text/html": [
       "<div>\n",
       "<table border=\"1\" class=\"dataframe\">\n",
       "  <thead>\n",
       "    <tr style=\"text-align: right;\">\n",
       "      <th></th>\n",
       "      <th>Player</th>\n",
       "      <th>Position</th>\n",
       "      <th>Team</th>\n",
       "      <th>Season</th>\n",
       "      <th>Plays</th>\n",
       "      <th>Games</th>\n",
       "      <th>RushAttempts</th>\n",
       "      <th>RushYrds</th>\n",
       "      <th>RushTDs</th>\n",
       "      <th>PassAttempts</th>\n",
       "      <th>...</th>\n",
       "      <th>InterceptionRatio</th>\n",
       "      <th>PassAttPerGame</th>\n",
       "      <th>RushAttPerGame</th>\n",
       "      <th>FumblesPerGame</th>\n",
       "      <th>PassRushAttRatio</th>\n",
       "      <th>OffPassRushRatio</th>\n",
       "      <th>OffYardsPerGame</th>\n",
       "      <th>OffPassYrdsPerGame</th>\n",
       "      <th>OffRushYrdsPerGame</th>\n",
       "      <th>OffPointsPerGame</th>\n",
       "    </tr>\n",
       "  </thead>\n",
       "  <tbody>\n",
       "    <tr>\n",
       "      <th>5224</th>\n",
       "      <td>Danny Vitale</td>\n",
       "      <td>RB</td>\n",
       "      <td>CLE</td>\n",
       "      <td>2016</td>\n",
       "      <td>5.0</td>\n",
       "      <td>9.0</td>\n",
       "      <td>0.0</td>\n",
       "      <td>0.0</td>\n",
       "      <td>0.0</td>\n",
       "      <td>5.0</td>\n",
       "      <td>...</td>\n",
       "      <td>0.0</td>\n",
       "      <td>0.555556</td>\n",
       "      <td>0.0</td>\n",
       "      <td>0.0</td>\n",
       "      <td>1.0</td>\n",
       "      <td>1.906542</td>\n",
       "      <td>311.0</td>\n",
       "      <td>204.0</td>\n",
       "      <td>107.0</td>\n",
       "      <td>16.5</td>\n",
       "    </tr>\n",
       "    <tr>\n",
       "      <th>5225</th>\n",
       "      <td>Gary Barnidge</td>\n",
       "      <td>TE</td>\n",
       "      <td>CLE</td>\n",
       "      <td>2016</td>\n",
       "      <td>82.0</td>\n",
       "      <td>16.0</td>\n",
       "      <td>0.0</td>\n",
       "      <td>0.0</td>\n",
       "      <td>0.0</td>\n",
       "      <td>82.0</td>\n",
       "      <td>...</td>\n",
       "      <td>0.0</td>\n",
       "      <td>5.125000</td>\n",
       "      <td>0.0</td>\n",
       "      <td>0.0</td>\n",
       "      <td>1.0</td>\n",
       "      <td>1.906542</td>\n",
       "      <td>311.0</td>\n",
       "      <td>204.0</td>\n",
       "      <td>107.0</td>\n",
       "      <td>16.5</td>\n",
       "    </tr>\n",
       "    <tr>\n",
       "      <th>5226</th>\n",
       "      <td>Seth DeValve</td>\n",
       "      <td>TE</td>\n",
       "      <td>CLE</td>\n",
       "      <td>2016</td>\n",
       "      <td>12.0</td>\n",
       "      <td>12.0</td>\n",
       "      <td>0.0</td>\n",
       "      <td>0.0</td>\n",
       "      <td>0.0</td>\n",
       "      <td>12.0</td>\n",
       "      <td>...</td>\n",
       "      <td>0.0</td>\n",
       "      <td>1.000000</td>\n",
       "      <td>0.0</td>\n",
       "      <td>0.0</td>\n",
       "      <td>1.0</td>\n",
       "      <td>1.906542</td>\n",
       "      <td>311.0</td>\n",
       "      <td>204.0</td>\n",
       "      <td>107.0</td>\n",
       "      <td>16.5</td>\n",
       "    </tr>\n",
       "    <tr>\n",
       "      <th>5227</th>\n",
       "      <td>Connor Hamlett</td>\n",
       "      <td>TE</td>\n",
       "      <td>CLE</td>\n",
       "      <td>2016</td>\n",
       "      <td>1.0</td>\n",
       "      <td>3.0</td>\n",
       "      <td>0.0</td>\n",
       "      <td>0.0</td>\n",
       "      <td>0.0</td>\n",
       "      <td>1.0</td>\n",
       "      <td>...</td>\n",
       "      <td>0.0</td>\n",
       "      <td>0.333333</td>\n",
       "      <td>0.0</td>\n",
       "      <td>0.0</td>\n",
       "      <td>1.0</td>\n",
       "      <td>1.906542</td>\n",
       "      <td>311.0</td>\n",
       "      <td>204.0</td>\n",
       "      <td>107.0</td>\n",
       "      <td>16.5</td>\n",
       "    </tr>\n",
       "    <tr>\n",
       "      <th>5228</th>\n",
       "      <td>Randall Telfer</td>\n",
       "      <td>TE</td>\n",
       "      <td>CLE</td>\n",
       "      <td>2016</td>\n",
       "      <td>7.0</td>\n",
       "      <td>14.0</td>\n",
       "      <td>0.0</td>\n",
       "      <td>0.0</td>\n",
       "      <td>0.0</td>\n",
       "      <td>7.0</td>\n",
       "      <td>...</td>\n",
       "      <td>0.0</td>\n",
       "      <td>0.500000</td>\n",
       "      <td>0.0</td>\n",
       "      <td>0.0</td>\n",
       "      <td>1.0</td>\n",
       "      <td>1.906542</td>\n",
       "      <td>311.0</td>\n",
       "      <td>204.0</td>\n",
       "      <td>107.0</td>\n",
       "      <td>16.5</td>\n",
       "    </tr>\n",
       "  </tbody>\n",
       "</table>\n",
       "<p>5 rows × 32 columns</p>\n",
       "</div>"
      ],
      "text/plain": [
       "              Player Position Team Season  Plays  Games  RushAttempts  \\\n",
       "5224    Danny Vitale       RB  CLE   2016    5.0    9.0           0.0   \n",
       "5225   Gary Barnidge       TE  CLE   2016   82.0   16.0           0.0   \n",
       "5226    Seth DeValve       TE  CLE   2016   12.0   12.0           0.0   \n",
       "5227  Connor Hamlett       TE  CLE   2016    1.0    3.0           0.0   \n",
       "5228  Randall Telfer       TE  CLE   2016    7.0   14.0           0.0   \n",
       "\n",
       "      RushYrds  RushTDs  PassAttempts        ...         InterceptionRatio  \\\n",
       "5224       0.0      0.0           5.0        ...                       0.0   \n",
       "5225       0.0      0.0          82.0        ...                       0.0   \n",
       "5226       0.0      0.0          12.0        ...                       0.0   \n",
       "5227       0.0      0.0           1.0        ...                       0.0   \n",
       "5228       0.0      0.0           7.0        ...                       0.0   \n",
       "\n",
       "      PassAttPerGame  RushAttPerGame  FumblesPerGame  PassRushAttRatio  \\\n",
       "5224        0.555556             0.0             0.0               1.0   \n",
       "5225        5.125000             0.0             0.0               1.0   \n",
       "5226        1.000000             0.0             0.0               1.0   \n",
       "5227        0.333333             0.0             0.0               1.0   \n",
       "5228        0.500000             0.0             0.0               1.0   \n",
       "\n",
       "      OffPassRushRatio  OffYardsPerGame  OffPassYrdsPerGame  \\\n",
       "5224          1.906542            311.0               204.0   \n",
       "5225          1.906542            311.0               204.0   \n",
       "5226          1.906542            311.0               204.0   \n",
       "5227          1.906542            311.0               204.0   \n",
       "5228          1.906542            311.0               204.0   \n",
       "\n",
       "      OffRushYrdsPerGame  OffPointsPerGame  \n",
       "5224               107.0              16.5  \n",
       "5225               107.0              16.5  \n",
       "5226               107.0              16.5  \n",
       "5227               107.0              16.5  \n",
       "5228               107.0              16.5  \n",
       "\n",
       "[5 rows x 32 columns]"
      ]
     },
     "execution_count": 16,
     "metadata": {},
     "output_type": "execute_result"
    }
   ],
   "source": [
    "players = pd.merge(df, off, on=['Team', 'Season'])\n",
    "players.tail()"
   ]
  },
  {
   "cell_type": "markdown",
   "metadata": {},
   "source": [
    "## Creating the Models"
   ]
  },
  {
   "cell_type": "code",
   "execution_count": 560,
   "metadata": {
    "collapsed": false
   },
   "outputs": [],
   "source": [
    "class Model:\n",
    "    def __init__(self, feature_list):\n",
    "        self.features = feature_list\n",
    "    \n",
    "    def set_model(self, model):\n",
    "        self.model = model\n",
    "        \n",
    "    def predict(self, feature_dict):\n",
    "        parameters = list()\n",
    "        for idx in range(len(self.features)):\n",
    "            if self.features[idx][2:] in feature_dict:\n",
    "                parameters.append(feature_dict[self.features[idx][2:]])\n",
    "            else:\n",
    "                parameters.append(feature_dict[self.features[idx]])\n",
    "            \n",
    "        return self.model.predict(parameters)\n",
    "        \n",
    "class PositionModels:\n",
    "    def __init__(self, position):\n",
    "        self.models = dict()\n",
    "        self.position = position\n",
    "    \n",
    "    def add_model(self, predict, model):\n",
    "        self.models[predict] = model\n",
    "        \n",
    "    def predict_player(self, feature_dict):\n",
    "        predictions = dict()\n",
    "        for cur_predict in self.models:\n",
    "            if cur_predict[2:] in self.models:\n",
    "                cur_model = self.models[cur_predict[2:]]\n",
    "            else:\n",
    "                cur_model = self.models[cur_predict]\n",
    "            \n",
    "            #print(str(cur_predict)+': '+str(cur_model.predict(feature_dict)))\n",
    "            predictions[cur_predict] = cur_model.predict(feature_dict)\n",
    "        \n",
    "        return predictions\n",
    "        \n",
    "    def predict_df(self, df):\n",
    "        def predict_var(row, to_predict):\n",
    "            #print(len(self.predict_player(row.to_dict())[to_predict]))\n",
    "            return self.predict_player(row.to_dict())[to_predict][0]\n",
    "        \n",
    "        for to_predict in self.models:\n",
    "            print('Predicting '+to_predict+'...')\n",
    "            new_col = 'Pred' + to_predict\n",
    "            df[new_col] = df.apply(predict_var, args=(to_predict,), axis=1)\n",
    "        \n",
    "        return df\n",
    "    \n",
    "    def create_model(self, df, to_predict, features, game_limit=0, test_cutoff=2014, add_limits=dict()):\n",
    "        new_model = create_model(df, self.position, to_predict, features, game_limit=game_limit, \n",
    "                                 test_cutoff=test_cutoff, add_limits=add_limits)\n",
    "        self.add_model(to_predict, new_model)"
   ]
  },
  {
   "cell_type": "code",
   "execution_count": 561,
   "metadata": {
    "collapsed": false,
    "scrolled": true
   },
   "outputs": [],
   "source": [
    "# todo: enable interactions\n",
    "# get rid of zeros\n",
    "# maybe get dont train on low games played\n",
    "# maybe binary predict upward trend/downward trend\n",
    "\n",
    "def create_model(df, pos, predict, features, reg_type='linear', game_limit=0, test_cutoff=2016, add_limits=dict()):\n",
    "    df = df[df.Position == pos]\n",
    "    left_vars = ['Player', 'Team', 'Season'] + [predict]\n",
    "    right_vars = ['Player', 'Team', 'Season'] + features\n",
    "    model_vars = left_vars.copy()\n",
    "    for idx in range(len(features)):\n",
    "        features[idx] = 'PS' + features[idx]\n",
    "    model_vars += features\n",
    "        \n",
    "    # build train dataframe\n",
    "    model_df = pd.DataFrame(columns=model_vars)\n",
    "    for season in range(2008, test_cutoff):\n",
    "        prev_season = str(season - 1)\n",
    "        season = str(season)\n",
    "        left_df = df[df.GamesPlayedPercent >= (game_limit/16)]\n",
    "        for limit in add_limits:\n",
    "            left_df = left_df[left_df[limit] >= add_limits[limit]]\n",
    "        left_df = left_df[left_vars][df.Season == season]\n",
    "        right_df = df[right_vars][df.Season == prev_season]\n",
    "        right_df['Season'] = str(season)\n",
    "        left_df = pd.merge(left_df, right_df, on=['Player', 'Team', 'Season'])\n",
    "        left_df.columns = model_vars\n",
    "        model_df = model_df.append(left_df)\n",
    "        \n",
    "    # build test dataframe\n",
    "    test_df = pd.DataFrame(columns=model_vars)\n",
    "    for season in range(test_cutoff, 2017):\n",
    "        left_df = df[df.GamesPlayedPercent >= (game_limit/16)]\n",
    "        for limit in add_limits:\n",
    "            left_df = left_df[left_df[limit] >= add_limits[limit]]\n",
    "        left_df = left_df[left_vars][df.Season == str(season)]\n",
    "        right_df = df[right_vars][df.Season == str(season-1)]\n",
    "        right_df['Season'] = str(season)\n",
    "        left_df = pd.merge(left_df, right_df, on=['Player', 'Team', 'Season'])\n",
    "        left_df.columns = model_vars\n",
    "        test_df = test_df.append(left_df)\n",
    "  \n",
    "    if reg_type == 'linear':\n",
    "        model = linear_model.LinearRegression()\n",
    "    elif reg_type == 'logistic':\n",
    "        model = linear_model.LogisticRegression()\n",
    "    model.fit(model_df[features], model_df[predict])\n",
    "    print('|=== Predicting '+str(predict)+' ===|\\n')\n",
    "    print('|====== Model Coefficients ======|')\n",
    "    for idx in range(len(model.coef_)):\n",
    "        print(features[idx]+': '+str(model.coef_[idx]))\n",
    "    print('Intercept: '+str(model.intercept_))\n",
    "    print('\\n|========== Performance ==========|')\n",
    "    print('R-Sqr on Seasons '+str(test_cutoff)+' to 2016: '  + str(model.score(model_df[features], model_df[predict])))\n",
    "    print('Train Data Size: '+str(len(model_df)))\n",
    "    print('Test Data Size:'+str(len(test_df)))\n",
    "    #print(model_df[['Player', 'AvgRushYrds', 'PSAvgRushYrds']])\n",
    "    model_obj = Model(features)\n",
    "    model_obj.set_model(model)\n",
    "    return model_obj"
   ]
  },
  {
   "cell_type": "markdown",
   "metadata": {},
   "source": [
    "## Quarterbacks"
   ]
  },
  {
   "cell_type": "code",
   "execution_count": 562,
   "metadata": {
    "collapsed": true
   },
   "outputs": [],
   "source": [
    "ModelsQB = PositionModels('QB')"
   ]
  },
  {
   "cell_type": "code",
   "execution_count": 563,
   "metadata": {
    "collapsed": false,
    "scrolled": false
   },
   "outputs": [
    {
     "name": "stdout",
     "output_type": "stream",
     "text": [
      "|=== Predicting AvgPassYrds ===|\n",
      "\n",
      "|====== Model Coefficients ======|\n",
      "PSAvgPassYrds: 0.281325343102\n",
      "PSPercentComplete: 6.41163920165\n",
      "PSOffPassYrdsPerGame: 0.000708867372633\n",
      "Intercept: 1.13018502735\n",
      "\n",
      "|========== Performance ==========|\n",
      "R-Sqr on Seasons 2014 to 2016: 0.52100841563\n",
      "Train Data Size: 143\n",
      "Test Data Size:70\n"
     ]
    }
   ],
   "source": [
    "AvgPassYrds = create_model(players, 'QB', 'AvgPassYrds', \n",
    "                           ['AvgPassYrds', 'PercentComplete', 'OffPassYrdsPerGame'], \n",
    "                   game_limit=10, test_cutoff=2014)\n",
    "ModelsQB.add_model('AvgPassYrds', AvgPassYrds)"
   ]
  },
  {
   "cell_type": "code",
   "execution_count": 564,
   "metadata": {
    "collapsed": false,
    "scrolled": false
   },
   "outputs": [
    {
     "name": "stdout",
     "output_type": "stream",
     "text": [
      "|=== Predicting PassAttPerGame ===|\n",
      "\n",
      "|====== Model Coefficients ======|\n",
      "PSPassAttPerGame: 0.704405713448\n",
      "PSAvgPassYrds: 0.731371374953\n",
      "PSPassTDAttRatio: -31.0583377968\n",
      "PSOffPointsPerGame: 0.309706790621\n",
      "PSGamesPlayedPercent: -1.81155497123\n",
      "Intercept: 0.26164063658\n",
      "\n",
      "|========== Performance ==========|\n",
      "R-Sqr on Seasons 2014 to 2016: 0.5826327795\n",
      "Train Data Size: 184\n",
      "Test Data Size:91\n"
     ]
    }
   ],
   "source": [
    "PassAttPerGame = create_model(players, 'QB', 'PassAttPerGame', \n",
    "                           ['PassAttPerGame', 'AvgPassYrds', 'PassTDAttRatio', 'OffPointsPerGame', 'GamesPlayedPercent'], \n",
    "                   game_limit=6, test_cutoff=2014)\n",
    "ModelsQB.add_model('PassAttPerGame', PassAttPerGame)"
   ]
  },
  {
   "cell_type": "code",
   "execution_count": 565,
   "metadata": {
    "collapsed": false,
    "scrolled": true
   },
   "outputs": [
    {
     "name": "stdout",
     "output_type": "stream",
     "text": [
      "|=== Predicting PassTDAttRatio ===|\n",
      "\n",
      "|====== Model Coefficients ======|\n",
      "PSPassTDAttRatio: 0.118074081227\n",
      "PSAvgPassYrds: 0.00221885064841\n",
      "PSPercentComplete: 0.0325126213073\n",
      "PSGamesPlayedPercent: 0.0075644469316\n",
      "PSRushTDAttRatio: 0.0508856621922\n",
      "Intercept: -0.00569435143606\n",
      "\n",
      "|========== Performance ==========|\n",
      "R-Sqr on Seasons 2014 to 2016: 0.236048860829\n",
      "Train Data Size: 161\n",
      "Test Data Size:78\n"
     ]
    }
   ],
   "source": [
    "PassTDAttRatio = create_model(players, 'QB', 'PassTDAttRatio', \n",
    "                           ['PassTDAttRatio', 'AvgPassYrds', 'PercentComplete', 'GamesPlayedPercent', 'RushTDAttRatio'], \n",
    "                   game_limit=8, test_cutoff=2014)\n",
    "ModelsQB.add_model('PassTDAttRatio', PassTDAttRatio)"
   ]
  },
  {
   "cell_type": "code",
   "execution_count": 566,
   "metadata": {
    "collapsed": false,
    "scrolled": true
   },
   "outputs": [
    {
     "name": "stdout",
     "output_type": "stream",
     "text": [
      "|=== Predicting AvgRushYrds ===|\n",
      "\n",
      "|====== Model Coefficients ======|\n",
      "PSAvgRushYrds: 0.186097495049\n",
      "PSRushAttPerGame: 0.606931980498\n",
      "PSPassAttPerGame: -0.0429372088817\n",
      "PSOffPointsPerGame: -0.0951528762998\n",
      "Intercept: 4.5258439588\n",
      "\n",
      "|========== Performance ==========|\n",
      "R-Sqr on Seasons 2014 to 2016: 0.36818219927\n",
      "Train Data Size: 161\n",
      "Test Data Size:78\n"
     ]
    }
   ],
   "source": [
    "AvgRushYrds = create_model(players, 'QB', 'AvgRushYrds', \n",
    "                           ['AvgRushYrds', 'RushAttPerGame', 'PassAttPerGame', 'OffPointsPerGame'], \n",
    "                   game_limit=8, test_cutoff=2014)\n",
    "ModelsQB.add_model('AvgRushYrds', AvgRushYrds)"
   ]
  },
  {
   "cell_type": "code",
   "execution_count": 567,
   "metadata": {
    "collapsed": false
   },
   "outputs": [
    {
     "name": "stdout",
     "output_type": "stream",
     "text": [
      "|=== Predicting RushAttPerGame ===|\n",
      "\n",
      "|====== Model Coefficients ======|\n",
      "PSRushAttPerGame: 0.637812988382\n",
      "PSRushTDAttRatio: 4.63612815001\n",
      "PSPassRushAttRatio: -0.0147349685176\n",
      "PSGamesPlayedPercent: -0.330490929254\n",
      "Intercept: 1.20301224329\n",
      "\n",
      "|========== Performance ==========|\n",
      "R-Sqr on Seasons 2014 to 2016: 0.495878521917\n",
      "Train Data Size: 184\n",
      "Test Data Size:91\n"
     ]
    }
   ],
   "source": [
    "RushAttPerGame = create_model(players, 'QB', 'RushAttPerGame', \n",
    "                           ['RushAttPerGame', 'RushTDAttRatio', 'PassRushAttRatio', 'GamesPlayedPercent'], \n",
    "                   game_limit=6, test_cutoff=2014)\n",
    "ModelsQB.add_model('RushAttPerGame', RushAttPerGame)"
   ]
  },
  {
   "cell_type": "code",
   "execution_count": 568,
   "metadata": {
    "collapsed": false,
    "scrolled": true
   },
   "outputs": [
    {
     "name": "stdout",
     "output_type": "stream",
     "text": [
      "|=== Predicting FumblesPerGame ===|\n",
      "\n",
      "|====== Model Coefficients ======|\n",
      "PSFumblesPerGame: 0.0882807434402\n",
      "PSOffPassYrdsPerGame: -0.000586994925773\n",
      "PSPassAttPerGame: 0.00247949140662\n",
      "Intercept: 0.260515590688\n",
      "\n",
      "|========== Performance ==========|\n",
      "R-Sqr on Seasons 2014 to 2016: 0.0696590095292\n",
      "Train Data Size: 161\n",
      "Test Data Size:78\n"
     ]
    }
   ],
   "source": [
    "FumblesPerGame = create_model(players, 'QB', 'FumblesPerGame', \n",
    "                           ['FumblesPerGame', 'OffPassYrdsPerGame', 'PassAttPerGame'], \n",
    "                   game_limit=8, test_cutoff=2014)\n",
    "ModelsQB.add_model('FumblesPerGame', FumblesPerGame)"
   ]
  },
  {
   "cell_type": "code",
   "execution_count": 569,
   "metadata": {
    "collapsed": false
   },
   "outputs": [],
   "source": [
    "playersQB = players[players.Position == 'QB']"
   ]
  },
  {
   "cell_type": "code",
   "execution_count": 570,
   "metadata": {
    "collapsed": false
   },
   "outputs": [
    {
     "name": "stdout",
     "output_type": "stream",
     "text": [
      "Predicting FumblesPerGame...\n",
      "Predicting PassAttPerGame...\n",
      "Predicting RushAttPerGame...\n",
      "Predicting AvgRushYrds...\n",
      "Predicting AvgPassYrds...\n",
      "Predicting PassTDAttRatio...\n"
     ]
    }
   ],
   "source": [
    "PredictQB = ModelsQB.predict_df(playersQB)"
   ]
  },
  {
   "cell_type": "code",
   "execution_count": 571,
   "metadata": {
    "collapsed": false
   },
   "outputs": [
    {
     "data": {
      "text/html": [
       "<div>\n",
       "<table border=\"1\" class=\"dataframe\">\n",
       "  <thead>\n",
       "    <tr style=\"text-align: right;\">\n",
       "      <th></th>\n",
       "      <th>Player</th>\n",
       "      <th>Team</th>\n",
       "      <th>PredAvgPassYrds</th>\n",
       "      <th>2016AvgPassYrds</th>\n",
       "      <th>PredPassAttPerGame</th>\n",
       "      <th>2016PassAttPerGame</th>\n",
       "    </tr>\n",
       "  </thead>\n",
       "  <tbody>\n",
       "    <tr>\n",
       "      <th>22</th>\n",
       "      <td>Matt Ryan</td>\n",
       "      <td>ATL</td>\n",
       "      <td>7.677779</td>\n",
       "      <td>9.258427</td>\n",
       "      <td>36.449921</td>\n",
       "      <td>33.375000</td>\n",
       "    </tr>\n",
       "    <tr>\n",
       "      <th>15</th>\n",
       "      <td>Geno Smith</td>\n",
       "      <td>NYJ</td>\n",
       "      <td>7.206724</td>\n",
       "      <td>9.000000</td>\n",
       "      <td>40.360128</td>\n",
       "      <td>4.666667</td>\n",
       "    </tr>\n",
       "    <tr>\n",
       "      <th>1</th>\n",
       "      <td>Derek Anderson</td>\n",
       "      <td>CAR</td>\n",
       "      <td>7.251571</td>\n",
       "      <td>8.547170</td>\n",
       "      <td>15.397351</td>\n",
       "      <td>10.600000</td>\n",
       "    </tr>\n",
       "    <tr>\n",
       "      <th>21</th>\n",
       "      <td>Matt Moore</td>\n",
       "      <td>MIA</td>\n",
       "      <td>11.649222</td>\n",
       "      <td>8.287356</td>\n",
       "      <td>17.092592</td>\n",
       "      <td>17.400000</td>\n",
       "    </tr>\n",
       "    <tr>\n",
       "      <th>3</th>\n",
       "      <td>Tom Brady</td>\n",
       "      <td>NE</td>\n",
       "      <td>7.614500</td>\n",
       "      <td>8.226852</td>\n",
       "      <td>38.721706</td>\n",
       "      <td>36.000000</td>\n",
       "    </tr>\n",
       "  </tbody>\n",
       "</table>\n",
       "</div>"
      ],
      "text/plain": [
       "            Player Team  PredAvgPassYrds  2016AvgPassYrds  PredPassAttPerGame  \\\n",
       "22       Matt Ryan  ATL         7.677779         9.258427           36.449921   \n",
       "15      Geno Smith  NYJ         7.206724         9.000000           40.360128   \n",
       "1   Derek Anderson  CAR         7.251571         8.547170           15.397351   \n",
       "21      Matt Moore  MIA        11.649222         8.287356           17.092592   \n",
       "3        Tom Brady   NE         7.614500         8.226852           38.721706   \n",
       "\n",
       "    2016PassAttPerGame  \n",
       "22           33.375000  \n",
       "15            4.666667  \n",
       "1            10.600000  \n",
       "21           17.400000  \n",
       "3            36.000000  "
      ]
     },
     "execution_count": 571,
     "metadata": {},
     "output_type": "execute_result"
    }
   ],
   "source": [
    "QB2015 = PredictQB[PredictQB.Season == '2015'][['Player', 'Season', 'Team', 'AvgPassYrds', \n",
    "            'PredAvgPassYrds', 'PassAttPerGame', 'PredPassAttPerGame']]\n",
    "QB2016 = PredictQB[PredictQB.Season == '2016'][['Player', 'Season', 'Team', 'AvgPassYrds', 'PassAttPerGame']]\n",
    "QB2016.columns = ['Player', 'Season', 'Team', '2016AvgPassYrds', '2016PassAttPerGame']\n",
    "PredictQB2016 = pd.merge(QB2015, QB2016, on=('Player', 'Team'))\n",
    "PredictQB2016 = Predict2016[['Player', 'Team', 'PredAvgPassYrds', '2016AvgPassYrds', 'PredPassAttPerGame', '2016PassAttPerGame']].sort(columns=('2016AvgPassYrds'), ascending=False)\n",
    "PredictQB2016.head()"
   ]
  },
  {
   "cell_type": "code",
   "execution_count": 572,
   "metadata": {
    "collapsed": false,
    "scrolled": true
   },
   "outputs": [
    {
     "name": "stdout",
     "output_type": "stream",
     "text": [
      "Total Correlation:\n",
      "              PredPassYrds  2016PassYrds\n",
      "PredPassYrds      1.000000      0.694407\n",
      "2016PassYrds      0.694407      1.000000\n",
      "Top 15 Correlation:\n",
      "              PredPassYrds  2016PassYrds\n",
      "PredPassYrds      1.000000      0.571532\n",
      "2016PassYrds      0.571532      1.000000\n"
     ]
    },
    {
     "data": {
      "text/html": [
       "<div>\n",
       "<table border=\"1\" class=\"dataframe\">\n",
       "  <thead>\n",
       "    <tr style=\"text-align: right;\">\n",
       "      <th></th>\n",
       "      <th>Player</th>\n",
       "      <th>PredPassYrds</th>\n",
       "      <th>2016PassYrds</th>\n",
       "    </tr>\n",
       "  </thead>\n",
       "  <tbody>\n",
       "    <tr>\n",
       "      <th>8</th>\n",
       "      <td>Drew Brees</td>\n",
       "      <td>5063.849120</td>\n",
       "      <td>5208.000000</td>\n",
       "    </tr>\n",
       "    <tr>\n",
       "      <th>22</th>\n",
       "      <td>Matt Ryan</td>\n",
       "      <td>4477.671080</td>\n",
       "      <td>4944.000000</td>\n",
       "    </tr>\n",
       "    <tr>\n",
       "      <th>11</th>\n",
       "      <td>Kirk Cousins</td>\n",
       "      <td>4299.119325</td>\n",
       "      <td>4917.000000</td>\n",
       "    </tr>\n",
       "    <tr>\n",
       "      <th>3</th>\n",
       "      <td>Tom Brady</td>\n",
       "      <td>4717.542660</td>\n",
       "      <td>4738.666667</td>\n",
       "    </tr>\n",
       "    <tr>\n",
       "      <th>33</th>\n",
       "      <td>Andrew Luck</td>\n",
       "      <td>4094.008997</td>\n",
       "      <td>4522.666667</td>\n",
       "    </tr>\n",
       "    <tr>\n",
       "      <th>6</th>\n",
       "      <td>Carson Palmer</td>\n",
       "      <td>4517.050167</td>\n",
       "      <td>4515.200000</td>\n",
       "    </tr>\n",
       "    <tr>\n",
       "      <th>16</th>\n",
       "      <td>Aaron Rodgers</td>\n",
       "      <td>3832.788392</td>\n",
       "      <td>4428.000000</td>\n",
       "    </tr>\n",
       "    <tr>\n",
       "      <th>12</th>\n",
       "      <td>Philip Rivers</td>\n",
       "      <td>4589.642609</td>\n",
       "      <td>4386.000000</td>\n",
       "    </tr>\n",
       "    <tr>\n",
       "      <th>28</th>\n",
       "      <td>Ben Roethlisberger</td>\n",
       "      <td>5075.675846</td>\n",
       "      <td>4364.571429</td>\n",
       "    </tr>\n",
       "    <tr>\n",
       "      <th>10</th>\n",
       "      <td>Matthew Stafford</td>\n",
       "      <td>4289.089819</td>\n",
       "      <td>4327.000000</td>\n",
       "    </tr>\n",
       "    <tr>\n",
       "      <th>32</th>\n",
       "      <td>Joe Flacco</td>\n",
       "      <td>4522.962637</td>\n",
       "      <td>4317.000000</td>\n",
       "    </tr>\n",
       "    <tr>\n",
       "      <th>5</th>\n",
       "      <td>Russell Wilson</td>\n",
       "      <td>4076.275110</td>\n",
       "      <td>4219.000000</td>\n",
       "    </tr>\n",
       "    <tr>\n",
       "      <th>26</th>\n",
       "      <td>Andy Dalton</td>\n",
       "      <td>4044.256986</td>\n",
       "      <td>4206.000000</td>\n",
       "    </tr>\n",
       "    <tr>\n",
       "      <th>18</th>\n",
       "      <td>Derek Carr</td>\n",
       "      <td>3901.405169</td>\n",
       "      <td>4199.466667</td>\n",
       "    </tr>\n",
       "    <tr>\n",
       "      <th>17</th>\n",
       "      <td>Jameis Winston</td>\n",
       "      <td>3768.677167</td>\n",
       "      <td>4090.000000</td>\n",
       "    </tr>\n",
       "    <tr>\n",
       "      <th>9</th>\n",
       "      <td>Eli Manning</td>\n",
       "      <td>4388.220513</td>\n",
       "      <td>4027.000000</td>\n",
       "    </tr>\n",
       "    <tr>\n",
       "      <th>37</th>\n",
       "      <td>Trevor Siemian</td>\n",
       "      <td>146.698882</td>\n",
       "      <td>3886.857143</td>\n",
       "    </tr>\n",
       "    <tr>\n",
       "      <th>0</th>\n",
       "      <td>Cam Newton</td>\n",
       "      <td>3900.373985</td>\n",
       "      <td>3742.933333</td>\n",
       "    </tr>\n",
       "    <tr>\n",
       "      <th>23</th>\n",
       "      <td>Alex Smith</td>\n",
       "      <td>3754.510534</td>\n",
       "      <td>3735.466667</td>\n",
       "    </tr>\n",
       "    <tr>\n",
       "      <th>20</th>\n",
       "      <td>Ryan Tannehill</td>\n",
       "      <td>3993.014564</td>\n",
       "      <td>3686.153846</td>\n",
       "    </tr>\n",
       "    <tr>\n",
       "      <th>31</th>\n",
       "      <td>Marcus Mariota</td>\n",
       "      <td>3604.233458</td>\n",
       "      <td>3654.400000</td>\n",
       "    </tr>\n",
       "    <tr>\n",
       "      <th>38</th>\n",
       "      <td>Case Keenum</td>\n",
       "      <td>2641.250930</td>\n",
       "      <td>3521.600000</td>\n",
       "    </tr>\n",
       "    <tr>\n",
       "      <th>34</th>\n",
       "      <td>Josh McCown</td>\n",
       "      <td>4086.928738</td>\n",
       "      <td>3520.000000</td>\n",
       "    </tr>\n",
       "    <tr>\n",
       "      <th>27</th>\n",
       "      <td>Jay Cutler</td>\n",
       "      <td>3856.978295</td>\n",
       "      <td>3388.800000</td>\n",
       "    </tr>\n",
       "    <tr>\n",
       "      <th>24</th>\n",
       "      <td>Tyrod Taylor</td>\n",
       "      <td>3571.563090</td>\n",
       "      <td>3224.533333</td>\n",
       "    </tr>\n",
       "    <tr>\n",
       "      <th>14</th>\n",
       "      <td>Ryan Fitzpatrick</td>\n",
       "      <td>3860.996725</td>\n",
       "      <td>3097.142857</td>\n",
       "    </tr>\n",
       "    <tr>\n",
       "      <th>36</th>\n",
       "      <td>Colin Kaepernick</td>\n",
       "      <td>2993.407943</td>\n",
       "      <td>2988.000000</td>\n",
       "    </tr>\n",
       "    <tr>\n",
       "      <th>35</th>\n",
       "      <td>Blaine Gabbert</td>\n",
       "      <td>3876.152121</td>\n",
       "      <td>2466.666667</td>\n",
       "    </tr>\n",
       "    <tr>\n",
       "      <th>21</th>\n",
       "      <td>Matt Moore</td>\n",
       "      <td>3185.846574</td>\n",
       "      <td>2307.200000</td>\n",
       "    </tr>\n",
       "    <tr>\n",
       "      <th>1</th>\n",
       "      <td>Derek Anderson</td>\n",
       "      <td>1786.479748</td>\n",
       "      <td>1449.600000</td>\n",
       "    </tr>\n",
       "    <tr>\n",
       "      <th>4</th>\n",
       "      <td>Jimmy Garoppolo</td>\n",
       "      <td>556.509763</td>\n",
       "      <td>1338.666667</td>\n",
       "    </tr>\n",
       "    <tr>\n",
       "      <th>30</th>\n",
       "      <td>Shaun Hill</td>\n",
       "      <td>602.847664</td>\n",
       "      <td>1290.666667</td>\n",
       "    </tr>\n",
       "    <tr>\n",
       "      <th>29</th>\n",
       "      <td>Landry Jones</td>\n",
       "      <td>2253.559714</td>\n",
       "      <td>1116.000000</td>\n",
       "    </tr>\n",
       "    <tr>\n",
       "      <th>15</th>\n",
       "      <td>Geno Smith</td>\n",
       "      <td>4653.828997</td>\n",
       "      <td>672.000000</td>\n",
       "    </tr>\n",
       "    <tr>\n",
       "      <th>7</th>\n",
       "      <td>Drew Stanton</td>\n",
       "      <td>1235.042891</td>\n",
       "      <td>614.400000</td>\n",
       "    </tr>\n",
       "    <tr>\n",
       "      <th>40</th>\n",
       "      <td>Tony Romo</td>\n",
       "      <td>3775.812796</td>\n",
       "      <td>464.000000</td>\n",
       "    </tr>\n",
       "    <tr>\n",
       "      <th>39</th>\n",
       "      <td>Sean Mannion</td>\n",
       "      <td>1757.596202</td>\n",
       "      <td>304.000000</td>\n",
       "    </tr>\n",
       "    <tr>\n",
       "      <th>25</th>\n",
       "      <td>EJ Manuel</td>\n",
       "      <td>2170.192544</td>\n",
       "      <td>299.428571</td>\n",
       "    </tr>\n",
       "    <tr>\n",
       "      <th>19</th>\n",
       "      <td>Matt McGloin</td>\n",
       "      <td>2240.305252</td>\n",
       "      <td>200.000000</td>\n",
       "    </tr>\n",
       "    <tr>\n",
       "      <th>13</th>\n",
       "      <td>Kellen Clemens</td>\n",
       "      <td>1671.176473</td>\n",
       "      <td>0.000000</td>\n",
       "    </tr>\n",
       "    <tr>\n",
       "      <th>2</th>\n",
       "      <td>Joe Webb</td>\n",
       "      <td>167.665673</td>\n",
       "      <td>0.000000</td>\n",
       "    </tr>\n",
       "  </tbody>\n",
       "</table>\n",
       "</div>"
      ],
      "text/plain": [
       "                Player  PredPassYrds  2016PassYrds\n",
       "8           Drew Brees   5063.849120   5208.000000\n",
       "22           Matt Ryan   4477.671080   4944.000000\n",
       "11        Kirk Cousins   4299.119325   4917.000000\n",
       "3            Tom Brady   4717.542660   4738.666667\n",
       "33         Andrew Luck   4094.008997   4522.666667\n",
       "6        Carson Palmer   4517.050167   4515.200000\n",
       "16       Aaron Rodgers   3832.788392   4428.000000\n",
       "12       Philip Rivers   4589.642609   4386.000000\n",
       "28  Ben Roethlisberger   5075.675846   4364.571429\n",
       "10    Matthew Stafford   4289.089819   4327.000000\n",
       "32          Joe Flacco   4522.962637   4317.000000\n",
       "5       Russell Wilson   4076.275110   4219.000000\n",
       "26         Andy Dalton   4044.256986   4206.000000\n",
       "18          Derek Carr   3901.405169   4199.466667\n",
       "17      Jameis Winston   3768.677167   4090.000000\n",
       "9          Eli Manning   4388.220513   4027.000000\n",
       "37      Trevor Siemian    146.698882   3886.857143\n",
       "0           Cam Newton   3900.373985   3742.933333\n",
       "23          Alex Smith   3754.510534   3735.466667\n",
       "20      Ryan Tannehill   3993.014564   3686.153846\n",
       "31      Marcus Mariota   3604.233458   3654.400000\n",
       "38         Case Keenum   2641.250930   3521.600000\n",
       "34         Josh McCown   4086.928738   3520.000000\n",
       "27          Jay Cutler   3856.978295   3388.800000\n",
       "24        Tyrod Taylor   3571.563090   3224.533333\n",
       "14    Ryan Fitzpatrick   3860.996725   3097.142857\n",
       "36    Colin Kaepernick   2993.407943   2988.000000\n",
       "35      Blaine Gabbert   3876.152121   2466.666667\n",
       "21          Matt Moore   3185.846574   2307.200000\n",
       "1       Derek Anderson   1786.479748   1449.600000\n",
       "4      Jimmy Garoppolo    556.509763   1338.666667\n",
       "30          Shaun Hill    602.847664   1290.666667\n",
       "29        Landry Jones   2253.559714   1116.000000\n",
       "15          Geno Smith   4653.828997    672.000000\n",
       "7         Drew Stanton   1235.042891    614.400000\n",
       "40           Tony Romo   3775.812796    464.000000\n",
       "39        Sean Mannion   1757.596202    304.000000\n",
       "25           EJ Manuel   2170.192544    299.428571\n",
       "19        Matt McGloin   2240.305252    200.000000\n",
       "13      Kellen Clemens   1671.176473      0.000000\n",
       "2             Joe Webb    167.665673      0.000000"
      ]
     },
     "execution_count": 572,
     "metadata": {},
     "output_type": "execute_result"
    }
   ],
   "source": [
    "def predict_total_pass(row):\n",
    "    return row.PredAvgPassYrds * row.PredPassAttPerGame * 16\n",
    "\n",
    "def actual_total_pass(row):\n",
    "    return row['2016AvgPassYrds'] * row['2016PassAttPerGame'] * 16\n",
    "\n",
    "PredictQB2016['PredPassYrds'] = PredictQB2016.apply(predict_total_pass, axis=1)\n",
    "PredictQB2016['2016PassYrds'] = PredictQB2016.apply(actual_total_pass, axis=1)\n",
    "PredictQB2016 = PredictQB2016.sort(columns=('2016PassYrds'), ascending=False)\n",
    "print('Total Correlation:')\n",
    "print(PredictQB2016[['Player', 'PredPassYrds', '2016PassYrds']].corr())\n",
    "print('Top 15 Correlation:')\n",
    "print(PredictQB2016[['Player', 'PredPassYrds', '2016PassYrds']][:15].corr())\n",
    "PredictQB2016[['Player', 'PredPassYrds', '2016PassYrds']]"
   ]
  },
  {
   "cell_type": "markdown",
   "metadata": {},
   "source": [
    "## Running Backs"
   ]
  },
  {
   "cell_type": "code",
   "execution_count": 573,
   "metadata": {
    "collapsed": true
   },
   "outputs": [],
   "source": [
    "ModelsRB = PositionModels('RB')"
   ]
  },
  {
   "cell_type": "markdown",
   "metadata": {},
   "source": [
    "#### Primary Stats"
   ]
  },
  {
   "cell_type": "code",
   "execution_count": 574,
   "metadata": {
    "collapsed": false
   },
   "outputs": [
    {
     "name": "stdout",
     "output_type": "stream",
     "text": [
      "|=== Predicting AvgRushYrds ===|\n",
      "\n",
      "|====== Model Coefficients ======|\n",
      "PSAvgRushYrds: 0.233007230324\n",
      "PSRushTDAttRatio: -1.91252474272\n",
      "PSRushAttPerGame: -0.0100144505186\n",
      "Intercept: 3.50947407628\n",
      "\n",
      "|========== Performance ==========|\n",
      "R-Sqr on Seasons 2014 to 2016: 0.112014723196\n",
      "Train Data Size: 133\n",
      "Test Data Size:51\n"
     ]
    }
   ],
   "source": [
    "AvgRushYrds = create_model(players, 'RB', 'AvgRushYrds', \n",
    "                           ['AvgRushYrds', 'RushTDAttRatio', 'RushAttPerGame'], \n",
    "                   game_limit=14, test_cutoff=2014, add_limits={'RushAttPerGame': 8})\n",
    "ModelsRB.add_model('AvgRushYrds', AvgRushYrds)"
   ]
  },
  {
   "cell_type": "code",
   "execution_count": 575,
   "metadata": {
    "collapsed": false,
    "scrolled": true
   },
   "outputs": [
    {
     "name": "stdout",
     "output_type": "stream",
     "text": [
      "|=== Predicting RushAttPerGame ===|\n",
      "\n",
      "|====== Model Coefficients ======|\n",
      "PSRushAttPerGame: 0.829612058324\n",
      "PSAvgRushYrds: 0.350216329528\n",
      "Intercept: 0.0965459334221\n",
      "\n",
      "|========== Performance ==========|\n",
      "R-Sqr on Seasons 2014 to 2016: 0.742479651202\n",
      "Train Data Size: 329\n",
      "Test Data Size:149\n"
     ]
    }
   ],
   "source": [
    "RushAttPerGame = create_model(players, 'RB', 'RushAttPerGame', \n",
    "                           ['RushAttPerGame', 'AvgRushYrds'], \n",
    "                   game_limit=14, test_cutoff=2014)\n",
    "ModelsRB.add_model('RushAttPerGame', RushAttPerGame)"
   ]
  },
  {
   "cell_type": "code",
   "execution_count": 576,
   "metadata": {
    "collapsed": false
   },
   "outputs": [
    {
     "name": "stdout",
     "output_type": "stream",
     "text": [
      "|=== Predicting RushTDAttRatio ===|\n",
      "\n",
      "|====== Model Coefficients ======|\n",
      "PSRushTDAttRatio: 0.243710221671\n",
      "PSAvgRushYrds: -0.00328397686789\n",
      "PSOffRushYrdsPerGame: -0.00024019440338\n",
      "Intercept: 0.0645768996243\n",
      "\n",
      "|========== Performance ==========|\n",
      "R-Sqr on Seasons 2014 to 2016: 0.0904204171458\n",
      "Train Data Size: 329\n",
      "Test Data Size:149\n"
     ]
    }
   ],
   "source": [
    "RushTDAttRatio = create_model(players, 'RB', 'RushTDAttRatio', \n",
    "                           ['RushTDAttRatio', 'AvgRushYrds', 'OffRushYrdsPerGame'], \n",
    "                   game_limit=14, test_cutoff=2014)\n",
    "ModelsRB.add_model('RushAttPerGame', RushAttPerGame)"
   ]
  },
  {
   "cell_type": "markdown",
   "metadata": {},
   "source": [
    "#### Secondary Stats"
   ]
  },
  {
   "cell_type": "code",
   "execution_count": 577,
   "metadata": {
    "collapsed": false,
    "scrolled": false
   },
   "outputs": [],
   "source": [
    "# create boolean ispasser as addition feature for AvgPassYrds?\n",
    "# maybe limit train set to only passers and only predict if predicted to be a passer/pass att > certain margin"
   ]
  },
  {
   "cell_type": "code",
   "execution_count": 578,
   "metadata": {
    "collapsed": false
   },
   "outputs": [
    {
     "name": "stdout",
     "output_type": "stream",
     "text": [
      "|=== Predicting PassAttPerGame ===|\n",
      "\n",
      "|====== Model Coefficients ======|\n",
      "PSPassAttPerGame: 0.694162899449\n",
      "Intercept: 0.66801412628\n",
      "\n",
      "|========== Performance ==========|\n",
      "R-Sqr on Seasons 2014 to 2016: 0.52915422721\n",
      "Train Data Size: 329\n",
      "Test Data Size:149\n"
     ]
    }
   ],
   "source": [
    "PassAttPerGame = create_model(players, 'RB', 'PassAttPerGame', \n",
    "                           ['PassAttPerGame'], \n",
    "                   game_limit=14, test_cutoff=2014)\n",
    "ModelsRB.add_model('PassAttPerGame', PassAttPerGame)"
   ]
  },
  {
   "cell_type": "code",
   "execution_count": 579,
   "metadata": {
    "collapsed": false
   },
   "outputs": [
    {
     "name": "stdout",
     "output_type": "stream",
     "text": [
      "|=== Predicting FumblesPerGame ===|\n",
      "\n",
      "|====== Model Coefficients ======|\n",
      "PSFumblesPerGame: 0.120723512678\n",
      "PSRushAttPerGame: 0.00465479290049\n",
      "Intercept: 0.0159142261803\n",
      "\n",
      "|========== Performance ==========|\n",
      "R-Sqr on Seasons 2014 to 2016: 0.274732796335\n",
      "Train Data Size: 329\n",
      "Test Data Size:149\n"
     ]
    }
   ],
   "source": [
    "FumblesPerGame = create_model(players, 'RB', 'FumblesPerGame', \n",
    "                           ['FumblesPerGame', 'RushAttPerGame'], \n",
    "                   game_limit=14, test_cutoff=2014)\n",
    "ModelsRB.add_model('FumblesPerGame', FumblesPerGame)"
   ]
  },
  {
   "cell_type": "code",
   "execution_count": 580,
   "metadata": {
    "collapsed": false,
    "scrolled": true
   },
   "outputs": [
    {
     "name": "stdout",
     "output_type": "stream",
     "text": [
      "Predicting FumblesPerGame...\n",
      "Predicting PassAttPerGame...\n",
      "Predicting AvgRushYrds...\n",
      "Predicting RushAttPerGame...\n",
      "Total Correlation:\n",
      "              PredRushYrds  2016RushYrds\n",
      "PredRushYrds      1.000000      0.699992\n",
      "2016RushYrds      0.699992      1.000000\n",
      "Top 15 Correlation:\n",
      "              PredRushYrds  2016RushYrds\n",
      "PredRushYrds      1.000000      0.188889\n",
      "2016RushYrds      0.188889      1.000000\n"
     ]
    },
    {
     "data": {
      "text/html": [
       "<div>\n",
       "<table border=\"1\" class=\"dataframe\">\n",
       "  <thead>\n",
       "    <tr style=\"text-align: right;\">\n",
       "      <th></th>\n",
       "      <th>Player</th>\n",
       "      <th>PredRushYrds</th>\n",
       "      <th>2016RushYrds</th>\n",
       "    </tr>\n",
       "  </thead>\n",
       "  <tbody>\n",
       "    <tr>\n",
       "      <th>66</th>\n",
       "      <td>Adrian Peterson</td>\n",
       "      <td>1282.170020</td>\n",
       "      <td>384.000000</td>\n",
       "    </tr>\n",
       "    <tr>\n",
       "      <th>60</th>\n",
       "      <td>Le'Veon Bell</td>\n",
       "      <td>1232.689505</td>\n",
       "      <td>1690.666667</td>\n",
       "    </tr>\n",
       "    <tr>\n",
       "      <th>34</th>\n",
       "      <td>Doug Martin</td>\n",
       "      <td>1184.439743</td>\n",
       "      <td>842.000000</td>\n",
       "    </tr>\n",
       "    <tr>\n",
       "      <th>88</th>\n",
       "      <td>Todd Gurley</td>\n",
       "      <td>1148.108894</td>\n",
       "      <td>885.000000</td>\n",
       "    </tr>\n",
       "    <tr>\n",
       "      <th>0</th>\n",
       "      <td>Jonathan Stewart</td>\n",
       "      <td>1148.045757</td>\n",
       "      <td>1014.153846</td>\n",
       "    </tr>\n",
       "    <tr>\n",
       "      <th>11</th>\n",
       "      <td>Chris Johnson</td>\n",
       "      <td>1115.741338</td>\n",
       "      <td>380.000000</td>\n",
       "    </tr>\n",
       "    <tr>\n",
       "      <th>50</th>\n",
       "      <td>LeSean McCoy</td>\n",
       "      <td>1088.236749</td>\n",
       "      <td>1351.466667</td>\n",
       "    </tr>\n",
       "    <tr>\n",
       "      <th>41</th>\n",
       "      <td>Devonta Freeman</td>\n",
       "      <td>1080.451754</td>\n",
       "      <td>1079.000000</td>\n",
       "    </tr>\n",
       "    <tr>\n",
       "      <th>36</th>\n",
       "      <td>Latavius Murray</td>\n",
       "      <td>1035.872869</td>\n",
       "      <td>900.571429</td>\n",
       "    </tr>\n",
       "    <tr>\n",
       "      <th>84</th>\n",
       "      <td>Carlos Hyde</td>\n",
       "      <td>1030.047191</td>\n",
       "      <td>1216.000000</td>\n",
       "    </tr>\n",
       "    <tr>\n",
       "      <th>80</th>\n",
       "      <td>Frank Gore</td>\n",
       "      <td>992.624422</td>\n",
       "      <td>1025.000000</td>\n",
       "    </tr>\n",
       "    <tr>\n",
       "      <th>91</th>\n",
       "      <td>Darren McFadden</td>\n",
       "      <td>991.010607</td>\n",
       "      <td>348.000000</td>\n",
       "    </tr>\n",
       "    <tr>\n",
       "      <th>73</th>\n",
       "      <td>Justin Forsett</td>\n",
       "      <td>975.770961</td>\n",
       "      <td>517.333333</td>\n",
       "    </tr>\n",
       "    <tr>\n",
       "      <th>46</th>\n",
       "      <td>Jamaal Charles</td>\n",
       "      <td>974.378333</td>\n",
       "      <td>213.333333</td>\n",
       "    </tr>\n",
       "    <tr>\n",
       "      <th>15</th>\n",
       "      <td>Mark Ingram</td>\n",
       "      <td>924.980917</td>\n",
       "      <td>1043.000000</td>\n",
       "    </tr>\n",
       "    <tr>\n",
       "      <th>4</th>\n",
       "      <td>LeGarrette Blount</td>\n",
       "      <td>893.070565</td>\n",
       "      <td>1161.000000</td>\n",
       "    </tr>\n",
       "    <tr>\n",
       "      <th>8</th>\n",
       "      <td>Thomas Rawls</td>\n",
       "      <td>854.046919</td>\n",
       "      <td>620.444444</td>\n",
       "    </tr>\n",
       "    <tr>\n",
       "      <th>53</th>\n",
       "      <td>Jeremy Hill</td>\n",
       "      <td>847.719730</td>\n",
       "      <td>894.933333</td>\n",
       "    </tr>\n",
       "    <tr>\n",
       "      <th>59</th>\n",
       "      <td>DeAngelo Williams</td>\n",
       "      <td>836.282619</td>\n",
       "      <td>686.000000</td>\n",
       "    </tr>\n",
       "    <tr>\n",
       "      <th>18</th>\n",
       "      <td>Rashad Jennings</td>\n",
       "      <td>825.688604</td>\n",
       "      <td>729.846154</td>\n",
       "    </tr>\n",
       "    <tr>\n",
       "      <th>28</th>\n",
       "      <td>Melvin Gordon</td>\n",
       "      <td>819.151456</td>\n",
       "      <td>1227.076923</td>\n",
       "    </tr>\n",
       "    <tr>\n",
       "      <th>31</th>\n",
       "      <td>Eddie Lacy</td>\n",
       "      <td>815.577100</td>\n",
       "      <td>1152.000000</td>\n",
       "    </tr>\n",
       "    <tr>\n",
       "      <th>76</th>\n",
       "      <td>Alfred Blue</td>\n",
       "      <td>786.594566</td>\n",
       "      <td>480.000000</td>\n",
       "    </tr>\n",
       "    <tr>\n",
       "      <th>16</th>\n",
       "      <td>Tim Hightower</td>\n",
       "      <td>771.036053</td>\n",
       "      <td>548.000000</td>\n",
       "    </tr>\n",
       "    <tr>\n",
       "      <th>81</th>\n",
       "      <td>Isaiah Crowell</td>\n",
       "      <td>748.236593</td>\n",
       "      <td>952.000000</td>\n",
       "    </tr>\n",
       "    <tr>\n",
       "      <th>51</th>\n",
       "      <td>Mike Gillislee</td>\n",
       "      <td>730.173083</td>\n",
       "      <td>615.466667</td>\n",
       "    </tr>\n",
       "    <tr>\n",
       "      <th>86</th>\n",
       "      <td>C.J. Anderson</td>\n",
       "      <td>723.353716</td>\n",
       "      <td>998.857143</td>\n",
       "    </tr>\n",
       "    <tr>\n",
       "      <th>45</th>\n",
       "      <td>Charcandrick West</td>\n",
       "      <td>707.327298</td>\n",
       "      <td>312.533333</td>\n",
       "    </tr>\n",
       "    <tr>\n",
       "      <th>54</th>\n",
       "      <td>Giovani Bernard</td>\n",
       "      <td>700.272647</td>\n",
       "      <td>539.200000</td>\n",
       "    </tr>\n",
       "    <tr>\n",
       "      <th>25</th>\n",
       "      <td>Matt Jones</td>\n",
       "      <td>695.989729</td>\n",
       "      <td>1051.428571</td>\n",
       "    </tr>\n",
       "    <tr>\n",
       "      <th>...</th>\n",
       "      <td>...</td>\n",
       "      <td>...</td>\n",
       "      <td>...</td>\n",
       "    </tr>\n",
       "    <tr>\n",
       "      <th>61</th>\n",
       "      <td>Fitzgerald Toussaint</td>\n",
       "      <td>250.688007</td>\n",
       "      <td>58.000000</td>\n",
       "    </tr>\n",
       "    <tr>\n",
       "      <th>20</th>\n",
       "      <td>Orleans Darkwa</td>\n",
       "      <td>244.322856</td>\n",
       "      <td>177.600000</td>\n",
       "    </tr>\n",
       "    <tr>\n",
       "      <th>89</th>\n",
       "      <td>Benny Cunningham</td>\n",
       "      <td>233.435680</td>\n",
       "      <td>146.909091</td>\n",
       "    </tr>\n",
       "    <tr>\n",
       "      <th>21</th>\n",
       "      <td>Theo Riddick</td>\n",
       "      <td>229.286365</td>\n",
       "      <td>571.200000</td>\n",
       "    </tr>\n",
       "    <tr>\n",
       "      <th>37</th>\n",
       "      <td>Jamize Olawale</td>\n",
       "      <td>223.949256</td>\n",
       "      <td>47.000000</td>\n",
       "    </tr>\n",
       "    <tr>\n",
       "      <th>3</th>\n",
       "      <td>Fozzy Whittaker</td>\n",
       "      <td>211.743639</td>\n",
       "      <td>265.000000</td>\n",
       "    </tr>\n",
       "    <tr>\n",
       "      <th>69</th>\n",
       "      <td>Matt Asiata</td>\n",
       "      <td>207.460387</td>\n",
       "      <td>402.000000</td>\n",
       "    </tr>\n",
       "    <tr>\n",
       "      <th>44</th>\n",
       "      <td>Terron Ward</td>\n",
       "      <td>207.180819</td>\n",
       "      <td>483.200000</td>\n",
       "    </tr>\n",
       "    <tr>\n",
       "      <th>38</th>\n",
       "      <td>Taiwan Jones</td>\n",
       "      <td>206.547940</td>\n",
       "      <td>-9.846154</td>\n",
       "    </tr>\n",
       "    <tr>\n",
       "      <th>79</th>\n",
       "      <td>Jay Prosch</td>\n",
       "      <td>178.763144</td>\n",
       "      <td>9.600000</td>\n",
       "    </tr>\n",
       "    <tr>\n",
       "      <th>48</th>\n",
       "      <td>Knile Davis</td>\n",
       "      <td>170.867752</td>\n",
       "      <td>40.727273</td>\n",
       "    </tr>\n",
       "    <tr>\n",
       "      <th>32</th>\n",
       "      <td>Ty Montgomery</td>\n",
       "      <td>157.642789</td>\n",
       "      <td>487.466667</td>\n",
       "    </tr>\n",
       "    <tr>\n",
       "      <th>40</th>\n",
       "      <td>Damien Williams</td>\n",
       "      <td>154.651374</td>\n",
       "      <td>122.666667</td>\n",
       "    </tr>\n",
       "    <tr>\n",
       "      <th>14</th>\n",
       "      <td>Stepfan Taylor</td>\n",
       "      <td>149.277512</td>\n",
       "      <td>12.800000</td>\n",
       "    </tr>\n",
       "    <tr>\n",
       "      <th>6</th>\n",
       "      <td>James White</td>\n",
       "      <td>143.476898</td>\n",
       "      <td>166.000000</td>\n",
       "    </tr>\n",
       "    <tr>\n",
       "      <th>87</th>\n",
       "      <td>Juwan Thompson</td>\n",
       "      <td>133.514705</td>\n",
       "      <td>52.000000</td>\n",
       "    </tr>\n",
       "    <tr>\n",
       "      <th>71</th>\n",
       "      <td>Jalston Fowler</td>\n",
       "      <td>65.077653</td>\n",
       "      <td>3.000000</td>\n",
       "    </tr>\n",
       "    <tr>\n",
       "      <th>52</th>\n",
       "      <td>Jerome Felton</td>\n",
       "      <td>53.983681</td>\n",
       "      <td>13.866667</td>\n",
       "    </tr>\n",
       "    <tr>\n",
       "      <th>68</th>\n",
       "      <td>Zach Line</td>\n",
       "      <td>51.653890</td>\n",
       "      <td>16.000000</td>\n",
       "    </tr>\n",
       "    <tr>\n",
       "      <th>74</th>\n",
       "      <td>Kyle Juszczyk</td>\n",
       "      <td>44.785006</td>\n",
       "      <td>22.000000</td>\n",
       "    </tr>\n",
       "    <tr>\n",
       "      <th>55</th>\n",
       "      <td>Rex Burkhead</td>\n",
       "      <td>39.145017</td>\n",
       "      <td>344.000000</td>\n",
       "    </tr>\n",
       "    <tr>\n",
       "      <th>23</th>\n",
       "      <td>Michael Burton</td>\n",
       "      <td>27.773616</td>\n",
       "      <td>0.000000</td>\n",
       "    </tr>\n",
       "    <tr>\n",
       "      <th>9</th>\n",
       "      <td>Will Tukuafu</td>\n",
       "      <td>20.798757</td>\n",
       "      <td>4.571429</td>\n",
       "    </tr>\n",
       "    <tr>\n",
       "      <th>17</th>\n",
       "      <td>Marcus Murphy</td>\n",
       "      <td>9.002618</td>\n",
       "      <td>0.000000</td>\n",
       "    </tr>\n",
       "    <tr>\n",
       "      <th>49</th>\n",
       "      <td>Anthony Sherman</td>\n",
       "      <td>8.331223</td>\n",
       "      <td>0.000000</td>\n",
       "    </tr>\n",
       "    <tr>\n",
       "      <th>43</th>\n",
       "      <td>Patrick DiMarco</td>\n",
       "      <td>8.331223</td>\n",
       "      <td>0.000000</td>\n",
       "    </tr>\n",
       "    <tr>\n",
       "      <th>33</th>\n",
       "      <td>Aaron Ripkowski</td>\n",
       "      <td>5.421207</td>\n",
       "      <td>150.000000</td>\n",
       "    </tr>\n",
       "    <tr>\n",
       "      <th>56</th>\n",
       "      <td>Ryan Hewitt</td>\n",
       "      <td>5.421207</td>\n",
       "      <td>0.000000</td>\n",
       "    </tr>\n",
       "    <tr>\n",
       "      <th>62</th>\n",
       "      <td>Roosevelt Nix</td>\n",
       "      <td>5.421207</td>\n",
       "      <td>0.000000</td>\n",
       "    </tr>\n",
       "    <tr>\n",
       "      <th>83</th>\n",
       "      <td>Malcolm Johnson</td>\n",
       "      <td>5.421207</td>\n",
       "      <td>4.571429</td>\n",
       "    </tr>\n",
       "  </tbody>\n",
       "</table>\n",
       "<p>93 rows × 3 columns</p>\n",
       "</div>"
      ],
      "text/plain": [
       "                  Player  PredRushYrds  2016RushYrds\n",
       "66       Adrian Peterson   1282.170020    384.000000\n",
       "60          Le'Veon Bell   1232.689505   1690.666667\n",
       "34           Doug Martin   1184.439743    842.000000\n",
       "88           Todd Gurley   1148.108894    885.000000\n",
       "0       Jonathan Stewart   1148.045757   1014.153846\n",
       "11         Chris Johnson   1115.741338    380.000000\n",
       "50          LeSean McCoy   1088.236749   1351.466667\n",
       "41       Devonta Freeman   1080.451754   1079.000000\n",
       "36       Latavius Murray   1035.872869    900.571429\n",
       "84           Carlos Hyde   1030.047191   1216.000000\n",
       "80            Frank Gore    992.624422   1025.000000\n",
       "91       Darren McFadden    991.010607    348.000000\n",
       "73        Justin Forsett    975.770961    517.333333\n",
       "46        Jamaal Charles    974.378333    213.333333\n",
       "15           Mark Ingram    924.980917   1043.000000\n",
       "4      LeGarrette Blount    893.070565   1161.000000\n",
       "8           Thomas Rawls    854.046919    620.444444\n",
       "53           Jeremy Hill    847.719730    894.933333\n",
       "59     DeAngelo Williams    836.282619    686.000000\n",
       "18       Rashad Jennings    825.688604    729.846154\n",
       "28         Melvin Gordon    819.151456   1227.076923\n",
       "31            Eddie Lacy    815.577100   1152.000000\n",
       "76           Alfred Blue    786.594566    480.000000\n",
       "16         Tim Hightower    771.036053    548.000000\n",
       "81        Isaiah Crowell    748.236593    952.000000\n",
       "51        Mike Gillislee    730.173083    615.466667\n",
       "86         C.J. Anderson    723.353716    998.857143\n",
       "45     Charcandrick West    707.327298    312.533333\n",
       "54       Giovani Bernard    700.272647    539.200000\n",
       "25            Matt Jones    695.989729   1051.428571\n",
       "..                   ...           ...           ...\n",
       "61  Fitzgerald Toussaint    250.688007     58.000000\n",
       "20        Orleans Darkwa    244.322856    177.600000\n",
       "89      Benny Cunningham    233.435680    146.909091\n",
       "21          Theo Riddick    229.286365    571.200000\n",
       "37        Jamize Olawale    223.949256     47.000000\n",
       "3        Fozzy Whittaker    211.743639    265.000000\n",
       "69           Matt Asiata    207.460387    402.000000\n",
       "44           Terron Ward    207.180819    483.200000\n",
       "38          Taiwan Jones    206.547940     -9.846154\n",
       "79            Jay Prosch    178.763144      9.600000\n",
       "48           Knile Davis    170.867752     40.727273\n",
       "32         Ty Montgomery    157.642789    487.466667\n",
       "40       Damien Williams    154.651374    122.666667\n",
       "14        Stepfan Taylor    149.277512     12.800000\n",
       "6            James White    143.476898    166.000000\n",
       "87        Juwan Thompson    133.514705     52.000000\n",
       "71        Jalston Fowler     65.077653      3.000000\n",
       "52         Jerome Felton     53.983681     13.866667\n",
       "68             Zach Line     51.653890     16.000000\n",
       "74         Kyle Juszczyk     44.785006     22.000000\n",
       "55          Rex Burkhead     39.145017    344.000000\n",
       "23        Michael Burton     27.773616      0.000000\n",
       "9           Will Tukuafu     20.798757      4.571429\n",
       "17         Marcus Murphy      9.002618      0.000000\n",
       "49       Anthony Sherman      8.331223      0.000000\n",
       "43       Patrick DiMarco      8.331223      0.000000\n",
       "33       Aaron Ripkowski      5.421207    150.000000\n",
       "56           Ryan Hewitt      5.421207      0.000000\n",
       "62         Roosevelt Nix      5.421207      0.000000\n",
       "83       Malcolm Johnson      5.421207      4.571429\n",
       "\n",
       "[93 rows x 3 columns]"
      ]
     },
     "execution_count": 580,
     "metadata": {},
     "output_type": "execute_result"
    }
   ],
   "source": [
    "def predict_total_rush(row):\n",
    "    return row.PredAvgRushYrds * row.PredRushAttPerGame * 16\n",
    "\n",
    "def actual_total_rush(row):\n",
    "    return row['2016AvgRushYrds'] * row['2016RushAttPerGame'] * 16\n",
    "\n",
    "PredictRB = ModelsRB.predict_df(players[players.Position == 'RB'])\n",
    "RB2015 = PredictRB[PredictRB.Season == '2015'][['Player', 'Season', 'Team', 'AvgRushYrds', \n",
    "            'PredAvgRushYrds', 'RushAttPerGame', 'PredRushAttPerGame']]\n",
    "RB2016 = PredictRB[PredictRB.Season == '2016'][['Player', 'Season', 'Team', 'AvgRushYrds', 'RushAttPerGame']]\n",
    "RB2016.columns = ['Player', 'Season', 'Team', '2016AvgRushYrds', '2016RushAttPerGame']\n",
    "PredictRB2016 = pd.merge(RB2015, RB2016, on=('Player', 'Team'))\n",
    "PredictRB2016 = PredictRB2016[['Player', 'Team', 'PredAvgRushYrds', '2016AvgRushYrds', 'PredRushAttPerGame', '2016RushAttPerGame']].sort(columns=('2016AvgRushYrds'), ascending=False)\n",
    "PredictRB2016['PredRushYrds'] = PredictRB2016.apply(predict_total_rush, axis=1)\n",
    "PredictRB2016['2016RushYrds'] = PredictRB2016.apply(actual_total_rush, axis=1)\n",
    "PredictRB2016 = PredictRB2016.sort(columns=('PredRushYrds'), ascending=False)\n",
    "print('Total Correlation:')\n",
    "print(PredictRB2016[['Player', 'PredRushYrds', '2016RushYrds']].corr())\n",
    "print('Top 15 Correlation:')\n",
    "print(PredictRB2016[['Player', 'PredRushYrds', '2016RushYrds']][:15].corr())\n",
    "PredictRB2016[['Player', 'PredRushYrds', '2016RushYrds']]"
   ]
  },
  {
   "cell_type": "code",
   "execution_count": 581,
   "metadata": {
    "collapsed": true
   },
   "outputs": [],
   "source": [
    "# there is a bigger issue with unpredictable number of games played. most overpredictions\n",
    "# are related to not controlling for games played, but performance is still poor\n",
    "# especially for the top running backs. hopefully will improve with interactions"
   ]
  },
  {
   "cell_type": "markdown",
   "metadata": {},
   "source": [
    "## Wide Receivers"
   ]
  },
  {
   "cell_type": "code",
   "execution_count": 582,
   "metadata": {
    "collapsed": false
   },
   "outputs": [],
   "source": [
    "ModelsWR = PositionModels('WR')"
   ]
  },
  {
   "cell_type": "markdown",
   "metadata": {},
   "source": [
    "#### Primary Stats"
   ]
  },
  {
   "cell_type": "code",
   "execution_count": 583,
   "metadata": {
    "collapsed": false
   },
   "outputs": [
    {
     "name": "stdout",
     "output_type": "stream",
     "text": [
      "|=== Predicting AvgPassYrds ===|\n",
      "\n",
      "|====== Model Coefficients ======|\n",
      "PSAvgPassYrds: 0.149691847418\n",
      "PSOffPassYrdsPerGame: 0.00454528980174\n",
      "Intercept: 5.67258462413\n",
      "\n",
      "|========== Performance ==========|\n",
      "R-Sqr on Seasons 2014 to 2016: 0.0695903038881\n",
      "Train Data Size: 322\n",
      "Test Data Size:145\n"
     ]
    }
   ],
   "source": [
    "AvgPassYrds = create_model(players, 'WR', 'AvgPassYrds', \n",
    "                           ['AvgPassYrds', 'OffPassYrdsPerGame'], \n",
    "                   game_limit=12, test_cutoff=2014, add_limits={'PassAttPerGame': 4})\n",
    "ModelsWR.add_model('AvgPassYrds', AvgPassYrds)"
   ]
  },
  {
   "cell_type": "code",
   "execution_count": 584,
   "metadata": {
    "collapsed": false
   },
   "outputs": [
    {
     "name": "stdout",
     "output_type": "stream",
     "text": [
      "|=== Predicting PassAttPerGame ===|\n",
      "\n",
      "|====== Model Coefficients ======|\n",
      "PSPassAttPerGame: 0.764821757917\n",
      "Intercept: 1.47599181756\n",
      "\n",
      "|========== Performance ==========|\n",
      "R-Sqr on Seasons 2014 to 2016: 0.613892036713\n",
      "Train Data Size: 486\n",
      "Test Data Size:228\n"
     ]
    }
   ],
   "source": [
    "PassAttPerGame = create_model(players, 'WR', 'PassAttPerGame', \n",
    "                           ['PassAttPerGame'], \n",
    "                   game_limit=12, test_cutoff=2014, add_limits={'PassAttPerGame': 0})\n",
    "ModelsWR.add_model('PassAttPerGame', PassAttPerGame)"
   ]
  },
  {
   "cell_type": "code",
   "execution_count": 585,
   "metadata": {
    "collapsed": false
   },
   "outputs": [
    {
     "name": "stdout",
     "output_type": "stream",
     "text": [
      "|=== Predicting PassTDAttRatio ===|\n",
      "\n",
      "|====== Model Coefficients ======|\n",
      "PSPassTDAttRatio: 0.142111115\n",
      "PSOffPassYrdsPerGame: 6.44317035492e-05\n",
      "PSOffPointsPerGame: 0.000371665416427\n",
      "Intercept: 0.0175440603805\n",
      "\n",
      "|========== Performance ==========|\n",
      "R-Sqr on Seasons 2014 to 2016: 0.0776709687707\n",
      "Train Data Size: 322\n",
      "Test Data Size:145\n"
     ]
    }
   ],
   "source": [
    "PassTDAttRatio = create_model(players, 'WR', 'PassTDAttRatio', \n",
    "                           ['PassTDAttRatio', 'OffPassYrdsPerGame', 'OffPointsPerGame'], \n",
    "                   game_limit=12, test_cutoff=2014, add_limits={'PassAttPerGame': 4})\n",
    "ModelsWR.add_model('PassTDAttRatio', PassTDAttRatio)"
   ]
  },
  {
   "cell_type": "markdown",
   "metadata": {},
   "source": [
    "#### Secondary Stats"
   ]
  },
  {
   "cell_type": "code",
   "execution_count": 592,
   "metadata": {
    "collapsed": false
   },
   "outputs": [
    {
     "name": "stdout",
     "output_type": "stream",
     "text": [
      "|=== Predicting AvgRushYrds ===|\n",
      "\n",
      "|====== Model Coefficients ======|\n",
      "PSAvgRushYrds: 0.147727772425\n",
      "PSRushAttPerGame: 3.52344002527\n",
      "PSOffRushYrdsPerGame: -0.0181129923799\n",
      "Intercept: 4.03411535313\n",
      "\n",
      "|========== Performance ==========|\n",
      "R-Sqr on Seasons 2014 to 2016: 0.0773486183827\n",
      "Train Data Size: 486\n",
      "Test Data Size:228\n"
     ]
    }
   ],
   "source": [
    "ModelsWR.create_model(players, 'AvgRushYrds', ['AvgRushYrds', 'RushAttPerGame', 'OffRushYrdsPerGame'], \n",
    "                      game_limit=12, test_cutoff=2014, add_limits={})"
   ]
  },
  {
   "cell_type": "code",
   "execution_count": 596,
   "metadata": {
    "collapsed": false
   },
   "outputs": [
    {
     "name": "stdout",
     "output_type": "stream",
     "text": [
      "|=== Predicting RushAttPerGame ===|\n",
      "\n",
      "|====== Model Coefficients ======|\n",
      "PSRushAttPerGame: 0.790620376438\n",
      "Intercept: 0.0252573150424\n",
      "\n",
      "|========== Performance ==========|\n",
      "R-Sqr on Seasons 2014 to 2016: 0.467599039223\n",
      "Train Data Size: 486\n",
      "Test Data Size:228\n"
     ]
    }
   ],
   "source": [
    "ModelsWR.create_model(players, 'RushAttPerGame', ['RushAttPerGame'], \n",
    "                      game_limit=12, test_cutoff=2014, add_limits={})"
   ]
  },
  {
   "cell_type": "code",
   "execution_count": 598,
   "metadata": {
    "collapsed": false
   },
   "outputs": [],
   "source": [
    "# static RushTDAttRatio for WRs"
   ]
  },
  {
   "cell_type": "markdown",
   "metadata": {},
   "source": [
    "## Tight Ends"
   ]
  },
  {
   "cell_type": "code",
   "execution_count": 599,
   "metadata": {
    "collapsed": true
   },
   "outputs": [],
   "source": [
    "ModelsTE = PositionModels('TE')"
   ]
  },
  {
   "cell_type": "markdown",
   "metadata": {},
   "source": [
    "#### Primary Stats"
   ]
  },
  {
   "cell_type": "code",
   "execution_count": 618,
   "metadata": {
    "collapsed": false
   },
   "outputs": [
    {
     "name": "stdout",
     "output_type": "stream",
     "text": [
      "|=== Predicting AvgPassYrds ===|\n",
      "\n",
      "|====== Model Coefficients ======|\n",
      "PSAvgPassYrds: 0.276619249957\n",
      "Intercept: 5.42182785496\n",
      "\n",
      "|========== Performance ==========|\n",
      "R-Sqr on Seasons 2014 to 2016: 0.101981319253\n",
      "Train Data Size: 108\n",
      "Test Data Size:53\n"
     ]
    }
   ],
   "source": [
    "ModelsTE.create_model(players, 'AvgPassYrds', ['AvgPassYrds'], \n",
    "                      game_limit=12, test_cutoff=2014, add_limits={'PassAttPerGame': 4})"
   ]
  },
  {
   "cell_type": "code",
   "execution_count": 628,
   "metadata": {
    "collapsed": false
   },
   "outputs": [
    {
     "name": "stdout",
     "output_type": "stream",
     "text": [
      "|=== Predicting PassAttPerGame ===|\n",
      "\n",
      "|====== Model Coefficients ======|\n",
      "PSPassAttPerGame: 0.537619693874\n",
      "PSOffPassYrdsPerGame: 0.00685887073055\n",
      "Intercept: 1.02018376937\n",
      "\n",
      "|========== Performance ==========|\n",
      "R-Sqr on Seasons 2014 to 2016: 0.440298185625\n",
      "Train Data Size: 178\n",
      "Test Data Size:80\n"
     ]
    }
   ],
   "source": [
    "ModelsTE.create_model(players, 'PassAttPerGame', ['PassAttPerGame', 'OffPassYrdsPerGame'], \n",
    "                      game_limit=12, test_cutoff=2014, add_limits={'PassAttPerGame': 2})"
   ]
  },
  {
   "cell_type": "code",
   "execution_count": 624,
   "metadata": {
    "collapsed": false
   },
   "outputs": [
    {
     "name": "stdout",
     "output_type": "stream",
     "text": [
      "|=== Predicting PassTDAttRatio ===|\n",
      "\n",
      "|====== Model Coefficients ======|\n",
      "PSPassTDAttRatio: 0.21132866975\n",
      "Intercept: 0.041303701398\n",
      "\n",
      "|========== Performance ==========|\n",
      "R-Sqr on Seasons 2014 to 2016: 0.0761600670352\n",
      "Train Data Size: 108\n",
      "Test Data Size:53\n"
     ]
    }
   ],
   "source": [
    "ModelsTE.create_model(players, 'PassTDAttRatio', ['PassTDAttRatio'], \n",
    "                      game_limit=12, test_cutoff=2014, add_limits={'PassAttPerGame': 4})"
   ]
  },
  {
   "cell_type": "code",
   "execution_count": 527,
   "metadata": {
    "collapsed": false
   },
   "outputs": [
    {
     "data": {
      "text/plain": [
       "Index(['Player', 'Position', 'Team', 'Season', 'Plays', 'Games',\n",
       "       'RushAttempts', 'RushYrds', 'RushTDs', 'PassAttempts', 'Complete',\n",
       "       'PassYrds', 'PassTDs', 'Fumbles', 'Interceptions', 'PassTDAttRatio',\n",
       "       'RushTDAttRatio', 'AvgPassYrds', 'AvgRushYrds', 'PercentComplete',\n",
       "       'PlaysPerGame', 'GamesPlayedPercent', 'InterceptionRatio',\n",
       "       'PassAttPerGame', 'RushAttPerGame', 'FumblesPerGame',\n",
       "       'PassRushAttRatio', 'OffPassRushRatio', 'OffYardsPerGame',\n",
       "       'OffPassYrdsPerGame', 'OffRushYrdsPerGame', 'OffPointsPerGame'],\n",
       "      dtype='object')"
      ]
     },
     "execution_count": 527,
     "metadata": {},
     "output_type": "execute_result"
    }
   ],
   "source": [
    "players.columns"
   ]
  },
  {
   "cell_type": "code",
   "execution_count": null,
   "metadata": {
    "collapsed": true
   },
   "outputs": [],
   "source": []
  }
 ],
 "metadata": {
  "kernelspec": {
   "display_name": "Python [Root]",
   "language": "python",
   "name": "Python [Root]"
  },
  "language_info": {
   "codemirror_mode": {
    "name": "ipython",
    "version": 3
   },
   "file_extension": ".py",
   "mimetype": "text/x-python",
   "name": "python",
   "nbconvert_exporter": "python",
   "pygments_lexer": "ipython3",
   "version": "3.5.2"
  }
 },
 "nbformat": 4,
 "nbformat_minor": 0
}
