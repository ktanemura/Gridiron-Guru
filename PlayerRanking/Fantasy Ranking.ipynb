{
 "cells": [
  {
   "cell_type": "code",
   "execution_count": 315,
   "metadata": {
    "collapsed": false
   },
   "outputs": [],
   "source": [
    "%matplotlib inline\n",
    "import numpy as np\n",
    "import sklearn as sk\n",
    "import scipy as sp\n",
    "import requests\n",
    "from bs4 import BeautifulSoup\n",
    "import pandas as pd\n",
    "import sqlite3\n",
    "from sqlite_api import *\n",
    "from sklearn import linear_model\n",
    "from math import sqrt\n",
    "import matplotlib.pyplot as plt\n",
    "\n",
    "import warnings\n",
    "warnings.filterwarnings(\"ignore\")"
   ]
  },
  {
   "cell_type": "code",
   "execution_count": 44,
   "metadata": {
    "collapsed": true
   },
   "outputs": [],
   "source": [
    "fdb = 'fantasy.db'\n",
    "\n",
    "player_lbls = ['Player', 'Position', 'Team', 'Season', 'Plays', 'Games', 'RushAttempts', \n",
    "              'RushYrds', 'RushTDs', 'PassAttempts', 'Complete', 'PassYrds', 'PassTDs', 'Fumbles', 'Interceptions']"
   ]
  },
  {
   "cell_type": "code",
   "execution_count": 94,
   "metadata": {
    "collapsed": false,
    "scrolled": true
   },
   "outputs": [],
   "source": [
    "plyr = select_to_df(fdb, 'PlayerSeason', player_lbls, where='WHERE Season=2016')  "
   ]
  },
  {
   "cell_type": "code",
   "execution_count": 5,
   "metadata": {
    "collapsed": false
   },
   "outputs": [],
   "source": [
    "# create 2016 mock season database\n",
    "rdb = 'rankings.db'\n",
    "conn = sqlite3.connect(rdb)\n",
    "c = conn.cursor()"
   ]
  },
  {
   "cell_type": "code",
   "execution_count": 96,
   "metadata": {
    "collapsed": false
   },
   "outputs": [],
   "source": [
    "for pos in ['Quarterbacks', 'RunningBacks', 'WideReceivers', 'TightEnds', 'Kickers']:\n",
    "    c.execute('''CREATE Table ''' + pos +\n",
    "                '''(Player VARCHAR(30),\n",
    "                    Team VARCHAR(3),\n",
    "                    Position CHARACTER(2),\n",
    "                    PRIMARY KEY (Player))''')"
   ]
  },
  {
   "cell_type": "code",
   "execution_count": 97,
   "metadata": {
    "collapsed": false
   },
   "outputs": [
    {
     "data": {
      "text/plain": [
       "<sqlite3.Cursor at 0x21886351f10>"
      ]
     },
     "execution_count": 97,
     "metadata": {},
     "output_type": "execute_result"
    }
   ],
   "source": [
    "c.execute('''CREATE Table Defenses\n",
    "                (Team VARCHAR(3),\n",
    "                Position CHARACTER(2),\n",
    "                PRIMARY KEY (Team))''')"
   ]
  },
  {
   "cell_type": "code",
   "execution_count": 102,
   "metadata": {
    "collapsed": false
   },
   "outputs": [],
   "source": [
    "df = select_to_df(fdb, 'PlayerSeason', player_lbls, where='WHERE Season=2016')[['Player', 'Position', 'Team']]\n",
    "QBs = df[df.Position == 'QB']\n",
    "for idx in range(len(QBs)):\n",
    "    row = df.iloc[idx]\n",
    "    c.execute('INSERT INTO Quarterbacks VALUES (?, ?, ?)', (row[0], row[2], row[1]))"
   ]
  },
  {
   "cell_type": "code",
   "execution_count": 103,
   "metadata": {
    "collapsed": true
   },
   "outputs": [],
   "source": [
    "RBs = df[df.Position == 'RB']\n",
    "for idx in range(len(RBs)):\n",
    "    row = df.iloc[idx]\n",
    "    c.execute('INSERT INTO RunningBacks VALUES (?, ?, ?)', (row[0], row[2], row[1]))"
   ]
  },
  {
   "cell_type": "code",
   "execution_count": 104,
   "metadata": {
    "collapsed": true
   },
   "outputs": [],
   "source": [
    "WRs = df[df.Position == 'WR']\n",
    "for idx in range(len(WRs)):\n",
    "    row = df.iloc[idx]\n",
    "    c.execute('INSERT INTO WideReceivers VALUES (?, ?, ?)', (row[0], row[2], row[1]))"
   ]
  },
  {
   "cell_type": "code",
   "execution_count": 105,
   "metadata": {
    "collapsed": true
   },
   "outputs": [],
   "source": [
    "TEs = df[df.Position == 'TE']\n",
    "for idx in range(len(TEs)):\n",
    "    row = df.iloc[idx]\n",
    "    c.execute('INSERT INTO TightEnds VALUES (?, ?, ?)', (row[0], row[2], row[1]))"
   ]
  },
  {
   "cell_type": "code",
   "execution_count": 107,
   "metadata": {
    "collapsed": true
   },
   "outputs": [],
   "source": [
    "df = select_to_df(fdb, 'KickerSeason', ['Player', 'Team', 'Position'], 'WHERE Season = 2016')\n",
    "for idx in range(len(df)):\n",
    "    c.execute('INSERT INTO Kickers VALUES (?, ?, ?)', df.iloc[idx])"
   ]
  },
  {
   "cell_type": "code",
   "execution_count": 108,
   "metadata": {
    "collapsed": true
   },
   "outputs": [],
   "source": [
    "df = select_to_df(fdb, 'DefenseSeason', ['Team', 'Position'], 'WHERE Season = 2016')\n",
    "for idx in range(len(df)):\n",
    "    c.execute('INSERT INTO Defenses VALUES (?, ?)', df.iloc[idx])"
   ]
  },
  {
   "cell_type": "code",
   "execution_count": 30,
   "metadata": {
    "collapsed": true
   },
   "outputs": [],
   "source": [
    "df = select_to_df(fdb, 'PlayerSeason', player_lbls, 'WHERE Season != 2016')\n",
    "df['Score'] = ply.apply(score_row, args=(qb, wr, rb, te), axis=1)"
   ]
  },
  {
   "cell_type": "markdown",
   "metadata": {},
   "source": [
    "## Offensive Features"
   ]
  },
  {
   "cell_type": "code",
   "execution_count": 45,
   "metadata": {
    "collapsed": true
   },
   "outputs": [],
   "source": [
    "def add_feature(df, name, func):\n",
    "    df[name] = df.apply(func, axis=1)\n",
    "    return df"
   ]
  },
  {
   "cell_type": "code",
   "execution_count": 258,
   "metadata": {
    "collapsed": false
   },
   "outputs": [],
   "source": [
    "offense_lbls = ['Team', \n",
    "                 'Season', \n",
    "                 'Yards',\n",
    "                 'PassYrds',\n",
    "                 'RushYrds',\n",
    "                 'Points']"
   ]
  },
  {
   "cell_type": "code",
   "execution_count": 47,
   "metadata": {
    "collapsed": true
   },
   "outputs": [],
   "source": [
    "def pass_rush_rat(row):\n",
    "    return row['PassYrds'] / row['RushYrds']\n",
    "\n",
    "def yards_per_game(row):\n",
    "    return row['Yards'] / 16\n",
    "\n",
    "def pass_yrds_per_game(row):\n",
    "    return row['PassYrds'] / 16\n",
    "\n",
    "def rush_yrds_per_game(row):\n",
    "    return row['RushYrds'] / 16\n",
    "\n",
    "def points_per_game(row):\n",
    "    return row['Points'] / 16"
   ]
  },
  {
   "cell_type": "code",
   "execution_count": 48,
   "metadata": {
    "collapsed": false
   },
   "outputs": [],
   "source": [
    "off = select_to_df('fantasy.db', 'OffenseSeason', offense_lbls)"
   ]
  },
  {
   "cell_type": "code",
   "execution_count": 49,
   "metadata": {
    "collapsed": false
   },
   "outputs": [
    {
     "data": {
      "text/html": [
       "<div>\n",
       "<table border=\"1\" class=\"dataframe\">\n",
       "  <thead>\n",
       "    <tr style=\"text-align: right;\">\n",
       "      <th></th>\n",
       "      <th>Team</th>\n",
       "      <th>Season</th>\n",
       "      <th>OffPassRushRatio</th>\n",
       "      <th>OffYardsPerGame</th>\n",
       "      <th>OffPassYrdsPerGame</th>\n",
       "      <th>OffRushYrdsPerGame</th>\n",
       "      <th>OffPointsPerGame</th>\n",
       "    </tr>\n",
       "  </thead>\n",
       "  <tbody>\n",
       "    <tr>\n",
       "      <th>0</th>\n",
       "      <td>NE</td>\n",
       "      <td>2007</td>\n",
       "      <td>2.558680</td>\n",
       "      <td>411.2500</td>\n",
       "      <td>295.6875</td>\n",
       "      <td>115.5625</td>\n",
       "      <td>36.8125</td>\n",
       "    </tr>\n",
       "    <tr>\n",
       "      <th>1</th>\n",
       "      <td>DAL</td>\n",
       "      <td>2007</td>\n",
       "      <td>2.351088</td>\n",
       "      <td>365.6875</td>\n",
       "      <td>256.5625</td>\n",
       "      <td>109.1250</td>\n",
       "      <td>28.4375</td>\n",
       "    </tr>\n",
       "    <tr>\n",
       "      <th>2</th>\n",
       "      <td>IND</td>\n",
       "      <td>2007</td>\n",
       "      <td>2.364009</td>\n",
       "      <td>358.6875</td>\n",
       "      <td>252.0625</td>\n",
       "      <td>106.6250</td>\n",
       "      <td>28.1250</td>\n",
       "    </tr>\n",
       "    <tr>\n",
       "      <th>3</th>\n",
       "      <td>JAX</td>\n",
       "      <td>2007</td>\n",
       "      <td>1.391886</td>\n",
       "      <td>357.4375</td>\n",
       "      <td>208.0000</td>\n",
       "      <td>149.4375</td>\n",
       "      <td>25.6875</td>\n",
       "    </tr>\n",
       "    <tr>\n",
       "      <th>4</th>\n",
       "      <td>SEA</td>\n",
       "      <td>2007</td>\n",
       "      <td>2.448425</td>\n",
       "      <td>348.9375</td>\n",
       "      <td>247.7500</td>\n",
       "      <td>101.1875</td>\n",
       "      <td>24.5625</td>\n",
       "    </tr>\n",
       "  </tbody>\n",
       "</table>\n",
       "</div>"
      ],
      "text/plain": [
       "  Team Season  OffPassRushRatio  OffYardsPerGame  OffPassYrdsPerGame  \\\n",
       "0   NE   2007          2.558680         411.2500            295.6875   \n",
       "1  DAL   2007          2.351088         365.6875            256.5625   \n",
       "2  IND   2007          2.364009         358.6875            252.0625   \n",
       "3  JAX   2007          1.391886         357.4375            208.0000   \n",
       "4  SEA   2007          2.448425         348.9375            247.7500   \n",
       "\n",
       "   OffRushYrdsPerGame  OffPointsPerGame  \n",
       "0            115.5625           36.8125  \n",
       "1            109.1250           28.4375  \n",
       "2            106.6250           28.1250  \n",
       "3            149.4375           25.6875  \n",
       "4            101.1875           24.5625  "
      ]
     },
     "execution_count": 49,
     "metadata": {},
     "output_type": "execute_result"
    }
   ],
   "source": [
    "off = add_feature(off, 'OffPassRushRatio', pass_rush_rat)\n",
    "off = add_feature(off, 'OffYardsPerGame', yards_per_game)\n",
    "off = add_feature(off, 'OffPassYrdsPerGame', pass_yrds_per_game)\n",
    "off = add_feature(off, 'OffRushYrdsPerGame', rush_yrds_per_game)\n",
    "off = add_feature(off, 'OffPointsPerGame', points_per_game)\n",
    "off = off.drop(['Yards', 'PassYrds', 'RushYrds', 'Points'], axis=1)\n",
    "off.head()"
   ]
  },
  {
   "cell_type": "markdown",
   "metadata": {},
   "source": [
    "## Additional Player Features"
   ]
  },
  {
   "cell_type": "code",
   "execution_count": 50,
   "metadata": {
    "collapsed": true
   },
   "outputs": [],
   "source": [
    "def pass_tdatt_rat(row):\n",
    "    if row['PassAttempts'] == 0:\n",
    "        return 0\n",
    "    return row['PassTDs'] / row['PassAttempts']\n",
    "\n",
    "def rush_tdatt_rat(row):\n",
    "    if row['RushAttempts'] == 0:\n",
    "        return 0\n",
    "    return row['RushTDs'] / row['RushAttempts']\n",
    "\n",
    "def pass_rush_att_rat(row):\n",
    "    if row['RushAttempts'] == 0:\n",
    "        return 1\n",
    "    return row['PassAttempts'] / row['RushAttempts']\n",
    "\n",
    "def complete_perc(row):\n",
    "    if row['PassAttempts'] == 0:\n",
    "        return 0\n",
    "    return row['Complete'] / row['PassAttempts']\n",
    "\n",
    "def avg_rush_yrds(row):\n",
    "    if row['RushAttempts'] == 0:\n",
    "        return 0\n",
    "    return row['RushYrds'] / row['RushAttempts']\n",
    "\n",
    "def avg_pass_yrds(row):\n",
    "    if row['PassAttempts'] == 0:\n",
    "        return 0\n",
    "    return row['PassYrds'] / row['PassAttempts']\n",
    "\n",
    "def avg_plays(row):\n",
    "    return row['Plays'] / row['Games']\n",
    "\n",
    "def score_per_play(row):\n",
    "    return row['Score'] / row['Plays']\n",
    "\n",
    "def score_per_game(row):\n",
    "    return row['Score'] / row['Games']\n",
    "\n",
    "def games_perc(row):\n",
    "    return row['Games'] / 16\n",
    "\n",
    "def intercept_rat(row):\n",
    "    if row['PassAttempts'] == 0:\n",
    "        return 0\n",
    "    return row['Interceptions'] / row['PassAttempts']\n",
    "\n",
    "def pass_att_per_game(row):\n",
    "    return row['PassAttempts'] / row['Games']\n",
    "\n",
    "def rush_att_per_game(row):\n",
    "    return row['RushAttempts'] / row['Games']\n",
    "\n",
    "def fumb_per_game(row):\n",
    "    return row['Fumbles'] / row['Games']"
   ]
  },
  {
   "cell_type": "code",
   "execution_count": 51,
   "metadata": {
    "collapsed": false
   },
   "outputs": [],
   "source": [
    "df = select_to_df('fantasy.db', 'PlayerSeason', player_lbls)\n",
    "\n",
    "def add_features(df):\n",
    "    df['PassTDAttRatio'] = df.apply(pass_tdatt_rat, axis=1)\n",
    "    df['RushTDAttRatio'] = df.apply(rush_tdatt_rat, axis=1)\n",
    "    df['AvgPassYrds'] = df.apply(avg_pass_yrds, axis=1)\n",
    "    df['AvgRushYrds'] = df.apply(avg_rush_yrds, axis=1)\n",
    "    df['PercentComplete'] = df.apply(complete_perc, axis=1)\n",
    "    df['PlaysPerGame'] = df.apply(avg_plays, axis=1)\n",
    "    df['GamesPlayedPercent'] = df.apply(games_perc, axis=1)\n",
    "    df['InterceptionRatio'] = df.apply(intercept_rat, axis=1)\n",
    "    df['PassAttPerGame'] = df.apply(pass_att_per_game, axis=1)\n",
    "    df['RushAttPerGame'] = df.apply(rush_att_per_game, axis=1)\n",
    "    df['FumblesPerGame'] = df.apply(fumb_per_game, axis=1)\n",
    "    df['PassRushAttRatio'] = df.apply(pass_rush_att_rat, axis=1)\n",
    "    \n",
    "    return df\n",
    "\n",
    "df = add_features(df)"
   ]
  },
  {
   "cell_type": "code",
   "execution_count": 396,
   "metadata": {
    "collapsed": false
   },
   "outputs": [
    {
     "data": {
      "text/html": [
       "<div>\n",
       "<table border=\"1\" class=\"dataframe\">\n",
       "  <thead>\n",
       "    <tr style=\"text-align: right;\">\n",
       "      <th></th>\n",
       "      <th>Player</th>\n",
       "      <th>Position</th>\n",
       "      <th>Team</th>\n",
       "      <th>Season</th>\n",
       "      <th>Plays</th>\n",
       "      <th>Games</th>\n",
       "      <th>RushAttempts</th>\n",
       "      <th>RushYrds</th>\n",
       "      <th>RushTDs</th>\n",
       "      <th>PassAttempts</th>\n",
       "      <th>...</th>\n",
       "      <th>InterceptionRatio</th>\n",
       "      <th>PassAttPerGame</th>\n",
       "      <th>RushAttPerGame</th>\n",
       "      <th>FumblesPerGame</th>\n",
       "      <th>PassRushAttRatio</th>\n",
       "      <th>OffPassRushRatio</th>\n",
       "      <th>OffYardsPerGame</th>\n",
       "      <th>OffPassYrdsPerGame</th>\n",
       "      <th>OffRushYrdsPerGame</th>\n",
       "      <th>OffPointsPerGame</th>\n",
       "    </tr>\n",
       "  </thead>\n",
       "  <tbody>\n",
       "    <tr>\n",
       "      <th>5224</th>\n",
       "      <td>Danny Vitale</td>\n",
       "      <td>RB</td>\n",
       "      <td>CLE</td>\n",
       "      <td>2016</td>\n",
       "      <td>5.0</td>\n",
       "      <td>9.0</td>\n",
       "      <td>0.0</td>\n",
       "      <td>0.0</td>\n",
       "      <td>0.0</td>\n",
       "      <td>5.0</td>\n",
       "      <td>...</td>\n",
       "      <td>0.0</td>\n",
       "      <td>0.555556</td>\n",
       "      <td>0.0</td>\n",
       "      <td>0.0</td>\n",
       "      <td>1.0</td>\n",
       "      <td>1.906542</td>\n",
       "      <td>311.0</td>\n",
       "      <td>204.0</td>\n",
       "      <td>107.0</td>\n",
       "      <td>16.5</td>\n",
       "    </tr>\n",
       "    <tr>\n",
       "      <th>5225</th>\n",
       "      <td>Gary Barnidge</td>\n",
       "      <td>TE</td>\n",
       "      <td>CLE</td>\n",
       "      <td>2016</td>\n",
       "      <td>82.0</td>\n",
       "      <td>16.0</td>\n",
       "      <td>0.0</td>\n",
       "      <td>0.0</td>\n",
       "      <td>0.0</td>\n",
       "      <td>82.0</td>\n",
       "      <td>...</td>\n",
       "      <td>0.0</td>\n",
       "      <td>5.125000</td>\n",
       "      <td>0.0</td>\n",
       "      <td>0.0</td>\n",
       "      <td>1.0</td>\n",
       "      <td>1.906542</td>\n",
       "      <td>311.0</td>\n",
       "      <td>204.0</td>\n",
       "      <td>107.0</td>\n",
       "      <td>16.5</td>\n",
       "    </tr>\n",
       "    <tr>\n",
       "      <th>5226</th>\n",
       "      <td>Seth DeValve</td>\n",
       "      <td>TE</td>\n",
       "      <td>CLE</td>\n",
       "      <td>2016</td>\n",
       "      <td>12.0</td>\n",
       "      <td>12.0</td>\n",
       "      <td>0.0</td>\n",
       "      <td>0.0</td>\n",
       "      <td>0.0</td>\n",
       "      <td>12.0</td>\n",
       "      <td>...</td>\n",
       "      <td>0.0</td>\n",
       "      <td>1.000000</td>\n",
       "      <td>0.0</td>\n",
       "      <td>0.0</td>\n",
       "      <td>1.0</td>\n",
       "      <td>1.906542</td>\n",
       "      <td>311.0</td>\n",
       "      <td>204.0</td>\n",
       "      <td>107.0</td>\n",
       "      <td>16.5</td>\n",
       "    </tr>\n",
       "    <tr>\n",
       "      <th>5227</th>\n",
       "      <td>Connor Hamlett</td>\n",
       "      <td>TE</td>\n",
       "      <td>CLE</td>\n",
       "      <td>2016</td>\n",
       "      <td>1.0</td>\n",
       "      <td>3.0</td>\n",
       "      <td>0.0</td>\n",
       "      <td>0.0</td>\n",
       "      <td>0.0</td>\n",
       "      <td>1.0</td>\n",
       "      <td>...</td>\n",
       "      <td>0.0</td>\n",
       "      <td>0.333333</td>\n",
       "      <td>0.0</td>\n",
       "      <td>0.0</td>\n",
       "      <td>1.0</td>\n",
       "      <td>1.906542</td>\n",
       "      <td>311.0</td>\n",
       "      <td>204.0</td>\n",
       "      <td>107.0</td>\n",
       "      <td>16.5</td>\n",
       "    </tr>\n",
       "    <tr>\n",
       "      <th>5228</th>\n",
       "      <td>Randall Telfer</td>\n",
       "      <td>TE</td>\n",
       "      <td>CLE</td>\n",
       "      <td>2016</td>\n",
       "      <td>7.0</td>\n",
       "      <td>14.0</td>\n",
       "      <td>0.0</td>\n",
       "      <td>0.0</td>\n",
       "      <td>0.0</td>\n",
       "      <td>7.0</td>\n",
       "      <td>...</td>\n",
       "      <td>0.0</td>\n",
       "      <td>0.500000</td>\n",
       "      <td>0.0</td>\n",
       "      <td>0.0</td>\n",
       "      <td>1.0</td>\n",
       "      <td>1.906542</td>\n",
       "      <td>311.0</td>\n",
       "      <td>204.0</td>\n",
       "      <td>107.0</td>\n",
       "      <td>16.5</td>\n",
       "    </tr>\n",
       "  </tbody>\n",
       "</table>\n",
       "<p>5 rows × 32 columns</p>\n",
       "</div>"
      ],
      "text/plain": [
       "              Player Position Team Season  Plays  Games  RushAttempts  \\\n",
       "5224    Danny Vitale       RB  CLE   2016    5.0    9.0           0.0   \n",
       "5225   Gary Barnidge       TE  CLE   2016   82.0   16.0           0.0   \n",
       "5226    Seth DeValve       TE  CLE   2016   12.0   12.0           0.0   \n",
       "5227  Connor Hamlett       TE  CLE   2016    1.0    3.0           0.0   \n",
       "5228  Randall Telfer       TE  CLE   2016    7.0   14.0           0.0   \n",
       "\n",
       "      RushYrds  RushTDs  PassAttempts        ...         InterceptionRatio  \\\n",
       "5224       0.0      0.0           5.0        ...                       0.0   \n",
       "5225       0.0      0.0          82.0        ...                       0.0   \n",
       "5226       0.0      0.0          12.0        ...                       0.0   \n",
       "5227       0.0      0.0           1.0        ...                       0.0   \n",
       "5228       0.0      0.0           7.0        ...                       0.0   \n",
       "\n",
       "      PassAttPerGame  RushAttPerGame  FumblesPerGame  PassRushAttRatio  \\\n",
       "5224        0.555556             0.0             0.0               1.0   \n",
       "5225        5.125000             0.0             0.0               1.0   \n",
       "5226        1.000000             0.0             0.0               1.0   \n",
       "5227        0.333333             0.0             0.0               1.0   \n",
       "5228        0.500000             0.0             0.0               1.0   \n",
       "\n",
       "      OffPassRushRatio  OffYardsPerGame  OffPassYrdsPerGame  \\\n",
       "5224          1.906542            311.0               204.0   \n",
       "5225          1.906542            311.0               204.0   \n",
       "5226          1.906542            311.0               204.0   \n",
       "5227          1.906542            311.0               204.0   \n",
       "5228          1.906542            311.0               204.0   \n",
       "\n",
       "      OffRushYrdsPerGame  OffPointsPerGame  \n",
       "5224               107.0              16.5  \n",
       "5225               107.0              16.5  \n",
       "5226               107.0              16.5  \n",
       "5227               107.0              16.5  \n",
       "5228               107.0              16.5  \n",
       "\n",
       "[5 rows x 32 columns]"
      ]
     },
     "execution_count": 396,
     "metadata": {},
     "output_type": "execute_result"
    }
   ],
   "source": [
    "players = pd.merge(df, off, on=['Team', 'Season'])\n",
    "players.tail()"
   ]
  },
  {
   "cell_type": "markdown",
   "metadata": {},
   "source": [
    "## Creating the Models"
   ]
  },
  {
   "cell_type": "code",
   "execution_count": 399,
   "metadata": {
    "collapsed": false
   },
   "outputs": [],
   "source": [
    "class Model:\n",
    "    def __init__(self, feature_list):\n",
    "        self.features = feature_list\n",
    "    \n",
    "    def set_model(self, model):\n",
    "        self.model = model\n",
    "        \n",
    "    def predict(self, feature_dict):\n",
    "        parameters = list()\n",
    "        for idx in range(len(self.features)):\n",
    "            parameters.append(feature_dict[self.features[idx]])\n",
    "        \n",
    "        return self.model.predict(parameters)\n",
    "        \n",
    "class PositionModels:\n",
    "    def __init__(self, position):\n",
    "        self.models = dict()\n",
    "        self.position = position\n",
    "    \n",
    "    def add_model(self, predict, model):\n",
    "        self.models[predict] = model\n",
    "        \n",
    "    def predict_player(self, feature_dict):\n",
    "        predictions = dict()\n",
    "        for cur_predict in self.models:\n",
    "            cur_model = self.models[cur_predict]\n",
    "            \n",
    "            # print(str(cur_predict)+': '+str(cur_model.predict(feature_dict)))\n",
    "            predictions[cur_predict] = cur_model.predict(feature_dict)\n",
    "        return predictions\n",
    "        \n",
    "    def predict_df(self, df):\n",
    "        def predict_var(row, to_predict):\n",
    "            #print(len(self.predict_player(row.to_dict())[to_predict]))\n",
    "            return self.predict_player(row.to_dict())[to_predict][0]\n",
    "        \n",
    "        # add interactions\n",
    "        interacts = set()\n",
    "        for to_predict in self.models:\n",
    "            for cur_feat in self.models[to_predict].features:\n",
    "                if '*' in cur_feat:\n",
    "                    interacts.add(cur_feat)\n",
    "        \n",
    "        for cur_interact in interacts:\n",
    "            feat1 = cur_interact.split('*')[0][2:]\n",
    "            feat2 = cur_interact.split('*')[1][2:]\n",
    "            df[cur_interact] = df.apply(lambda r, f1, f2: float(r[f1])*float(r[f2]), args=(feat1, feat2), axis=1)\n",
    "        \n",
    "        for to_predict in self.models:\n",
    "            print('Predicting '+to_predict+'...')\n",
    "            new_col = 'Pred' + to_predict\n",
    "            df[new_col] = df.apply(predict_var, args=(to_predict,), axis=1)\n",
    "        \n",
    "        return df\n",
    "    \n",
    "    def create_model(self, df, to_predict, features, game_limit=0, test_cutoff=2014, add_limits=dict(), interacts=list()):\n",
    "        new_model = create_model(df, self.position, to_predict, features, game_limit=game_limit, \n",
    "                                 test_cutoff=test_cutoff, add_limits=add_limits, interacts=interacts)\n",
    "        self.add_model(to_predict, new_model)"
   ]
  },
  {
   "cell_type": "code",
   "execution_count": 593,
   "metadata": {
    "collapsed": false,
    "scrolled": true
   },
   "outputs": [],
   "source": [
    "def create_model(df, pos, predict, features, reg_type='linear', game_limit=0, test_cutoff=2016, \n",
    "                 add_limits=dict(), interacts=list(), cat_features=list(), is_defense=False):\n",
    "    if not is_defense:\n",
    "        pkey = ['Player', 'Team', 'Season']\n",
    "    else:\n",
    "        pkey = ['Team', 'Season']\n",
    "\n",
    "    df = df[df.Position == pos]\n",
    "    left_vars = pkey + [predict]\n",
    "    right_vars = pkey + features\n",
    "    \n",
    "    model_vars = left_vars.copy()\n",
    "    orig_vars = model_vars.copy()\n",
    "    for idx in range(len(features)):\n",
    "        features[idx] = 'PS' + features[idx]\n",
    "    \n",
    "    for cat_var in cat_features:\n",
    "        dummy_df = pd.get_dummies(df[cat_var])\n",
    "        for var_name in dummy_df.columns:\n",
    "            features.append(str(var_name))\n",
    "    model_vars += features\n",
    "        \n",
    "    # build train dataframe\n",
    "    model_df = pd.DataFrame(columns=model_vars)\n",
    "    for season in range(2008, test_cutoff):\n",
    "        prev_season = str(season - 1)\n",
    "        season = str(season)\n",
    "        left_df = df[df.GamesPlayedPercent >= (game_limit/16)]\n",
    "        for limit in add_limits:\n",
    "            left_df = left_df[left_df[limit] >= add_limits[limit]]\n",
    "        left_df = left_df[left_vars][df.Season == season]\n",
    "        right_df = df[right_vars][df.Season == prev_season]\n",
    "        right_df['Season'] = str(season)\n",
    "        # add categorical dummy variables\n",
    "        for cat_var in cat_features:\n",
    "            dummy_df = pd.get_dummies(df[cat_var])\n",
    "            right_df = right_df.join(dummy_df)\n",
    "        \n",
    "        left_df = pd.merge(left_df, right_df, on=pkey)\n",
    "        left_df.columns = model_vars\n",
    "        model_df = model_df.append(left_df)\n",
    "    \n",
    "    # build interactions\n",
    "    for cur_inter in interacts:\n",
    "        feat1 = str(features[cur_inter[0]])\n",
    "        feat2 = str(features[cur_inter[1]])\n",
    "        model_df[feat1+'*'+feat2] = model_df.apply(lambda row, feat1, feat2: row[feat1] * row[feat2], \n",
    "                                                 args=(feat1, feat2), axis=1)\n",
    "        features.append(feat1+'*'+feat2)\n",
    "            \n",
    "    \n",
    "    # build test dataframe\n",
    "    #model_vars = orig_vars\n",
    "    test_df = pd.DataFrame(columns=model_vars)\n",
    "    for season in range(test_cutoff, 2017):\n",
    "        left_df = df[df.GamesPlayedPercent >= (game_limit/16)]\n",
    "        for limit in add_limits:\n",
    "            left_df = left_df[left_df[limit] >= add_limits[limit]]\n",
    "        left_df = left_df[left_vars][df.Season == str(season)]\n",
    "        right_df = df[right_vars][df.Season == str(season-1)]\n",
    "        right_df['Season'] = str(season)\n",
    "        # add categorical dummy variables\n",
    "        for cat_var in cat_features:\n",
    "            dummy_df = pd.get_dummies(df[cat_var])\n",
    "            right_df = right_df.join(dummy_df)\n",
    "\n",
    "        left_df = pd.merge(left_df, right_df, on=pkey)\n",
    "        left_df.columns = model_vars\n",
    "        test_df = test_df.append(left_df)\n",
    "        \n",
    "    # build interactions\n",
    "    for cur_inter in interacts:\n",
    "        feat1 = str(features[cur_inter[0]])\n",
    "        feat2 = str(features[cur_inter[1]])\n",
    "        test_df[feat1+'*'+feat2] = test_df.apply(lambda row, feat1, feat2: row[feat1] * row[feat2], \n",
    "                                                 args=(feat1, feat2), axis=1)     \n",
    "    \n",
    "    if reg_type == 'linear':\n",
    "        model = linear_model.LinearRegression()\n",
    "    elif reg_type == 'logistic':\n",
    "        model = linear_model.LogisticRegression()\n",
    "    model.fit(model_df[features], model_df[predict])\n",
    "    print('|=== Predicting '+str(predict)+' ===|\\n')\n",
    "    print('|====== Model Coefficients ======|')\n",
    "    for idx in range(len(model.coef_)):\n",
    "        print(str(features[idx])+': '+str(model.coef_[idx]))\n",
    "    print('Intercept: '+str(model.intercept_))\n",
    "    print('\\n|========== Performance ==========|')\n",
    "    print('R-Sqr on Seasons '+str(test_cutoff)+' to 2016: '  + str(model.score(model_df[features], model_df[predict])))\n",
    "    print('Train Data Size: '+str(len(model_df)))\n",
    "    print('Test Data Size:'+str(len(test_df)))\n",
    "    model_obj = Model(features)\n",
    "    model_obj.set_model(model)\n",
    "    \n",
    "    return model_obj"
   ]
  },
  {
   "cell_type": "markdown",
   "metadata": {},
   "source": [
    "## Quarterbacks"
   ]
  },
  {
   "cell_type": "code",
   "execution_count": 401,
   "metadata": {
    "collapsed": true
   },
   "outputs": [],
   "source": [
    "ModelsQB = PositionModels('QB')"
   ]
  },
  {
   "cell_type": "code",
   "execution_count": 402,
   "metadata": {
    "collapsed": false,
    "scrolled": false
   },
   "outputs": [
    {
     "name": "stdout",
     "output_type": "stream",
     "text": [
      "|=== Predicting AvgPassYrds ===|\n",
      "\n",
      "|====== Model Coefficients ======|\n",
      "PSAvgPassYrds: 0.281325343102\n",
      "PSPercentComplete: 6.41163920165\n",
      "PSOffPassYrdsPerGame: 0.000708867372633\n",
      "Intercept: 1.13018502735\n",
      "\n",
      "|========== Performance ==========|\n",
      "R-Sqr on Seasons 2014 to 2016: 0.52100841563\n",
      "Train Data Size: 143\n",
      "Test Data Size:70\n"
     ]
    }
   ],
   "source": [
    "AvgPassYrds = create_model(players, 'QB', 'AvgPassYrds', \n",
    "                           ['AvgPassYrds', 'PercentComplete', 'OffPassYrdsPerGame'], \n",
    "                   game_limit=10, test_cutoff=2014, interacts=[])\n",
    "ModelsQB.add_model('AvgPassYrds', AvgPassYrds)"
   ]
  },
  {
   "cell_type": "code",
   "execution_count": 403,
   "metadata": {
    "collapsed": false,
    "scrolled": false
   },
   "outputs": [
    {
     "name": "stdout",
     "output_type": "stream",
     "text": [
      "|=== Predicting PassAttPerGame ===|\n",
      "\n",
      "|====== Model Coefficients ======|\n",
      "PSPassAttPerGame: 0.585682389826\n",
      "PSAvgPassYrds: 4.66416477994\n",
      "PSPassTDAttRatio: -19.9779011058\n",
      "PSOffPointsPerGame: 1.46935242751\n",
      "PSGamesPlayedPercent: -7.49648014459\n",
      "PSPassAttPerGame*PSGamesPlayedPercent: 0.230692346385\n",
      "PSAvgPassYrds*PSOffPointsPerGame: -0.173339137249\n",
      "Intercept: -23.8767212999\n",
      "\n",
      "|========== Performance ==========|\n",
      "R-Sqr on Seasons 2014 to 2016: 0.595266049834\n",
      "Train Data Size: 184\n",
      "Test Data Size:91\n"
     ]
    }
   ],
   "source": [
    "PassAttPerGame = create_model(players, 'QB', 'PassAttPerGame', \n",
    "                           ['PassAttPerGame', 'AvgPassYrds', 'PassTDAttRatio', 'OffPointsPerGame', 'GamesPlayedPercent'], \n",
    "                   game_limit=6, test_cutoff=2014, interacts=[(0,4), (1,3)])\n",
    "ModelsQB.add_model('PassAttPerGame', PassAttPerGame)"
   ]
  },
  {
   "cell_type": "code",
   "execution_count": 404,
   "metadata": {
    "collapsed": false,
    "scrolled": true
   },
   "outputs": [
    {
     "name": "stdout",
     "output_type": "stream",
     "text": [
      "|=== Predicting PassTDAttRatio ===|\n",
      "\n",
      "|====== Model Coefficients ======|\n",
      "PSPassTDAttRatio: 0.118074081227\n",
      "PSAvgPassYrds: 0.00221885064841\n",
      "PSPercentComplete: 0.0325126213073\n",
      "PSGamesPlayedPercent: 0.0075644469316\n",
      "PSRushTDAttRatio: 0.0508856621922\n",
      "Intercept: -0.00569435143606\n",
      "\n",
      "|========== Performance ==========|\n",
      "R-Sqr on Seasons 2014 to 2016: 0.236048860829\n",
      "Train Data Size: 161\n",
      "Test Data Size:78\n"
     ]
    }
   ],
   "source": [
    "PassTDAttRatio = create_model(players, 'QB', 'PassTDAttRatio', \n",
    "                           ['PassTDAttRatio', 'AvgPassYrds', 'PercentComplete', 'GamesPlayedPercent', 'RushTDAttRatio'], \n",
    "                   game_limit=8, test_cutoff=2014)\n",
    "ModelsQB.add_model('PassTDAttRatio', PassTDAttRatio)"
   ]
  },
  {
   "cell_type": "code",
   "execution_count": 405,
   "metadata": {
    "collapsed": false,
    "scrolled": true
   },
   "outputs": [
    {
     "name": "stdout",
     "output_type": "stream",
     "text": [
      "|=== Predicting AvgRushYrds ===|\n",
      "\n",
      "|====== Model Coefficients ======|\n",
      "PSAvgRushYrds: 0.186097495049\n",
      "PSRushAttPerGame: 0.606931980498\n",
      "PSPassAttPerGame: -0.0429372088817\n",
      "PSOffPointsPerGame: -0.0951528762998\n",
      "Intercept: 4.5258439588\n",
      "\n",
      "|========== Performance ==========|\n",
      "R-Sqr on Seasons 2014 to 2016: 0.36818219927\n",
      "Train Data Size: 161\n",
      "Test Data Size:78\n"
     ]
    }
   ],
   "source": [
    "AvgRushYrds = create_model(players, 'QB', 'AvgRushYrds', \n",
    "                           ['AvgRushYrds', 'RushAttPerGame', 'PassAttPerGame', 'OffPointsPerGame'], \n",
    "                   game_limit=8, test_cutoff=2014)\n",
    "ModelsQB.add_model('AvgRushYrds', AvgRushYrds)"
   ]
  },
  {
   "cell_type": "code",
   "execution_count": 406,
   "metadata": {
    "collapsed": false
   },
   "outputs": [
    {
     "name": "stdout",
     "output_type": "stream",
     "text": [
      "|=== Predicting RushAttPerGame ===|\n",
      "\n",
      "|====== Model Coefficients ======|\n",
      "PSRushAttPerGame: 0.320401292597\n",
      "PSRushTDAttRatio: 4.6558133053\n",
      "PSPassRushAttRatio: -0.0159485482807\n",
      "PSGamesPlayedPercent: -0.225122925987\n",
      "PSRushAttPerGame*PSRushAttPerGame: 0.0453150359155\n",
      "Intercept: 1.53310205211\n",
      "\n",
      "|========== Performance ==========|\n",
      "R-Sqr on Seasons 2014 to 2016: 0.510334569854\n",
      "Train Data Size: 184\n",
      "Test Data Size:91\n"
     ]
    }
   ],
   "source": [
    "RushAttPerGame = create_model(players, 'QB', 'RushAttPerGame', \n",
    "                           ['RushAttPerGame', 'RushTDAttRatio', 'PassRushAttRatio', 'GamesPlayedPercent'], \n",
    "                   game_limit=6, test_cutoff=2014, interacts=[(0,0)])\n",
    "ModelsQB.add_model('RushAttPerGame', RushAttPerGame)"
   ]
  },
  {
   "cell_type": "code",
   "execution_count": 407,
   "metadata": {
    "collapsed": false,
    "scrolled": true
   },
   "outputs": [
    {
     "name": "stdout",
     "output_type": "stream",
     "text": [
      "|=== Predicting FumblesPerGame ===|\n",
      "\n",
      "|====== Model Coefficients ======|\n",
      "PSFumblesPerGame: 0.00225734741466\n",
      "PSOffPassYrdsPerGame: -0.00064973396875\n",
      "PSPassAttPerGame: 0.00243968422387\n",
      "PSFumblesPerGame*PSOffPassYrdsPerGame: 0.000395880115763\n",
      "Intercept: 0.275483838641\n",
      "\n",
      "|========== Performance ==========|\n",
      "R-Sqr on Seasons 2014 to 2016: 0.0699783290304\n",
      "Train Data Size: 161\n",
      "Test Data Size:78\n"
     ]
    }
   ],
   "source": [
    "FumblesPerGame = create_model(players, 'QB', 'FumblesPerGame', \n",
    "                           ['FumblesPerGame', 'OffPassYrdsPerGame', 'PassAttPerGame'], \n",
    "                   game_limit=8, test_cutoff=2014, interacts=[(0,1)])\n",
    "ModelsQB.add_model('FumblesPerGame', FumblesPerGame)"
   ]
  },
  {
   "cell_type": "code",
   "execution_count": 385,
   "metadata": {
    "collapsed": false
   },
   "outputs": [
    {
     "ename": "NameError",
     "evalue": "name 'playersQB' is not defined",
     "output_type": "error",
     "traceback": [
      "\u001b[1;31m---------------------------------------------------------------------------\u001b[0m",
      "\u001b[1;31mNameError\u001b[0m                                 Traceback (most recent call last)",
      "\u001b[1;32m<ipython-input-385-a8b2a2738a97>\u001b[0m in \u001b[0;36m<module>\u001b[1;34m()\u001b[0m\n\u001b[1;32m----> 1\u001b[1;33m \u001b[0mPredictQB\u001b[0m \u001b[1;33m=\u001b[0m \u001b[0mModelsQB\u001b[0m\u001b[1;33m.\u001b[0m\u001b[0mpredict_df\u001b[0m\u001b[1;33m(\u001b[0m\u001b[0mplayersQB\u001b[0m\u001b[1;33m)\u001b[0m\u001b[1;33m\u001b[0m\u001b[0m\n\u001b[0m\u001b[0;32m      2\u001b[0m \u001b[0mPredictQB\u001b[0m\u001b[1;33m[\u001b[0m\u001b[0mPredictQB\u001b[0m\u001b[1;33m.\u001b[0m\u001b[0mPlayer\u001b[0m \u001b[1;33m==\u001b[0m \u001b[1;34m'Tom Brady'\u001b[0m\u001b[1;33m]\u001b[0m\u001b[1;33m[\u001b[0m\u001b[1;33m[\u001b[0m\u001b[1;34m'Player'\u001b[0m\u001b[1;33m,\u001b[0m \u001b[1;34m'Team'\u001b[0m\u001b[1;33m,\u001b[0m \u001b[1;34m'Season'\u001b[0m\u001b[1;33m,\u001b[0m \u001b[1;34m'AvgPassYrds'\u001b[0m\u001b[1;33m,\u001b[0m \u001b[1;34m'PredAvgPassYrds'\u001b[0m\u001b[1;33m]\u001b[0m\u001b[1;33m]\u001b[0m\u001b[1;33m.\u001b[0m\u001b[0mtail\u001b[0m\u001b[1;33m(\u001b[0m\u001b[1;33m)\u001b[0m\u001b[1;33m\u001b[0m\u001b[0m\n",
      "\u001b[1;31mNameError\u001b[0m: name 'playersQB' is not defined"
     ]
    }
   ],
   "source": [
    "PredictQB = ModelsQB.predict_df(playersQB)\n",
    "PredictQB[PredictQB.Player == 'Tom Brady'][['Player', 'Team', 'Season', 'AvgPassYrds', 'PredAvgPassYrds']].tail()"
   ]
  },
  {
   "cell_type": "code",
   "execution_count": null,
   "metadata": {
    "collapsed": false
   },
   "outputs": [],
   "source": [
    "QB2015 = PredictQB[PredictQB.Season == '2015'][['Player', 'Season', 'Team', 'AvgPassYrds', \n",
    "            'PredAvgPassYrds', 'PassAttPerGame', 'PredPassAttPerGame']]\n",
    "QB2016 = PredictQB[PredictQB.Season == '2016'][['Player', 'Season', 'Team', 'AvgPassYrds', 'PassAttPerGame']]\n",
    "QB2016.columns = ['Player', 'Season', 'Team', '2016AvgPassYrds', '2016PassAttPerGame']\n",
    "PredictQB2016 = pd.merge(QB2015, QB2016, on=('Player', 'Team'))\n",
    "PredictQB2016 = PredictQB2016[['Player', 'Team', 'PredAvgPassYrds', '2016AvgPassYrds', 'PredPassAttPerGame', '2016PassAttPerGame']].sort(columns=('2016AvgPassYrds'), ascending=False)\n",
    "PredictQB2016.head()"
   ]
  },
  {
   "cell_type": "code",
   "execution_count": null,
   "metadata": {
    "collapsed": false,
    "scrolled": true
   },
   "outputs": [],
   "source": [
    "def predict_total_pass(row):\n",
    "    return row.PredAvgPassYrds * row.PredPassAttPerGame * 16\n",
    "\n",
    "def actual_total_pass(row):\n",
    "    return row['2016AvgPassYrds'] * row['2016PassAttPerGame'] * 16\n",
    "\n",
    "PredictQB2016['PredPassYrds'] = PredictQB2016.apply(predict_total_pass, axis=1)\n",
    "PredictQB2016['2016PassYrds'] = PredictQB2016.apply(actual_total_pass, axis=1)\n",
    "PredictQB2016 = PredictQB2016.sort(columns=('2016PassYrds'), ascending=False)\n",
    "print('Total Correlation:')\n",
    "print(PredictQB2016[['Player', 'PredPassYrds', '2016PassYrds']].corr())\n",
    "print('Top 15 Correlation:')\n",
    "print(PredictQB2016[['Player', 'PredPassYrds', '2016PassYrds']][:15].corr())\n",
    "PredictQB2016[['Player', 'PredPassYrds', '2016PassYrds']]"
   ]
  },
  {
   "cell_type": "markdown",
   "metadata": {},
   "source": [
    "#### Current Metrics\n",
    "\n",
    "Total: 0.682\n",
    "\n",
    "Top 15: 0.618"
   ]
  },
  {
   "cell_type": "markdown",
   "metadata": {},
   "source": [
    "## Running Backs"
   ]
  },
  {
   "cell_type": "code",
   "execution_count": 408,
   "metadata": {
    "collapsed": true
   },
   "outputs": [],
   "source": [
    "ModelsRB = PositionModels('RB')"
   ]
  },
  {
   "cell_type": "markdown",
   "metadata": {},
   "source": [
    "#### Primary Stats"
   ]
  },
  {
   "cell_type": "code",
   "execution_count": 409,
   "metadata": {
    "collapsed": false
   },
   "outputs": [
    {
     "name": "stdout",
     "output_type": "stream",
     "text": [
      "|=== Predicting AvgRushYrds ===|\n",
      "\n",
      "|====== Model Coefficients ======|\n",
      "PSAvgRushYrds: 0.233007230324\n",
      "PSRushTDAttRatio: -1.91252474272\n",
      "PSRushAttPerGame: -0.0100144505186\n",
      "Intercept: 3.50947407628\n",
      "\n",
      "|========== Performance ==========|\n",
      "R-Sqr on Seasons 2014 to 2016: 0.112014723196\n",
      "Train Data Size: 133\n",
      "Test Data Size:51\n"
     ]
    }
   ],
   "source": [
    "AvgRushYrds = create_model(players, 'RB', 'AvgRushYrds', \n",
    "                           ['AvgRushYrds', 'RushTDAttRatio', 'RushAttPerGame'], \n",
    "                   game_limit=14, test_cutoff=2014, add_limits={'RushAttPerGame': 8}, interacts=[])\n",
    "ModelsRB.add_model('AvgRushYrds', AvgRushYrds)"
   ]
  },
  {
   "cell_type": "code",
   "execution_count": 410,
   "metadata": {
    "collapsed": false,
    "scrolled": true
   },
   "outputs": [
    {
     "name": "stdout",
     "output_type": "stream",
     "text": [
      "|=== Predicting RushAttPerGame ===|\n",
      "\n",
      "|====== Model Coefficients ======|\n",
      "PSRushAttPerGame: 0.829612058324\n",
      "PSAvgRushYrds: 0.350216329528\n",
      "Intercept: 0.0965459334221\n",
      "\n",
      "|========== Performance ==========|\n",
      "R-Sqr on Seasons 2014 to 2016: 0.742479651202\n",
      "Train Data Size: 329\n",
      "Test Data Size:149\n"
     ]
    }
   ],
   "source": [
    "RushAttPerGame = create_model(players, 'RB', 'RushAttPerGame', \n",
    "                           ['RushAttPerGame', 'AvgRushYrds'], \n",
    "                   game_limit=14, test_cutoff=2014)\n",
    "ModelsRB.add_model('RushAttPerGame', RushAttPerGame)"
   ]
  },
  {
   "cell_type": "code",
   "execution_count": 411,
   "metadata": {
    "collapsed": false
   },
   "outputs": [
    {
     "name": "stdout",
     "output_type": "stream",
     "text": [
      "|=== Predicting RushTDAttRatio ===|\n",
      "\n",
      "|====== Model Coefficients ======|\n",
      "PSRushTDAttRatio: 3.35812749939\n",
      "PSAvgRushYrds: -0.00274617361922\n",
      "PSOffRushYrdsPerGame: 0.000452560830186\n",
      "PSRushTDAttRatio*PSOffRushYrdsPerGame: -0.0269480824138\n",
      "Intercept: -0.0172543176205\n",
      "\n",
      "|========== Performance ==========|\n",
      "R-Sqr on Seasons 2014 to 2016: 0.217237107317\n",
      "Train Data Size: 329\n",
      "Test Data Size:149\n"
     ]
    }
   ],
   "source": [
    "RushTDAttRatio = create_model(players, 'RB', 'RushTDAttRatio', \n",
    "                           ['RushTDAttRatio', 'AvgRushYrds', 'OffRushYrdsPerGame'], \n",
    "                   game_limit=14, test_cutoff=2014, interacts=[(0,2)])\n",
    "ModelsRB.add_model('RushAttPerGame', RushAttPerGame)"
   ]
  },
  {
   "cell_type": "markdown",
   "metadata": {},
   "source": [
    "#### Secondary Stats"
   ]
  },
  {
   "cell_type": "code",
   "execution_count": 412,
   "metadata": {
    "collapsed": false,
    "scrolled": false
   },
   "outputs": [],
   "source": [
    "# create boolean ispasser as addition feature for AvgPassYrds?\n",
    "# maybe limit train set to only passers and only predict if predicted to be a passer/pass att > certain margin"
   ]
  },
  {
   "cell_type": "code",
   "execution_count": 413,
   "metadata": {
    "collapsed": false
   },
   "outputs": [
    {
     "name": "stdout",
     "output_type": "stream",
     "text": [
      "|=== Predicting AvgPassYrds ===|\n",
      "\n",
      "|====== Model Coefficients ======|\n",
      "PSAvgPassYrds: 0.0355588811577\n",
      "PSAvgPassYrds*PSAvgPassYrds: 0.00361711252065\n",
      "Intercept: 5.18121883081\n",
      "\n",
      "|========== Performance ==========|\n",
      "R-Sqr on Seasons 2014 to 2016: 0.00508318315398\n",
      "Train Data Size: 329\n",
      "Test Data Size:149\n"
     ]
    }
   ],
   "source": [
    "AvgPassYrds = create_model(players, 'RB', 'AvgPassYrds', \n",
    "                           ['AvgPassYrds'], \n",
    "                   game_limit=14, test_cutoff=2014, interacts=[(0,0)])\n",
    "ModelsRB.add_model('AvgPassYrds', AvgPassYrds)"
   ]
  },
  {
   "cell_type": "code",
   "execution_count": 414,
   "metadata": {
    "collapsed": false
   },
   "outputs": [
    {
     "name": "stdout",
     "output_type": "stream",
     "text": [
      "|=== Predicting PassAttPerGame ===|\n",
      "\n",
      "|====== Model Coefficients ======|\n",
      "PSPassAttPerGame: 1.02159768294\n",
      "PSPassAttPerGame*PSPassAttPerGame: -0.0568342700929\n",
      "Intercept: 0.389867015535\n",
      "\n",
      "|========== Performance ==========|\n",
      "R-Sqr on Seasons 2014 to 2016: 0.545003585184\n",
      "Train Data Size: 329\n",
      "Test Data Size:149\n"
     ]
    }
   ],
   "source": [
    "PassAttPerGame = create_model(players, 'RB', 'PassAttPerGame', \n",
    "                           ['PassAttPerGame'], \n",
    "                   game_limit=14, test_cutoff=2014, interacts=[(0,0)])\n",
    "ModelsRB.add_model('PassAttPerGame', PassAttPerGame)"
   ]
  },
  {
   "cell_type": "code",
   "execution_count": 415,
   "metadata": {
    "collapsed": false
   },
   "outputs": [
    {
     "name": "stdout",
     "output_type": "stream",
     "text": [
      "|=== Predicting FumblesPerGame ===|\n",
      "\n",
      "|====== Model Coefficients ======|\n",
      "PSFumblesPerGame: 0.120723512678\n",
      "PSRushAttPerGame: 0.00465479290049\n",
      "Intercept: 0.0159142261803\n",
      "\n",
      "|========== Performance ==========|\n",
      "R-Sqr on Seasons 2014 to 2016: 0.274732796335\n",
      "Train Data Size: 329\n",
      "Test Data Size:149\n"
     ]
    }
   ],
   "source": [
    "FumblesPerGame = create_model(players, 'RB', 'FumblesPerGame', \n",
    "                           ['FumblesPerGame', 'RushAttPerGame'], \n",
    "                   game_limit=14, test_cutoff=2014, interacts=[])\n",
    "ModelsRB.add_model('FumblesPerGame', FumblesPerGame)"
   ]
  },
  {
   "cell_type": "code",
   "execution_count": 394,
   "metadata": {
    "collapsed": false,
    "scrolled": true
   },
   "outputs": [
    {
     "name": "stdout",
     "output_type": "stream",
     "text": [
      "Predicting AvgRushYrds...\n"
     ]
    },
    {
     "ename": "KeyError",
     "evalue": "('PSAvgRushYrds', 'occurred at index 7')",
     "output_type": "error",
     "traceback": [
      "\u001b[1;31m---------------------------------------------------------------------------\u001b[0m",
      "\u001b[1;31mKeyError\u001b[0m                                  Traceback (most recent call last)",
      "\u001b[1;32m<ipython-input-394-f67af5b55e9d>\u001b[0m in \u001b[0;36m<module>\u001b[1;34m()\u001b[0m\n\u001b[0;32m      5\u001b[0m     \u001b[1;32mreturn\u001b[0m \u001b[0mrow\u001b[0m\u001b[1;33m[\u001b[0m\u001b[1;34m'2016AvgRushYrds'\u001b[0m\u001b[1;33m]\u001b[0m \u001b[1;33m*\u001b[0m \u001b[0mrow\u001b[0m\u001b[1;33m[\u001b[0m\u001b[1;34m'2016RushAttPerGame'\u001b[0m\u001b[1;33m]\u001b[0m \u001b[1;33m*\u001b[0m \u001b[1;36m16\u001b[0m\u001b[1;33m\u001b[0m\u001b[0m\n\u001b[0;32m      6\u001b[0m \u001b[1;33m\u001b[0m\u001b[0m\n\u001b[1;32m----> 7\u001b[1;33m \u001b[0mPredictRB\u001b[0m \u001b[1;33m=\u001b[0m \u001b[0mModelsRB\u001b[0m\u001b[1;33m.\u001b[0m\u001b[0mpredict_df\u001b[0m\u001b[1;33m(\u001b[0m\u001b[0mplayers\u001b[0m\u001b[1;33m[\u001b[0m\u001b[0mplayers\u001b[0m\u001b[1;33m.\u001b[0m\u001b[0mPosition\u001b[0m \u001b[1;33m==\u001b[0m \u001b[1;34m'RB'\u001b[0m\u001b[1;33m]\u001b[0m\u001b[1;33m)\u001b[0m\u001b[1;33m\u001b[0m\u001b[0m\n\u001b[0m\u001b[0;32m      8\u001b[0m RB2015 = PredictRB[PredictRB.Season == '2015'][['Player', 'Season', 'Team', 'AvgRushYrds', \n\u001b[0;32m      9\u001b[0m             'PredAvgRushYrds', 'RushAttPerGame', 'PredRushAttPerGame']]\n",
      "\u001b[1;32m<ipython-input-53-c6f8a24bd751>\u001b[0m in \u001b[0;36mpredict_df\u001b[1;34m(self, df)\u001b[0m\n\u001b[0;32m     50\u001b[0m             \u001b[0mprint\u001b[0m\u001b[1;33m(\u001b[0m\u001b[1;34m'Predicting '\u001b[0m\u001b[1;33m+\u001b[0m\u001b[0mto_predict\u001b[0m\u001b[1;33m+\u001b[0m\u001b[1;34m'...'\u001b[0m\u001b[1;33m)\u001b[0m\u001b[1;33m\u001b[0m\u001b[0m\n\u001b[0;32m     51\u001b[0m             \u001b[0mnew_col\u001b[0m \u001b[1;33m=\u001b[0m \u001b[1;34m'Pred'\u001b[0m \u001b[1;33m+\u001b[0m \u001b[0mto_predict\u001b[0m\u001b[1;33m\u001b[0m\u001b[0m\n\u001b[1;32m---> 52\u001b[1;33m             \u001b[0mdf\u001b[0m\u001b[1;33m[\u001b[0m\u001b[0mnew_col\u001b[0m\u001b[1;33m]\u001b[0m \u001b[1;33m=\u001b[0m \u001b[0mdf\u001b[0m\u001b[1;33m.\u001b[0m\u001b[0mapply\u001b[0m\u001b[1;33m(\u001b[0m\u001b[0mpredict_var\u001b[0m\u001b[1;33m,\u001b[0m \u001b[0margs\u001b[0m\u001b[1;33m=\u001b[0m\u001b[1;33m(\u001b[0m\u001b[0mto_predict\u001b[0m\u001b[1;33m,\u001b[0m\u001b[1;33m)\u001b[0m\u001b[1;33m,\u001b[0m \u001b[0maxis\u001b[0m\u001b[1;33m=\u001b[0m\u001b[1;36m1\u001b[0m\u001b[1;33m)\u001b[0m\u001b[1;33m\u001b[0m\u001b[0m\n\u001b[0m\u001b[0;32m     53\u001b[0m \u001b[1;33m\u001b[0m\u001b[0m\n\u001b[0;32m     54\u001b[0m         \u001b[1;32mreturn\u001b[0m \u001b[0mdf\u001b[0m\u001b[1;33m\u001b[0m\u001b[0m\n",
      "\u001b[1;32mC:\\Users\\Ryan\\Anaconda3\\lib\\site-packages\\pandas\\core\\frame.py\u001b[0m in \u001b[0;36mapply\u001b[1;34m(self, func, axis, broadcast, raw, reduce, args, **kwds)\u001b[0m\n\u001b[0;32m   4059\u001b[0m                     \u001b[1;32mif\u001b[0m \u001b[0mreduce\u001b[0m \u001b[1;32mis\u001b[0m \u001b[1;32mNone\u001b[0m\u001b[1;33m:\u001b[0m\u001b[1;33m\u001b[0m\u001b[0m\n\u001b[0;32m   4060\u001b[0m                         \u001b[0mreduce\u001b[0m \u001b[1;33m=\u001b[0m \u001b[1;32mTrue\u001b[0m\u001b[1;33m\u001b[0m\u001b[0m\n\u001b[1;32m-> 4061\u001b[1;33m                     \u001b[1;32mreturn\u001b[0m \u001b[0mself\u001b[0m\u001b[1;33m.\u001b[0m\u001b[0m_apply_standard\u001b[0m\u001b[1;33m(\u001b[0m\u001b[0mf\u001b[0m\u001b[1;33m,\u001b[0m \u001b[0maxis\u001b[0m\u001b[1;33m,\u001b[0m \u001b[0mreduce\u001b[0m\u001b[1;33m=\u001b[0m\u001b[0mreduce\u001b[0m\u001b[1;33m)\u001b[0m\u001b[1;33m\u001b[0m\u001b[0m\n\u001b[0m\u001b[0;32m   4062\u001b[0m             \u001b[1;32melse\u001b[0m\u001b[1;33m:\u001b[0m\u001b[1;33m\u001b[0m\u001b[0m\n\u001b[0;32m   4063\u001b[0m                 \u001b[1;32mreturn\u001b[0m \u001b[0mself\u001b[0m\u001b[1;33m.\u001b[0m\u001b[0m_apply_broadcast\u001b[0m\u001b[1;33m(\u001b[0m\u001b[0mf\u001b[0m\u001b[1;33m,\u001b[0m \u001b[0maxis\u001b[0m\u001b[1;33m)\u001b[0m\u001b[1;33m\u001b[0m\u001b[0m\n",
      "\u001b[1;32mC:\\Users\\Ryan\\Anaconda3\\lib\\site-packages\\pandas\\core\\frame.py\u001b[0m in \u001b[0;36m_apply_standard\u001b[1;34m(self, func, axis, ignore_failures, reduce)\u001b[0m\n\u001b[0;32m   4155\u001b[0m             \u001b[1;32mtry\u001b[0m\u001b[1;33m:\u001b[0m\u001b[1;33m\u001b[0m\u001b[0m\n\u001b[0;32m   4156\u001b[0m                 \u001b[1;32mfor\u001b[0m \u001b[0mi\u001b[0m\u001b[1;33m,\u001b[0m \u001b[0mv\u001b[0m \u001b[1;32min\u001b[0m \u001b[0menumerate\u001b[0m\u001b[1;33m(\u001b[0m\u001b[0mseries_gen\u001b[0m\u001b[1;33m)\u001b[0m\u001b[1;33m:\u001b[0m\u001b[1;33m\u001b[0m\u001b[0m\n\u001b[1;32m-> 4157\u001b[1;33m                     \u001b[0mresults\u001b[0m\u001b[1;33m[\u001b[0m\u001b[0mi\u001b[0m\u001b[1;33m]\u001b[0m \u001b[1;33m=\u001b[0m \u001b[0mfunc\u001b[0m\u001b[1;33m(\u001b[0m\u001b[0mv\u001b[0m\u001b[1;33m)\u001b[0m\u001b[1;33m\u001b[0m\u001b[0m\n\u001b[0m\u001b[0;32m   4158\u001b[0m                     \u001b[0mkeys\u001b[0m\u001b[1;33m.\u001b[0m\u001b[0mappend\u001b[0m\u001b[1;33m(\u001b[0m\u001b[0mv\u001b[0m\u001b[1;33m.\u001b[0m\u001b[0mname\u001b[0m\u001b[1;33m)\u001b[0m\u001b[1;33m\u001b[0m\u001b[0m\n\u001b[0;32m   4159\u001b[0m             \u001b[1;32mexcept\u001b[0m \u001b[0mException\u001b[0m \u001b[1;32mas\u001b[0m \u001b[0me\u001b[0m\u001b[1;33m:\u001b[0m\u001b[1;33m\u001b[0m\u001b[0m\n",
      "\u001b[1;32mC:\\Users\\Ryan\\Anaconda3\\lib\\site-packages\\pandas\\core\\frame.py\u001b[0m in \u001b[0;36mf\u001b[1;34m(x)\u001b[0m\n\u001b[0;32m   4037\u001b[0m \u001b[1;33m\u001b[0m\u001b[0m\n\u001b[0;32m   4038\u001b[0m             \u001b[1;32mdef\u001b[0m \u001b[0mf\u001b[0m\u001b[1;33m(\u001b[0m\u001b[0mx\u001b[0m\u001b[1;33m)\u001b[0m\u001b[1;33m:\u001b[0m\u001b[1;33m\u001b[0m\u001b[0m\n\u001b[1;32m-> 4039\u001b[1;33m                 \u001b[1;32mreturn\u001b[0m \u001b[0mfunc\u001b[0m\u001b[1;33m(\u001b[0m\u001b[0mx\u001b[0m\u001b[1;33m,\u001b[0m \u001b[1;33m*\u001b[0m\u001b[0margs\u001b[0m\u001b[1;33m,\u001b[0m \u001b[1;33m**\u001b[0m\u001b[0mkwds\u001b[0m\u001b[1;33m)\u001b[0m\u001b[1;33m\u001b[0m\u001b[0m\n\u001b[0m\u001b[0;32m   4040\u001b[0m         \u001b[1;32melse\u001b[0m\u001b[1;33m:\u001b[0m\u001b[1;33m\u001b[0m\u001b[0m\n\u001b[0;32m   4041\u001b[0m             \u001b[0mf\u001b[0m \u001b[1;33m=\u001b[0m \u001b[0mfunc\u001b[0m\u001b[1;33m\u001b[0m\u001b[0m\n",
      "\u001b[1;32m<ipython-input-53-c6f8a24bd751>\u001b[0m in \u001b[0;36mpredict_var\u001b[1;34m(row, to_predict)\u001b[0m\n\u001b[0;32m     33\u001b[0m         \u001b[1;32mdef\u001b[0m \u001b[0mpredict_var\u001b[0m\u001b[1;33m(\u001b[0m\u001b[0mrow\u001b[0m\u001b[1;33m,\u001b[0m \u001b[0mto_predict\u001b[0m\u001b[1;33m)\u001b[0m\u001b[1;33m:\u001b[0m\u001b[1;33m\u001b[0m\u001b[0m\n\u001b[0;32m     34\u001b[0m             \u001b[1;31m#print(len(self.predict_player(row.to_dict())[to_predict]))\u001b[0m\u001b[1;33m\u001b[0m\u001b[1;33m\u001b[0m\u001b[0m\n\u001b[1;32m---> 35\u001b[1;33m             \u001b[1;32mreturn\u001b[0m \u001b[0mself\u001b[0m\u001b[1;33m.\u001b[0m\u001b[0mpredict_player\u001b[0m\u001b[1;33m(\u001b[0m\u001b[0mrow\u001b[0m\u001b[1;33m.\u001b[0m\u001b[0mto_dict\u001b[0m\u001b[1;33m(\u001b[0m\u001b[1;33m)\u001b[0m\u001b[1;33m)\u001b[0m\u001b[1;33m[\u001b[0m\u001b[0mto_predict\u001b[0m\u001b[1;33m]\u001b[0m\u001b[1;33m[\u001b[0m\u001b[1;36m0\u001b[0m\u001b[1;33m]\u001b[0m\u001b[1;33m\u001b[0m\u001b[0m\n\u001b[0m\u001b[0;32m     36\u001b[0m \u001b[1;33m\u001b[0m\u001b[0m\n\u001b[0;32m     37\u001b[0m         \u001b[1;31m# add interactions\u001b[0m\u001b[1;33m\u001b[0m\u001b[1;33m\u001b[0m\u001b[0m\n",
      "\u001b[1;32m<ipython-input-53-c6f8a24bd751>\u001b[0m in \u001b[0;36mpredict_player\u001b[1;34m(self, feature_dict)\u001b[0m\n\u001b[0;32m     27\u001b[0m \u001b[1;33m\u001b[0m\u001b[0m\n\u001b[0;32m     28\u001b[0m             \u001b[1;31m# print(str(cur_predict)+': '+str(cur_model.predict(feature_dict)))\u001b[0m\u001b[1;33m\u001b[0m\u001b[1;33m\u001b[0m\u001b[0m\n\u001b[1;32m---> 29\u001b[1;33m             \u001b[0mpredictions\u001b[0m\u001b[1;33m[\u001b[0m\u001b[0mcur_predict\u001b[0m\u001b[1;33m]\u001b[0m \u001b[1;33m=\u001b[0m \u001b[0mcur_model\u001b[0m\u001b[1;33m.\u001b[0m\u001b[0mpredict\u001b[0m\u001b[1;33m(\u001b[0m\u001b[0mfeature_dict\u001b[0m\u001b[1;33m)\u001b[0m\u001b[1;33m\u001b[0m\u001b[0m\n\u001b[0m\u001b[0;32m     30\u001b[0m         \u001b[1;32mreturn\u001b[0m \u001b[0mpredictions\u001b[0m\u001b[1;33m\u001b[0m\u001b[0m\n\u001b[0;32m     31\u001b[0m \u001b[1;33m\u001b[0m\u001b[0m\n",
      "\u001b[1;32m<ipython-input-53-c6f8a24bd751>\u001b[0m in \u001b[0;36mpredict\u001b[1;34m(self, feature_dict)\u001b[0m\n\u001b[0;32m      9\u001b[0m         \u001b[0mparameters\u001b[0m \u001b[1;33m=\u001b[0m \u001b[0mlist\u001b[0m\u001b[1;33m(\u001b[0m\u001b[1;33m)\u001b[0m\u001b[1;33m\u001b[0m\u001b[0m\n\u001b[0;32m     10\u001b[0m         \u001b[1;32mfor\u001b[0m \u001b[0midx\u001b[0m \u001b[1;32min\u001b[0m \u001b[0mrange\u001b[0m\u001b[1;33m(\u001b[0m\u001b[0mlen\u001b[0m\u001b[1;33m(\u001b[0m\u001b[0mself\u001b[0m\u001b[1;33m.\u001b[0m\u001b[0mfeatures\u001b[0m\u001b[1;33m)\u001b[0m\u001b[1;33m)\u001b[0m\u001b[1;33m:\u001b[0m\u001b[1;33m\u001b[0m\u001b[0m\n\u001b[1;32m---> 11\u001b[1;33m             \u001b[0mparameters\u001b[0m\u001b[1;33m.\u001b[0m\u001b[0mappend\u001b[0m\u001b[1;33m(\u001b[0m\u001b[0mfeature_dict\u001b[0m\u001b[1;33m[\u001b[0m\u001b[0mself\u001b[0m\u001b[1;33m.\u001b[0m\u001b[0mfeatures\u001b[0m\u001b[1;33m[\u001b[0m\u001b[0midx\u001b[0m\u001b[1;33m]\u001b[0m\u001b[1;33m]\u001b[0m\u001b[1;33m)\u001b[0m\u001b[1;33m\u001b[0m\u001b[0m\n\u001b[0m\u001b[0;32m     12\u001b[0m \u001b[1;33m\u001b[0m\u001b[0m\n\u001b[0;32m     13\u001b[0m         \u001b[1;32mreturn\u001b[0m \u001b[0mself\u001b[0m\u001b[1;33m.\u001b[0m\u001b[0mmodel\u001b[0m\u001b[1;33m.\u001b[0m\u001b[0mpredict\u001b[0m\u001b[1;33m(\u001b[0m\u001b[0mparameters\u001b[0m\u001b[1;33m)\u001b[0m\u001b[1;33m\u001b[0m\u001b[0m\n",
      "\u001b[1;31mKeyError\u001b[0m: ('PSAvgRushYrds', 'occurred at index 7')"
     ]
    }
   ],
   "source": [
    "def predict_total_rush(row):\n",
    "    return row.PredAvgRushYrds * row.PredRushAttPerGame * 16\n",
    "\n",
    "def actual_total_rush(row):\n",
    "    return row['2016AvgRushYrds'] * row['2016RushAttPerGame'] * 16\n",
    "\n",
    "PredictRB = ModelsRB.predict_df(players[players.Position == 'RB'])\n",
    "RB2015 = PredictRB[PredictRB.Season == '2015'][['Player', 'Season', 'Team', 'AvgRushYrds', \n",
    "            'PredAvgRushYrds', 'RushAttPerGame', 'PredRushAttPerGame']]\n",
    "RB2016 = PredictRB[PredictRB.Season == '2016'][['Player', 'Season', 'Team', 'AvgRushYrds', 'RushAttPerGame']]\n",
    "RB2016.columns = ['Player', 'Season', 'Team', '2016AvgRushYrds', '2016RushAttPerGame']\n",
    "PredictRB2016 = pd.merge(RB2015, RB2016, on=('Player', 'Team'))\n",
    "PredictRB2016 = PredictRB2016[['Player', 'Team', 'PredAvgRushYrds', '2016AvgRushYrds', 'PredRushAttPerGame', '2016RushAttPerGame']].sort(columns=('2016AvgRushYrds'), ascending=False)\n",
    "PredictRB2016['PredRushYrds'] = PredictRB2016.apply(predict_total_rush, axis=1)\n",
    "PredictRB2016['2016RushYrds'] = PredictRB2016.apply(actual_total_rush, axis=1)\n",
    "PredictRB2016 = PredictRB2016.sort(columns=('2016RushYrds'), ascending=False)\n",
    "print('Total Correlation:')\n",
    "print(PredictRB2016[['Player', 'PredRushYrds', '2016RushYrds']].corr())\n",
    "print('Top 15 Correlation:')\n",
    "print(PredictRB2016[['Player', 'PredRushYrds', '2016RushYrds']][:15].corr())\n",
    "PredictRB2016[['Player', 'PredRushYrds', '2016RushYrds']]"
   ]
  },
  {
   "cell_type": "markdown",
   "metadata": {
    "collapsed": true
   },
   "source": [
    "#### Current Metrics\n",
    "Total: 0.7\n",
    "\n",
    "Top 15: 0.19\n",
    "\n",
    "there is a bigger issue with unpredictable number of games played. most overpredictions\n",
    "are related to not controlling for games played, but performance is still poor\n",
    "especially for the top running backs. hopefully will improve with interactions"
   ]
  },
  {
   "cell_type": "markdown",
   "metadata": {},
   "source": [
    "## Wide Receivers"
   ]
  },
  {
   "cell_type": "code",
   "execution_count": 416,
   "metadata": {
    "collapsed": false
   },
   "outputs": [],
   "source": [
    "ModelsWR = PositionModels('WR')"
   ]
  },
  {
   "cell_type": "markdown",
   "metadata": {},
   "source": [
    "#### Primary Stats"
   ]
  },
  {
   "cell_type": "code",
   "execution_count": 417,
   "metadata": {
    "collapsed": false
   },
   "outputs": [
    {
     "name": "stdout",
     "output_type": "stream",
     "text": [
      "|=== Predicting AvgPassYrds ===|\n",
      "\n",
      "|====== Model Coefficients ======|\n",
      "PSAvgPassYrds: -0.423650868497\n",
      "PSOffPassYrdsPerGame: -0.0163688784131\n",
      "PSAvgPassYrds*PSOffPassYrdsPerGame: 0.00252492548065\n",
      "Intercept: 10.3358299284\n",
      "\n",
      "|========== Performance ==========|\n",
      "R-Sqr on Seasons 2014 to 2016: 0.0888486413396\n",
      "Train Data Size: 322\n",
      "Test Data Size:145\n"
     ]
    }
   ],
   "source": [
    "AvgPassYrds = create_model(players, 'WR', 'AvgPassYrds', \n",
    "                           ['AvgPassYrds', 'OffPassYrdsPerGame'], \n",
    "                   game_limit=12, test_cutoff=2014, add_limits={'PassAttPerGame': 4}, interacts=[(0,1)])\n",
    "ModelsWR.add_model('AvgPassYrds', AvgPassYrds)"
   ]
  },
  {
   "cell_type": "code",
   "execution_count": 418,
   "metadata": {
    "collapsed": false
   },
   "outputs": [
    {
     "name": "stdout",
     "output_type": "stream",
     "text": [
      "|=== Predicting PassAttPerGame ===|\n",
      "\n",
      "|====== Model Coefficients ======|\n",
      "PSPassAttPerGame: 0.764821757917\n",
      "Intercept: 1.47599181756\n",
      "\n",
      "|========== Performance ==========|\n",
      "R-Sqr on Seasons 2014 to 2016: 0.613892036713\n",
      "Train Data Size: 486\n",
      "Test Data Size:228\n"
     ]
    }
   ],
   "source": [
    "PassAttPerGame = create_model(players, 'WR', 'PassAttPerGame', \n",
    "                           ['PassAttPerGame'], \n",
    "                   game_limit=12, test_cutoff=2014, add_limits={'PassAttPerGame': 0})\n",
    "ModelsWR.add_model('PassAttPerGame', PassAttPerGame)"
   ]
  },
  {
   "cell_type": "code",
   "execution_count": 419,
   "metadata": {
    "collapsed": false
   },
   "outputs": [
    {
     "name": "stdout",
     "output_type": "stream",
     "text": [
      "|=== Predicting PassTDAttRatio ===|\n",
      "\n",
      "|====== Model Coefficients ======|\n",
      "PSPassTDAttRatio: -0.303232791479\n",
      "PSOffPassYrdsPerGame: -5.0709442713e-05\n",
      "PSOffPointsPerGame: 0.000265962867502\n",
      "PSPassTDAttRatio*PSPassTDAttRatio: 1.27255018912\n",
      "PSPassTDAttRatio*PSPassTDAttRatio*PSPassTDAttRatio: -10.9152195032\n",
      "PSPassTDAttRatio*PSOffPassYrdsPerGame: 0.00202838561932\n",
      "Intercept: 0.0433359431419\n",
      "\n",
      "|========== Performance ==========|\n",
      "R-Sqr on Seasons 2014 to 2016: 0.0963872329005\n",
      "Train Data Size: 322\n",
      "Test Data Size:145\n"
     ]
    }
   ],
   "source": [
    "PassTDAttRatio = create_model(players, 'WR', 'PassTDAttRatio', \n",
    "                           ['PassTDAttRatio', 'OffPassYrdsPerGame', 'OffPointsPerGame'], \n",
    "                   game_limit=12, test_cutoff=2014, add_limits={'PassAttPerGame': 4}, interacts=[(0,0), (0,3), (0,1)])\n",
    "ModelsWR.add_model('PassTDAttRatio', PassTDAttRatio)"
   ]
  },
  {
   "cell_type": "markdown",
   "metadata": {},
   "source": [
    "#### Secondary Stats"
   ]
  },
  {
   "cell_type": "code",
   "execution_count": 420,
   "metadata": {
    "collapsed": false
   },
   "outputs": [
    {
     "name": "stdout",
     "output_type": "stream",
     "text": [
      "|=== Predicting AvgRushYrds ===|\n",
      "\n",
      "|====== Model Coefficients ======|\n",
      "PSAvgRushYrds: 0.147727772425\n",
      "PSRushAttPerGame: 3.52344002527\n",
      "PSOffRushYrdsPerGame: -0.0181129923799\n",
      "Intercept: 4.03411535313\n",
      "\n",
      "|========== Performance ==========|\n",
      "R-Sqr on Seasons 2014 to 2016: 0.0773486183827\n",
      "Train Data Size: 486\n",
      "Test Data Size:228\n"
     ]
    }
   ],
   "source": [
    "ModelsWR.create_model(players, 'AvgRushYrds', ['AvgRushYrds', 'RushAttPerGame', 'OffRushYrdsPerGame'], \n",
    "                      game_limit=12, test_cutoff=2014, add_limits={})"
   ]
  },
  {
   "cell_type": "code",
   "execution_count": 421,
   "metadata": {
    "collapsed": false,
    "scrolled": true
   },
   "outputs": [
    {
     "name": "stdout",
     "output_type": "stream",
     "text": [
      "|=== Predicting RushAttPerGame ===|\n",
      "\n",
      "|====== Model Coefficients ======|\n",
      "PSRushAttPerGame: 0.983191135993\n",
      "PSRushAttPerGame*PSRushAttPerGame: -0.105245457362\n",
      "Intercept: 0.00850077169574\n",
      "\n",
      "|========== Performance ==========|\n",
      "R-Sqr on Seasons 2014 to 2016: 0.480727395623\n",
      "Train Data Size: 486\n",
      "Test Data Size:228\n"
     ]
    }
   ],
   "source": [
    "ModelsWR.create_model(players, 'RushAttPerGame', ['RushAttPerGame'], \n",
    "                      game_limit=12, test_cutoff=2014, add_limits={}, interacts=[(0,0)])"
   ]
  },
  {
   "cell_type": "code",
   "execution_count": null,
   "metadata": {
    "collapsed": false
   },
   "outputs": [],
   "source": [
    "# static RushTDAttRatio for WRs"
   ]
  },
  {
   "cell_type": "code",
   "execution_count": null,
   "metadata": {
    "collapsed": false
   },
   "outputs": [],
   "source": [
    "PredictWR = ModelsWR.predict_df(players[players.Position == 'WR'])\n",
    "WR2015 = PredictWR[PredictWR.Season == '2015'][['Player', 'Season', 'Team', 'AvgPassYrds', \n",
    "            'PredAvgPassYrds', 'PassAttPerGame', 'PredPassAttPerGame']]\n",
    "WR2016 = PredictWR[PredictWR.Season == '2016'][['Player', 'Season', 'Team', 'AvgPassYrds', 'PassAttPerGame']]\n",
    "WR2016.columns = ['Player', 'Season', 'Team', '2016AvgPassYrds', '2016PassAttPerGame']\n",
    "PredictWR2016 = pd.merge(WR2015, WR2016, on=('Player', 'Team'))\n",
    "PredictWR2016 = PredictWR2016[['Player', 'Team', 'PredAvgPassYrds', '2016AvgPassYrds', 'PredPassAttPerGame', '2016PassAttPerGame']].sort(columns=('2016AvgPassYrds'), ascending=False)\n",
    "PredictWR2016['PredPassYrds'] = PredictWR2016.apply(predict_total_pass, axis=1)\n",
    "PredictWR2016['2016PassYrds'] = PredictWR2016.apply(actual_total_pass, axis=1)\n",
    "PredictWR2016 = PredictWR2016.sort(columns=('PredPassYrds'), ascending=False)\n",
    "print('Total Correlation:')\n",
    "print(PredictWR2016[['Player', 'PredPassYrds', '2016PassYrds']].corr())\n",
    "print('Top 15 Correlation:')\n",
    "print(PredictWR2016[['Player', 'PredPassYrds', '2016PassYrds']][:15].corr())\n",
    "#PredictWR2016[['Player', 'PredPassYrds', '2016PassYrds']]"
   ]
  },
  {
   "cell_type": "markdown",
   "metadata": {},
   "source": [
    "#### Current Metrics\n",
    "\n",
    "Total: 0.739\n",
    "\n",
    "Top 15: 0.48"
   ]
  },
  {
   "cell_type": "markdown",
   "metadata": {},
   "source": [
    "## Tight Ends"
   ]
  },
  {
   "cell_type": "code",
   "execution_count": 422,
   "metadata": {
    "collapsed": true
   },
   "outputs": [],
   "source": [
    "ModelsTE = PositionModels('TE')"
   ]
  },
  {
   "cell_type": "markdown",
   "metadata": {},
   "source": [
    "#### Primary Stats"
   ]
  },
  {
   "cell_type": "code",
   "execution_count": 423,
   "metadata": {
    "collapsed": false
   },
   "outputs": [
    {
     "name": "stdout",
     "output_type": "stream",
     "text": [
      "|=== Predicting AvgPassYrds ===|\n",
      "\n",
      "|====== Model Coefficients ======|\n",
      "PSAvgPassYrds: 0.276619249957\n",
      "Intercept: 5.42182785496\n",
      "\n",
      "|========== Performance ==========|\n",
      "R-Sqr on Seasons 2014 to 2016: 0.101981319253\n",
      "Train Data Size: 108\n",
      "Test Data Size:53\n"
     ]
    }
   ],
   "source": [
    "ModelsTE.create_model(players, 'AvgPassYrds', ['AvgPassYrds'], \n",
    "                      game_limit=12, test_cutoff=2014, add_limits={'PassAttPerGame': 4}, interacts=[])"
   ]
  },
  {
   "cell_type": "code",
   "execution_count": 424,
   "metadata": {
    "collapsed": false
   },
   "outputs": [
    {
     "name": "stdout",
     "output_type": "stream",
     "text": [
      "|=== Predicting PassAttPerGame ===|\n",
      "\n",
      "|====== Model Coefficients ======|\n",
      "PSPassAttPerGame: 0.261182571605\n",
      "PSOffPassYrdsPerGame: 0.00687205792516\n",
      "PSGamesPlayedPercent: -0.307633412213\n",
      "PSPassAttPerGame*PSGamesPlayedPercent: 0.29136443834\n",
      "Intercept: 1.32734612382\n",
      "\n",
      "|========== Performance ==========|\n",
      "R-Sqr on Seasons 2014 to 2016: 0.446777129779\n",
      "Train Data Size: 178\n",
      "Test Data Size:80\n"
     ]
    }
   ],
   "source": [
    "ModelsTE.create_model(players, 'PassAttPerGame', ['PassAttPerGame', 'OffPassYrdsPerGame', 'GamesPlayedPercent'], \n",
    "                      game_limit=12, test_cutoff=2014, add_limits={'PassAttPerGame': 2}, interacts=[(0,2)])"
   ]
  },
  {
   "cell_type": "code",
   "execution_count": 425,
   "metadata": {
    "collapsed": false,
    "scrolled": true
   },
   "outputs": [
    {
     "name": "stdout",
     "output_type": "stream",
     "text": [
      "|=== Predicting PassTDAttRatio ===|\n",
      "\n",
      "|====== Model Coefficients ======|\n",
      "PSPassTDAttRatio: 0.21132866975\n",
      "Intercept: 0.041303701398\n",
      "\n",
      "|========== Performance ==========|\n",
      "R-Sqr on Seasons 2014 to 2016: 0.0761600670352\n",
      "Train Data Size: 108\n",
      "Test Data Size:53\n"
     ]
    }
   ],
   "source": [
    "ModelsTE.create_model(players, 'PassTDAttRatio', ['PassTDAttRatio'], \n",
    "                      game_limit=12, test_cutoff=2014, add_limits={'PassAttPerGame': 4}, interacts=[])"
   ]
  },
  {
   "cell_type": "code",
   "execution_count": 426,
   "metadata": {
    "collapsed": false
   },
   "outputs": [
    {
     "name": "stdout",
     "output_type": "stream",
     "text": [
      "|=== Predicting AvgRushYrds ===|\n",
      "\n",
      "|====== Model Coefficients ======|\n",
      "PSAvgRushYrds: 0.106086642053\n",
      "Intercept: 0.353413684091\n",
      "\n",
      "|========== Performance ==========|\n",
      "R-Sqr on Seasons 2014 to 2016: 0.0255345646289\n",
      "Train Data Size: 108\n",
      "Test Data Size:53\n"
     ]
    }
   ],
   "source": [
    "ModelsTE.create_model(players, 'AvgRushYrds', ['AvgRushYrds'], \n",
    "                      game_limit=12, test_cutoff=2014, add_limits={'PassAttPerGame': 4}, interacts=[])"
   ]
  },
  {
   "cell_type": "code",
   "execution_count": 427,
   "metadata": {
    "collapsed": false
   },
   "outputs": [
    {
     "name": "stdout",
     "output_type": "stream",
     "text": [
      "|=== Predicting RushAttPerGame ===|\n",
      "\n",
      "|====== Model Coefficients ======|\n",
      "PSRushAttPerGame: 0.607057579655\n",
      "Intercept: 0.00724529774755\n",
      "\n",
      "|========== Performance ==========|\n",
      "R-Sqr on Seasons 2014 to 2016: 0.105662979561\n",
      "Train Data Size: 108\n",
      "Test Data Size:53\n"
     ]
    }
   ],
   "source": [
    "ModelsTE.create_model(players, 'RushAttPerGame', ['RushAttPerGame'], \n",
    "                      game_limit=12, test_cutoff=2014, add_limits={'PassAttPerGame': 4}, interacts=[])"
   ]
  },
  {
   "cell_type": "code",
   "execution_count": 395,
   "metadata": {
    "collapsed": false,
    "scrolled": true
   },
   "outputs": [
    {
     "ename": "NameError",
     "evalue": "name 'ModelsTE' is not defined",
     "output_type": "error",
     "traceback": [
      "\u001b[1;31m---------------------------------------------------------------------------\u001b[0m",
      "\u001b[1;31mNameError\u001b[0m                                 Traceback (most recent call last)",
      "\u001b[1;32m<ipython-input-395-0b0d767b841e>\u001b[0m in \u001b[0;36m<module>\u001b[1;34m()\u001b[0m\n\u001b[1;32m----> 1\u001b[1;33m \u001b[0mPredictTE\u001b[0m \u001b[1;33m=\u001b[0m \u001b[0mModelsTE\u001b[0m\u001b[1;33m.\u001b[0m\u001b[0mpredict_df\u001b[0m\u001b[1;33m(\u001b[0m\u001b[0mplayers\u001b[0m\u001b[1;33m[\u001b[0m\u001b[0mplayers\u001b[0m\u001b[1;33m.\u001b[0m\u001b[0mPosition\u001b[0m \u001b[1;33m==\u001b[0m \u001b[1;34m'TE'\u001b[0m\u001b[1;33m]\u001b[0m\u001b[1;33m)\u001b[0m\u001b[1;33m\u001b[0m\u001b[0m\n\u001b[0m\u001b[0;32m      2\u001b[0m TE2015 = PredictTE[PredictTE.Season == '2015'][['Player', 'Season', 'Team', 'AvgPassYrds', \n\u001b[0;32m      3\u001b[0m             'PredAvgPassYrds', 'PassAttPerGame', 'PredPassAttPerGame']]\n\u001b[0;32m      4\u001b[0m \u001b[0mTE2016\u001b[0m \u001b[1;33m=\u001b[0m \u001b[0mPredictTE\u001b[0m\u001b[1;33m[\u001b[0m\u001b[0mPredictTE\u001b[0m\u001b[1;33m.\u001b[0m\u001b[0mSeason\u001b[0m \u001b[1;33m==\u001b[0m \u001b[1;34m'2016'\u001b[0m\u001b[1;33m]\u001b[0m\u001b[1;33m[\u001b[0m\u001b[1;33m[\u001b[0m\u001b[1;34m'Player'\u001b[0m\u001b[1;33m,\u001b[0m \u001b[1;34m'Season'\u001b[0m\u001b[1;33m,\u001b[0m \u001b[1;34m'Team'\u001b[0m\u001b[1;33m,\u001b[0m \u001b[1;34m'AvgPassYrds'\u001b[0m\u001b[1;33m,\u001b[0m \u001b[1;34m'PassAttPerGame'\u001b[0m\u001b[1;33m]\u001b[0m\u001b[1;33m]\u001b[0m\u001b[1;33m\u001b[0m\u001b[0m\n\u001b[0;32m      5\u001b[0m \u001b[0mTE2016\u001b[0m\u001b[1;33m.\u001b[0m\u001b[0mcolumns\u001b[0m \u001b[1;33m=\u001b[0m \u001b[1;33m[\u001b[0m\u001b[1;34m'Player'\u001b[0m\u001b[1;33m,\u001b[0m \u001b[1;34m'Season'\u001b[0m\u001b[1;33m,\u001b[0m \u001b[1;34m'Team'\u001b[0m\u001b[1;33m,\u001b[0m \u001b[1;34m'2016AvgPassYrds'\u001b[0m\u001b[1;33m,\u001b[0m \u001b[1;34m'2016PassAttPerGame'\u001b[0m\u001b[1;33m]\u001b[0m\u001b[1;33m\u001b[0m\u001b[0m\n",
      "\u001b[1;31mNameError\u001b[0m: name 'ModelsTE' is not defined"
     ]
    }
   ],
   "source": [
    "PredictTE = ModelsTE.predict_df(players[players.Position == 'TE'])\n",
    "TE2015 = PredictTE[PredictTE.Season == '2015'][['Player', 'Season', 'Team', 'AvgPassYrds', \n",
    "            'PredAvgPassYrds', 'PassAttPerGame', 'PredPassAttPerGame']]\n",
    "TE2016 = PredictTE[PredictTE.Season == '2016'][['Player', 'Season', 'Team', 'AvgPassYrds', 'PassAttPerGame']]\n",
    "TE2016.columns = ['Player', 'Season', 'Team', '2016AvgPassYrds', '2016PassAttPerGame']\n",
    "PredictTE2016 = pd.merge(TE2015, TE2016, on=('Player', 'Team'))\n",
    "PredictTE2016 = PredictTE2016[['Player', 'Team', 'PredAvgPassYrds', '2016AvgPassYrds', 'PredPassAttPerGame', '2016PassAttPerGame']].sort(columns=('2016AvgPassYrds'), ascending=False)\n",
    "PredictTE2016['PredPassYrds'] = PredictTE2016.apply(predict_total_pass, axis=1)\n",
    "PredictTE2016['2016PassYrds'] = PredictTE2016.apply(actual_total_pass, axis=1)\n",
    "PredictTE2016 = PredictTE2016.sort(columns=('PredPassYrds'), ascending=False)\n",
    "print('Total Correlation:')\n",
    "print(PredictTE2016[['Player', 'PredPassYrds', '2016PassYrds']].corr())\n",
    "print('Top 15 Correlation:')\n",
    "print(PredictTE2016[['Player', 'PredPassYrds', '2016PassYrds']][:15].corr())\n",
    "PredictTE2016[['Player', 'PredPassYrds', '2016PassYrds']]"
   ]
  },
  {
   "cell_type": "markdown",
   "metadata": {},
   "source": [
    "## Adding Depth Chart Info"
   ]
  },
  {
   "cell_type": "code",
   "execution_count": 2,
   "metadata": {
    "collapsed": true
   },
   "outputs": [],
   "source": [
    "conn = sqlite3.connect('fantasy.db')\n",
    "c = conn.cursor()"
   ]
  },
  {
   "cell_type": "code",
   "execution_count": 3,
   "metadata": {
    "collapsed": false,
    "scrolled": true
   },
   "outputs": [
    {
     "ename": "OperationalError",
     "evalue": "duplicate column name: Rank",
     "output_type": "error",
     "traceback": [
      "\u001b[1;31m---------------------------------------------------------------------------\u001b[0m",
      "\u001b[1;31mOperationalError\u001b[0m                          Traceback (most recent call last)",
      "\u001b[1;32m<ipython-input-3-ecad950c8857>\u001b[0m in \u001b[0;36m<module>\u001b[1;34m()\u001b[0m\n\u001b[1;32m----> 1\u001b[1;33m \u001b[0mc\u001b[0m\u001b[1;33m.\u001b[0m\u001b[0mexecute\u001b[0m\u001b[1;33m(\u001b[0m\u001b[1;34m'ALTER TABLE PlayerSeason ADD Rank INT'\u001b[0m\u001b[1;33m)\u001b[0m\u001b[1;33m\u001b[0m\u001b[0m\n\u001b[0m",
      "\u001b[1;31mOperationalError\u001b[0m: duplicate column name: Rank"
     ]
    }
   ],
   "source": [
    "c.execute('ALTER TABLE PlayerSeason ADD Rank INT')"
   ]
  },
  {
   "cell_type": "code",
   "execution_count": 3,
   "metadata": {
    "collapsed": false
   },
   "outputs": [
    {
     "ename": "OperationalError",
     "evalue": "duplicate column name: PrevRank",
     "output_type": "error",
     "traceback": [
      "\u001b[1;31m---------------------------------------------------------------------------\u001b[0m",
      "\u001b[1;31mOperationalError\u001b[0m                          Traceback (most recent call last)",
      "\u001b[1;32m<ipython-input-3-1672e156c323>\u001b[0m in \u001b[0;36m<module>\u001b[1;34m()\u001b[0m\n\u001b[1;32m----> 1\u001b[1;33m \u001b[0mc\u001b[0m\u001b[1;33m.\u001b[0m\u001b[0mexecute\u001b[0m\u001b[1;33m(\u001b[0m\u001b[1;34m'ALTER TABLe PlayerSeason ADD PrevRank INT'\u001b[0m\u001b[1;33m)\u001b[0m\u001b[1;33m\u001b[0m\u001b[0m\n\u001b[0m",
      "\u001b[1;31mOperationalError\u001b[0m: duplicate column name: PrevRank"
     ]
    }
   ],
   "source": [
    "c.execute('ALTER TABLe PlayerSeason ADD PrevRank INT')"
   ]
  },
  {
   "cell_type": "code",
   "execution_count": 4,
   "metadata": {
    "collapsed": false,
    "scrolled": true
   },
   "outputs": [
    {
     "data": {
      "text/plain": [
       "<sqlite3.Cursor at 0x94d9b20>"
      ]
     },
     "execution_count": 4,
     "metadata": {},
     "output_type": "execute_result"
    }
   ],
   "source": [
    "c.execute('''\n",
    "    UPDATE PlayerSeason \n",
    "    SET Rank = (SELECT Roster.Rank FROM Roster \n",
    "        WHERE REPLACE(PlayerSeason.Player, \\'.\\', \\'\\') = REPLACE(Roster.Player, \\'.\\', \\'\\') \n",
    "        COLLATE NOCASE AND PlayerSeason.Season = Roster.Season\n",
    "        AND PlayerSeason.Team = Roster.Team AND PlayerSeason.Position = Roster.Position)\n",
    "    ''')"
   ]
  },
  {
   "cell_type": "code",
   "execution_count": 19,
   "metadata": {
    "collapsed": false,
    "scrolled": true
   },
   "outputs": [
    {
     "name": "stdout",
     "output_type": "stream",
     "text": [
      "('Joe Banyard', 'MIN', 14, 28, 8, 43, 0, 6, 6, 42, 0, 0, 0, 'RB', '2014', 3, None)\n",
      "('James Hanna', 'DAL', 11, 18, 0, 0, 0, 11, 8, 86, 0, 0, 0, 'TE', '2012', 3, None)\n",
      "('Chaz Schilens', 'OAK', 33, 18, 1, -2, 0, 32, 17, 236, 2, 0, 0, 'WR', '2008', 1, None)\n",
      "('Zach Miller', 'OAK', 86, 18, 0, 0, 0, 86, 64, 902, 1, 0, 0, 'TE', '2008', 1, 1)\n",
      "('Jerricho Cotchery', 'NYJ', 113, 17, 2, 8, 0, 111, 72, 858, 5, 1, 0, 'WR', '2008', 1, 1)\n",
      "('Davone Bess', 'MIA', 76, 17, 1, 13, 0, 75, 57, 604, 1, 0, 0, 'WR', '2008', 1, None)\n",
      "('Thomas Jones', 'NYJ', 356, 17, 314, 1471, 13, 42, 37, 207, 2, 1, 0, 'RB', '2008', 1, 1)\n",
      "('Ronnie Brown', 'MIA', 276, 17, 230, 1017, 10, 43, 34, 265, 0, 2, 0, 'RB', '2008', 1, 4)\n",
      "('Leon Washington', 'NYJ', 141, 17, 79, 467, 7, 62, 50, 376, 2, 2, 0, 'RB', '2008', 2, 2)\n",
      "('Ricky Williams', 'MIA', 212, 17, 173, 708, 4, 39, 31, 225, 1, 2, 0, 'RB', '2008', 2, None)\n",
      "('Patrick Cobbs', 'MIA', 42, 17, 15, 111, 2, 27, 22, 291, 2, 0, 0, 'RB', '2008', 3, 2)\n",
      "('Anthony Fasano', 'MIA', 53, 17, 0, 0, 0, 53, 34, 454, 7, 0, 0, 'TE', '2008', 1, None)\n",
      "('Dustin Keller', 'NYJ', 78, 17, 0, 0, 0, 78, 49, 541, 3, 0, 0, 'TE', '2008', 3, None)\n",
      "('David Martin', 'MIA', 45, 17, 0, 0, 0, 45, 32, 456, 3, 1, 0, 'TE', '2008', 2, 1)\n",
      "('Aaron Rodgers', 'GB', 677, 16, 67, 369, 4, 610, 401, 4428, 40, 4, 7, 'QB', '2016', 1, 1)\n",
      "('Drew Brees', 'NO', 696, 16, 23, 20, 2, 673, 471, 5208, 37, 4, 15, 'QB', '2016', 1, 1)\n",
      "('Matt Ryan', 'ATL', 569, 16, 35, 117, 0, 534, 373, 4944, 38, 2, 7, 'QB', '2016', 1, 1)\n",
      "('Kirk Cousins', 'WAS', 640, 16, 34, 96, 4, 606, 406, 4917, 25, 3, 12, 'QB', '2016', 1, 1)\n",
      "('Philip Rivers', 'LAC', 592, 16, 14, 35, 0, 578, 349, 4386, 33, 5, 21, 'QB', '2016', 1, 1)\n",
      "('Matthew Stafford', 'DET', 632, 16, 37, 207, 2, 594, 388, 4327, 24, 2, 10, 'QB', '2016', 1, 1)\n",
      "('Blake Bortles', 'JAC', 684, 16, 58, 359, 3, 625, 368, 3905, 23, 6, 16, 'QB', '2016', 1, 1)\n",
      "('Dak Prescott', 'DAL', 516, 16, 57, 282, 6, 459, 311, 3667, 23, 4, 4, 'QB', '2016', 1, None)\n",
      "('Jameis Winston', 'TB', 620, 16, 53, 165, 1, 567, 345, 4090, 28, 6, 18, 'QB', '2016', 1, 1)\n",
      "('Russell Wilson', 'SEA', 620, 16, 72, 259, 1, 546, 353, 4219, 21, 2, 11, 'QB', '2016', 1, 1)\n",
      "('Andy Dalton', 'CIN', 609, 16, 46, 184, 4, 563, 364, 4206, 18, 3, 8, 'QB', '2016', 1, 1)\n",
      "('Joe Flacco', 'BAL', 693, 16, 21, 58, 2, 672, 436, 4317, 20, 3, 15, 'QB', '2016', 1, 1)\n",
      "('Eli Manning', 'NYG', 619, 16, 21, -9, 0, 598, 377, 4027, 26, 4, 16, 'QB', '2016', 1, 1)\n",
      "('Carson Wentz', 'PHI', 654, 16, 46, 150, 2, 607, 379, 3782, 16, 3, 14, 'QB', '2016', 1, None)\n",
      "('Jordy Nelson', 'GB', 152, 16, 0, 0, 0, 152, 97, 1257, 14, 1, 0, 'WR', '2016', 1, None)\n",
      "('Mike Evans', 'TB', 173, 16, 0, 0, 0, 173, 96, 1321, 12, 0, 0, 'WR', '2016', 1, 1)\n",
      "('Odell Beckham Jr', 'NYG', 170, 16, 1, 9, 0, 169, 101, 1367, 10, 1, 0, 'WR', '2016', 1, 1)\n",
      "('T.Y. Hilton', 'IND', 155, 16, 0, 0, 0, 155, 91, 1448, 6, 0, 0, 'WR', '2016', 1, 1)\n",
      "('Davante Adams', 'GB', 121, 16, 0, 0, 0, 121, 75, 997, 12, 1, 0, 'WR', '2016', 2, 1)\n",
      "('Brandin Cooks', 'NO', 123, 16, 6, 30, 0, 117, 78, 1173, 8, 0, 0, 'WR', '2016', 1, 1)\n",
      "('Doug Baldwin', 'SEA', 129, 16, 3, 2, 0, 125, 94, 1128, 7, 0, 0, 'WR', '2016', 1, 1)\n",
      "('Rishard Matthews', 'TEN', 108, 16, 0, 0, 0, 108, 65, 945, 9, 1, 0, 'WR', '2016', 1, None)\n",
      "('Michael Crabtree', 'OAK', 145, 16, 0, 0, 0, 145, 89, 1003, 8, 0, 0, 'WR', '2016', 1, 1)\n",
      "('Tyrell Williams', 'LAC', 119, 16, 0, 0, 0, 119, 69, 1059, 7, 0, 0, 'WR', '2016', 2, None)\n",
      "('Amari Cooper', 'OAK', 133, 16, 1, 0, 0, 132, 83, 1153, 5, 0, 0, 'WR', '2016', 1, 1)\n",
      "('Tyreek Hill', 'KC', 107, 16, 24, 267, 3, 83, 61, 593, 6, 1, 0, 'WR', '2016', 2, None)\n",
      "('Jarvis Landry', 'MIA', 137, 16, 5, 17, 0, 131, 94, 1136, 4, 2, 0, 'WR', '2016', 1, 1)\n",
      "('Larry Fitzgerald', 'ARI', 153, 16, 2, 5, 0, 150, 107, 1023, 6, 1, 0, 'WR', '2016', 1, 1)\n",
      "('Demaryius Thomas', 'DEN', 144, 16, 0, 0, 0, 144, 90, 1083, 5, 2, 0, 'WR', '2016', 1, 1)\n",
      "('Kelvin Benjamin', 'CAR', 118, 16, 0, 0, 0, 118, 63, 941, 7, 1, 0, 'WR', '2016', 1, None)\n",
      "('Julian Edelman', 'NE', 171, 16, 12, 57, 0, 159, 98, 1106, 3, 2, 0, 'WR', '2016', 1, 1)\n",
      "('Emmanuel Sanders', 'DEN', 138, 16, 1, 4, 0, 137, 79, 1032, 5, 0, 0, 'WR', '2016', 1, 1)\n",
      "('Golden Tate', 'DET', 145, 16, 10, 4, 0, 135, 91, 1077, 4, 1, 0, 'WR', '2016', 1, 1)\n",
      "('Mike Wallace', 'BAL', 121, 16, 5, 31, 0, 116, 72, 1017, 4, 0, 0, 'WR', '2016', 1, None)\n",
      "('Adam Thielen', 'MIN', 94, 16, 2, 15, 0, 92, 69, 967, 5, 1, 0, 'WR', '2016', 2, 2)\n",
      "('Kenny Stills', 'MIA', 81, 16, 0, 0, 0, 81, 42, 726, 9, 0, 0, 'WR', '2016', 1, 1)\n",
      "('Jamison Crowder', 'WAS', 101, 16, 2, -2, 0, 99, 67, 847, 7, 1, 0, 'WR', '2016', 1, 2)\n",
      "('Allen Robinson', 'JAC', 151, 16, 0, 0, 0, 151, 73, 883, 6, 0, 0, 'WR', '2016', 1, 1)\n",
      "('Pierre Garcon', 'WAS', 114, 16, 0, 0, 0, 114, 79, 1041, 3, 0, 0, 'WR', '2016', 1, 1)\n",
      "('Brandon LaFell', 'CIN', 108, 16, 1, -2, 0, 107, 64, 862, 6, 0, 0, 'WR', '2016', 1, None)\n",
      "('DeAndre Hopkins', 'HOU', 151, 16, 0, 0, 0, 151, 78, 954, 4, 0, 0, 'WR', '2016', 1, 1)\n",
      "('Sterling Shepard', 'NYG', 108, 16, 3, 31, 0, 105, 65, 683, 8, 0, 0, 'WR', '2016', 1, None)\n",
      "('Cole Beasley', 'DAL', 100, 16, 1, 7, 0, 98, 75, 833, 5, 0, 0, 'WR', '2016', 2, 3)\n",
      "('Quincy Enunwa', 'NYJ', 106, 16, 1, 12, 0, 105, 58, 857, 4, 0, 0, 'WR', '2016', 1, None)\n",
      "('Marqise Lee', 'JAC', 112, 16, 6, 35, 0, 105, 63, 851, 3, 1, 0, 'WR', '2016', 2, 2)\n",
      "('Anquan Boldin', 'DET', 95, 16, 0, 0, 0, 95, 67, 584, 8, 0, 0, 'WR', '2016', 1, None)\n",
      "('Dontrelle Inman', 'LAC', 97, 16, 0, 0, 0, 97, 58, 810, 4, 0, 0, 'WR', '2016', 1, 2)\n",
      "('Jeremy Kerley', 'SF', 115, 16, 0, 0, 0, 115, 64, 667, 3, 1, 0, 'WR', '2016', 1, None)\n",
      "('Terrance Williams', 'DAL', 61, 16, 0, 0, 0, 61, 44, 594, 4, 1, 0, 'WR', '2016', 1, 1)\n",
      "('Robby Anderson', 'NYJ', 81, 16, 3, 42, 0, 78, 42, 587, 2, 1, 0, 'WR', '2016', 3, None)\n",
      "('Brian Quick', 'LAR', 77, 16, 0, 0, 0, 77, 41, 564, 3, 0, 0, 'WR', '2016', 2, 2)\n",
      "('Tyler Boyd', 'CIN', 85, 16, 4, 58, 0, 81, 54, 603, 1, 1, 0, 'WR', '2016', 2, None)\n",
      "('Seth Roberts', 'OAK', 77, 16, 0, 0, 0, 77, 38, 397, 5, 0, 0, 'WR', '2016', 2, 2)\n",
      "('Breshad Perriman', 'BAL', 67, 16, 1, 2, 0, 66, 33, 499, 3, 0, 0, 'WR', '2016', 2, None)\n",
      "('Tajae Sharpe', 'TEN', 84, 16, 1, 1, 0, 83, 41, 522, 2, 0, 0, 'WR', '2016', 1, None)\n",
      "('Cordarrelle Patterson', 'MIN', 77, 16, 7, 43, 0, 70, 52, 453, 2, 0, 0, 'WR', '2016', 3, 2)\n",
      "('Jermaine Kearse', 'SEA', 89, 16, 0, 0, 0, 89, 41, 510, 1, 0, 0, 'WR', '2016', 1, 1)\n",
      "('Chris Conley', 'KC', 69, 16, 0, 0, 0, 69, 44, 530, 0, 0, 0, 'WR', '2016', 1, 3)\n",
      "('Albert Wilson', 'KC', 53, 16, 2, 50, 1, 51, 31, 279, 2, 0, 0, 'WR', '2016', 2, 1)\n",
      "('Andrew Hawkins', 'CLE', 56, 16, 2, 0, 0, 54, 33, 324, 3, 0, 0, 'WR', '2016', 1, 1)\n",
      "('Brandon Coleman', 'NO', 38, 16, 0, 0, 0, 38, 26, 281, 3, 0, 0, 'WR', '2016', 2, 2)\n",
      "('Justin Hardy', 'ATL', 31, 16, 0, 0, 0, 31, 21, 203, 4, 0, 0, 'WR', '2016', 2, 3)\n",
      "('Aldrick Robinson', 'ATL', 32, 16, 0, 0, 0, 32, 20, 323, 2, 0, 0, 'WR', '2016', 2, None)\n",
      "('Brice Butler', 'DAL', 32, 16, 0, 0, 0, 32, 16, 219, 3, 0, 0, 'WR', '2016', 2, 3)\n",
      "('Kamar Aiken', 'BAL', 50, 16, 0, 0, 0, 50, 29, 328, 1, 0, 0, 'WR', '2016', 2, 1)\n",
      "('Deonte Thompson', 'CHI', 36, 16, 0, 0, 0, 36, 22, 249, 2, 1, 0, 'WR', '2016', 2, None)\n",
      "('Jordan Taylor', 'DEN', 25, 16, 0, 0, 0, 25, 16, 209, 2, 1, 0, 'WR', '2016', 3, None)\n",
      "('Rod Streater', 'SF', 27, 16, 0, 0, 0, 27, 18, 191, 2, 0, 0, 'WR', '2016', 2, None)\n",
      "('Andre Holmes', 'OAK', 25, 16, 0, 0, 0, 25, 14, 126, 3, 0, 0, 'WR', '2016', 2, 3)\n",
      "('Jeff Janis', 'GB', 21, 16, 2, 38, 1, 19, 11, 93, 1, 0, 0, 'WR', '2016', 3, 2)\n",
      "('Andre Roberts', 'DET', 25, 16, 0, 0, 0, 25, 14, 188, 1, 1, 0, 'WR', '2016', 2, None)\n",
      "('Charles Johnson', 'MIN', 37, 16, 0, 0, 0, 37, 20, 232, 0, 0, 0, 'WR', '2016', 1, 1)\n",
      "('Ricardo Louis', 'CLE', 36, 16, 0, 0, 0, 36, 18, 205, 0, 0, 0, 'WR', '2016', 2, None)\n",
      "('Aaron Burbridge', 'SF', 16, 16, 0, 0, 0, 16, 7, 88, 0, 1, 0, 'WR', '2016', 2, None)\n",
      "('Rashard Higgins', 'CLE', 12, 16, 0, 0, 0, 12, 6, 77, 0, 0, 0, 'WR', '2016', 2, None)\n",
      "('Ryan Grant', 'WAS', 19, 16, 0, 0, 0, 19, 9, 76, 0, 0, 0, 'WR', '2016', 2, 1)\n",
      "('Dwayne Harris', 'NYG', 1, 16, 0, 0, 0, 1, 1, 13, 1, 1, 0, 'WR', '2016', 2, 1)\n",
      "('Alex Erickson', 'CIN', 8, 16, 0, 0, 0, 8, 6, 71, 0, 0, 0, 'WR', '2016', 3, None)\n",
      "('Marc Mariani', 'TEN', 1, 16, 1, 15, 0, 0, 0, 0, 0, 0, 0, 'WR', '2016', 3, None)\n",
      "('Jakeem Grant', 'MIA', 2, 16, 1, 1, 0, 1, 0, 0, 0, 1, 0, 'WR', '2016', 2, None)\n",
      "('David Johnson', 'ARI', 413, 16, 293, 1239, 16, 120, 80, 879, 4, 3, 0, 'RB', '2016', 1, 2)\n",
      "('DeMarco Murray', 'TEN', 362, 16, 293, 1287, 9, 67, 53, 377, 3, 1, 0, 'RB', '2016', 1, None)\n",
      "('Devonta Freeman', 'ATL', 292, 16, 227, 1079, 11, 65, 54, 462, 2, 1, 0, 'RB', '2016', 1, 1)\n",
      "('LeGarrette Blount', 'NE', 307, 16, 299, 1161, 18, 8, 7, 38, 0, 1, 0, 'RB', '2016', 1, 1)\n",
      "('Mark Ingram', 'NO', 263, 16, 205, 1043, 6, 58, 46, 319, 4, 2, 0, 'RB', '2016', 1, 1)\n",
      "('Frank Gore', 'IND', 310, 16, 263, 1025, 4, 47, 38, 277, 4, 1, 0, 'RB', '2016', 1, 1)\n"
     ]
    }
   ],
   "source": [
    "n = 0\n",
    "for row in c.execute('SELECT * FROM PlayerSeason WHERE Rank IS NOT NULL ORDER BY Games DESC, Season DESC'):\n",
    "    print(row)\n",
    "    n += 1\n",
    "    if n == 100:\n",
    "        break"
   ]
  },
  {
   "cell_type": "code",
   "execution_count": 13,
   "metadata": {
    "collapsed": false
   },
   "outputs": [
    {
     "name": "stdout",
     "output_type": "stream",
     "text": [
      "('David Johnson', 'ARI', 'RB', '2015', 2)\n",
      "('David Johnson', 'ARI', 'RB', '2016', 1)\n",
      "('David Johnson', 'LAC', 'TE', '2014', 2)\n",
      "('David Johnson', 'LAC', 'TE', '2015', 1)\n",
      "('David Johnson', 'PIT', 'TE', '2009', 3)\n",
      "('David Johnson', 'PIT', 'TE', '2016', 2)\n"
     ]
    }
   ],
   "source": [
    "for row in c.execute('SELECT * FROM Roster WHERE Player = \\'David Johnson\\''):\n",
    "    print(row)"
   ]
  },
  {
   "cell_type": "code",
   "execution_count": 17,
   "metadata": {
    "collapsed": false,
    "scrolled": false
   },
   "outputs": [
    {
     "name": "stdout",
     "output_type": "stream",
     "text": [
      "('Tyreek Hill', 'KC', 'WR', '2016', 2)\n"
     ]
    }
   ],
   "source": [
    "for row in c.execute('SELECT * FROM Roster WHERE Player LIKE \\'%Tyreek Hill%\\''):\n",
    "    print(row)"
   ]
  },
  {
   "cell_type": "code",
   "execution_count": 6,
   "metadata": {
    "collapsed": true
   },
   "outputs": [],
   "source": [
    "conn.commit()"
   ]
  },
  {
   "cell_type": "code",
   "execution_count": 87,
   "metadata": {
    "collapsed": true
   },
   "outputs": [],
   "source": [
    "conn.close()"
   ]
  },
  {
   "cell_type": "markdown",
   "metadata": {},
   "source": [
    "#### Rank Difference Feature\n",
    "\n",
    "Adding a feature of player's rank change since his previous season"
   ]
  },
  {
   "cell_type": "code",
   "execution_count": 14,
   "metadata": {
    "collapsed": false
   },
   "outputs": [
    {
     "data": {
      "text/plain": [
       "<sqlite3.Cursor at 0x94d9b20>"
      ]
     },
     "execution_count": 14,
     "metadata": {},
     "output_type": "execute_result"
    }
   ],
   "source": [
    "sql_input = '''UPDATE PlayerSeason\n",
    "                SET PrevRank = \n",
    "                    (SELECT Rank FROM PlayerSeason p2 \n",
    "                    WHERE p2.Player = PlayerSeason.Player AND \n",
    "                    p2.Team = PlayerSeason.Team AND\n",
    "                    p2.Position = PlayerSeason.Position AND \n",
    "                    CAST(PlayerSeason.Season AS DECIMAL)-1 = CAST(p2.Season AS DECIMAL))'''\n",
    "\n",
    "c.execute(sql_input)"
   ]
  },
  {
   "cell_type": "code",
   "execution_count": 11,
   "metadata": {
    "collapsed": true
   },
   "outputs": [],
   "source": [
    "conn.commit()"
   ]
  },
  {
   "cell_type": "markdown",
   "metadata": {},
   "source": [
    "## Predicting Games Played"
   ]
  },
  {
   "cell_type": "code",
   "execution_count": 350,
   "metadata": {
    "collapsed": false,
    "scrolled": false
   },
   "outputs": [],
   "source": [
    "rank_lbls = player_lbls + ['Rank', 'PrevRank']\n",
    "rank_df = select_to_df('fantasy.db', 'PlayerSeason', rank_lbls, where='WHERE Season > 2007')\n",
    "rank_df = add_features(rank_df)"
   ]
  },
  {
   "cell_type": "markdown",
   "metadata": {},
   "source": [
    "Because the number of fourth and fifth strings are so low, and because I'm planning to treat ranks and rank differences as categorical variables, I'm forcing every fourth and fifth string to be considered a third string."
   ]
  },
  {
   "cell_type": "code",
   "execution_count": 351,
   "metadata": {
    "collapsed": false
   },
   "outputs": [],
   "source": [
    "def rank_fix(row, col):\n",
    "    if row[col] == 5 or row[col] == 4:\n",
    "        return 3\n",
    "    \n",
    "    if row[col] is None:\n",
    "        return 'Bench'\n",
    "    \n",
    "    return row[col]\n",
    "\n",
    "rank_df['Rank'] = rank_df.apply(rank_fix, args=('Rank',), axis=1)\n",
    "rank_df['PrevRank'] = rank_df.apply(rank_fix, args=('PrevRank',), axis=1)"
   ]
  },
  {
   "cell_type": "markdown",
   "metadata": {},
   "source": [
    "The first plan is to treat the combination of (Rank, PrevRank) as a categorical variable. This is because I wanted the best way of finding an interaction between the two, which is difficult to do in the standard mathematical way as the difference between the two does not include information about the player's current season rank. For example, if I just took the rank difference, then the model would see no difference from a 3rd string going to 2nd string and a 2nd string going to 1st string, which should be different behaviors. It seems above that I have just enough data available to where this might work."
   ]
  },
  {
   "cell_type": "code",
   "execution_count": 352,
   "metadata": {
    "collapsed": false
   },
   "outputs": [],
   "source": [
    "def rank_change(row):\n",
    "    return '('+str(row['PrevRank']).replace('.0', '')+' -> '+str(row['Rank']).replace('.0', '')+')'\n",
    "\n",
    "rank_df['RankChange'] = rank_df.apply(rank_change, axis=1)"
   ]
  },
  {
   "cell_type": "code",
   "execution_count": 360,
   "metadata": {
    "collapsed": false,
    "scrolled": false
   },
   "outputs": [
    {
     "name": "stdout",
     "output_type": "stream",
     "text": [
      "|=== Predicting GamesPlayedPercent ===|\n",
      "\n",
      "|====== Model Coefficients ======|\n",
      "PSGamesPlayedPercent: 1.5\n",
      "(1 -> 1): 0.377361898717\n",
      "(1 -> 2): 0.286483455922\n",
      "(1 -> 3): 0.00538524705777\n",
      "(1 -> Bench): 1.16727049296\n",
      "(2 -> 1): -0.334669162213\n",
      "(2 -> 2): -0.144074691811\n",
      "(2 -> 3): 0.0378062072451\n",
      "(2 -> Bench): -0.103265221326\n",
      "(3 -> 1): -0.292742947901\n",
      "(3 -> 2): 0.247862598223\n",
      "(3 -> 3): -0.170229507041\n",
      "(3 -> Bench): -0.442183976613\n",
      "(Bench -> 1): -0.0282767963747\n",
      "(Bench -> 2): -0.148920451922\n",
      "(Bench -> 3): -0.187577637882\n",
      "(Bench -> Bench): -0.270229507041\n",
      "PSGamesPlayedPercent*(1 -> 1): -1.31956293339\n",
      "PSGamesPlayedPercent*(1 -> 2): -1.57407407407\n",
      "PSGamesPlayedPercent*(1 -> 3): -0.327868852459\n",
      "PSGamesPlayedPercent*(1 -> Bench): -9.0\n",
      "PSGamesPlayedPercent*(2 -> 1): -0.575862068966\n",
      "PSGamesPlayedPercent*(2 -> 2): -1.00683090705\n",
      "PSGamesPlayedPercent*(2 -> 3): -1.59523809524\n",
      "PSGamesPlayedPercent*(2 -> Bench): -0.471428571429\n",
      "PSGamesPlayedPercent*(3 -> 1): -0.672043010753\n",
      "PSGamesPlayedPercent*(3 -> 2): -1.86842105263\n",
      "PSGamesPlayedPercent*(3 -> 3): -1.6\n",
      "PSGamesPlayedPercent*(3 -> Bench): -0.0829094956149\n",
      "PSGamesPlayedPercent*(Bench -> 1): -0.898939304655\n",
      "PSGamesPlayedPercent*(Bench -> 2): -0.570866141732\n",
      "PSGamesPlayedPercent*(Bench -> 3): -0.471962616823\n",
      "Intercept: 0.301479507041\n",
      "\n",
      "|========== Performance ==========|\n",
      "R-Sqr on Seasons 2013 to 2016: 0.542842340247\n",
      "Train Data Size: 173\n",
      "Test Data Size:170\n"
     ]
    }
   ],
   "source": [
    "GamesModelQB = create_model(rank_df, 'QB', 'GamesPlayedPercent', \n",
    "                           ['GamesPlayedPercent'], \n",
    "                   game_limit=0, test_cutoff=2013, interacts=[(0,n) for n in range(1,len(rank_df['RankChange'].unique()))], \n",
    "             cat_features=['RankChange'])"
   ]
  },
  {
   "cell_type": "code",
   "execution_count": 361,
   "metadata": {
    "collapsed": false
   },
   "outputs": [
    {
     "name": "stdout",
     "output_type": "stream",
     "text": [
      "|=== Predicting GamesPlayedPercent ===|\n",
      "\n",
      "|====== Model Coefficients ======|\n",
      "PSGamesPlayedPercent: 0.150003835377\n",
      "(1 -> 1): 0.254249846785\n",
      "(1 -> 2): -0.22243351371\n",
      "(1 -> 3): -0.870655198793\n",
      "(1 -> Bench): 0.626055327523\n",
      "(2 -> 1): 0.520792169628\n",
      "(2 -> 2): -0.809801999295\n",
      "(2 -> 3): 0.713215076121\n",
      "(2 -> Bench): 0.423596626025\n",
      "(3 -> 1): -0.818793496665\n",
      "(3 -> 2): -0.114589797949\n",
      "(3 -> 3): -0.0324656970136\n",
      "(3 -> Bench): 0.094700232517\n",
      "(Bench -> 1): -0.360851277224\n",
      "(Bench -> 2): 0.375324924025\n",
      "(Bench -> 3): 0.00429403176803\n",
      "(Bench -> Bench): 0.217362746257\n",
      "PSGamesPlayedPercent*(1 -> 1): -0.0594073217032\n",
      "PSGamesPlayedPercent*(1 -> 2): 0.414913291695\n",
      "PSGamesPlayedPercent*(1 -> 3): 1.84999616462\n",
      "PSGamesPlayedPercent*(1 -> Bench): -1.83421436169\n",
      "PSGamesPlayedPercent*(2 -> 1): -0.360530151166\n",
      "PSGamesPlayedPercent*(2 -> 2): 1.03945664141\n",
      "PSGamesPlayedPercent*(2 -> 3): -0.644849196201\n",
      "PSGamesPlayedPercent*(2 -> Bench): -0.259492886472\n",
      "PSGamesPlayedPercent*(3 -> 1): 0.991840136255\n",
      "PSGamesPlayedPercent*(3 -> 2): 0.398519371374\n",
      "PSGamesPlayedPercent*(3 -> 3): 0.270814669961\n",
      "PSGamesPlayedPercent*(3 -> Bench): 0.220603193377\n",
      "PSGamesPlayedPercent*(Bench -> 1): 0.546074595996\n",
      "PSGamesPlayedPercent*(Bench -> 2): -0.177637965952\n",
      "PSGamesPlayedPercent*(Bench -> 3): 0.238190577729\n",
      "Intercept: 0.495655198793\n",
      "\n",
      "|========== Performance ==========|\n",
      "R-Sqr on Seasons 2013 to 2016: 0.134613304653\n",
      "Train Data Size: 387\n",
      "Test Data Size:356\n"
     ]
    }
   ],
   "source": [
    "GamesModelRB = create_model(rank_df, 'RB', 'GamesPlayedPercent', \n",
    "                           ['GamesPlayedPercent'], \n",
    "                   game_limit=0, test_cutoff=2013, interacts=[(0,n) for n in range(1,len(rank_df['RankChange'].unique()))], \n",
    "             cat_features=['RankChange'])"
   ]
  },
  {
   "cell_type": "code",
   "execution_count": 362,
   "metadata": {
    "collapsed": false
   },
   "outputs": [
    {
     "name": "stdout",
     "output_type": "stream",
     "text": [
      "|=== Predicting GamesPlayedPercent ===|\n",
      "\n",
      "|====== Model Coefficients ======|\n",
      "PSGamesPlayedPercent: 0.211771827963\n",
      "(1 -> 1): 0.129926339749\n",
      "(1 -> 2): 0.131293961615\n",
      "(1 -> 3): -1.53791261823\n",
      "(1 -> Bench): 0.0236937929478\n",
      "(2 -> 1): -0.43183551891\n",
      "(2 -> 2): 0.0941709373365\n",
      "(2 -> 3): -0.0425209230564\n",
      "(2 -> Bench): 0.0438760750094\n",
      "(3 -> 1): 0.303937625889\n",
      "(3 -> 2): 0.353309913603\n",
      "(3 -> 3): 0.327905334992\n",
      "(3 -> Bench): -0.0240749703436\n",
      "(Bench -> 1): 0.538292201052\n",
      "(Bench -> 2): -0.292047885983\n",
      "(Bench -> 3): 0.206701912238\n",
      "(Bench -> Bench): 0.175283822086\n",
      "PSGamesPlayedPercent*(1 -> 1): 0.0118306565091\n",
      "PSGamesPlayedPercent*(1 -> 2): -0.11740563078\n",
      "PSGamesPlayedPercent*(1 -> 3): 2.23401130457\n",
      "PSGamesPlayedPercent*(1 -> Bench): 0.0400371445407\n",
      "PSGamesPlayedPercent*(2 -> 1): 0.51197462426\n",
      "PSGamesPlayedPercent*(2 -> 2): -0.0371974806303\n",
      "PSGamesPlayedPercent*(2 -> 3): 0.0492838068445\n",
      "PSGamesPlayedPercent*(2 -> Bench): 0.193232805957\n",
      "PSGamesPlayedPercent*(3 -> 1): -0.228111697244\n",
      "PSGamesPlayedPercent*(3 -> 2): -0.297045107315\n",
      "PSGamesPlayedPercent*(3 -> 3): -0.289795234985\n",
      "PSGamesPlayedPercent*(3 -> Bench): -0.0120374851718\n",
      "PSGamesPlayedPercent*(Bench -> 1): -0.405889475022\n",
      "PSGamesPlayedPercent*(Bench -> 2): 0.379106435855\n",
      "PSGamesPlayedPercent*(Bench -> 3): -0.184997835011\n",
      "Intercept: 0.549207798948\n",
      "\n",
      "|========== Performance ==========|\n",
      "R-Sqr on Seasons 2013 to 2016: 0.148411905219\n",
      "Train Data Size: 433\n",
      "Test Data Size:432\n"
     ]
    }
   ],
   "source": [
    "GamesModelWR = create_model(rank_df, 'WR', 'GamesPlayedPercent', \n",
    "                           ['GamesPlayedPercent'], \n",
    "                   game_limit=0, test_cutoff=2013, interacts=[(0,n) for n in range(1,len(rank_df['RankChange'].unique()))], \n",
    "             cat_features=['RankChange'])"
   ]
  },
  {
   "cell_type": "code",
   "execution_count": 363,
   "metadata": {
    "collapsed": false
   },
   "outputs": [
    {
     "name": "stdout",
     "output_type": "stream",
     "text": [
      "|=== Predicting GamesPlayedPercent ===|\n",
      "\n",
      "|====== Model Coefficients ======|\n",
      "PSGamesPlayedPercent: 0.453963472039\n",
      "(1 -> 1): -0.336599432008\n",
      "(1 -> 2): -1.22483708002\n",
      "(1 -> 3): 0.126289001808\n",
      "(1 -> Bench): 0.752297066324\n",
      "(2 -> 1): -0.221863849611\n",
      "(2 -> 2): -0.30009970733\n",
      "(2 -> 3): 0.686324844102\n",
      "(2 -> Bench): -0.2278479613\n",
      "(3 -> 1): 1.05774061471\n",
      "(3 -> 2): -0.814109183676\n",
      "(3 -> 3): 0.243174395517\n",
      "(3 -> Bench): 0.144091284011\n",
      "(Bench -> 1): 0.309588732991\n",
      "(Bench -> 2): 0.175457295969\n",
      "(Bench -> 3): -0.110223319409\n",
      "(Bench -> Bench): -0.259382702081\n",
      "PSGamesPlayedPercent*(1 -> 1): 0.0378580302635\n",
      "PSGamesPlayedPercent*(1 -> 2): 0.924085308449\n",
      "PSGamesPlayedPercent*(1 -> 3): -0.389447343007\n",
      "PSGamesPlayedPercent*(1 -> Bench): -2.95396347204\n",
      "PSGamesPlayedPercent*(2 -> 1): -0.0988819162048\n",
      "PSGamesPlayedPercent*(2 -> 2): -0.0166515362317\n",
      "PSGamesPlayedPercent*(2 -> 3): -1.00951902759\n",
      "PSGamesPlayedPercent*(2 -> Bench): 0.0708984064139\n",
      "PSGamesPlayedPercent*(3 -> 1): -1.4700925043\n",
      "PSGamesPlayedPercent*(3 -> 2): 0.440267297192\n",
      "PSGamesPlayedPercent*(3 -> 3): -0.702410677008\n",
      "PSGamesPlayedPercent*(3 -> Bench): -0.372330818978\n",
      "PSGamesPlayedPercent*(Bench -> 1): -0.603963472039\n",
      "PSGamesPlayedPercent*(Bench -> 2): -0.662731739263\n",
      "PSGamesPlayedPercent*(Bench -> 3): -0.184978149767\n",
      "Intercept: 0.778952933676\n",
      "\n",
      "|========== Performance ==========|\n",
      "R-Sqr on Seasons 2013 to 2016: 0.188124916157\n",
      "Train Data Size: 259\n",
      "Test Data Size:257\n"
     ]
    }
   ],
   "source": [
    "GamesModelTE = create_model(rank_df, 'TE', 'GamesPlayedPercent', \n",
    "                           ['GamesPlayedPercent'], \n",
    "                   game_limit=0, test_cutoff=2013, interacts=[(0,n) for n in range(1,len(rank_df['RankChange'].unique()))], \n",
    "             cat_features=['RankChange'])"
   ]
  },
  {
   "cell_type": "code",
   "execution_count": 14,
   "metadata": {
    "collapsed": false
   },
   "outputs": [
    {
     "ename": "TypeError",
     "evalue": "can't multiply sequence by non-int of type 'float'",
     "output_type": "error",
     "traceback": [
      "\u001b[1;31m---------------------------------------------------------------------------\u001b[0m",
      "\u001b[1;31mTypeError\u001b[0m                                 Traceback (most recent call last)",
      "\u001b[1;32m<ipython-input-14-e94648e72dac>\u001b[0m in \u001b[0;36m<module>\u001b[1;34m()\u001b[0m\n\u001b[0;32m     27\u001b[0m \u001b[1;32mfor\u001b[0m \u001b[0mvar\u001b[0m \u001b[1;32min\u001b[0m \u001b[0msim_player\u001b[0m\u001b[1;33m.\u001b[0m\u001b[0mcopy\u001b[0m\u001b[1;33m(\u001b[0m\u001b[1;33m)\u001b[0m\u001b[1;33m:\u001b[0m\u001b[1;33m\u001b[0m\u001b[0m\n\u001b[0;32m     28\u001b[0m     \u001b[1;32mif\u001b[0m \u001b[0mvar\u001b[0m \u001b[1;33m!=\u001b[0m \u001b[1;34m'PSGamesPlayedPercent'\u001b[0m\u001b[1;33m:\u001b[0m\u001b[1;33m\u001b[0m\u001b[0m\n\u001b[1;32m---> 29\u001b[1;33m         \u001b[0msim_player\u001b[0m\u001b[1;33m[\u001b[0m\u001b[1;34m'PSGamesPlayedPercent*'\u001b[0m\u001b[1;33m+\u001b[0m\u001b[0mvar\u001b[0m\u001b[1;33m]\u001b[0m \u001b[1;33m=\u001b[0m \u001b[0msim_player\u001b[0m\u001b[1;33m[\u001b[0m\u001b[1;34m'PSGamesPlayedPercent'\u001b[0m\u001b[1;33m]\u001b[0m\u001b[1;33m*\u001b[0m\u001b[0msim_player\u001b[0m\u001b[1;33m[\u001b[0m\u001b[0mvar\u001b[0m\u001b[1;33m]\u001b[0m\u001b[1;33m\u001b[0m\u001b[0m\n\u001b[0m",
      "\u001b[1;31mTypeError\u001b[0m: can't multiply sequence by non-int of type 'float'"
     ]
    }
   ],
   "source": [
    "sim_player = {'PSGamesPlayedPercent': 0.8,\n",
    "                '(1 -> 1)': 0,\n",
    "                '(1 -> 2)': 0,\n",
    "                '(1 -> 3)': 0,\n",
    "                '(1 -> Bench)': 0,\n",
    "                '(2 -> 1)': 1,\n",
    "                '(2 -> 2)': 0,\n",
    "                '(2 -> 3)': 0,\n",
    "                '(2 -> Bench)': 0,\n",
    "                '(3 -> 1)': 0,\n",
    "                '(3 -> 2)': 0, \n",
    "                '(3 -> 3)': 0,\n",
    "                '(3 -> Bench)': 0,\n",
    "                '(Bench -> 1)': 0,\n",
    "                '(Bench -> 2)': 0, \n",
    "                '(Bench -> 3)': 0, \n",
    "                '(Bench -> Bench)': 0,\n",
    "                 'RankChange': '(2 -> 1)',\n",
    "                 'Position': 'QB'}\n",
    "\n",
    "sim_player2 = {'PSGamesPlayedPercent': 0.8,\n",
    "                  '1': 1,\n",
    "                  '2': 0, \n",
    "                  '3': 0, \n",
    "                  'Bench': 0}\n",
    "\n",
    "for var in sim_player.copy():\n",
    "    if var != 'PSGamesPlayedPercent':\n",
    "        sim_player['PSGamesPlayedPercent*'+var] = sim_player['PSGamesPlayedPercent']*sim_player[var]"
   ]
  },
  {
   "cell_type": "markdown",
   "metadata": {},
   "source": [
    "While R-squared scores increased greatly compared to the old strategy of treating ranks, it is still less than desirable. Not only that, but much of it seems unintuitive. For example, the current model for WR's predict someone going from 2nd string to 1st string to play less than they did the previous season where they were a lower rank. \n",
    "\n",
    "The main problem is simply not enough data (as you can see above). By making the categories unique to (Position, Rank, PreviousRank) it reduces the amount of data for many of the categories to be less than 50. Even with this issue, predicting based on this combination still performs much better than just using the Rank and PrevRanks as the categorical variables, so I'm going to stick with this general method.\n",
    "\n",
    "My next plan is to use the means of each rank (displayed below) to help with this prediction. I want to make my end prediction calculated by some combination of my model's prediction and the means for the ranks. The idea is to weigh my model's prediction heavier when it has more data available to it. So predicting a QB going from 1st string to 1st string (207 data points) will rely more on the model, whereas a QB going from 1st string to 3rd string (12 data points) will rely more on the current rank's mean."
   ]
  },
  {
   "cell_type": "code",
   "execution_count": 678,
   "metadata": {
    "collapsed": false
   },
   "outputs": [
    {
     "data": {
      "text/plain": [
       "Position  Rank \n",
       "QB        1.0      0.859486\n",
       "          2.0      0.323123\n",
       "          3.0      0.287500\n",
       "          Bench    0.230682\n",
       "RB        1.0      0.863308\n",
       "          2.0      0.862284\n",
       "          3.0      0.701027\n",
       "          Bench    0.616969\n",
       "TE        1.0      0.908008\n",
       "          2.0      0.871336\n",
       "          3.0      0.762041\n",
       "          Bench    0.432842\n",
       "WR        1.0      0.914356\n",
       "          2.0      0.822476\n",
       "          3.0      0.657328\n",
       "          Bench    0.467201\n",
       "Name: GamesPlayedPercent, dtype: float64"
      ]
     },
     "execution_count": 678,
     "metadata": {},
     "output_type": "execute_result"
    }
   ],
   "source": [
    "rank_df.groupby(['Position', 'Rank'])['GamesPlayedPercent'].mean()"
   ]
  },
  {
   "cell_type": "code",
   "execution_count": 364,
   "metadata": {
    "collapsed": false
   },
   "outputs": [],
   "source": [
    "sizes = pd.DataFrame(rank_df.groupby(['Position', 'RankChange']).size())\n",
    "means = pd.DataFrame(rank_df.groupby(['Position', 'Rank'])['GamesPlayedPercent'].mean())"
   ]
  },
  {
   "cell_type": "code",
   "execution_count": 365,
   "metadata": {
    "collapsed": true
   },
   "outputs": [],
   "source": [
    "def get_size(pos, rank_change, groupby):\n",
    "    return int(groupby.loc[(pos, rank_change)])"
   ]
  },
  {
   "cell_type": "code",
   "execution_count": 366,
   "metadata": {
    "collapsed": true
   },
   "outputs": [],
   "source": [
    "def predict_games_played(player, model, sizes, means, pref_games=200):\n",
    "    model_predict = model.predict(player)\n",
    "    if model_predict < 0:\n",
    "        model_predict = 0\n",
    "    if model_predict > 1.0:\n",
    "        model_predict = 1\n",
    "        \n",
    "    model_prop = sqrt(sizes.loc[(player['Position'], player['RankChange'])]) / sqrt(pref_games)\n",
    "    if model_prop > 1:\n",
    "        model_prop = 1\n",
    "        \n",
    "    mean_predict = means.loc[(player['Position'], player['Rank'])]\n",
    "    \n",
    "    return (model_predict * model_prop) + (mean_predict * (1 - model_prop))"
   ]
  },
  {
   "cell_type": "code",
   "execution_count": 471,
   "metadata": {
    "collapsed": false
   },
   "outputs": [],
   "source": [
    "sim_player = {'Position': 'RB',\n",
    "                'Rank': 2.0,\n",
    "                'RankChange': '(1 -> 2)',\n",
    "                'PSGamesPlayedPercent': 0.9,\n",
    "                '(1 -> 1)': 0,\n",
    "                '(1 -> 2)': 1,\n",
    "                '(1 -> 3)': 0,\n",
    "                '(1 -> Bench)': 0,\n",
    "                '(2 -> 1)': 0,\n",
    "                '(2 -> 2)': 0,\n",
    "                '(2 -> 3)': 0,\n",
    "                '(2 -> Bench)': 0,\n",
    "                '(3 -> 1)': 0,\n",
    "                '(3 -> 2)': 0, \n",
    "                '(3 -> 3)': 0,\n",
    "                '(3 -> Bench)': 0,\n",
    "                '(Bench -> 1)': 0,\n",
    "                '(Bench -> 2)': 0, \n",
    "                '(Bench -> 3)': 0, \n",
    "                '(Bench -> Bench)': 0,\n",
    "             }\n",
    "\n",
    "for var in sim_player.copy():\n",
    "    if var not in ['Position', 'Rank', 'RankChange', 'PSGamesPlayedPercent']:\n",
    "        sim_player['PSGamesPlayedPercent*'+var] = sim_player['PSGamesPlayedPercent']*sim_player[var]"
   ]
  },
  {
   "cell_type": "code",
   "execution_count": 367,
   "metadata": {
    "collapsed": true
   },
   "outputs": [],
   "source": [
    "del rank_df['PrevRank']"
   ]
  },
  {
   "cell_type": "code",
   "execution_count": 359,
   "metadata": {
    "collapsed": false,
    "scrolled": true
   },
   "outputs": [
    {
     "data": {
      "text/html": [
       "<div>\n",
       "<table border=\"1\" class=\"dataframe\">\n",
       "  <thead>\n",
       "    <tr style=\"text-align: right;\">\n",
       "      <th></th>\n",
       "      <th>Player</th>\n",
       "      <th>Position</th>\n",
       "      <th>Team</th>\n",
       "      <th>Season</th>\n",
       "      <th>Plays</th>\n",
       "      <th>Games</th>\n",
       "      <th>RushAttempts</th>\n",
       "      <th>RushYrds</th>\n",
       "      <th>RushTDs</th>\n",
       "      <th>PassAttempts</th>\n",
       "      <th>...</th>\n",
       "      <th>AvgRushYrds</th>\n",
       "      <th>PercentComplete</th>\n",
       "      <th>PlaysPerGame</th>\n",
       "      <th>GamesPlayedPercent</th>\n",
       "      <th>InterceptionRatio</th>\n",
       "      <th>PassAttPerGame</th>\n",
       "      <th>RushAttPerGame</th>\n",
       "      <th>FumblesPerGame</th>\n",
       "      <th>PassRushAttRatio</th>\n",
       "      <th>RankChange</th>\n",
       "    </tr>\n",
       "  </thead>\n",
       "  <tbody>\n",
       "    <tr>\n",
       "      <th>4876</th>\n",
       "      <td>Kellen Davis</td>\n",
       "      <td>TE</td>\n",
       "      <td>NYJ</td>\n",
       "      <td>2016</td>\n",
       "      <td>1.0</td>\n",
       "      <td>8.0</td>\n",
       "      <td>0.0</td>\n",
       "      <td>0.0</td>\n",
       "      <td>0.0</td>\n",
       "      <td>1.0</td>\n",
       "      <td>...</td>\n",
       "      <td>0.0</td>\n",
       "      <td>0.000000</td>\n",
       "      <td>0.125000</td>\n",
       "      <td>0.5000</td>\n",
       "      <td>0.0</td>\n",
       "      <td>0.125000</td>\n",
       "      <td>0.0</td>\n",
       "      <td>0.0</td>\n",
       "      <td>1.0</td>\n",
       "      <td>(2 -&gt; 1)</td>\n",
       "    </tr>\n",
       "    <tr>\n",
       "      <th>4877</th>\n",
       "      <td>Troy Niklas</td>\n",
       "      <td>TE</td>\n",
       "      <td>ARI</td>\n",
       "      <td>2016</td>\n",
       "      <td>2.0</td>\n",
       "      <td>3.0</td>\n",
       "      <td>0.0</td>\n",
       "      <td>0.0</td>\n",
       "      <td>0.0</td>\n",
       "      <td>2.0</td>\n",
       "      <td>...</td>\n",
       "      <td>0.0</td>\n",
       "      <td>0.500000</td>\n",
       "      <td>0.666667</td>\n",
       "      <td>0.1875</td>\n",
       "      <td>0.0</td>\n",
       "      <td>0.666667</td>\n",
       "      <td>0.0</td>\n",
       "      <td>0.0</td>\n",
       "      <td>1.0</td>\n",
       "      <td>(2 -&gt; Bench)</td>\n",
       "    </tr>\n",
       "    <tr>\n",
       "      <th>4878</th>\n",
       "      <td>Hakeem Valles</td>\n",
       "      <td>TE</td>\n",
       "      <td>ARI</td>\n",
       "      <td>2016</td>\n",
       "      <td>2.0</td>\n",
       "      <td>11.0</td>\n",
       "      <td>0.0</td>\n",
       "      <td>0.0</td>\n",
       "      <td>0.0</td>\n",
       "      <td>2.0</td>\n",
       "      <td>...</td>\n",
       "      <td>0.0</td>\n",
       "      <td>0.000000</td>\n",
       "      <td>0.181818</td>\n",
       "      <td>0.6875</td>\n",
       "      <td>0.0</td>\n",
       "      <td>0.181818</td>\n",
       "      <td>0.0</td>\n",
       "      <td>0.0</td>\n",
       "      <td>1.0</td>\n",
       "      <td>(Bench -&gt; 2)</td>\n",
       "    </tr>\n",
       "    <tr>\n",
       "      <th>4879</th>\n",
       "      <td>Khari Lee</td>\n",
       "      <td>TE</td>\n",
       "      <td>DET</td>\n",
       "      <td>2016</td>\n",
       "      <td>1.0</td>\n",
       "      <td>8.0</td>\n",
       "      <td>0.0</td>\n",
       "      <td>0.0</td>\n",
       "      <td>0.0</td>\n",
       "      <td>1.0</td>\n",
       "      <td>...</td>\n",
       "      <td>0.0</td>\n",
       "      <td>0.000000</td>\n",
       "      <td>0.125000</td>\n",
       "      <td>0.5000</td>\n",
       "      <td>0.0</td>\n",
       "      <td>0.125000</td>\n",
       "      <td>0.0</td>\n",
       "      <td>0.0</td>\n",
       "      <td>1.0</td>\n",
       "      <td>(2 -&gt; 3)</td>\n",
       "    </tr>\n",
       "    <tr>\n",
       "      <th>4880</th>\n",
       "      <td>James O'Shaughnessy</td>\n",
       "      <td>TE</td>\n",
       "      <td>KC</td>\n",
       "      <td>2016</td>\n",
       "      <td>3.0</td>\n",
       "      <td>16.0</td>\n",
       "      <td>0.0</td>\n",
       "      <td>0.0</td>\n",
       "      <td>0.0</td>\n",
       "      <td>3.0</td>\n",
       "      <td>...</td>\n",
       "      <td>0.0</td>\n",
       "      <td>0.666667</td>\n",
       "      <td>0.187500</td>\n",
       "      <td>1.0000</td>\n",
       "      <td>0.0</td>\n",
       "      <td>0.187500</td>\n",
       "      <td>0.0</td>\n",
       "      <td>0.0</td>\n",
       "      <td>1.0</td>\n",
       "      <td>(2 -&gt; 3)</td>\n",
       "    </tr>\n",
       "  </tbody>\n",
       "</table>\n",
       "<p>5 rows × 30 columns</p>\n",
       "</div>"
      ],
      "text/plain": [
       "                   Player Position Team Season  Plays  Games  RushAttempts  \\\n",
       "4876         Kellen Davis       TE  NYJ   2016    1.0    8.0           0.0   \n",
       "4877          Troy Niklas       TE  ARI   2016    2.0    3.0           0.0   \n",
       "4878        Hakeem Valles       TE  ARI   2016    2.0   11.0           0.0   \n",
       "4879            Khari Lee       TE  DET   2016    1.0    8.0           0.0   \n",
       "4880  James O'Shaughnessy       TE   KC   2016    3.0   16.0           0.0   \n",
       "\n",
       "      RushYrds  RushTDs  PassAttempts      ...       AvgRushYrds  \\\n",
       "4876       0.0      0.0           1.0      ...               0.0   \n",
       "4877       0.0      0.0           2.0      ...               0.0   \n",
       "4878       0.0      0.0           2.0      ...               0.0   \n",
       "4879       0.0      0.0           1.0      ...               0.0   \n",
       "4880       0.0      0.0           3.0      ...               0.0   \n",
       "\n",
       "      PercentComplete  PlaysPerGame  GamesPlayedPercent  InterceptionRatio  \\\n",
       "4876         0.000000      0.125000              0.5000                0.0   \n",
       "4877         0.500000      0.666667              0.1875                0.0   \n",
       "4878         0.000000      0.181818              0.6875                0.0   \n",
       "4879         0.000000      0.125000              0.5000                0.0   \n",
       "4880         0.666667      0.187500              1.0000                0.0   \n",
       "\n",
       "     PassAttPerGame RushAttPerGame  FumblesPerGame  PassRushAttRatio  \\\n",
       "4876       0.125000            0.0             0.0               1.0   \n",
       "4877       0.666667            0.0             0.0               1.0   \n",
       "4878       0.181818            0.0             0.0               1.0   \n",
       "4879       0.125000            0.0             0.0               1.0   \n",
       "4880       0.187500            0.0             0.0               1.0   \n",
       "\n",
       "        RankChange  \n",
       "4876      (2 -> 1)  \n",
       "4877  (2 -> Bench)  \n",
       "4878  (Bench -> 2)  \n",
       "4879      (2 -> 3)  \n",
       "4880      (2 -> 3)  \n",
       "\n",
       "[5 rows x 30 columns]"
      ]
     },
     "execution_count": 359,
     "metadata": {},
     "output_type": "execute_result"
    }
   ],
   "source": [
    "rank_df.tail()"
   ]
  },
  {
   "cell_type": "code",
   "execution_count": 368,
   "metadata": {
    "collapsed": false
   },
   "outputs": [],
   "source": [
    "def build_season_df(df, interacts=False, categorical=[], season_range=(2009, 2017)):\n",
    "    primary_key = ['Player', 'Position', 'Team']\n",
    "    left_vars = df.columns.copy()\n",
    "    right_vars = ['PS'+str(var) for var in df.columns.copy() if var not in primary_key]\n",
    "    season_vars = list(left_vars.copy()) + list(right_vars)\n",
    "    \n",
    "    season_df = pd.DataFrame(columns=(list(left_vars).extend(right_vars)))\n",
    "    \n",
    "    # build base dataframe\n",
    "    for season in range(season_range[0], season_range[1]):\n",
    "        prev_season = str(season - 1)\n",
    "        season = str(season)\n",
    "        \n",
    "        left_df = df[left_vars][df.Season == season]\n",
    "        right_df = df[left_vars][df.Season == prev_season]\n",
    "        right_df.columns = primary_key + right_vars\n",
    "        left_df = pd.merge(left_df, right_df, on=primary_key)\n",
    "        season_df = season_df.append(left_df)\n",
    "\n",
    "    # add categorical dummy variables\n",
    "    for cur_cat_var in categorical:\n",
    "        dummy_df = pd.get_dummies(season_df[cur_cat_var])\n",
    "        season_vars.extend(dummy_df.columns)\n",
    "        season_df = pd.concat([season_df, dummy_df], axis=1)\n",
    "    \n",
    "    # add interaction variables\n",
    "    numerical_vars = []\n",
    "    for cur_var in season_vars:\n",
    "        if cur_var not in categorical and cur_var not in primary_key and cur_var != 'Season':\n",
    "            numerical_vars.append(cur_var)\n",
    "    \n",
    "    def interact_apply(row, numerical_vars, outer_idx, inner_idx):\n",
    "        return row[numerical_vars[outer_idx]] * row[numerical_vars[inner_idx]]\n",
    "       \n",
    "    return season_df.reindex(columns=season_vars)"
   ]
  },
  {
   "cell_type": "code",
   "execution_count": 821,
   "metadata": {
    "collapsed": false,
    "scrolled": false
   },
   "outputs": [
    {
     "data": {
      "text/html": [
       "<div>\n",
       "<table border=\"1\" class=\"dataframe\">\n",
       "  <thead>\n",
       "    <tr style=\"text-align: right;\">\n",
       "      <th></th>\n",
       "      <th>Player</th>\n",
       "      <th>Position</th>\n",
       "      <th>Team</th>\n",
       "      <th>Season</th>\n",
       "      <th>Plays</th>\n",
       "      <th>Games</th>\n",
       "      <th>RushAttempts</th>\n",
       "      <th>RushYrds</th>\n",
       "      <th>RushTDs</th>\n",
       "      <th>PassAttempts</th>\n",
       "      <th>...</th>\n",
       "      <th>(3 -&gt; 3)</th>\n",
       "      <th>(3 -&gt; Bench)</th>\n",
       "      <th>(Bench -&gt; 1)</th>\n",
       "      <th>(Bench -&gt; 2)</th>\n",
       "      <th>(Bench -&gt; 3)</th>\n",
       "      <th>(Bench -&gt; Bench)</th>\n",
       "      <th>1</th>\n",
       "      <th>2</th>\n",
       "      <th>3</th>\n",
       "      <th>Bench</th>\n",
       "    </tr>\n",
       "  </thead>\n",
       "  <tbody>\n",
       "    <tr>\n",
       "      <th>0</th>\n",
       "      <td>Aaron Rodgers</td>\n",
       "      <td>QB</td>\n",
       "      <td>GB</td>\n",
       "      <td>2009</td>\n",
       "      <td>599.0</td>\n",
       "      <td>16.0</td>\n",
       "      <td>58.0</td>\n",
       "      <td>316.0</td>\n",
       "      <td>5.0</td>\n",
       "      <td>541.0</td>\n",
       "      <td>...</td>\n",
       "      <td>0.0</td>\n",
       "      <td>0.0</td>\n",
       "      <td>0.0</td>\n",
       "      <td>0.0</td>\n",
       "      <td>0.0</td>\n",
       "      <td>0.0</td>\n",
       "      <td>1.0</td>\n",
       "      <td>0.0</td>\n",
       "      <td>0.0</td>\n",
       "      <td>0.0</td>\n",
       "    </tr>\n",
       "    <tr>\n",
       "      <th>1</th>\n",
       "      <td>Drew Brees</td>\n",
       "      <td>QB</td>\n",
       "      <td>NO</td>\n",
       "      <td>2009</td>\n",
       "      <td>537.0</td>\n",
       "      <td>15.0</td>\n",
       "      <td>22.0</td>\n",
       "      <td>33.0</td>\n",
       "      <td>2.0</td>\n",
       "      <td>514.0</td>\n",
       "      <td>...</td>\n",
       "      <td>0.0</td>\n",
       "      <td>0.0</td>\n",
       "      <td>0.0</td>\n",
       "      <td>0.0</td>\n",
       "      <td>0.0</td>\n",
       "      <td>0.0</td>\n",
       "      <td>1.0</td>\n",
       "      <td>0.0</td>\n",
       "      <td>0.0</td>\n",
       "      <td>0.0</td>\n",
       "    </tr>\n",
       "    <tr>\n",
       "      <th>2</th>\n",
       "      <td>Matt Schaub</td>\n",
       "      <td>QB</td>\n",
       "      <td>HOU</td>\n",
       "      <td>2009</td>\n",
       "      <td>631.0</td>\n",
       "      <td>16.0</td>\n",
       "      <td>48.0</td>\n",
       "      <td>57.0</td>\n",
       "      <td>0.0</td>\n",
       "      <td>583.0</td>\n",
       "      <td>...</td>\n",
       "      <td>0.0</td>\n",
       "      <td>0.0</td>\n",
       "      <td>0.0</td>\n",
       "      <td>0.0</td>\n",
       "      <td>0.0</td>\n",
       "      <td>0.0</td>\n",
       "      <td>1.0</td>\n",
       "      <td>0.0</td>\n",
       "      <td>0.0</td>\n",
       "      <td>0.0</td>\n",
       "    </tr>\n",
       "    <tr>\n",
       "      <th>3</th>\n",
       "      <td>Peyton Manning</td>\n",
       "      <td>QB</td>\n",
       "      <td>IND</td>\n",
       "      <td>2009</td>\n",
       "      <td>590.0</td>\n",
       "      <td>16.0</td>\n",
       "      <td>19.0</td>\n",
       "      <td>-13.0</td>\n",
       "      <td>0.0</td>\n",
       "      <td>571.0</td>\n",
       "      <td>...</td>\n",
       "      <td>0.0</td>\n",
       "      <td>0.0</td>\n",
       "      <td>0.0</td>\n",
       "      <td>0.0</td>\n",
       "      <td>0.0</td>\n",
       "      <td>0.0</td>\n",
       "      <td>1.0</td>\n",
       "      <td>0.0</td>\n",
       "      <td>0.0</td>\n",
       "      <td>0.0</td>\n",
       "    </tr>\n",
       "    <tr>\n",
       "      <th>4</th>\n",
       "      <td>Tony Romo</td>\n",
       "      <td>QB</td>\n",
       "      <td>DAL</td>\n",
       "      <td>2009</td>\n",
       "      <td>585.0</td>\n",
       "      <td>16.0</td>\n",
       "      <td>35.0</td>\n",
       "      <td>105.0</td>\n",
       "      <td>1.0</td>\n",
       "      <td>550.0</td>\n",
       "      <td>...</td>\n",
       "      <td>0.0</td>\n",
       "      <td>0.0</td>\n",
       "      <td>0.0</td>\n",
       "      <td>0.0</td>\n",
       "      <td>0.0</td>\n",
       "      <td>0.0</td>\n",
       "      <td>1.0</td>\n",
       "      <td>0.0</td>\n",
       "      <td>0.0</td>\n",
       "      <td>0.0</td>\n",
       "    </tr>\n",
       "  </tbody>\n",
       "</table>\n",
       "<p>5 rows × 75 columns</p>\n",
       "</div>"
      ],
      "text/plain": [
       "           Player Position Team Season  Plays  Games  RushAttempts  RushYrds  \\\n",
       "0   Aaron Rodgers       QB   GB   2009  599.0   16.0          58.0     316.0   \n",
       "1      Drew Brees       QB   NO   2009  537.0   15.0          22.0      33.0   \n",
       "2     Matt Schaub       QB  HOU   2009  631.0   16.0          48.0      57.0   \n",
       "3  Peyton Manning       QB  IND   2009  590.0   16.0          19.0     -13.0   \n",
       "4       Tony Romo       QB  DAL   2009  585.0   16.0          35.0     105.0   \n",
       "\n",
       "   RushTDs  PassAttempts  ...    (3 -> 3)  (3 -> Bench)  (Bench -> 1)  \\\n",
       "0      5.0         541.0  ...         0.0           0.0           0.0   \n",
       "1      2.0         514.0  ...         0.0           0.0           0.0   \n",
       "2      0.0         583.0  ...         0.0           0.0           0.0   \n",
       "3      0.0         571.0  ...         0.0           0.0           0.0   \n",
       "4      1.0         550.0  ...         0.0           0.0           0.0   \n",
       "\n",
       "   (Bench -> 2)  (Bench -> 3) (Bench -> Bench)    1    2    3  Bench  \n",
       "0           0.0           0.0              0.0  1.0  0.0  0.0    0.0  \n",
       "1           0.0           0.0              0.0  1.0  0.0  0.0    0.0  \n",
       "2           0.0           0.0              0.0  1.0  0.0  0.0    0.0  \n",
       "3           0.0           0.0              0.0  1.0  0.0  0.0    0.0  \n",
       "4           0.0           0.0              0.0  1.0  0.0  0.0    0.0  \n",
       "\n",
       "[5 rows x 75 columns]"
      ]
     },
     "execution_count": 821,
     "metadata": {},
     "output_type": "execute_result"
    }
   ],
   "source": [
    "season_df = build_season_df(rank_df, interacts=True, \n",
    "                            categorical=['RankChange', 'Rank'])\n",
    "season_df.head()"
   ]
  },
  {
   "cell_type": "code",
   "execution_count": 822,
   "metadata": {
    "collapsed": true
   },
   "outputs": [],
   "source": [
    "def add_interacts(df, interacts):\n",
    "    def apply_int(row, var1, var2):\n",
    "        return row[var1] * row[var2]\n",
    "    \n",
    "    for tup in interacts:\n",
    "        df[tup[0]+'*'+tup[1]] = df.apply(apply_int, args=(tup[0], tup[1],), axis=1)\n",
    "    \n",
    "    return df"
   ]
  },
  {
   "cell_type": "code",
   "execution_count": 823,
   "metadata": {
    "collapsed": false
   },
   "outputs": [],
   "source": [
    "for var in season_df['RankChange'].unique():\n",
    "    season_df = add_interacts(season_df, [('PSGamesPlayedPercent', var)])"
   ]
  },
  {
   "cell_type": "code",
   "execution_count": 513,
   "metadata": {
    "collapsed": true
   },
   "outputs": [],
   "source": [
    "def apply_pred_games(row, games_mdl, sizes, means):\n",
    "    return predict_games_played(row.to_dict(), games_mdl, sizes, means)"
   ]
  },
  {
   "cell_type": "code",
   "execution_count": 514,
   "metadata": {
    "collapsed": false,
    "scrolled": true
   },
   "outputs": [],
   "source": [
    "season_df['PredGamesPlayedPercent'] = season_df.apply(apply_pred_games, args=(qb_games_mdl, sizes, means,), axis=1)"
   ]
  },
  {
   "cell_type": "code",
   "execution_count": 819,
   "metadata": {
    "collapsed": false
   },
   "outputs": [
    {
     "ename": "KeyError",
     "evalue": "\"['PredGamesPlayedPercent'] not in index\"",
     "output_type": "error",
     "traceback": [
      "\u001b[1;31m---------------------------------------------------------------------------\u001b[0m",
      "\u001b[1;31mKeyError\u001b[0m                                  Traceback (most recent call last)",
      "\u001b[1;32m<ipython-input-819-2ca7fb75d0db>\u001b[0m in \u001b[0;36m<module>\u001b[1;34m()\u001b[0m\n\u001b[0;32m      1\u001b[0m season_df[['Player', 'Team', 'Season', 'Position', 'PredGamesPlayedPercent', \n\u001b[1;32m----> 2\u001b[1;33m            'GamesPlayedPercent', 'PSGamesPlayedPercent']].tail()\n\u001b[0m",
      "\u001b[1;32mC:\\Users\\Ryan\\Anaconda3\\lib\\site-packages\\pandas\\core\\frame.py\u001b[0m in \u001b[0;36m__getitem__\u001b[1;34m(self, key)\u001b[0m\n\u001b[0;32m   1989\u001b[0m         \u001b[1;32mif\u001b[0m \u001b[0misinstance\u001b[0m\u001b[1;33m(\u001b[0m\u001b[0mkey\u001b[0m\u001b[1;33m,\u001b[0m \u001b[1;33m(\u001b[0m\u001b[0mSeries\u001b[0m\u001b[1;33m,\u001b[0m \u001b[0mnp\u001b[0m\u001b[1;33m.\u001b[0m\u001b[0mndarray\u001b[0m\u001b[1;33m,\u001b[0m \u001b[0mIndex\u001b[0m\u001b[1;33m,\u001b[0m \u001b[0mlist\u001b[0m\u001b[1;33m)\u001b[0m\u001b[1;33m)\u001b[0m\u001b[1;33m:\u001b[0m\u001b[1;33m\u001b[0m\u001b[0m\n\u001b[0;32m   1990\u001b[0m             \u001b[1;31m# either boolean or fancy integer index\u001b[0m\u001b[1;33m\u001b[0m\u001b[1;33m\u001b[0m\u001b[0m\n\u001b[1;32m-> 1991\u001b[1;33m             \u001b[1;32mreturn\u001b[0m \u001b[0mself\u001b[0m\u001b[1;33m.\u001b[0m\u001b[0m_getitem_array\u001b[0m\u001b[1;33m(\u001b[0m\u001b[0mkey\u001b[0m\u001b[1;33m)\u001b[0m\u001b[1;33m\u001b[0m\u001b[0m\n\u001b[0m\u001b[0;32m   1992\u001b[0m         \u001b[1;32melif\u001b[0m \u001b[0misinstance\u001b[0m\u001b[1;33m(\u001b[0m\u001b[0mkey\u001b[0m\u001b[1;33m,\u001b[0m \u001b[0mDataFrame\u001b[0m\u001b[1;33m)\u001b[0m\u001b[1;33m:\u001b[0m\u001b[1;33m\u001b[0m\u001b[0m\n\u001b[0;32m   1993\u001b[0m             \u001b[1;32mreturn\u001b[0m \u001b[0mself\u001b[0m\u001b[1;33m.\u001b[0m\u001b[0m_getitem_frame\u001b[0m\u001b[1;33m(\u001b[0m\u001b[0mkey\u001b[0m\u001b[1;33m)\u001b[0m\u001b[1;33m\u001b[0m\u001b[0m\n",
      "\u001b[1;32mC:\\Users\\Ryan\\Anaconda3\\lib\\site-packages\\pandas\\core\\frame.py\u001b[0m in \u001b[0;36m_getitem_array\u001b[1;34m(self, key)\u001b[0m\n\u001b[0;32m   2033\u001b[0m             \u001b[1;32mreturn\u001b[0m \u001b[0mself\u001b[0m\u001b[1;33m.\u001b[0m\u001b[0mtake\u001b[0m\u001b[1;33m(\u001b[0m\u001b[0mindexer\u001b[0m\u001b[1;33m,\u001b[0m \u001b[0maxis\u001b[0m\u001b[1;33m=\u001b[0m\u001b[1;36m0\u001b[0m\u001b[1;33m,\u001b[0m \u001b[0mconvert\u001b[0m\u001b[1;33m=\u001b[0m\u001b[1;32mFalse\u001b[0m\u001b[1;33m)\u001b[0m\u001b[1;33m\u001b[0m\u001b[0m\n\u001b[0;32m   2034\u001b[0m         \u001b[1;32melse\u001b[0m\u001b[1;33m:\u001b[0m\u001b[1;33m\u001b[0m\u001b[0m\n\u001b[1;32m-> 2035\u001b[1;33m             \u001b[0mindexer\u001b[0m \u001b[1;33m=\u001b[0m \u001b[0mself\u001b[0m\u001b[1;33m.\u001b[0m\u001b[0mix\u001b[0m\u001b[1;33m.\u001b[0m\u001b[0m_convert_to_indexer\u001b[0m\u001b[1;33m(\u001b[0m\u001b[0mkey\u001b[0m\u001b[1;33m,\u001b[0m \u001b[0maxis\u001b[0m\u001b[1;33m=\u001b[0m\u001b[1;36m1\u001b[0m\u001b[1;33m)\u001b[0m\u001b[1;33m\u001b[0m\u001b[0m\n\u001b[0m\u001b[0;32m   2036\u001b[0m             \u001b[1;32mreturn\u001b[0m \u001b[0mself\u001b[0m\u001b[1;33m.\u001b[0m\u001b[0mtake\u001b[0m\u001b[1;33m(\u001b[0m\u001b[0mindexer\u001b[0m\u001b[1;33m,\u001b[0m \u001b[0maxis\u001b[0m\u001b[1;33m=\u001b[0m\u001b[1;36m1\u001b[0m\u001b[1;33m,\u001b[0m \u001b[0mconvert\u001b[0m\u001b[1;33m=\u001b[0m\u001b[1;32mTrue\u001b[0m\u001b[1;33m)\u001b[0m\u001b[1;33m\u001b[0m\u001b[0m\n\u001b[0;32m   2037\u001b[0m \u001b[1;33m\u001b[0m\u001b[0m\n",
      "\u001b[1;32mC:\\Users\\Ryan\\Anaconda3\\lib\\site-packages\\pandas\\core\\indexing.py\u001b[0m in \u001b[0;36m_convert_to_indexer\u001b[1;34m(self, obj, axis, is_setter)\u001b[0m\n\u001b[0;32m   1212\u001b[0m                 \u001b[0mmask\u001b[0m \u001b[1;33m=\u001b[0m \u001b[0mcheck\u001b[0m \u001b[1;33m==\u001b[0m \u001b[1;33m-\u001b[0m\u001b[1;36m1\u001b[0m\u001b[1;33m\u001b[0m\u001b[0m\n\u001b[0;32m   1213\u001b[0m                 \u001b[1;32mif\u001b[0m \u001b[0mmask\u001b[0m\u001b[1;33m.\u001b[0m\u001b[0many\u001b[0m\u001b[1;33m(\u001b[0m\u001b[1;33m)\u001b[0m\u001b[1;33m:\u001b[0m\u001b[1;33m\u001b[0m\u001b[0m\n\u001b[1;32m-> 1214\u001b[1;33m                     \u001b[1;32mraise\u001b[0m \u001b[0mKeyError\u001b[0m\u001b[1;33m(\u001b[0m\u001b[1;34m'%s not in index'\u001b[0m \u001b[1;33m%\u001b[0m \u001b[0mobjarr\u001b[0m\u001b[1;33m[\u001b[0m\u001b[0mmask\u001b[0m\u001b[1;33m]\u001b[0m\u001b[1;33m)\u001b[0m\u001b[1;33m\u001b[0m\u001b[0m\n\u001b[0m\u001b[0;32m   1215\u001b[0m \u001b[1;33m\u001b[0m\u001b[0m\n\u001b[0;32m   1216\u001b[0m                 \u001b[1;32mreturn\u001b[0m \u001b[0m_values_from_object\u001b[0m\u001b[1;33m(\u001b[0m\u001b[0mindexer\u001b[0m\u001b[1;33m)\u001b[0m\u001b[1;33m\u001b[0m\u001b[0m\n",
      "\u001b[1;31mKeyError\u001b[0m: \"['PredGamesPlayedPercent'] not in index\""
     ]
    }
   ],
   "source": [
    "season_df[['Player', 'Team', 'Season', 'Position', 'PredGamesPlayedPercent', \n",
    "           'GamesPlayedPercent', 'PSGamesPlayedPercent']].tail()"
   ]
  },
  {
   "cell_type": "code",
   "execution_count": 375,
   "metadata": {
    "collapsed": true
   },
   "outputs": [],
   "source": [
    "def extremify_col(df, var, mult_factor):\n",
    "    mean = df[var].mean()\n",
    "    def extremify_row(row, var, mean, mult_factor):\n",
    "        new_val = (row[var] - mean) * mult_factor + mean\n",
    "        \n",
    "        if new_val < 0:\n",
    "            return 0\n",
    "        return new_val\n",
    "    \n",
    "    df[var] = df.apply(extremify_row, args=(var, mean, mult_factor,), axis=1)\n",
    "    return df"
   ]
  },
  {
   "cell_type": "markdown",
   "metadata": {},
   "source": [
    "## Final Predictions"
   ]
  },
  {
   "cell_type": "code",
   "execution_count": 428,
   "metadata": {
    "collapsed": true
   },
   "outputs": [],
   "source": [
    "def apply_pred_games(row, games_mdl, sizes, means):\n",
    "    return predict_games_played(row.to_dict(), games_mdl, sizes, means)"
   ]
  },
  {
   "cell_type": "code",
   "execution_count": 429,
   "metadata": {
    "collapsed": true
   },
   "outputs": [],
   "source": [
    "def add_interacts(df, interacts):\n",
    "    def apply_int(row, var1, var2):\n",
    "        return row[var1] * row[var2]\n",
    "    \n",
    "    for tup in interacts:\n",
    "        df[tup[0]+'*'+tup[1]] = df.apply(apply_int, args=(tup[0], tup[1],), axis=1)\n",
    "    \n",
    "    return df"
   ]
  },
  {
   "cell_type": "code",
   "execution_count": 430,
   "metadata": {
    "collapsed": true
   },
   "outputs": [],
   "source": [
    "off = select_to_df(fdb, 'OffenseSeason', offense_lbls)\n",
    "off = add_feature(off, 'OffPassRushRatio', pass_rush_rat)\n",
    "off = add_feature(off, 'OffYardsPerGame', yards_per_game)\n",
    "off = add_feature(off, 'OffPassYrdsPerGame', pass_yrds_per_game)\n",
    "off = add_feature(off, 'OffRushYrdsPerGame', rush_yrds_per_game)\n",
    "off = add_feature(off, 'OffPointsPerGame', points_per_game)\n",
    "off = off.drop(['Yards', 'PassYrds', 'RushYrds', 'Points'], axis=1)"
   ]
  },
  {
   "cell_type": "code",
   "execution_count": 431,
   "metadata": {
    "collapsed": false
   },
   "outputs": [],
   "source": [
    "season_df = pd.merge(rank_df, off, on=['Team', 'Season'])\n",
    "season_df = build_season_df(season_df, interacts=True, categorical=['RankChange', 'Rank'])\n",
    "\n",
    "for var in season_df['RankChange'].unique():\n",
    "    season_df = add_interacts(season_df, [('PSGamesPlayedPercent', var)])"
   ]
  },
  {
   "cell_type": "code",
   "execution_count": 432,
   "metadata": {
    "collapsed": false
   },
   "outputs": [],
   "source": [
    "GamesPredictQB = season_df[season_df.Position == 'QB']\n",
    "GamesPredictQB['PredGamesPlayedPercent'] = GamesPredictQB.apply(apply_pred_games, args=(GamesModelQB, sizes, means,), axis=1)\n",
    "GamesPredictRB = season_df[season_df.Position == 'RB']\n",
    "GamesPredictRB['PredGamesPlayedPercent'] = GamesPredictRB.apply(apply_pred_games, args=(GamesModelRB, sizes, means,), axis=1)\n",
    "GamesPredictWR = season_df[season_df.Position == 'WR']\n",
    "GamesPredictWR['PredGamesPlayedPercent'] = GamesPredictWR.apply(apply_pred_games, args=(GamesModelWR, sizes, means,), axis=1)\n",
    "GamesPredictTE = season_df[season_df.Position == 'TE']\n",
    "GamesPredictTE['PredGamesPlayedPercent'] = GamesPredictTE.apply(apply_pred_games, args=(GamesModelTE, sizes, means,), axis=1)"
   ]
  },
  {
   "cell_type": "code",
   "execution_count": 433,
   "metadata": {
    "collapsed": false,
    "scrolled": true
   },
   "outputs": [],
   "source": [
    "GamesPredictQB = extremify_col(GamesPredictQB, 'PredGamesPlayedPercent', 1.25)\n",
    "GamesPredictRB = extremify_col(GamesPredictRB, 'PredGamesPlayedPercent', 1.6)\n",
    "GamesPredictWR = extremify_col(GamesPredictWR, 'PredGamesPlayedPercent', 1.55)\n",
    "GamesPredictTE = extremify_col(GamesPredictTE, 'PredGamesPlayedPercent', 1.5)"
   ]
  },
  {
   "cell_type": "code",
   "execution_count": 434,
   "metadata": {
    "collapsed": false
   },
   "outputs": [
    {
     "name": "stdout",
     "output_type": "stream",
     "text": [
      "Predicting RushAttPerGame...\n",
      "Predicting PassTDAttRatio...\n",
      "Predicting AvgRushYrds...\n",
      "Predicting PassAttPerGame...\n",
      "Predicting AvgPassYrds...\n",
      "Predicting FumblesPerGame...\n",
      "Predicting AvgRushYrds...\n",
      "Predicting AvgPassYrds...\n",
      "Predicting FumblesPerGame...\n",
      "Predicting PassAttPerGame...\n",
      "Predicting RushAttPerGame...\n",
      "Predicting PassAttPerGame...\n",
      "Predicting AvgPassYrds...\n",
      "Predicting RushAttPerGame...\n",
      "Predicting PassTDAttRatio...\n",
      "Predicting AvgRushYrds...\n",
      "Predicting PassAttPerGame...\n",
      "Predicting AvgPassYrds...\n",
      "Predicting RushAttPerGame...\n",
      "Predicting PassTDAttRatio...\n",
      "Predicting AvgRushYrds...\n"
     ]
    }
   ],
   "source": [
    "StatsPredictQB = ModelsQB.predict_df(season_df[season_df.Position == 'QB'])\n",
    "StatsPredictRB = ModelsRB.predict_df(season_df[season_df.Position == 'RB'])\n",
    "StatsPredictWR = ModelsWR.predict_df(season_df[season_df.Position == 'WR'])\n",
    "StatsPredictTE = ModelsTE.predict_df(season_df[season_df.Position == 'TE'])"
   ]
  },
  {
   "cell_type": "code",
   "execution_count": 435,
   "metadata": {
    "collapsed": true
   },
   "outputs": [],
   "source": [
    "#StatsPredictWR = extremify_col(StatsPredictWR, 'PredPassAttPerGame', 1.2)\n",
    "StatsPredictTE = extremify_col(StatsPredictTE, 'PredPassAttPerGame', 1.5)"
   ]
  },
  {
   "cell_type": "code",
   "execution_count": 436,
   "metadata": {
    "collapsed": false
   },
   "outputs": [],
   "source": [
    "games_vars = ['Player', 'Team', 'Position', 'Season', 'PredGamesPlayedPercent']\n",
    "FinalPredictQB = pd.merge(GamesPredictQB[games_vars], StatsPredictQB, on=['Player', 'Team', 'Position', 'Season'])\n",
    "FinalPredictRB = pd.merge(GamesPredictRB[games_vars], StatsPredictRB, on=['Player', 'Team', 'Position', 'Season'])\n",
    "FinalPredictWR = pd.merge(GamesPredictWR[games_vars], StatsPredictWR, on=['Player', 'Team', 'Position', 'Season'])\n",
    "FinalPredictTE = pd.merge(GamesPredictTE[games_vars], StatsPredictTE, on=['Player', 'Team', 'Position', 'Season'])"
   ]
  },
  {
   "cell_type": "code",
   "execution_count": 437,
   "metadata": {
    "collapsed": true
   },
   "outputs": [],
   "source": [
    "def total_pass(row):\n",
    "    return row['PredAvgPassYrds'] * row['PredPassAttPerGame'] * row['PredGamesPlayedPercent'] * 16\n",
    "\n",
    "def total_rush(row):\n",
    "    return row['PredAvgRushYrds'] * row['PredRushAttPerGame'] * row['PredGamesPlayedPercent'] * 16"
   ]
  },
  {
   "cell_type": "code",
   "execution_count": 438,
   "metadata": {
    "collapsed": false
   },
   "outputs": [],
   "source": [
    "FinalPredictQB['PredSeasonPassYrds'] = FinalPredictQB.apply(total_pass, axis=1)\n",
    "FinalPredictQB['PredSeasonRushYrds'] = FinalPredictQB.apply(total_rush, axis=1)\n",
    "FinalPredictRB['PredSeasonPassYrds'] = FinalPredictRB.apply(total_pass, axis=1)\n",
    "FinalPredictRB['PredSeasonRushYrds'] = FinalPredictRB.apply(total_rush, axis=1)\n",
    "FinalPredictWR['PredSeasonPassYrds'] = FinalPredictWR.apply(total_pass, axis=1)\n",
    "FinalPredictWR['PredSeasonRushYrds'] = FinalPredictWR.apply(total_rush, axis=1)\n",
    "FinalPredictTE['PredSeasonPassYrds'] = FinalPredictTE.apply(total_pass, axis=1)\n",
    "FinalPredictTE['PredSeasonRushYrds'] = FinalPredictTE.apply(total_rush, axis=1)"
   ]
  },
  {
   "cell_type": "code",
   "execution_count": 439,
   "metadata": {
    "collapsed": true
   },
   "outputs": [],
   "source": [
    "def pass_error(row):\n",
    "    return row['PredSeasonPassYrds'] - row['PassYrds']\n",
    "\n",
    "def rush_error(row):\n",
    "    return row['PredSeasonRushYrds'] - row['RushYrds']"
   ]
  },
  {
   "cell_type": "code",
   "execution_count": 440,
   "metadata": {
    "collapsed": true
   },
   "outputs": [],
   "source": [
    "FinalPredictQB['PassYrdsError'] = FinalPredictQB.apply(pass_error, axis=1)\n",
    "FinalPredictQB['RushYrdsError'] = FinalPredictQB.apply(rush_error, axis=1)\n",
    "FinalPredictRB['PassYrdsError'] = FinalPredictRB.apply(pass_error, axis=1)\n",
    "FinalPredictRB['RushYrdsError'] = FinalPredictRB.apply(rush_error, axis=1)\n",
    "FinalPredictWR['PassYrdsError'] = FinalPredictWR.apply(pass_error, axis=1)\n",
    "FinalPredictWR['RushYrdsError'] = FinalPredictWR.apply(rush_error, axis=1)\n",
    "FinalPredictTE['PassYrdsError'] = FinalPredictTE.apply(pass_error, axis=1)\n",
    "FinalPredictTE['RushYrdsError'] = FinalPredictTE.apply(rush_error, axis=1)"
   ]
  },
  {
   "cell_type": "code",
   "execution_count": 441,
   "metadata": {
    "collapsed": true
   },
   "outputs": [],
   "source": [
    "rush_vars = ['Player', 'Team', 'Season', 'RankChange', 'PredSeasonRushYrds', 'RushYrds', 'PSRushYrds', 'RushYrdsError'\n",
    "                'PredGamesPlayedPercent', 'GamesPlayedPercent', 'PSGamesPlayedPercent', 'PredAvgRushYrds',\n",
    "                'AvgRushYrds', 'PSAvgRushYrds', 'PredRushAttPerGame', 'RushAttPerGame']\n",
    "\n",
    "pass_vars = ['Player', 'Team', 'Season', 'RankChange', 'PredSeasonPassYrds', 'PassYrds', 'PSPassYrds', 'PassYrdsError',\n",
    "                'PredGamesPlayedPercent', 'GamesPlayedPercent', 'PSGamesPlayedPercent', 'PredAvgPassYrds',\n",
    "                'AvgPassYrds', 'PSAvgPassYrds', 'PredPassAttPerGame', 'PassAttPerGame']"
   ]
  },
  {
   "cell_type": "code",
   "execution_count": 442,
   "metadata": {
    "collapsed": false
   },
   "outputs": [
    {
     "data": {
      "text/plain": [
       "17.44127258950062"
      ]
     },
     "execution_count": 442,
     "metadata": {},
     "output_type": "execute_result"
    }
   ],
   "source": [
    "FinalPredictQB['PassYrdsError'].mean()"
   ]
  },
  {
   "cell_type": "code",
   "execution_count": 443,
   "metadata": {
    "collapsed": false
   },
   "outputs": [
    {
     "data": {
      "text/plain": [
       "(0.86842556143948169, 7.1560561913620034e-103)"
      ]
     },
     "execution_count": 443,
     "metadata": {},
     "output_type": "execute_result"
    }
   ],
   "source": [
    "sp.stats.pearsonr(FinalPredictQB['PredSeasonRushYrds'], \n",
    "                  FinalPredictQB['RushYrds'])"
   ]
  },
  {
   "cell_type": "code",
   "execution_count": 444,
   "metadata": {
    "collapsed": true
   },
   "outputs": [],
   "source": [
    "def extremify_col(df, var, mult_factor):\n",
    "    mean = df[var].mean()\n",
    "    def extremify_row(row, var, mean, mult_factor):\n",
    "        new_val = (row[var] - mean) * mult_factor + mean\n",
    "        \n",
    "        if new_val < 0:\n",
    "            return 0\n",
    "        return new_val\n",
    "    \n",
    "    df[var] = df.apply(extremify_row, args=(var, mean, mult_factor,), axis=1)\n",
    "    return df"
   ]
  },
  {
   "cell_type": "code",
   "execution_count": 445,
   "metadata": {
    "collapsed": true
   },
   "outputs": [],
   "source": [
    "FinalPredictQB = extremify_col(FinalPredictQB, 'PredSeasonPassYrds', 1.25)\n",
    "FinakPredictQB = extremify_col(FinalPredictQB, 'PredSeasonRushYrds', 1.6)\n",
    "\n",
    "FinalPredictRB = extremify_col(FinalPredictRB, 'PredSeasonRushYrds', 1.4)\n",
    "FinalPredictRB = extremify_col(FinalPredictRB, 'PredSeasonPassYrds', 1.5)\n",
    "\n",
    "FinalPredictWR = extremify_col(FinalPredictWR, 'PredSeasonPassYrds', 1.6)\n",
    "\n",
    "FinalPredictTE = extremify_col(FinalPredictTE, 'PredSeasonPassYrds', 1.55)"
   ]
  },
  {
   "cell_type": "markdown",
   "metadata": {},
   "source": [
    "## Fantasy Point Scoring"
   ]
  },
  {
   "cell_type": "markdown",
   "metadata": {},
   "source": [
    "First I need to fill in the rest of the dataframe with the statistics I didn't use models to predict (due to no correlation with any of the predictor variables)."
   ]
  },
  {
   "cell_type": "code",
   "execution_count": 447,
   "metadata": {
    "collapsed": false
   },
   "outputs": [],
   "source": [
    "def add_unpredicted(FinalPredictQB, FinalPredictRB, FinalPredictTE, FinalPredictWR):\n",
    "    FinalPredictQB['PredRushTDAttRatio'] = FinalPredictQB['PSRushTDAttRatio'].mean()\n",
    "    FinalPredictQB['PredInterceptionRatio'] = FinalPredictQB['PSInterceptionRatio'].mean()\n",
    "\n",
    "    FinalPredictRB['PredPassTDAttRatio'] = FinalPredictRB['PSPassTDAttRatio'].mean()\n",
    "    FinalPredictRB['PredInterceptionRatio'] = FinalPredictRB['PSInterceptionRatio'].mean()\n",
    "    FinalPredictRB['PredRushTDAttRatio'] = FinalPredictRB['PSRushTDAttRatio'].mean()\n",
    "\n",
    "    FinalPredictWR['PredFumblesPerGame'] = FinalPredictWR['PSFumblesPerGame'].mean()\n",
    "    FinalPredictWR['PredRushTDAttRatio'] = FinalPredictWR['PSRushTDAttRatio'].mean()\n",
    "\n",
    "    FinalPredictTE['PredFumblesPerGame'] = FinalPredictTE['PSFumblesPerGame'].mean()\n",
    "    \n",
    "    return FinalPredictQB, FinalPredictRB, FinalPredictTE, FinalPredictWR\n",
    "\n",
    "FinalPredictQB, FinalPredictRB, FinalPredictTE, FinalPredictWR = \\\n",
    "    add_unpredicted(FinalPredictQB, FinalPredictRB, FinalPredictTE, FinalPredictWR)"
   ]
  },
  {
   "cell_type": "code",
   "execution_count": 448,
   "metadata": {
    "collapsed": false
   },
   "outputs": [],
   "source": [
    "def calc_final(FinalPredictQB, FinalPredictRB, FinalPredictTE, FinalPredictWR):\n",
    "    FinalPredictQB['PredSeasonFumbles'] = FinalPredictQB['PredFumblesPerGame'] * FinalPredictQB['PredGamesPlayedPercent'] * 16\n",
    "    FinalPredictRB['PredSeasonFumbles'] = FinalPredictRB['PredFumblesPerGame'] * FinalPredictRB['PredGamesPlayedPercent'] * 16\n",
    "    FinalPredictWR['PredSeasonFumbles'] = FinalPredictWR['PredFumblesPerGame'] * FinalPredictWR['PredGamesPlayedPercent'] * 16\n",
    "    FinalPredictTE['PredSeasonFumbles'] = FinalPredictTE['PredFumblesPerGame'] * FinalPredictTE['PredGamesPlayedPercent'] * 16\n",
    "\n",
    "    FinalPredictQB['PredSeasonPassTDs'] = FinalPredictQB['PredPassTDAttRatio'] * \\\n",
    "        FinalPredictQB['PredPassAttPerGame'] * FinalPredictQB['PredGamesPlayedPercent'] * 16\n",
    "    FinalPredictRB['PredSeasonPassTDs'] = FinalPredictRB['PredPassTDAttRatio'] * \\\n",
    "        FinalPredictRB['PredPassAttPerGame'] * FinalPredictRB['PredGamesPlayedPercent'] * 16\n",
    "    FinalPredictWR['PredSeasonPassTDs'] = FinalPredictWR['PredPassTDAttRatio'] * \\\n",
    "        FinalPredictWR['PredPassAttPerGame'] * FinalPredictWR['PredGamesPlayedPercent'] * 16\n",
    "    FinalPredictTE['PredSeasonPassTDs'] = FinalPredictTE['PredPassTDAttRatio'] * \\\n",
    "        FinalPredictTE['PredPassAttPerGame'] * FinalPredictTE['PredGamesPlayedPercent'] * 16\n",
    "\n",
    "    FinalPredictQB['PredSeasonInterceptions'] = FinalPredictQB['PredInterceptionRatio'] * FinalPredictQB['PredPassAttPerGame'] * \\\n",
    "        FinalPredictQB['PredGamesPlayedPercent'] * 16\n",
    "    FinalPredictRB['PredSeasonInterceptions'] = FinalPredictRB['PredInterceptionRatio'] * FinalPredictRB['PredPassAttPerGame'] * \\\n",
    "        FinalPredictRB['PredGamesPlayedPercent'] * 16\n",
    "\n",
    "    FinalPredictQB['PredSeasonRushTDs'] = FinalPredictQB['PredRushTDAttRatio'] * \\\n",
    "        FinalPredictQB['PredRushAttPerGame'] * FinalPredictQB['PredGamesPlayedPercent'] * 16\n",
    "    FinalPredictRB['PredSeasonRushTDs'] = FinalPredictRB['PredRushTDAttRatio'] * \\\n",
    "        FinalPredictRB['PredRushAttPerGame'] * FinalPredictRB['PredGamesPlayedPercent'] * 16\n",
    "    FinalPredictWR['PredSeasonRushTDs'] = FinalPredictWR['PredRushTDAttRatio'] * \\\n",
    "        FinalPredictWR['PredRushAttPerGame'] * FinalPredictWR['PredGamesPlayedPercent'] * 16\n",
    "        \n",
    "    return FinalPredictQB, FinalPredictRB, FinalPredictTE, FinalPredictWR\n",
    "\n",
    "FinalPredictQB, FinalPredictRB, FinalPredictTE, FinalPredictWR = \\\n",
    "    calc_final(FinalPredictQB, FinalPredictRB, FinalPredictTE, FinalPredictWR)"
   ]
  },
  {
   "cell_type": "code",
   "execution_count": 450,
   "metadata": {
    "collapsed": true
   },
   "outputs": [],
   "source": [
    "ScoreQB = {\n",
    "    'PredSeasonPassYrds': 1/25,\n",
    "    'PredSeasonPassTDs': 4,\n",
    "    'PredSeasonInterceptions': -1,\n",
    "    'PredSeasonFumbles': -2,\n",
    "    'PredSeasonRushYrds': 1/10,\n",
    "    'PredSeasonRushTDs': 6\n",
    "}\n",
    "\n",
    "ScoreRB = {\n",
    "    'PredSeasonRushYrds': 1/10,\n",
    "    'PredSeasonRushTDs': 6,\n",
    "    'PredSeasonFumbles': -2,\n",
    "    'PredSeasonPassYrds': 1/25,\n",
    "    'PredSeasonPassTDs': 4,\n",
    "    'PredSeasonInterceptions': -1\n",
    "}\n",
    "\n",
    "ScoreWR = {\n",
    "    'PredSeasonPassYrds': 1/10,\n",
    "    'PredSeasonPassTDs': 6,\n",
    "    'PredSeasonFumbles': -2,\n",
    "    'PredSeasonRushYrds': 1/10,\n",
    "    'PredSeasonRushTDs': 6,\n",
    "}\n",
    "\n",
    "ScoreTE = {\n",
    "    'PredSeasonPassYrds': 1/10,\n",
    "    'PredSeasonPassTDs': 6,\n",
    "    'PredSeasonFumbles': -2,\n",
    "    'PredSeasonRushYrds': 1/10\n",
    "}\n",
    "\n",
    "ScoreK = {\n",
    "    'PredSeasonFGoals': 3.25,\n",
    "    'PredSeasonExtraPoints': 1\n",
    "}"
   ]
  },
  {
   "cell_type": "code",
   "execution_count": 451,
   "metadata": {
    "collapsed": true
   },
   "outputs": [],
   "source": [
    "def score_player(row, score):\n",
    "    total = 0\n",
    "    for var in score:\n",
    "        total += score[var]*row[var]\n",
    "    \n",
    "    return total"
   ]
  },
  {
   "cell_type": "code",
   "execution_count": 452,
   "metadata": {
    "collapsed": false,
    "scrolled": true
   },
   "outputs": [],
   "source": [
    "FinalPredictQB['PredFantasyPoints'] = FinalPredictQB.apply(score_player, args=(ScoreQB,), axis=1)"
   ]
  },
  {
   "cell_type": "code",
   "execution_count": 453,
   "metadata": {
    "collapsed": false
   },
   "outputs": [
    {
     "data": {
      "text/html": [
       "<div>\n",
       "<table border=\"1\" class=\"dataframe\">\n",
       "  <thead>\n",
       "    <tr style=\"text-align: right;\">\n",
       "      <th></th>\n",
       "      <th>Player</th>\n",
       "      <th>Team</th>\n",
       "      <th>Season</th>\n",
       "      <th>PredFantasyPoints</th>\n",
       "    </tr>\n",
       "  </thead>\n",
       "  <tbody>\n",
       "    <tr>\n",
       "      <th>632</th>\n",
       "      <td>Devonta Freeman</td>\n",
       "      <td>ATL</td>\n",
       "      <td>2016</td>\n",
       "      <td>186.973390</td>\n",
       "    </tr>\n",
       "    <tr>\n",
       "      <th>647</th>\n",
       "      <td>Doug Martin</td>\n",
       "      <td>TB</td>\n",
       "      <td>2016</td>\n",
       "      <td>183.289475</td>\n",
       "    </tr>\n",
       "    <tr>\n",
       "      <th>662</th>\n",
       "      <td>Jonathan Stewart</td>\n",
       "      <td>CAR</td>\n",
       "      <td>2016</td>\n",
       "      <td>167.147556</td>\n",
       "    </tr>\n",
       "    <tr>\n",
       "      <th>710</th>\n",
       "      <td>Todd Gurley</td>\n",
       "      <td>LAR</td>\n",
       "      <td>2016</td>\n",
       "      <td>165.165888</td>\n",
       "    </tr>\n",
       "    <tr>\n",
       "      <th>666</th>\n",
       "      <td>Latavius Murray</td>\n",
       "      <td>OAK</td>\n",
       "      <td>2016</td>\n",
       "      <td>163.689417</td>\n",
       "    </tr>\n",
       "    <tr>\n",
       "      <th>669</th>\n",
       "      <td>Le'Veon Bell</td>\n",
       "      <td>PIT</td>\n",
       "      <td>2016</td>\n",
       "      <td>162.415139</td>\n",
       "    </tr>\n",
       "    <tr>\n",
       "      <th>636</th>\n",
       "      <td>Frank Gore</td>\n",
       "      <td>IND</td>\n",
       "      <td>2016</td>\n",
       "      <td>159.238016</td>\n",
       "    </tr>\n",
       "    <tr>\n",
       "      <th>629</th>\n",
       "      <td>Mark Ingram</td>\n",
       "      <td>NO</td>\n",
       "      <td>2016</td>\n",
       "      <td>148.185092</td>\n",
       "    </tr>\n",
       "    <tr>\n",
       "      <th>677</th>\n",
       "      <td>LeSean McCoy</td>\n",
       "      <td>BUF</td>\n",
       "      <td>2016</td>\n",
       "      <td>139.014440</td>\n",
       "    </tr>\n",
       "    <tr>\n",
       "      <th>670</th>\n",
       "      <td>DeAngelo Williams</td>\n",
       "      <td>PIT</td>\n",
       "      <td>2016</td>\n",
       "      <td>136.244036</td>\n",
       "    </tr>\n",
       "  </tbody>\n",
       "</table>\n",
       "</div>"
      ],
      "text/plain": [
       "                Player Team Season  PredFantasyPoints\n",
       "632    Devonta Freeman  ATL   2016         186.973390\n",
       "647        Doug Martin   TB   2016         183.289475\n",
       "662   Jonathan Stewart  CAR   2016         167.147556\n",
       "710        Todd Gurley  LAR   2016         165.165888\n",
       "666    Latavius Murray  OAK   2016         163.689417\n",
       "669       Le'Veon Bell  PIT   2016         162.415139\n",
       "636         Frank Gore  IND   2016         159.238016\n",
       "629        Mark Ingram   NO   2016         148.185092\n",
       "677       LeSean McCoy  BUF   2016         139.014440\n",
       "670  DeAngelo Williams  PIT   2016         136.244036"
      ]
     },
     "execution_count": 453,
     "metadata": {},
     "output_type": "execute_result"
    }
   ],
   "source": [
    "FinalPredictRB['PredFantasyPoints'] = FinalPredictRB.apply(score_player, args=(ScoreRB,), axis=1)\n",
    "FinalPredictRB[['Player', 'Team', 'Season', 'PredFantasyPoints']][FinalPredictRB.Season == '2016'].sort('PredFantasyPoints', ascending=False)[:10]"
   ]
  },
  {
   "cell_type": "code",
   "execution_count": 454,
   "metadata": {
    "collapsed": false
   },
   "outputs": [
    {
     "data": {
      "text/html": [
       "<div>\n",
       "<table border=\"1\" class=\"dataframe\">\n",
       "  <thead>\n",
       "    <tr style=\"text-align: right;\">\n",
       "      <th></th>\n",
       "      <th>Player</th>\n",
       "      <th>Team</th>\n",
       "      <th>Season</th>\n",
       "      <th>PredFantasyPoints</th>\n",
       "    </tr>\n",
       "  </thead>\n",
       "  <tbody>\n",
       "    <tr>\n",
       "      <th>736</th>\n",
       "      <td>Julio Jones</td>\n",
       "      <td>ATL</td>\n",
       "      <td>2016</td>\n",
       "      <td>272.708065</td>\n",
       "    </tr>\n",
       "    <tr>\n",
       "      <th>812</th>\n",
       "      <td>Jarvis Landry</td>\n",
       "      <td>MIA</td>\n",
       "      <td>2016</td>\n",
       "      <td>198.517016</td>\n",
       "    </tr>\n",
       "    <tr>\n",
       "      <th>834</th>\n",
       "      <td>Alshon Jeffery</td>\n",
       "      <td>CHI</td>\n",
       "      <td>2016</td>\n",
       "      <td>182.365645</td>\n",
       "    </tr>\n",
       "    <tr>\n",
       "      <th>815</th>\n",
       "      <td>Demaryius Thomas</td>\n",
       "      <td>DEN</td>\n",
       "      <td>2016</td>\n",
       "      <td>177.208777</td>\n",
       "    </tr>\n",
       "    <tr>\n",
       "      <th>739</th>\n",
       "      <td>T.Y. Hilton</td>\n",
       "      <td>IND</td>\n",
       "      <td>2016</td>\n",
       "      <td>166.320903</td>\n",
       "    </tr>\n",
       "    <tr>\n",
       "      <th>730</th>\n",
       "      <td>Randall Cobb</td>\n",
       "      <td>GB</td>\n",
       "      <td>2016</td>\n",
       "      <td>157.479877</td>\n",
       "    </tr>\n",
       "    <tr>\n",
       "      <th>783</th>\n",
       "      <td>Antonio Brown</td>\n",
       "      <td>PIT</td>\n",
       "      <td>2016</td>\n",
       "      <td>157.007314</td>\n",
       "    </tr>\n",
       "    <tr>\n",
       "      <th>733</th>\n",
       "      <td>Brandin Cooks</td>\n",
       "      <td>NO</td>\n",
       "      <td>2016</td>\n",
       "      <td>156.596619</td>\n",
       "    </tr>\n",
       "    <tr>\n",
       "      <th>822</th>\n",
       "      <td>DeAndre Hopkins</td>\n",
       "      <td>HOU</td>\n",
       "      <td>2016</td>\n",
       "      <td>151.157305</td>\n",
       "    </tr>\n",
       "    <tr>\n",
       "      <th>744</th>\n",
       "      <td>Pierre Garcon</td>\n",
       "      <td>WAS</td>\n",
       "      <td>2016</td>\n",
       "      <td>151.052634</td>\n",
       "    </tr>\n",
       "  </tbody>\n",
       "</table>\n",
       "</div>"
      ],
      "text/plain": [
       "               Player Team Season  PredFantasyPoints\n",
       "736       Julio Jones  ATL   2016         272.708065\n",
       "812     Jarvis Landry  MIA   2016         198.517016\n",
       "834    Alshon Jeffery  CHI   2016         182.365645\n",
       "815  Demaryius Thomas  DEN   2016         177.208777\n",
       "739       T.Y. Hilton  IND   2016         166.320903\n",
       "730      Randall Cobb   GB   2016         157.479877\n",
       "783     Antonio Brown  PIT   2016         157.007314\n",
       "733     Brandin Cooks   NO   2016         156.596619\n",
       "822   DeAndre Hopkins  HOU   2016         151.157305\n",
       "744     Pierre Garcon  WAS   2016         151.052634"
      ]
     },
     "execution_count": 454,
     "metadata": {},
     "output_type": "execute_result"
    }
   ],
   "source": [
    "FinalPredictWR['PredFantasyPoints'] = FinalPredictWR.apply(score_player, args=(ScoreWR,), axis=1)\n",
    "FinalPredictWR[['Player', 'Team', 'Season', 'PredFantasyPoints']][FinalPredictWR.Season == '2016'].sort('PredFantasyPoints', ascending=False)[:10]"
   ]
  },
  {
   "cell_type": "code",
   "execution_count": 455,
   "metadata": {
    "collapsed": false
   },
   "outputs": [
    {
     "data": {
      "text/html": [
       "<div>\n",
       "<table border=\"1\" class=\"dataframe\">\n",
       "  <thead>\n",
       "    <tr style=\"text-align: right;\">\n",
       "      <th></th>\n",
       "      <th>Player</th>\n",
       "      <th>Team</th>\n",
       "      <th>Season</th>\n",
       "      <th>PredFantasyPoints</th>\n",
       "    </tr>\n",
       "  </thead>\n",
       "  <tbody>\n",
       "    <tr>\n",
       "      <th>461</th>\n",
       "      <td>Greg Olsen</td>\n",
       "      <td>CAR</td>\n",
       "      <td>2016</td>\n",
       "      <td>176.767974</td>\n",
       "    </tr>\n",
       "    <tr>\n",
       "      <th>439</th>\n",
       "      <td>Jordan Reed</td>\n",
       "      <td>WAS</td>\n",
       "      <td>2016</td>\n",
       "      <td>163.813161</td>\n",
       "    </tr>\n",
       "    <tr>\n",
       "      <th>455</th>\n",
       "      <td>Delanie Walker</td>\n",
       "      <td>TEN</td>\n",
       "      <td>2016</td>\n",
       "      <td>154.701268</td>\n",
       "    </tr>\n",
       "    <tr>\n",
       "      <th>496</th>\n",
       "      <td>Gary Barnidge</td>\n",
       "      <td>CLE</td>\n",
       "      <td>2016</td>\n",
       "      <td>148.762246</td>\n",
       "    </tr>\n",
       "    <tr>\n",
       "      <th>482</th>\n",
       "      <td>Travis Kelce</td>\n",
       "      <td>KC</td>\n",
       "      <td>2016</td>\n",
       "      <td>148.000260</td>\n",
       "    </tr>\n",
       "    <tr>\n",
       "      <th>476</th>\n",
       "      <td>Zach Ertz</td>\n",
       "      <td>PHI</td>\n",
       "      <td>2016</td>\n",
       "      <td>144.807932</td>\n",
       "    </tr>\n",
       "    <tr>\n",
       "      <th>475</th>\n",
       "      <td>Rob Gronkowski</td>\n",
       "      <td>NE</td>\n",
       "      <td>2016</td>\n",
       "      <td>135.886649</td>\n",
       "    </tr>\n",
       "    <tr>\n",
       "      <th>479</th>\n",
       "      <td>Kyle Rudolph</td>\n",
       "      <td>MIN</td>\n",
       "      <td>2016</td>\n",
       "      <td>130.170642</td>\n",
       "    </tr>\n",
       "    <tr>\n",
       "      <th>443</th>\n",
       "      <td>Jason Witten</td>\n",
       "      <td>DAL</td>\n",
       "      <td>2016</td>\n",
       "      <td>127.410111</td>\n",
       "    </tr>\n",
       "    <tr>\n",
       "      <th>441</th>\n",
       "      <td>Antonio Gates</td>\n",
       "      <td>LAC</td>\n",
       "      <td>2016</td>\n",
       "      <td>120.079257</td>\n",
       "    </tr>\n",
       "  </tbody>\n",
       "</table>\n",
       "</div>"
      ],
      "text/plain": [
       "             Player Team Season  PredFantasyPoints\n",
       "461      Greg Olsen  CAR   2016         176.767974\n",
       "439     Jordan Reed  WAS   2016         163.813161\n",
       "455  Delanie Walker  TEN   2016         154.701268\n",
       "496   Gary Barnidge  CLE   2016         148.762246\n",
       "482    Travis Kelce   KC   2016         148.000260\n",
       "476       Zach Ertz  PHI   2016         144.807932\n",
       "475  Rob Gronkowski   NE   2016         135.886649\n",
       "479    Kyle Rudolph  MIN   2016         130.170642\n",
       "443    Jason Witten  DAL   2016         127.410111\n",
       "441   Antonio Gates  LAC   2016         120.079257"
      ]
     },
     "execution_count": 455,
     "metadata": {},
     "output_type": "execute_result"
    }
   ],
   "source": [
    "FinalPredictTE['PredFantasyPoints'] = FinalPredictTE.apply(score_player, args=(ScoreTE,), axis=1)\n",
    "FinalPredictTE[['Player', 'Team', 'Season', 'PredFantasyPoints']][FinalPredictTE.Season == '2016'].sort('PredFantasyPoints', ascending=False)[:10]"
   ]
  },
  {
   "cell_type": "markdown",
   "metadata": {},
   "source": [
    "## 2017 Season Fantasy Predictions"
   ]
  },
  {
   "cell_type": "code",
   "execution_count": 456,
   "metadata": {
    "collapsed": false,
    "scrolled": true
   },
   "outputs": [],
   "source": [
    "season_2016 = pd.merge(rank_df[rank_df.Season == '2016'], off[off.Season == '2016'], on=['Team', 'Season'])"
   ]
  },
  {
   "cell_type": "code",
   "execution_count": 457,
   "metadata": {
    "collapsed": false
   },
   "outputs": [],
   "source": [
    "season_2017 = season_2016.copy()\n",
    "season_2017['Season'] = '2017'\n",
    "season_2017  = pd.concat([season_2017, season_2016])\n",
    "season_2017 = build_season_df(season_2017, interacts=True, categorical=['RankChange', 'Rank'], season_range=(2016, 2018))"
   ]
  },
  {
   "cell_type": "code",
   "execution_count": 458,
   "metadata": {
    "collapsed": true
   },
   "outputs": [],
   "source": [
    "for var in season_2017['RankChange'].unique():\n",
    "    season_2017 = add_interacts(season_2017, [('PSGamesPlayedPercent', var)])"
   ]
  },
  {
   "cell_type": "code",
   "execution_count": 459,
   "metadata": {
    "collapsed": true
   },
   "outputs": [],
   "source": [
    "QB2017 = season_2017[season_2017.Position == 'QB']\n",
    "RB2017 = season_2017[season_2017.Position == 'RB']\n",
    "WR2017 = season_2017[season_2017.Position == 'WR']\n",
    "TE2017 = season_2017[season_2017.Position == 'TE']"
   ]
  },
  {
   "cell_type": "code",
   "execution_count": 460,
   "metadata": {
    "collapsed": false
   },
   "outputs": [],
   "source": [
    "QB2017 = QB2017.set_value(QB2017[QB2017.Player == 'Tom Brady'].index[0], 'PSGamesPlayedPercent', 1.0)\n",
    "TE2017 = TE2017.set_value(TE2017[TE2017.Player == 'Rob Gronkowski'].index[0], 'PSGamesPlayedPercent', 1.0)"
   ]
  },
  {
   "cell_type": "code",
   "execution_count": 461,
   "metadata": {
    "collapsed": false
   },
   "outputs": [],
   "source": [
    "QB2017['PredGamesPlayedPercent'] = QB2017.apply(apply_pred_games, args=(GamesModelQB, sizes, means,), axis=1)\n",
    "RB2017['PredGamesPlayedPercent'] = RB2017.apply(apply_pred_games, args=(GamesModelRB, sizes, means,), axis=1)\n",
    "TE2017['PredGamesPlayedPercent'] = TE2017.apply(apply_pred_games, args=(GamesModelTE, sizes, means,), axis=1)\n",
    "WR2017['PredGamesPlayedPercent'] = WR2017.apply(apply_pred_games, args=(GamesModelWR, sizes, means,), axis=1)"
   ]
  },
  {
   "cell_type": "code",
   "execution_count": 462,
   "metadata": {
    "collapsed": false
   },
   "outputs": [],
   "source": [
    "QB2017 = extremify_col(QB2017, 'PredGamesPlayedPercent', 1.25)\n",
    "RB2017 = extremify_col(RB2017, 'PredGamesPlayedPercent', 1.6)\n",
    "WR2017 = extremify_col(WR2017, 'PredGamesPlayedPercent', 1.55)\n",
    "TE2017 = extremify_col(TE2017, 'PredGamesPlayedPercent', 1.5)"
   ]
  },
  {
   "cell_type": "code",
   "execution_count": 463,
   "metadata": {
    "collapsed": true
   },
   "outputs": [],
   "source": [
    "def round_down(row):\n",
    "    if row['PredGamesPlayedPercent'] > 1.0:\n",
    "        return 1.0\n",
    "    return row['PredGamesPlayedPercent']"
   ]
  },
  {
   "cell_type": "code",
   "execution_count": 464,
   "metadata": {
    "collapsed": false
   },
   "outputs": [],
   "source": [
    "QB2017['PredGamesPlayedPercent'] = QB2017.apply(round_down, axis=1)"
   ]
  },
  {
   "cell_type": "code",
   "execution_count": 465,
   "metadata": {
    "collapsed": false
   },
   "outputs": [
    {
     "name": "stdout",
     "output_type": "stream",
     "text": [
      "Predicting RushAttPerGame...\n",
      "Predicting PassTDAttRatio...\n",
      "Predicting AvgRushYrds...\n",
      "Predicting PassAttPerGame...\n",
      "Predicting AvgPassYrds...\n",
      "Predicting FumblesPerGame...\n",
      "Predicting AvgRushYrds...\n",
      "Predicting AvgPassYrds...\n",
      "Predicting FumblesPerGame...\n",
      "Predicting PassAttPerGame...\n",
      "Predicting RushAttPerGame...\n",
      "Predicting PassAttPerGame...\n",
      "Predicting AvgPassYrds...\n",
      "Predicting RushAttPerGame...\n",
      "Predicting PassTDAttRatio...\n",
      "Predicting AvgRushYrds...\n",
      "Predicting PassAttPerGame...\n",
      "Predicting AvgPassYrds...\n",
      "Predicting RushAttPerGame...\n",
      "Predicting PassTDAttRatio...\n",
      "Predicting AvgRushYrds...\n"
     ]
    }
   ],
   "source": [
    "StatsPredictQB = ModelsQB.predict_df(season_2017[season_2017.Position == 'QB'])\n",
    "StatsPredictRB = ModelsRB.predict_df(season_2017[season_2017.Position == 'RB'])\n",
    "StatsPredictWR = ModelsWR.predict_df(season_2017[season_2017.Position == 'WR'])\n",
    "StatsPredictTE = ModelsTE.predict_df(season_2017[season_2017.Position == 'TE'])"
   ]
  },
  {
   "cell_type": "code",
   "execution_count": 466,
   "metadata": {
    "collapsed": true
   },
   "outputs": [],
   "source": [
    "games_vars = ['Player', 'Team', 'Position', 'Season', 'PredGamesPlayedPercent']\n",
    "QB2017 = pd.merge(QB2017[games_vars], StatsPredictQB, on=['Player', 'Team', 'Position', 'Season'])\n",
    "RB2017 = pd.merge(RB2017[games_vars], StatsPredictRB, on=['Player', 'Team', 'Position', 'Season'])\n",
    "TE2017 = pd.merge(TE2017[games_vars], StatsPredictTE, on=['Player', 'Team', 'Position', 'Season'])\n",
    "WR2017 = pd.merge(WR2017[games_vars], StatsPredictWR, on=['Player', 'Team', 'Position', 'Season'])"
   ]
  },
  {
   "cell_type": "code",
   "execution_count": 467,
   "metadata": {
    "collapsed": true
   },
   "outputs": [],
   "source": [
    "QB2017['PredSeasonPassYrds'] = QB2017.apply(total_pass, axis=1)\n",
    "QB2017['PredSeasonRushYrds'] = QB2017.apply(total_rush, axis=1)\n",
    "RB2017['PredSeasonPassYrds'] = RB2017.apply(total_pass, axis=1)\n",
    "RB2017['PredSeasonRushYrds'] = RB2017.apply(total_rush, axis=1)\n",
    "TE2017['PredSeasonPassYrds'] = TE2017.apply(total_pass, axis=1)\n",
    "TE2017['PredSeasonRushYrds'] = TE2017.apply(total_rush, axis=1)\n",
    "WR2017['PredSeasonPassYrds'] = WR2017.apply(total_pass, axis=1)\n",
    "WR2017['PredSeasonRushYrds'] = WR2017.apply(total_rush, axis=1)"
   ]
  },
  {
   "cell_type": "code",
   "execution_count": 468,
   "metadata": {
    "collapsed": false,
    "scrolled": true
   },
   "outputs": [],
   "source": [
    "QB2017, RB2017, TE2017, WR2017 = add_unpredicted(QB2017, RB2017, TE2017, WR2017)\n",
    "QB2017, RB2017, TE2017, WR2017 = calc_final(QB2017, RB2017, TE2017, WR2017)"
   ]
  },
  {
   "cell_type": "code",
   "execution_count": 469,
   "metadata": {
    "collapsed": false
   },
   "outputs": [],
   "source": [
    "QB2017['PredFantasyPoints'] = QB2017.apply(score_player, args=(ScoreQB,), axis=1)\n",
    "RB2017['PredFantasyPoints'] = RB2017.apply(score_player, args=(ScoreRB,), axis=1)\n",
    "TE2017['PredFantasyPoints'] = TE2017.apply(score_player, args=(ScoreTE,), axis=1)\n",
    "WR2017['PredFantasyPoints'] = WR2017.apply(score_player, args=(ScoreWR,), axis=1)"
   ]
  },
  {
   "cell_type": "markdown",
   "metadata": {},
   "source": [
    "#### Quarterbacks"
   ]
  },
  {
   "cell_type": "code",
   "execution_count": 470,
   "metadata": {
    "collapsed": false
   },
   "outputs": [
    {
     "data": {
      "text/html": [
       "<div>\n",
       "<table border=\"1\" class=\"dataframe\">\n",
       "  <thead>\n",
       "    <tr style=\"text-align: right;\">\n",
       "      <th></th>\n",
       "      <th>Player</th>\n",
       "      <th>Team</th>\n",
       "      <th>PredFantasyPoints</th>\n",
       "      <th>PredSeasonPassYrds</th>\n",
       "      <th>PSPassYrds</th>\n",
       "      <th>PredGamesPlayedPercent</th>\n",
       "    </tr>\n",
       "  </thead>\n",
       "  <tbody>\n",
       "    <tr>\n",
       "      <th>2</th>\n",
       "      <td>Drew Brees</td>\n",
       "      <td>NO</td>\n",
       "      <td>312.455247</td>\n",
       "      <td>5002.296167</td>\n",
       "      <td>5208.0</td>\n",
       "      <td>0.934669</td>\n",
       "    </tr>\n",
       "    <tr>\n",
       "      <th>7</th>\n",
       "      <td>Kirk Cousins</td>\n",
       "      <td>WAS</td>\n",
       "      <td>290.544271</td>\n",
       "      <td>4515.005492</td>\n",
       "      <td>4917.0</td>\n",
       "      <td>0.934669</td>\n",
       "    </tr>\n",
       "    <tr>\n",
       "      <th>0</th>\n",
       "      <td>Aaron Rodgers</td>\n",
       "      <td>GB</td>\n",
       "      <td>290.000147</td>\n",
       "      <td>4303.418304</td>\n",
       "      <td>4428.0</td>\n",
       "      <td>0.934669</td>\n",
       "    </tr>\n",
       "    <tr>\n",
       "      <th>37</th>\n",
       "      <td>Tom Brady</td>\n",
       "      <td>NE</td>\n",
       "      <td>282.234888</td>\n",
       "      <td>4592.517635</td>\n",
       "      <td>3554.0</td>\n",
       "      <td>1.000000</td>\n",
       "    </tr>\n",
       "    <tr>\n",
       "      <th>5</th>\n",
       "      <td>Andrew Luck</td>\n",
       "      <td>IND</td>\n",
       "      <td>270.317899</td>\n",
       "      <td>4071.172931</td>\n",
       "      <td>4240.0</td>\n",
       "      <td>0.920572</td>\n",
       "    </tr>\n",
       "    <tr>\n",
       "      <th>31</th>\n",
       "      <td>Joe Flacco</td>\n",
       "      <td>BAL</td>\n",
       "      <td>265.932029</td>\n",
       "      <td>4344.493486</td>\n",
       "      <td>4317.0</td>\n",
       "      <td>0.934669</td>\n",
       "    </tr>\n",
       "    <tr>\n",
       "      <th>3</th>\n",
       "      <td>Matt Ryan</td>\n",
       "      <td>ATL</td>\n",
       "      <td>261.249318</td>\n",
       "      <td>4164.390822</td>\n",
       "      <td>4944.0</td>\n",
       "      <td>0.934669</td>\n",
       "    </tr>\n",
       "    <tr>\n",
       "      <th>16</th>\n",
       "      <td>Russell Wilson</td>\n",
       "      <td>SEA</td>\n",
       "      <td>260.825714</td>\n",
       "      <td>3952.764759</td>\n",
       "      <td>4219.0</td>\n",
       "      <td>0.934669</td>\n",
       "    </tr>\n",
       "    <tr>\n",
       "      <th>10</th>\n",
       "      <td>Matthew Stafford</td>\n",
       "      <td>DET</td>\n",
       "      <td>260.317427</td>\n",
       "      <td>4129.195790</td>\n",
       "      <td>4327.0</td>\n",
       "      <td>0.934669</td>\n",
       "    </tr>\n",
       "    <tr>\n",
       "      <th>18</th>\n",
       "      <td>Andy Dalton</td>\n",
       "      <td>CIN</td>\n",
       "      <td>256.679792</td>\n",
       "      <td>3964.181054</td>\n",
       "      <td>4206.0</td>\n",
       "      <td>0.934669</td>\n",
       "    </tr>\n",
       "  </tbody>\n",
       "</table>\n",
       "</div>"
      ],
      "text/plain": [
       "              Player Team  PredFantasyPoints  PredSeasonPassYrds  PSPassYrds  \\\n",
       "2         Drew Brees   NO         312.455247         5002.296167      5208.0   \n",
       "7       Kirk Cousins  WAS         290.544271         4515.005492      4917.0   \n",
       "0      Aaron Rodgers   GB         290.000147         4303.418304      4428.0   \n",
       "37         Tom Brady   NE         282.234888         4592.517635      3554.0   \n",
       "5        Andrew Luck  IND         270.317899         4071.172931      4240.0   \n",
       "31        Joe Flacco  BAL         265.932029         4344.493486      4317.0   \n",
       "3          Matt Ryan  ATL         261.249318         4164.390822      4944.0   \n",
       "16    Russell Wilson  SEA         260.825714         3952.764759      4219.0   \n",
       "10  Matthew Stafford  DET         260.317427         4129.195790      4327.0   \n",
       "18       Andy Dalton  CIN         256.679792         3964.181054      4206.0   \n",
       "\n",
       "    PredGamesPlayedPercent  \n",
       "2                 0.934669  \n",
       "7                 0.934669  \n",
       "0                 0.934669  \n",
       "37                1.000000  \n",
       "5                 0.920572  \n",
       "31                0.934669  \n",
       "3                 0.934669  \n",
       "16                0.934669  \n",
       "10                0.934669  \n",
       "18                0.934669  "
      ]
     },
     "execution_count": 470,
     "metadata": {},
     "output_type": "execute_result"
    }
   ],
   "source": [
    "QB2017[['Player', 'Team', 'PredFantasyPoints', 'PredSeasonPassYrds', 'PSPassYrds', 'PredGamesPlayedPercent']] \\\n",
    "    .sort('PredFantasyPoints', ascending=False)[:10]"
   ]
  },
  {
   "cell_type": "code",
   "execution_count": 1232,
   "metadata": {
    "collapsed": false,
    "scrolled": true
   },
   "outputs": [
    {
     "data": {
      "text/html": [
       "<div>\n",
       "<table border=\"1\" class=\"dataframe\">\n",
       "  <thead>\n",
       "    <tr style=\"text-align: right;\">\n",
       "      <th></th>\n",
       "      <th>Player</th>\n",
       "      <th>Team</th>\n",
       "      <th>PredFantasyPoints</th>\n",
       "      <th>PredSeasonRushYrds</th>\n",
       "      <th>PSRushYrds</th>\n",
       "    </tr>\n",
       "  </thead>\n",
       "  <tbody>\n",
       "    <tr>\n",
       "      <th>81</th>\n",
       "      <td>Le'Veon Bell</td>\n",
       "      <td>PIT</td>\n",
       "      <td>176.624349</td>\n",
       "      <td>1175.106612</td>\n",
       "      <td>1268.0</td>\n",
       "    </tr>\n",
       "    <tr>\n",
       "      <th>36</th>\n",
       "      <td>Ezekiel Elliott</td>\n",
       "      <td>DAL</td>\n",
       "      <td>169.256531</td>\n",
       "      <td>1183.908293</td>\n",
       "      <td>1631.0</td>\n",
       "    </tr>\n",
       "    <tr>\n",
       "      <th>63</th>\n",
       "      <td>DeMarco Murray</td>\n",
       "      <td>TEN</td>\n",
       "      <td>151.503950</td>\n",
       "      <td>1016.222521</td>\n",
       "      <td>1287.0</td>\n",
       "    </tr>\n",
       "    <tr>\n",
       "      <th>67</th>\n",
       "      <td>David Johnson</td>\n",
       "      <td>ARI</td>\n",
       "      <td>151.073639</td>\n",
       "      <td>974.787584</td>\n",
       "      <td>1239.0</td>\n",
       "    </tr>\n",
       "    <tr>\n",
       "      <th>25</th>\n",
       "      <td>Melvin Gordon</td>\n",
       "      <td>LAC</td>\n",
       "      <td>151.026010</td>\n",
       "      <td>1004.314506</td>\n",
       "      <td>997.0</td>\n",
       "    </tr>\n",
       "    <tr>\n",
       "      <th>154</th>\n",
       "      <td>Jordan Howard</td>\n",
       "      <td>CHI</td>\n",
       "      <td>150.324069</td>\n",
       "      <td>1032.856791</td>\n",
       "      <td>1313.0</td>\n",
       "    </tr>\n",
       "    <tr>\n",
       "      <th>138</th>\n",
       "      <td>Lamar Miller</td>\n",
       "      <td>HOU</td>\n",
       "      <td>147.549497</td>\n",
       "      <td>1011.645771</td>\n",
       "      <td>1073.0</td>\n",
       "    </tr>\n",
       "    <tr>\n",
       "      <th>124</th>\n",
       "      <td>Jay Ajayi</td>\n",
       "      <td>MIA</td>\n",
       "      <td>140.731293</td>\n",
       "      <td>982.818537</td>\n",
       "      <td>1272.0</td>\n",
       "    </tr>\n",
       "    <tr>\n",
       "      <th>102</th>\n",
       "      <td>LeGarrette Blount</td>\n",
       "      <td>NE</td>\n",
       "      <td>136.763012</td>\n",
       "      <td>981.536129</td>\n",
       "      <td>1161.0</td>\n",
       "    </tr>\n",
       "    <tr>\n",
       "      <th>150</th>\n",
       "      <td>Todd Gurley</td>\n",
       "      <td>LAR</td>\n",
       "      <td>134.730751</td>\n",
       "      <td>887.629871</td>\n",
       "      <td>885.0</td>\n",
       "    </tr>\n",
       "  </tbody>\n",
       "</table>\n",
       "</div>"
      ],
      "text/plain": [
       "                Player Team  PredFantasyPoints  PredSeasonRushYrds  PSRushYrds\n",
       "81        Le'Veon Bell  PIT         176.624349         1175.106612      1268.0\n",
       "36     Ezekiel Elliott  DAL         169.256531         1183.908293      1631.0\n",
       "63      DeMarco Murray  TEN         151.503950         1016.222521      1287.0\n",
       "67       David Johnson  ARI         151.073639          974.787584      1239.0\n",
       "25       Melvin Gordon  LAC         151.026010         1004.314506       997.0\n",
       "154      Jordan Howard  CHI         150.324069         1032.856791      1313.0\n",
       "138       Lamar Miller  HOU         147.549497         1011.645771      1073.0\n",
       "124          Jay Ajayi  MIA         140.731293          982.818537      1272.0\n",
       "102  LeGarrette Blount   NE         136.763012          981.536129      1161.0\n",
       "150        Todd Gurley  LAR         134.730751          887.629871       885.0"
      ]
     },
     "execution_count": 1232,
     "metadata": {},
     "output_type": "execute_result"
    }
   ],
   "source": [
    "RB2017[['Player', 'Team', 'PredFantasyPoints', 'PredSeasonRushYrds', 'PSRushYrds']] \\\n",
    "    .sort('PredFantasyPoints', ascending=False)[:10]"
   ]
  },
  {
   "cell_type": "code",
   "execution_count": 473,
   "metadata": {
    "collapsed": false,
    "scrolled": false
   },
   "outputs": [
    {
     "data": {
      "text/html": [
       "<div>\n",
       "<table border=\"1\" class=\"dataframe\">\n",
       "  <thead>\n",
       "    <tr style=\"text-align: right;\">\n",
       "      <th></th>\n",
       "      <th>Player</th>\n",
       "      <th>Team</th>\n",
       "      <th>PredFantasyPoints</th>\n",
       "      <th>PredSeasonPassYrds</th>\n",
       "      <th>PSPassYrds</th>\n",
       "    </tr>\n",
       "  </thead>\n",
       "  <tbody>\n",
       "    <tr>\n",
       "      <th>77</th>\n",
       "      <td>Kyle Rudolph</td>\n",
       "      <td>MIN</td>\n",
       "      <td>119.209178</td>\n",
       "      <td>830.546932</td>\n",
       "      <td>840.0</td>\n",
       "    </tr>\n",
       "    <tr>\n",
       "      <th>49</th>\n",
       "      <td>Greg Olsen</td>\n",
       "      <td>CAR</td>\n",
       "      <td>118.264892</td>\n",
       "      <td>872.238356</td>\n",
       "      <td>1073.0</td>\n",
       "    </tr>\n",
       "    <tr>\n",
       "      <th>14</th>\n",
       "      <td>Jordan Reed</td>\n",
       "      <td>WAS</td>\n",
       "      <td>118.074548</td>\n",
       "      <td>821.230517</td>\n",
       "      <td>686.0</td>\n",
       "    </tr>\n",
       "    <tr>\n",
       "      <th>81</th>\n",
       "      <td>Travis Kelce</td>\n",
       "      <td>KC</td>\n",
       "      <td>116.992157</td>\n",
       "      <td>862.234081</td>\n",
       "      <td>1125.0</td>\n",
       "    </tr>\n",
       "    <tr>\n",
       "      <th>33</th>\n",
       "      <td>Jimmy Graham</td>\n",
       "      <td>SEA</td>\n",
       "      <td>110.404713</td>\n",
       "      <td>788.000164</td>\n",
       "      <td>923.0</td>\n",
       "    </tr>\n",
       "    <tr>\n",
       "      <th>58</th>\n",
       "      <td>Dennis Pitta</td>\n",
       "      <td>BAL</td>\n",
       "      <td>106.392367</td>\n",
       "      <td>773.401977</td>\n",
       "      <td>729.0</td>\n",
       "    </tr>\n",
       "    <tr>\n",
       "      <th>40</th>\n",
       "      <td>Delanie Walker</td>\n",
       "      <td>TEN</td>\n",
       "      <td>103.288708</td>\n",
       "      <td>717.748842</td>\n",
       "      <td>800.0</td>\n",
       "    </tr>\n",
       "    <tr>\n",
       "      <th>74</th>\n",
       "      <td>Zach Ertz</td>\n",
       "      <td>PHI</td>\n",
       "      <td>101.520197</td>\n",
       "      <td>731.417073</td>\n",
       "      <td>816.0</td>\n",
       "    </tr>\n",
       "    <tr>\n",
       "      <th>69</th>\n",
       "      <td>Martellus Bennett</td>\n",
       "      <td>NE</td>\n",
       "      <td>101.400960</td>\n",
       "      <td>696.956654</td>\n",
       "      <td>701.0</td>\n",
       "    </tr>\n",
       "    <tr>\n",
       "      <th>3</th>\n",
       "      <td>Coby Fleener</td>\n",
       "      <td>NO</td>\n",
       "      <td>100.754783</td>\n",
       "      <td>727.090528</td>\n",
       "      <td>631.0</td>\n",
       "    </tr>\n",
       "  </tbody>\n",
       "</table>\n",
       "</div>"
      ],
      "text/plain": [
       "               Player Team  PredFantasyPoints  PredSeasonPassYrds  PSPassYrds\n",
       "77       Kyle Rudolph  MIN         119.209178          830.546932       840.0\n",
       "49         Greg Olsen  CAR         118.264892          872.238356      1073.0\n",
       "14        Jordan Reed  WAS         118.074548          821.230517       686.0\n",
       "81       Travis Kelce   KC         116.992157          862.234081      1125.0\n",
       "33       Jimmy Graham  SEA         110.404713          788.000164       923.0\n",
       "58       Dennis Pitta  BAL         106.392367          773.401977       729.0\n",
       "40     Delanie Walker  TEN         103.288708          717.748842       800.0\n",
       "74          Zach Ertz  PHI         101.520197          731.417073       816.0\n",
       "69  Martellus Bennett   NE         101.400960          696.956654       701.0\n",
       "3        Coby Fleener   NO         100.754783          727.090528       631.0"
      ]
     },
     "execution_count": 473,
     "metadata": {},
     "output_type": "execute_result"
    }
   ],
   "source": [
    "TE2017[['Player', 'Team', 'PredFantasyPoints', 'PredSeasonPassYrds', 'PSPassYrds']] \\\n",
    "    .sort('PredFantasyPoints', ascending=False)[:10]"
   ]
  },
  {
   "cell_type": "code",
   "execution_count": 1234,
   "metadata": {
    "collapsed": false
   },
   "outputs": [
    {
     "data": {
      "text/html": [
       "<div>\n",
       "<table border=\"1\" class=\"dataframe\">\n",
       "  <thead>\n",
       "    <tr style=\"text-align: right;\">\n",
       "      <th></th>\n",
       "      <th>Player</th>\n",
       "      <th>Team</th>\n",
       "      <th>PredFantasyPoints</th>\n",
       "      <th>PredSeasonPassYrds</th>\n",
       "      <th>PSPassYrds</th>\n",
       "    </tr>\n",
       "  </thead>\n",
       "  <tbody>\n",
       "    <tr>\n",
       "      <th>117</th>\n",
       "      <td>Julian Edelman</td>\n",
       "      <td>NE</td>\n",
       "      <td>145.503579</td>\n",
       "      <td>1076.482035</td>\n",
       "      <td>1106.0</td>\n",
       "    </tr>\n",
       "    <tr>\n",
       "      <th>18</th>\n",
       "      <td>T.Y. Hilton</td>\n",
       "      <td>IND</td>\n",
       "      <td>138.147442</td>\n",
       "      <td>1130.808226</td>\n",
       "      <td>1448.0</td>\n",
       "    </tr>\n",
       "    <tr>\n",
       "      <th>12</th>\n",
       "      <td>Julio Jones</td>\n",
       "      <td>ATL</td>\n",
       "      <td>135.057889</td>\n",
       "      <td>1129.120170</td>\n",
       "      <td>1409.0</td>\n",
       "    </tr>\n",
       "    <tr>\n",
       "      <th>189</th>\n",
       "      <td>Terrelle Pryor Sr.</td>\n",
       "      <td>CLE</td>\n",
       "      <td>130.622312</td>\n",
       "      <td>1013.677860</td>\n",
       "      <td>1007.0</td>\n",
       "    </tr>\n",
       "    <tr>\n",
       "      <th>111</th>\n",
       "      <td>Odell Beckham Jr</td>\n",
       "      <td>NYG</td>\n",
       "      <td>127.862909</td>\n",
       "      <td>1159.847754</td>\n",
       "      <td>1367.0</td>\n",
       "    </tr>\n",
       "    <tr>\n",
       "      <th>160</th>\n",
       "      <td>DeAndre Hopkins</td>\n",
       "      <td>HOU</td>\n",
       "      <td>127.830272</td>\n",
       "      <td>1013.208969</td>\n",
       "      <td>954.0</td>\n",
       "    </tr>\n",
       "    <tr>\n",
       "      <th>73</th>\n",
       "      <td>Larry Fitzgerald</td>\n",
       "      <td>ARI</td>\n",
       "      <td>126.501100</td>\n",
       "      <td>1019.608253</td>\n",
       "      <td>1023.0</td>\n",
       "    </tr>\n",
       "    <tr>\n",
       "      <th>39</th>\n",
       "      <td>Golden Tate</td>\n",
       "      <td>DET</td>\n",
       "      <td>126.077970</td>\n",
       "      <td>966.676670</td>\n",
       "      <td>1077.0</td>\n",
       "    </tr>\n",
       "    <tr>\n",
       "      <th>146</th>\n",
       "      <td>Demaryius Thomas</td>\n",
       "      <td>DEN</td>\n",
       "      <td>123.223822</td>\n",
       "      <td>996.927987</td>\n",
       "      <td>1083.0</td>\n",
       "    </tr>\n",
       "    <tr>\n",
       "      <th>175</th>\n",
       "      <td>Tavon Austin</td>\n",
       "      <td>LAR</td>\n",
       "      <td>121.324331</td>\n",
       "      <td>777.833582</td>\n",
       "      <td>509.0</td>\n",
       "    </tr>\n",
       "  </tbody>\n",
       "</table>\n",
       "</div>"
      ],
      "text/plain": [
       "                 Player Team  PredFantasyPoints  PredSeasonPassYrds  \\\n",
       "117      Julian Edelman   NE         145.503579         1076.482035   \n",
       "18          T.Y. Hilton  IND         138.147442         1130.808226   \n",
       "12          Julio Jones  ATL         135.057889         1129.120170   \n",
       "189  Terrelle Pryor Sr.  CLE         130.622312         1013.677860   \n",
       "111    Odell Beckham Jr  NYG         127.862909         1159.847754   \n",
       "160     DeAndre Hopkins  HOU         127.830272         1013.208969   \n",
       "73     Larry Fitzgerald  ARI         126.501100         1019.608253   \n",
       "39          Golden Tate  DET         126.077970          966.676670   \n",
       "146    Demaryius Thomas  DEN         123.223822          996.927987   \n",
       "175        Tavon Austin  LAR         121.324331          777.833582   \n",
       "\n",
       "     PSPassYrds  \n",
       "117      1106.0  \n",
       "18       1448.0  \n",
       "12       1409.0  \n",
       "189      1007.0  \n",
       "111      1367.0  \n",
       "160       954.0  \n",
       "73       1023.0  \n",
       "39       1077.0  \n",
       "146      1083.0  \n",
       "175       509.0  "
      ]
     },
     "execution_count": 1234,
     "metadata": {},
     "output_type": "execute_result"
    }
   ],
   "source": [
    "WR2017[['Player', 'Team', 'PredFantasyPoints', 'PredSeasonPassYrds', 'PSPassYrds']] \\\n",
    "    .sort('PredFantasyPoints', ascending=False)[:10]"
   ]
  },
  {
   "cell_type": "markdown",
   "metadata": {},
   "source": [
    "## Kicker Predictions"
   ]
  },
  {
   "cell_type": "code",
   "execution_count": 229,
   "metadata": {
    "collapsed": true
   },
   "outputs": [],
   "source": [
    "kicker_vars = ['Player', 'Position', 'Team', 'Season', 'Games', 'FGoals', 'FGoalsMissed',\n",
    "                'ExtraPoints', 'ExtraPointsMissed']"
   ]
  },
  {
   "cell_type": "code",
   "execution_count": 230,
   "metadata": {
    "collapsed": false,
    "scrolled": true
   },
   "outputs": [
    {
     "data": {
      "text/html": [
       "<div>\n",
       "<table border=\"1\" class=\"dataframe\">\n",
       "  <thead>\n",
       "    <tr style=\"text-align: right;\">\n",
       "      <th></th>\n",
       "      <th>Player</th>\n",
       "      <th>Position</th>\n",
       "      <th>Team</th>\n",
       "      <th>Season</th>\n",
       "      <th>Games</th>\n",
       "      <th>FGoals</th>\n",
       "      <th>FGoalsMissed</th>\n",
       "      <th>ExtraPoints</th>\n",
       "      <th>ExtraPointsMissed</th>\n",
       "    </tr>\n",
       "  </thead>\n",
       "  <tbody>\n",
       "    <tr>\n",
       "      <th>0</th>\n",
       "      <td>Robbie Gould</td>\n",
       "      <td>PK</td>\n",
       "      <td>CHI</td>\n",
       "      <td>2006</td>\n",
       "      <td>16.0</td>\n",
       "      <td>32.0</td>\n",
       "      <td>4.0</td>\n",
       "      <td>47.0</td>\n",
       "      <td>0.0</td>\n",
       "    </tr>\n",
       "    <tr>\n",
       "      <th>1</th>\n",
       "      <td>Nate Kaeding</td>\n",
       "      <td>PK</td>\n",
       "      <td>LAC</td>\n",
       "      <td>2006</td>\n",
       "      <td>16.0</td>\n",
       "      <td>26.0</td>\n",
       "      <td>3.0</td>\n",
       "      <td>58.0</td>\n",
       "      <td>0.0</td>\n",
       "    </tr>\n",
       "    <tr>\n",
       "      <th>2</th>\n",
       "      <td>Jeff Wilkins</td>\n",
       "      <td>PK</td>\n",
       "      <td>LAR</td>\n",
       "      <td>2006</td>\n",
       "      <td>16.0</td>\n",
       "      <td>32.0</td>\n",
       "      <td>5.0</td>\n",
       "      <td>35.0</td>\n",
       "      <td>0.0</td>\n",
       "    </tr>\n",
       "    <tr>\n",
       "      <th>3</th>\n",
       "      <td>Matt Stover</td>\n",
       "      <td>PK</td>\n",
       "      <td>BAL</td>\n",
       "      <td>2006</td>\n",
       "      <td>16.0</td>\n",
       "      <td>28.0</td>\n",
       "      <td>2.0</td>\n",
       "      <td>37.0</td>\n",
       "      <td>0.0</td>\n",
       "    </tr>\n",
       "    <tr>\n",
       "      <th>4</th>\n",
       "      <td>Josh Scobee</td>\n",
       "      <td>PK</td>\n",
       "      <td>JAC</td>\n",
       "      <td>2006</td>\n",
       "      <td>16.0</td>\n",
       "      <td>26.0</td>\n",
       "      <td>6.0</td>\n",
       "      <td>41.0</td>\n",
       "      <td>0.0</td>\n",
       "    </tr>\n",
       "  </tbody>\n",
       "</table>\n",
       "</div>"
      ],
      "text/plain": [
       "         Player Position Team Season  Games  FGoals  FGoalsMissed  \\\n",
       "0  Robbie Gould       PK  CHI   2006   16.0    32.0           4.0   \n",
       "1  Nate Kaeding       PK  LAC   2006   16.0    26.0           3.0   \n",
       "2  Jeff Wilkins       PK  LAR   2006   16.0    32.0           5.0   \n",
       "3   Matt Stover       PK  BAL   2006   16.0    28.0           2.0   \n",
       "4   Josh Scobee       PK  JAC   2006   16.0    26.0           6.0   \n",
       "\n",
       "   ExtraPoints  ExtraPointsMissed  \n",
       "0         47.0                0.0  \n",
       "1         58.0                0.0  \n",
       "2         35.0                0.0  \n",
       "3         37.0                0.0  \n",
       "4         41.0                0.0  "
      ]
     },
     "execution_count": 230,
     "metadata": {},
     "output_type": "execute_result"
    }
   ],
   "source": [
    "kick = select_to_df('fantasy.db', 'KickerSeason', kicker_vars)\n",
    "kick.head()"
   ]
  },
  {
   "cell_type": "code",
   "execution_count": 231,
   "metadata": {
    "collapsed": false
   },
   "outputs": [],
   "source": [
    "kick['FGoalAtt'] = kick['FGoals'] + kick['FGoalsMissed']\n",
    "kick['FGoalsPerGame'] = kick['FGoals'] / kick['Games']\n",
    "kick['FGoalAttPerGame'] = kick['FGoalAtt'] / kick['Games']\n",
    "\n",
    "kick['ExtraPointsAtt'] = kick['ExtraPoints'] + kick['ExtraPointsMissed']\n",
    "kick['ExtraPointsPerGame'] = kick['ExtraPoints'] / kick['Games']\n",
    "kick['ExtraPointAttPerGame'] = kick['ExtraPointsAtt'] / kick['Games']\n",
    "\n",
    "def agp(row):\n",
    "    if row['Games'] == 16:\n",
    "        return 1\n",
    "    else:\n",
    "        return 0\n",
    "    \n",
    "kick['AllGamesPlayed'] = kick.apply(agp, axis=1)\n",
    "kick['GamesPlayedPercent'] = kick['Games'] / 16"
   ]
  },
  {
   "cell_type": "code",
   "execution_count": 232,
   "metadata": {
    "collapsed": false
   },
   "outputs": [],
   "source": [
    "ModelsK = PositionModels('K')"
   ]
  },
  {
   "cell_type": "code",
   "execution_count": 233,
   "metadata": {
    "collapsed": false
   },
   "outputs": [],
   "source": [
    "kick_rank = select_to_df('fantasy.db', 'Roster', ['Player', 'Position', 'Team', 'Season', 'Rank'], ' WHERE Position = \\'K\\'')"
   ]
  },
  {
   "cell_type": "code",
   "execution_count": 234,
   "metadata": {
    "collapsed": false
   },
   "outputs": [],
   "source": [
    "kickers = pd.merge(kick, kick_rank, on=['Player', 'Team', 'Season'], how='left')"
   ]
  },
  {
   "cell_type": "code",
   "execution_count": 235,
   "metadata": {
    "collapsed": false
   },
   "outputs": [],
   "source": [
    "kickers = kickers.rename(columns={'Position_x': 'Position'})"
   ]
  },
  {
   "cell_type": "code",
   "execution_count": 236,
   "metadata": {
    "collapsed": true
   },
   "outputs": [],
   "source": [
    "def is_starter(row):\n",
    "    if row['Rank'] == 1:\n",
    "        return 1\n",
    "    return 0\n",
    "\n",
    "kickers['Starter'] = kickers.apply(is_starter, axis=1)"
   ]
  },
  {
   "cell_type": "code",
   "execution_count": 237,
   "metadata": {
    "collapsed": false,
    "scrolled": true
   },
   "outputs": [
    {
     "name": "stdout",
     "output_type": "stream",
     "text": [
      "|=== Predicting FGoalsPerGame ===|\n",
      "\n",
      "|====== Model Coefficients ======|\n",
      "PSFGoalsPerGame: -0.0132445898665\n",
      "PSFGoalAttPerGame: 0.220436397198\n",
      "PSStarter: 0.188892829401\n",
      "Intercept: 1.00005986582\n",
      "\n",
      "|========== Performance ==========|\n",
      "R-Sqr on Seasons 2014 to 2016: 0.105224264787\n",
      "Train Data Size: 165\n",
      "Test Data Size:80\n"
     ]
    }
   ],
   "source": [
    "FGoalPerGame = create_model(kickers, 'PK', 'FGoalsPerGame', \n",
    "                           ['FGoalsPerGame', 'FGoalAttPerGame', 'Starter'], \n",
    "                   game_limit=0, test_cutoff=2014, interacts=[])\n",
    "ModelsK.add_model('FGoalsPerGame', FGoalPerGame)"
   ]
  },
  {
   "cell_type": "code",
   "execution_count": 241,
   "metadata": {
    "collapsed": false
   },
   "outputs": [
    {
     "name": "stdout",
     "output_type": "stream",
     "text": [
      "|=== Predicting ExtraPointsPerGame ===|\n",
      "\n",
      "|====== Model Coefficients ======|\n",
      "PSExtraPointsPerGame: 2.77429163058\n",
      "PSExtraPointAttPerGame: -2.41087028702\n",
      "Intercept: 1.49945400562\n",
      "\n",
      "|========== Performance ==========|\n",
      "R-Sqr on Seasons 2014 to 2016: 0.157240100978\n",
      "Train Data Size: 165\n",
      "Test Data Size:80\n"
     ]
    }
   ],
   "source": [
    "ExtraPointsPerGame = create_model(kickers, 'PK', 'ExtraPointsPerGame', \n",
    "                           ['ExtraPointsPerGame', 'ExtraPointAttPerGame'], \n",
    "                   game_limit=0, test_cutoff=2014, interacts=[])\n",
    "ModelsK.add_model('ExtraPointsPerGame', ExtraPointsPerGame)"
   ]
  },
  {
   "cell_type": "code",
   "execution_count": 242,
   "metadata": {
    "collapsed": false,
    "scrolled": true
   },
   "outputs": [],
   "source": [
    "kick_2016 = kickers[kickers.Season == '2016']\n",
    "kick_2017 = kick_2016.copy()\n",
    "kick_2017['Season'] = '2017'\n",
    "kick_2017  = pd.concat([kick_2017, kick_2016])\n",
    "kick_2017 = build_season_df(kick_2017, interacts=True, season_range=(2017, 2018))"
   ]
  },
  {
   "cell_type": "code",
   "execution_count": 243,
   "metadata": {
    "collapsed": false,
    "scrolled": false
   },
   "outputs": [
    {
     "name": "stdout",
     "output_type": "stream",
     "text": [
      "Predicting FGoalsPerGame...\n",
      "Predicting ExtraPointsPerGame...\n"
     ]
    }
   ],
   "source": [
    "PredictK = ModelsK.predict_df(kick_2017)"
   ]
  },
  {
   "cell_type": "code",
   "execution_count": 244,
   "metadata": {
    "collapsed": false
   },
   "outputs": [],
   "source": [
    "kick_means = kickers.groupby('Starter')['GamesPlayedPercent'].mean()"
   ]
  },
  {
   "cell_type": "code",
   "execution_count": 245,
   "metadata": {
    "collapsed": false
   },
   "outputs": [],
   "source": [
    "def gp_kick(row, means):\n",
    "    if row['Starter'] == 1:\n",
    "        return means[1]\n",
    "    return means[0]\n",
    "\n",
    "PredictK['PredGamesPlayedPercent'] = PredictK.apply(gp_kick, args=(kick_means,), axis=1)"
   ]
  },
  {
   "cell_type": "code",
   "execution_count": 251,
   "metadata": {
    "collapsed": false
   },
   "outputs": [],
   "source": [
    "PredictK['PredSeasonFGoals'] = PredictK['PredFGoalsPerGame'] * PredictK['PredGamesPlayedPercent'] * 16\n",
    "PredictK['PredSeasonExtraPoints'] = PredictK['PredExtraPointsPerGame'] * PredictK['PredGamesPlayedPercent'] * 16\n",
    "PredictK['PredFantasyPoints'] = PredictK.apply(score_player, args=(ScoreK,), axis=1)"
   ]
  },
  {
   "cell_type": "code",
   "execution_count": 253,
   "metadata": {
    "collapsed": false
   },
   "outputs": [
    {
     "data": {
      "text/html": [
       "<div>\n",
       "<table border=\"1\" class=\"dataframe\">\n",
       "  <thead>\n",
       "    <tr style=\"text-align: right;\">\n",
       "      <th></th>\n",
       "      <th>Player</th>\n",
       "      <th>Team</th>\n",
       "      <th>Season</th>\n",
       "      <th>PredFantasyPoints</th>\n",
       "      <th>PredSeasonFGoals</th>\n",
       "      <th>PredSeasonExtraPoints</th>\n",
       "    </tr>\n",
       "  </thead>\n",
       "  <tbody>\n",
       "    <tr>\n",
       "      <th>0</th>\n",
       "      <td>Matt Bryant</td>\n",
       "      <td>ATL</td>\n",
       "      <td>2017</td>\n",
       "      <td>123.062296</td>\n",
       "      <td>25.538070</td>\n",
       "      <td>40.063568</td>\n",
       "    </tr>\n",
       "    <tr>\n",
       "      <th>4</th>\n",
       "      <td>Wil Lutz</td>\n",
       "      <td>NO</td>\n",
       "      <td>2017</td>\n",
       "      <td>118.824975</td>\n",
       "      <td>24.982154</td>\n",
       "      <td>37.632973</td>\n",
       "    </tr>\n",
       "    <tr>\n",
       "      <th>7</th>\n",
       "      <td>Dan Bailey</td>\n",
       "      <td>DAL</td>\n",
       "      <td>2017</td>\n",
       "      <td>118.758872</td>\n",
       "      <td>24.573581</td>\n",
       "      <td>38.894735</td>\n",
       "    </tr>\n",
       "    <tr>\n",
       "      <th>10</th>\n",
       "      <td>Adam Vinatieri</td>\n",
       "      <td>IND</td>\n",
       "      <td>2017</td>\n",
       "      <td>117.379921</td>\n",
       "      <td>24.362966</td>\n",
       "      <td>38.200280</td>\n",
       "    </tr>\n",
       "    <tr>\n",
       "      <th>3</th>\n",
       "      <td>Caleb Sturgis</td>\n",
       "      <td>PHI</td>\n",
       "      <td>2017</td>\n",
       "      <td>116.731228</td>\n",
       "      <td>26.367872</td>\n",
       "      <td>31.035643</td>\n",
       "    </tr>\n",
       "    <tr>\n",
       "      <th>1</th>\n",
       "      <td>Justin Tucker</td>\n",
       "      <td>BAL</td>\n",
       "      <td>2017</td>\n",
       "      <td>116.500617</td>\n",
       "      <td>25.908681</td>\n",
       "      <td>32.297406</td>\n",
       "    </tr>\n",
       "    <tr>\n",
       "      <th>2</th>\n",
       "      <td>Dustin Hopkins</td>\n",
       "      <td>WAS</td>\n",
       "      <td>2017</td>\n",
       "      <td>114.933326</td>\n",
       "      <td>26.591141</td>\n",
       "      <td>28.512119</td>\n",
       "    </tr>\n",
       "    <tr>\n",
       "      <th>12</th>\n",
       "      <td>Sebastian Janikowski</td>\n",
       "      <td>OAK</td>\n",
       "      <td>2017</td>\n",
       "      <td>112.998163</td>\n",
       "      <td>25.180114</td>\n",
       "      <td>31.162793</td>\n",
       "    </tr>\n",
       "    <tr>\n",
       "      <th>16</th>\n",
       "      <td>Brandon McManus</td>\n",
       "      <td>DEN</td>\n",
       "      <td>2017</td>\n",
       "      <td>112.880974</td>\n",
       "      <td>24.969500</td>\n",
       "      <td>31.730099</td>\n",
       "    </tr>\n",
       "    <tr>\n",
       "      <th>21</th>\n",
       "      <td>Chris Boswell</td>\n",
       "      <td>PIT</td>\n",
       "      <td>2017</td>\n",
       "      <td>112.658479</td>\n",
       "      <td>23.508516</td>\n",
       "      <td>36.255803</td>\n",
       "    </tr>\n",
       "  </tbody>\n",
       "</table>\n",
       "</div>"
      ],
      "text/plain": [
       "                  Player Team Season  PredFantasyPoints  PredSeasonFGoals  \\\n",
       "0            Matt Bryant  ATL   2017         123.062296         25.538070   \n",
       "4               Wil Lutz   NO   2017         118.824975         24.982154   \n",
       "7             Dan Bailey  DAL   2017         118.758872         24.573581   \n",
       "10        Adam Vinatieri  IND   2017         117.379921         24.362966   \n",
       "3          Caleb Sturgis  PHI   2017         116.731228         26.367872   \n",
       "1          Justin Tucker  BAL   2017         116.500617         25.908681   \n",
       "2         Dustin Hopkins  WAS   2017         114.933326         26.591141   \n",
       "12  Sebastian Janikowski  OAK   2017         112.998163         25.180114   \n",
       "16       Brandon McManus  DEN   2017         112.880974         24.969500   \n",
       "21         Chris Boswell  PIT   2017         112.658479         23.508516   \n",
       "\n",
       "    PredSeasonExtraPoints  \n",
       "0               40.063568  \n",
       "4               37.632973  \n",
       "7               38.894735  \n",
       "10              38.200280  \n",
       "3               31.035643  \n",
       "1               32.297406  \n",
       "2               28.512119  \n",
       "12              31.162793  \n",
       "16              31.730099  \n",
       "21              36.255803  "
      ]
     },
     "execution_count": 253,
     "metadata": {},
     "output_type": "execute_result"
    }
   ],
   "source": [
    "PredictK[['Player', 'Team', 'Season', 'PredFantasyPoints', \n",
    "          'PredSeasonFGoals', 'PredSeasonExtraPoints']].sort('PredFantasyPoints', ascending=False)[:10]"
   ]
  },
  {
   "cell_type": "markdown",
   "metadata": {},
   "source": [
    "## Defense Predictions"
   ]
  },
  {
   "cell_type": "code",
   "execution_count": 254,
   "metadata": {
    "collapsed": true
   },
   "outputs": [],
   "source": [
    "def_vars = ['City', 'Position',\n",
    "            'Season', 'Team', 'Sacks',\n",
    "            'FRecoveries',\n",
    "            'Interceptions',\n",
    "            'TDs',\n",
    "            'Safeties',\n",
    "            'RushYrdsAllowed',\n",
    "            'PassYrdsAllowed',\n",
    "            'TotalYrdsAllowed']"
   ]
  },
  {
   "cell_type": "code",
   "execution_count": 255,
   "metadata": {
    "collapsed": false
   },
   "outputs": [
    {
     "data": {
      "text/html": [
       "<div>\n",
       "<table border=\"1\" class=\"dataframe\">\n",
       "  <thead>\n",
       "    <tr style=\"text-align: right;\">\n",
       "      <th></th>\n",
       "      <th>City</th>\n",
       "      <th>Position</th>\n",
       "      <th>Season</th>\n",
       "      <th>Team</th>\n",
       "      <th>Sacks</th>\n",
       "      <th>FRecoveries</th>\n",
       "      <th>Interceptions</th>\n",
       "      <th>TDs</th>\n",
       "      <th>Safeties</th>\n",
       "      <th>RushYrdsAllowed</th>\n",
       "      <th>PassYrdsAllowed</th>\n",
       "      <th>TotalYrdsAllowed</th>\n",
       "    </tr>\n",
       "  </thead>\n",
       "  <tbody>\n",
       "    <tr>\n",
       "      <th>0</th>\n",
       "      <td>Chicago</td>\n",
       "      <td>DF</td>\n",
       "      <td>2006</td>\n",
       "      <td>CHI</td>\n",
       "      <td>40.0</td>\n",
       "      <td>20.0</td>\n",
       "      <td>24.0</td>\n",
       "      <td>8.0</td>\n",
       "      <td>1.0</td>\n",
       "      <td>1590.0</td>\n",
       "      <td>3388.0</td>\n",
       "      <td>4978.0</td>\n",
       "    </tr>\n",
       "    <tr>\n",
       "      <th>1</th>\n",
       "      <td>Baltimore</td>\n",
       "      <td>DF</td>\n",
       "      <td>2006</td>\n",
       "      <td>BAL</td>\n",
       "      <td>60.0</td>\n",
       "      <td>9.0</td>\n",
       "      <td>28.0</td>\n",
       "      <td>6.0</td>\n",
       "      <td>2.0</td>\n",
       "      <td>1214.0</td>\n",
       "      <td>3429.0</td>\n",
       "      <td>4643.0</td>\n",
       "    </tr>\n",
       "    <tr>\n",
       "      <th>2</th>\n",
       "      <td>Green Bay</td>\n",
       "      <td>DF</td>\n",
       "      <td>2006</td>\n",
       "      <td>GB</td>\n",
       "      <td>46.0</td>\n",
       "      <td>10.0</td>\n",
       "      <td>23.0</td>\n",
       "      <td>5.0</td>\n",
       "      <td>0.0</td>\n",
       "      <td>1825.0</td>\n",
       "      <td>3646.0</td>\n",
       "      <td>5471.0</td>\n",
       "    </tr>\n",
       "    <tr>\n",
       "      <th>3</th>\n",
       "      <td>Minnesota</td>\n",
       "      <td>DF</td>\n",
       "      <td>2006</td>\n",
       "      <td>MIN</td>\n",
       "      <td>30.0</td>\n",
       "      <td>15.0</td>\n",
       "      <td>21.0</td>\n",
       "      <td>6.0</td>\n",
       "      <td>0.0</td>\n",
       "      <td>985.0</td>\n",
       "      <td>4015.0</td>\n",
       "      <td>5000.0</td>\n",
       "    </tr>\n",
       "    <tr>\n",
       "      <th>4</th>\n",
       "      <td>Tennessee</td>\n",
       "      <td>DF</td>\n",
       "      <td>2006</td>\n",
       "      <td>TEN</td>\n",
       "      <td>26.0</td>\n",
       "      <td>10.0</td>\n",
       "      <td>17.0</td>\n",
       "      <td>8.0</td>\n",
       "      <td>2.0</td>\n",
       "      <td>2313.0</td>\n",
       "      <td>3750.0</td>\n",
       "      <td>6063.0</td>\n",
       "    </tr>\n",
       "  </tbody>\n",
       "</table>\n",
       "</div>"
      ],
      "text/plain": [
       "        City Position Season Team  Sacks  FRecoveries  Interceptions  TDs  \\\n",
       "0    Chicago       DF   2006  CHI   40.0         20.0           24.0  8.0   \n",
       "1  Baltimore       DF   2006  BAL   60.0          9.0           28.0  6.0   \n",
       "2  Green Bay       DF   2006   GB   46.0         10.0           23.0  5.0   \n",
       "3  Minnesota       DF   2006  MIN   30.0         15.0           21.0  6.0   \n",
       "4  Tennessee       DF   2006  TEN   26.0         10.0           17.0  8.0   \n",
       "\n",
       "   Safeties  RushYrdsAllowed  PassYrdsAllowed  TotalYrdsAllowed  \n",
       "0       1.0           1590.0           3388.0            4978.0  \n",
       "1       2.0           1214.0           3429.0            4643.0  \n",
       "2       0.0           1825.0           3646.0            5471.0  \n",
       "3       0.0            985.0           4015.0            5000.0  \n",
       "4       2.0           2313.0           3750.0            6063.0  "
      ]
     },
     "execution_count": 255,
     "metadata": {},
     "output_type": "execute_result"
    }
   ],
   "source": [
    "defense = select_to_df('fantasy.db', 'DefenseSeason', def_vars)"
   ]
  },
  {
   "cell_type": "code",
   "execution_count": 256,
   "metadata": {
    "collapsed": true
   },
   "outputs": [],
   "source": [
    "defense['SafetiesPerGame'] = defense['Safeties'] / 16\n",
    "defense['SacksPerGame'] = defense['Sacks'] / 16\n",
    "defense['TDsPerGame'] = defense['TDs'] / 16\n",
    "defense['InterceptionsPerGame'] = defense['Interceptions'] / 16\n",
    "defense['YrdsAllowedPerGame'] = defense['TotalYrdsAllowed'] / 16"
   ]
  },
  {
   "cell_type": "code",
   "execution_count": 262,
   "metadata": {
    "collapsed": false,
    "scrolled": true
   },
   "outputs": [],
   "source": [
    "off = select_to_df('fantasy.db', 'OffenseSeason', offense_lbls)\n",
    "yards_per_point = off.Yards.sum() / off.Points.sum()"
   ]
  },
  {
   "cell_type": "code",
   "execution_count": 265,
   "metadata": {
    "collapsed": true
   },
   "outputs": [],
   "source": [
    "defense['EstPointsAllowed'] = defense['TotalYrdsAllowed'] / yards_per_point\n",
    "defense['EstPointsAllowedPerGame'] = defense['EstPointsAllowed'] / 16"
   ]
  },
  {
   "cell_type": "code",
   "execution_count": 266,
   "metadata": {
    "collapsed": false,
    "scrolled": true
   },
   "outputs": [
    {
     "data": {
      "text/html": [
       "<div>\n",
       "<table border=\"1\" class=\"dataframe\">\n",
       "  <thead>\n",
       "    <tr style=\"text-align: right;\">\n",
       "      <th></th>\n",
       "      <th>City</th>\n",
       "      <th>Position</th>\n",
       "      <th>Season</th>\n",
       "      <th>Team</th>\n",
       "      <th>Sacks</th>\n",
       "      <th>FRecoveries</th>\n",
       "      <th>Interceptions</th>\n",
       "      <th>TDs</th>\n",
       "      <th>Safeties</th>\n",
       "      <th>RushYrdsAllowed</th>\n",
       "      <th>PassYrdsAllowed</th>\n",
       "      <th>TotalYrdsAllowed</th>\n",
       "      <th>SafetiesPerGame</th>\n",
       "      <th>SacksPerGame</th>\n",
       "      <th>TDsPerGame</th>\n",
       "      <th>InterceptionsPerGame</th>\n",
       "      <th>YrdsAllowedPerGame</th>\n",
       "      <th>EstPointsAllowed</th>\n",
       "      <th>EstPointsAllowedPerGame</th>\n",
       "    </tr>\n",
       "  </thead>\n",
       "  <tbody>\n",
       "    <tr>\n",
       "      <th>347</th>\n",
       "      <td>San Francisco</td>\n",
       "      <td>DF</td>\n",
       "      <td>2016</td>\n",
       "      <td>SF</td>\n",
       "      <td>31.0</td>\n",
       "      <td>10.0</td>\n",
       "      <td>10.0</td>\n",
       "      <td>0.0</td>\n",
       "      <td>1.0</td>\n",
       "      <td>2654.0</td>\n",
       "      <td>4013.0</td>\n",
       "      <td>6667.0</td>\n",
       "      <td>0.0625</td>\n",
       "      <td>1.9375</td>\n",
       "      <td>0.0000</td>\n",
       "      <td>0.6250</td>\n",
       "      <td>416.6875</td>\n",
       "      <td>436.499392</td>\n",
       "      <td>27.281212</td>\n",
       "    </tr>\n",
       "    <tr>\n",
       "      <th>348</th>\n",
       "      <td>Los Angeles</td>\n",
       "      <td>DF</td>\n",
       "      <td>2016</td>\n",
       "      <td>LAR</td>\n",
       "      <td>31.0</td>\n",
       "      <td>8.0</td>\n",
       "      <td>10.0</td>\n",
       "      <td>1.0</td>\n",
       "      <td>0.0</td>\n",
       "      <td>1660.0</td>\n",
       "      <td>3928.0</td>\n",
       "      <td>5588.0</td>\n",
       "      <td>0.0000</td>\n",
       "      <td>1.9375</td>\n",
       "      <td>0.0625</td>\n",
       "      <td>0.6250</td>\n",
       "      <td>349.2500</td>\n",
       "      <td>365.855498</td>\n",
       "      <td>22.865969</td>\n",
       "    </tr>\n",
       "    <tr>\n",
       "      <th>349</th>\n",
       "      <td>Jacksonville</td>\n",
       "      <td>DF</td>\n",
       "      <td>2016</td>\n",
       "      <td>JAC</td>\n",
       "      <td>33.0</td>\n",
       "      <td>6.0</td>\n",
       "      <td>7.0</td>\n",
       "      <td>2.0</td>\n",
       "      <td>0.0</td>\n",
       "      <td>1703.0</td>\n",
       "      <td>3627.0</td>\n",
       "      <td>5330.0</td>\n",
       "      <td>0.0000</td>\n",
       "      <td>2.0625</td>\n",
       "      <td>0.1250</td>\n",
       "      <td>0.4375</td>\n",
       "      <td>333.1250</td>\n",
       "      <td>348.963816</td>\n",
       "      <td>21.810238</td>\n",
       "    </tr>\n",
       "    <tr>\n",
       "      <th>350</th>\n",
       "      <td>Cleveland</td>\n",
       "      <td>DF</td>\n",
       "      <td>2016</td>\n",
       "      <td>CLE</td>\n",
       "      <td>26.0</td>\n",
       "      <td>3.0</td>\n",
       "      <td>10.0</td>\n",
       "      <td>1.0</td>\n",
       "      <td>0.0</td>\n",
       "      <td>2283.0</td>\n",
       "      <td>4173.0</td>\n",
       "      <td>6456.0</td>\n",
       "      <td>0.0000</td>\n",
       "      <td>1.6250</td>\n",
       "      <td>0.0625</td>\n",
       "      <td>0.6250</td>\n",
       "      <td>403.5000</td>\n",
       "      <td>422.684877</td>\n",
       "      <td>26.417805</td>\n",
       "    </tr>\n",
       "    <tr>\n",
       "      <th>351</th>\n",
       "      <td>New York</td>\n",
       "      <td>DF</td>\n",
       "      <td>2016</td>\n",
       "      <td>NYJ</td>\n",
       "      <td>27.0</td>\n",
       "      <td>4.0</td>\n",
       "      <td>8.0</td>\n",
       "      <td>0.0</td>\n",
       "      <td>0.0</td>\n",
       "      <td>1581.0</td>\n",
       "      <td>4077.0</td>\n",
       "      <td>5658.0</td>\n",
       "      <td>0.0000</td>\n",
       "      <td>1.6875</td>\n",
       "      <td>0.0000</td>\n",
       "      <td>0.5000</td>\n",
       "      <td>353.6250</td>\n",
       "      <td>370.438512</td>\n",
       "      <td>23.152407</td>\n",
       "    </tr>\n",
       "  </tbody>\n",
       "</table>\n",
       "</div>"
      ],
      "text/plain": [
       "              City Position Season Team  Sacks  FRecoveries  Interceptions  \\\n",
       "347  San Francisco       DF   2016   SF   31.0         10.0           10.0   \n",
       "348    Los Angeles       DF   2016  LAR   31.0          8.0           10.0   \n",
       "349   Jacksonville       DF   2016  JAC   33.0          6.0            7.0   \n",
       "350      Cleveland       DF   2016  CLE   26.0          3.0           10.0   \n",
       "351       New York       DF   2016  NYJ   27.0          4.0            8.0   \n",
       "\n",
       "     TDs  Safeties  RushYrdsAllowed  PassYrdsAllowed  TotalYrdsAllowed  \\\n",
       "347  0.0       1.0           2654.0           4013.0            6667.0   \n",
       "348  1.0       0.0           1660.0           3928.0            5588.0   \n",
       "349  2.0       0.0           1703.0           3627.0            5330.0   \n",
       "350  1.0       0.0           2283.0           4173.0            6456.0   \n",
       "351  0.0       0.0           1581.0           4077.0            5658.0   \n",
       "\n",
       "     SafetiesPerGame  SacksPerGame  TDsPerGame  InterceptionsPerGame  \\\n",
       "347           0.0625        1.9375      0.0000                0.6250   \n",
       "348           0.0000        1.9375      0.0625                0.6250   \n",
       "349           0.0000        2.0625      0.1250                0.4375   \n",
       "350           0.0000        1.6250      0.0625                0.6250   \n",
       "351           0.0000        1.6875      0.0000                0.5000   \n",
       "\n",
       "     YrdsAllowedPerGame  EstPointsAllowed  EstPointsAllowedPerGame  \n",
       "347            416.6875        436.499392                27.281212  \n",
       "348            349.2500        365.855498                22.865969  \n",
       "349            333.1250        348.963816                21.810238  \n",
       "350            403.5000        422.684877                26.417805  \n",
       "351            353.6250        370.438512                23.152407  "
      ]
     },
     "execution_count": 266,
     "metadata": {},
     "output_type": "execute_result"
    }
   ],
   "source": [
    "defense.tail()"
   ]
  },
  {
   "cell_type": "markdown",
   "metadata": {},
   "source": [
    "#### Points Allowed Line"
   ]
  },
  {
   "cell_type": "code",
   "execution_count": 541,
   "metadata": {
    "collapsed": true
   },
   "outputs": [],
   "source": [
    "yahoo_points = [(0,10), (6,7), (13,4), (20,1), (27,0), (34,-1), (40,-4)]\n",
    "# ie yahoo awards 10 points if a team gives up 0 yards, 7 points if they give up 6 yards, and so on"
   ]
  },
  {
   "cell_type": "code",
   "execution_count": 701,
   "metadata": {
    "collapsed": true
   },
   "outputs": [],
   "source": [
    "def predict_yahoo_points(row, yahoo_points):\n",
    "    points_allowed = row['PredPointsAllowedPerGame']\n",
    "    if points_allowed > yahoo_points[len(yahoo_points)-1][0]:\n",
    "        return -4\n",
    "    \n",
    "    for idx in range(len(yahoo_points)):\n",
    "        left = yahoo_points[idx]\n",
    "        right = yahoo_points[idx+1]\n",
    "        \n",
    "        if points_allowed >= left[0] and points_allowed < right[0]:\n",
    "            x_prop = (points_allowed - left[0]) / (right[0] - left[0])\n",
    "            y_extra = x_prop * (right[1] - left[1])\n",
    "            \n",
    "            return left[1] + y_extra\n",
    "    \n",
    "    return yahoo_points[len(yahoo_points)][0]\n",
    "            "
   ]
  },
  {
   "cell_type": "code",
   "execution_count": 582,
   "metadata": {
    "collapsed": false
   },
   "outputs": [
    {
     "name": "stdout",
     "output_type": "stream",
     "text": [
      "0.5714285714285714\n"
     ]
    },
    {
     "data": {
      "text/plain": [
       "5.285714285714286"
      ]
     },
     "execution_count": 582,
     "metadata": {},
     "output_type": "execute_result"
    }
   ],
   "source": [
    "predict_yahoo_points(10, yahoo_points)"
   ]
  },
  {
   "cell_type": "code",
   "execution_count": 586,
   "metadata": {
    "collapsed": true
   },
   "outputs": [],
   "source": [
    "defense['GamesPlayedPercent'] = 1.0"
   ]
  },
  {
   "cell_type": "code",
   "execution_count": 587,
   "metadata": {
    "collapsed": false
   },
   "outputs": [
    {
     "data": {
      "text/html": [
       "<div>\n",
       "<table border=\"1\" class=\"dataframe\">\n",
       "  <thead>\n",
       "    <tr style=\"text-align: right;\">\n",
       "      <th></th>\n",
       "      <th>City</th>\n",
       "      <th>Position</th>\n",
       "      <th>Season</th>\n",
       "      <th>Team</th>\n",
       "      <th>Sacks</th>\n",
       "      <th>FRecoveries</th>\n",
       "      <th>Interceptions</th>\n",
       "      <th>TDs</th>\n",
       "      <th>Safeties</th>\n",
       "      <th>RushYrdsAllowed</th>\n",
       "      <th>PassYrdsAllowed</th>\n",
       "      <th>TotalYrdsAllowed</th>\n",
       "      <th>SafetiesPerGame</th>\n",
       "      <th>SacksPerGame</th>\n",
       "      <th>TDsPerGame</th>\n",
       "      <th>InterceptionsPerGame</th>\n",
       "      <th>YrdsAllowedPerGame</th>\n",
       "      <th>EstPointsAllowed</th>\n",
       "      <th>EstPointsAllowedPerGame</th>\n",
       "      <th>GamesPlayedPercent</th>\n",
       "    </tr>\n",
       "  </thead>\n",
       "  <tbody>\n",
       "    <tr>\n",
       "      <th>0</th>\n",
       "      <td>Chicago</td>\n",
       "      <td>DF</td>\n",
       "      <td>2006</td>\n",
       "      <td>CHI</td>\n",
       "      <td>40.0</td>\n",
       "      <td>20.0</td>\n",
       "      <td>24.0</td>\n",
       "      <td>8.0</td>\n",
       "      <td>1.0</td>\n",
       "      <td>1590.0</td>\n",
       "      <td>3388.0</td>\n",
       "      <td>4978.0</td>\n",
       "      <td>0.0625</td>\n",
       "      <td>2.500</td>\n",
       "      <td>0.5000</td>\n",
       "      <td>1.5000</td>\n",
       "      <td>311.1250</td>\n",
       "      <td>325.917800</td>\n",
       "      <td>20.369863</td>\n",
       "      <td>1.0</td>\n",
       "    </tr>\n",
       "    <tr>\n",
       "      <th>1</th>\n",
       "      <td>Baltimore</td>\n",
       "      <td>DF</td>\n",
       "      <td>2006</td>\n",
       "      <td>BAL</td>\n",
       "      <td>60.0</td>\n",
       "      <td>9.0</td>\n",
       "      <td>28.0</td>\n",
       "      <td>6.0</td>\n",
       "      <td>2.0</td>\n",
       "      <td>1214.0</td>\n",
       "      <td>3429.0</td>\n",
       "      <td>4643.0</td>\n",
       "      <td>0.1250</td>\n",
       "      <td>3.750</td>\n",
       "      <td>0.3750</td>\n",
       "      <td>1.7500</td>\n",
       "      <td>290.1875</td>\n",
       "      <td>303.984802</td>\n",
       "      <td>18.999050</td>\n",
       "      <td>1.0</td>\n",
       "    </tr>\n",
       "    <tr>\n",
       "      <th>2</th>\n",
       "      <td>Green Bay</td>\n",
       "      <td>DF</td>\n",
       "      <td>2006</td>\n",
       "      <td>GB</td>\n",
       "      <td>46.0</td>\n",
       "      <td>10.0</td>\n",
       "      <td>23.0</td>\n",
       "      <td>5.0</td>\n",
       "      <td>0.0</td>\n",
       "      <td>1825.0</td>\n",
       "      <td>3646.0</td>\n",
       "      <td>5471.0</td>\n",
       "      <td>0.0000</td>\n",
       "      <td>2.875</td>\n",
       "      <td>0.3125</td>\n",
       "      <td>1.4375</td>\n",
       "      <td>341.9375</td>\n",
       "      <td>358.195316</td>\n",
       "      <td>22.387207</td>\n",
       "      <td>1.0</td>\n",
       "    </tr>\n",
       "    <tr>\n",
       "      <th>3</th>\n",
       "      <td>Minnesota</td>\n",
       "      <td>DF</td>\n",
       "      <td>2006</td>\n",
       "      <td>MIN</td>\n",
       "      <td>30.0</td>\n",
       "      <td>15.0</td>\n",
       "      <td>21.0</td>\n",
       "      <td>6.0</td>\n",
       "      <td>0.0</td>\n",
       "      <td>985.0</td>\n",
       "      <td>4015.0</td>\n",
       "      <td>5000.0</td>\n",
       "      <td>0.0000</td>\n",
       "      <td>1.875</td>\n",
       "      <td>0.3750</td>\n",
       "      <td>1.3125</td>\n",
       "      <td>312.5000</td>\n",
       "      <td>327.358176</td>\n",
       "      <td>20.459886</td>\n",
       "      <td>1.0</td>\n",
       "    </tr>\n",
       "    <tr>\n",
       "      <th>4</th>\n",
       "      <td>Tennessee</td>\n",
       "      <td>DF</td>\n",
       "      <td>2006</td>\n",
       "      <td>TEN</td>\n",
       "      <td>26.0</td>\n",
       "      <td>10.0</td>\n",
       "      <td>17.0</td>\n",
       "      <td>8.0</td>\n",
       "      <td>2.0</td>\n",
       "      <td>2313.0</td>\n",
       "      <td>3750.0</td>\n",
       "      <td>6063.0</td>\n",
       "      <td>0.1250</td>\n",
       "      <td>1.625</td>\n",
       "      <td>0.5000</td>\n",
       "      <td>1.0625</td>\n",
       "      <td>378.9375</td>\n",
       "      <td>396.954524</td>\n",
       "      <td>24.809658</td>\n",
       "      <td>1.0</td>\n",
       "    </tr>\n",
       "  </tbody>\n",
       "</table>\n",
       "</div>"
      ],
      "text/plain": [
       "        City Position Season Team  Sacks  FRecoveries  Interceptions  TDs  \\\n",
       "0    Chicago       DF   2006  CHI   40.0         20.0           24.0  8.0   \n",
       "1  Baltimore       DF   2006  BAL   60.0          9.0           28.0  6.0   \n",
       "2  Green Bay       DF   2006   GB   46.0         10.0           23.0  5.0   \n",
       "3  Minnesota       DF   2006  MIN   30.0         15.0           21.0  6.0   \n",
       "4  Tennessee       DF   2006  TEN   26.0         10.0           17.0  8.0   \n",
       "\n",
       "   Safeties  RushYrdsAllowed  PassYrdsAllowed  TotalYrdsAllowed  \\\n",
       "0       1.0           1590.0           3388.0            4978.0   \n",
       "1       2.0           1214.0           3429.0            4643.0   \n",
       "2       0.0           1825.0           3646.0            5471.0   \n",
       "3       0.0            985.0           4015.0            5000.0   \n",
       "4       2.0           2313.0           3750.0            6063.0   \n",
       "\n",
       "   SafetiesPerGame  SacksPerGame  TDsPerGame  InterceptionsPerGame  \\\n",
       "0           0.0625         2.500      0.5000                1.5000   \n",
       "1           0.1250         3.750      0.3750                1.7500   \n",
       "2           0.0000         2.875      0.3125                1.4375   \n",
       "3           0.0000         1.875      0.3750                1.3125   \n",
       "4           0.1250         1.625      0.5000                1.0625   \n",
       "\n",
       "   YrdsAllowedPerGame  EstPointsAllowed  EstPointsAllowedPerGame  \\\n",
       "0            311.1250        325.917800                20.369863   \n",
       "1            290.1875        303.984802                18.999050   \n",
       "2            341.9375        358.195316                22.387207   \n",
       "3            312.5000        327.358176                20.459886   \n",
       "4            378.9375        396.954524                24.809658   \n",
       "\n",
       "   GamesPlayedPercent  \n",
       "0                 1.0  \n",
       "1                 1.0  \n",
       "2                 1.0  \n",
       "3                 1.0  \n",
       "4                 1.0  "
      ]
     },
     "execution_count": 587,
     "metadata": {},
     "output_type": "execute_result"
    }
   ],
   "source": [
    "defense.head()"
   ]
  },
  {
   "cell_type": "markdown",
   "metadata": {},
   "source": [
    "### Predicting"
   ]
  },
  {
   "cell_type": "code",
   "execution_count": 603,
   "metadata": {
    "collapsed": true
   },
   "outputs": [],
   "source": [
    "defense['FRecPerGame'] = defense['FRecoveries'] / 16"
   ]
  },
  {
   "cell_type": "code",
   "execution_count": 635,
   "metadata": {
    "collapsed": false
   },
   "outputs": [
    {
     "data": {
      "text/plain": [
       "Index(['City', 'Position', 'Season', 'Team', 'Sacks', 'FRecoveries',\n",
       "       'Interceptions', 'TDs', 'Safeties', 'RushYrdsAllowed',\n",
       "       'PassYrdsAllowed', 'TotalYrdsAllowed', 'SafetiesPerGame',\n",
       "       'SacksPerGame', 'TDsPerGame', 'InterceptionsPerGame',\n",
       "       'YrdsAllowedPerGame', 'EstPointsAllowed', 'EstPointsAllowedPerGame',\n",
       "       'GamesPlayedPercent', 'FRecPerGame'],\n",
       "      dtype='object')"
      ]
     },
     "execution_count": 635,
     "metadata": {},
     "output_type": "execute_result"
    }
   ],
   "source": [
    "defense.columns"
   ]
  },
  {
   "cell_type": "code",
   "execution_count": 615,
   "metadata": {
    "collapsed": true
   },
   "outputs": [],
   "source": [
    "ModelsDF = PositionModels('DF')"
   ]
  },
  {
   "cell_type": "code",
   "execution_count": 699,
   "metadata": {
    "collapsed": false,
    "scrolled": true
   },
   "outputs": [
    {
     "name": "stdout",
     "output_type": "stream",
     "text": [
      "|=== Predicting EstPointsAllowedPerGame ===|\n",
      "\n",
      "|====== Model Coefficients ======|\n",
      "PSEstPointsAllowedPerGame: 0.392952217226\n",
      "Intercept: 14.1996561579\n",
      "\n",
      "|========== Performance ==========|\n",
      "R-Sqr on Seasons 2013 to 2016: 0.148502330319\n",
      "Train Data Size: 160\n",
      "Test Data Size:128\n"
     ]
    }
   ],
   "source": [
    "PointsAllowedPerGame = create_model(defense, 'DF', 'EstPointsAllowedPerGame',\n",
    "                                   ['EstPointsAllowedPerGame'], test_cutoff=2013, is_defense=True)\n",
    "ModelsDF.add_model('PointsAllowedPerGame', PointsAllowedPerGame)"
   ]
  },
  {
   "cell_type": "code",
   "execution_count": 616,
   "metadata": {
    "collapsed": false
   },
   "outputs": [
    {
     "name": "stdout",
     "output_type": "stream",
     "text": [
      "|=== Predicting TDsPerGame ===|\n",
      "\n",
      "|====== Model Coefficients ======|\n",
      "PSTDsPerGame: 0.113660926302\n",
      "PSFRecPerGame: -0.0432802527297\n",
      "Intercept: 0.222608071975\n",
      "\n",
      "|========== Performance ==========|\n",
      "R-Sqr on Seasons 2013 to 2016: 0.014219837389\n",
      "Train Data Size: 160\n",
      "Test Data Size:128\n"
     ]
    }
   ],
   "source": [
    "TDsPerGame = create_model(defense, 'DF', 'TDsPerGame',\n",
    "                                   ['TDsPerGame', 'FRecPerGame'], test_cutoff=2013, is_defense=True)\n",
    "ModelsDF.add_model('TDsPerGame', TDsPerGame)"
   ]
  },
  {
   "cell_type": "code",
   "execution_count": 617,
   "metadata": {
    "collapsed": false
   },
   "outputs": [
    {
     "name": "stdout",
     "output_type": "stream",
     "text": [
      "|=== Predicting SacksPerGame ===|\n",
      "\n",
      "|====== Model Coefficients ======|\n",
      "PSSacksPerGame: 0.27434980678\n",
      "Intercept: 1.65428445757\n",
      "\n",
      "|========== Performance ==========|\n",
      "R-Sqr on Seasons 2014 to 2016: 0.071237055612\n",
      "Train Data Size: 192\n",
      "Test Data Size:96\n"
     ]
    }
   ],
   "source": [
    "SacksPerGame = create_model(defense, 'DF', 'SacksPerGame', \n",
    "                           ['SacksPerGame'], \n",
    "                   game_limit=0, test_cutoff=2014, interacts=[], is_defense=True)\n",
    "ModelsDF.add_model('SacksPerGame', SacksPerGame)"
   ]
  },
  {
   "cell_type": "code",
   "execution_count": 618,
   "metadata": {
    "collapsed": false,
    "scrolled": true
   },
   "outputs": [
    {
     "name": "stdout",
     "output_type": "stream",
     "text": [
      "|=== Predicting InterceptionsPerGame ===|\n",
      "\n",
      "|====== Model Coefficients ======|\n",
      "PSInterceptionsPerGame: 0.110940031178\n",
      "PSEstPointsAllowedPerGame: -0.0191720465898\n",
      "Intercept: 1.30461350464\n",
      "\n",
      "|========== Performance ==========|\n",
      "R-Sqr on Seasons 2014 to 2016: 0.033735530925\n",
      "Train Data Size: 192\n",
      "Test Data Size:96\n"
     ]
    }
   ],
   "source": [
    "InterceptionsPerGame = create_model(defense, 'DF', 'InterceptionsPerGame',\n",
    "                                   ['InterceptionsPerGame', 'EstPointsAllowedPerGame'], test_cutoff=2014, is_defense=True)\n",
    "ModelsDF.add_model('InterceptionsPerGame', InterceptionsPerGame)"
   ]
  },
  {
   "cell_type": "code",
   "execution_count": 619,
   "metadata": {
    "collapsed": false
   },
   "outputs": [
    {
     "name": "stdout",
     "output_type": "stream",
     "text": [
      "|=== Predicting FRecPerGame ===|\n",
      "\n",
      "|====== Model Coefficients ======|\n",
      "PSFRecPerGame: 0.042929782346\n",
      "Intercept: 0.611899110438\n",
      "\n",
      "|========== Performance ==========|\n",
      "R-Sqr on Seasons 2014 to 2016: 0.00199004347569\n",
      "Train Data Size: 192\n",
      "Test Data Size:96\n"
     ]
    }
   ],
   "source": [
    "FRecPerGame = create_model(defense, 'DF', 'FRecPerGame',\n",
    "                                   ['FRecPerGame'], test_cutoff=2014, is_defense=True)\n",
    "ModelsDF.add_model('FRecPerGame', FRecPerGame)"
   ]
  },
  {
   "cell_type": "code",
   "execution_count": 624,
   "metadata": {
    "collapsed": false
   },
   "outputs": [
    {
     "name": "stdout",
     "output_type": "stream",
     "text": [
      "|=== Predicting SafetiesPerGame ===|\n",
      "\n",
      "|====== Model Coefficients ======|\n",
      "PSSafetiesPerGame: -0.0109603592294\n",
      "Intercept: 0.0338889961856\n",
      "\n",
      "|========== Performance ==========|\n",
      "R-Sqr on Seasons 2014 to 2016: 0.000110054476272\n",
      "Train Data Size: 192\n",
      "Test Data Size:96\n"
     ]
    }
   ],
   "source": [
    "SafetiesPerGame = create_model(defense, 'DF', 'SafetiesPerGame',\n",
    "                                   ['SafetiesPerGame'], test_cutoff=2014, is_defense=True)\n",
    "ModelsDF.add_model('SafetiesPerGame', SafetiesPerGame)"
   ]
  },
  {
   "cell_type": "code",
   "execution_count": 679,
   "metadata": {
    "collapsed": false
   },
   "outputs": [],
   "source": [
    "def_2016 = defense[defense.Season == '2016']\n",
    "def_2017 = def_2016.copy()\n",
    "def_2017['Season'] = '2017'\n",
    "pkey = ['City', 'Position', 'Team', 'Season']\n",
    "\n",
    "right_cols = dict()\n",
    "for col in def_2017.columns:\n",
    "    if str(col) not in pkey:\n",
    "        right_cols[col] = 'PS'+col\n",
    "    else:\n",
    "        right_cols[col] = col\n",
    "\n",
    "def_2016 = def_2016.rename(columns=right_cols)\n",
    "def_2016['Season'] = '2017'\n",
    "DF2017 = pd.merge(def_2017, def_2016, on=pkey)"
   ]
  },
  {
   "cell_type": "code",
   "execution_count": 700,
   "metadata": {
    "collapsed": false
   },
   "outputs": [
    {
     "name": "stdout",
     "output_type": "stream",
     "text": [
      "Predicting InterceptionsPerGame...\n",
      "Predicting PointsAllowedPerGame...\n",
      "Predicting SacksPerGame...\n",
      "Predicting SafetiesPerGame...\n",
      "Predicting FRecPerGame...\n",
      "Predicting TDsPerGame...\n"
     ]
    }
   ],
   "source": [
    "PredictDF = ModelsDF.predict_df(DF2017)"
   ]
  },
  {
   "cell_type": "code",
   "execution_count": 706,
   "metadata": {
    "collapsed": false
   },
   "outputs": [],
   "source": [
    "PredictDF['PredYahooPointsPerGame'] = PredictDF.apply(predict_yahoo_points, \n",
    "                                                           args=(yahoo_points,), axis=1)\n",
    "PredictDF['PredSeasonSacks'] = PredictDF['PredSacksPerGame'] * 16\n",
    "PredictDF['PredSeasonInterceptions'] = PredictDF['PredInterceptionsPerGame'] * 16\n",
    "PredictDF['PredSeasonTDs'] = PredictDF['PredTDsPerGame'] * 16\n",
    "PredictDF['PredSeasonSafeties'] = PredictDF['PredSafetiesPerGame'] * 16\n",
    "PredictDF['PredSeasonFRecoveries'] = PredictDF['PredFRecPerGame'] * 16\n",
    "PredictDF['PredSeasonPointsAllowed'] = PredictDF['PredPointsAllowedPerGame'] * 16\n",
    "PredictDF['PredSeasonYahooPoints'] = PredictDF['PredYahooPointsPerGame'] * 16"
   ]
  },
  {
   "cell_type": "code",
   "execution_count": 703,
   "metadata": {
    "collapsed": false
   },
   "outputs": [],
   "source": [
    "ScoreDF = {\n",
    "    'PredSeasonYahooPoints': 1,\n",
    "    'PredSeasonFRecoveries': 2,\n",
    "    'PredSeasonSacks': 1,\n",
    "    'PredSeasonTDs': 6,\n",
    "    'PredSeasonSafeties': 2,\n",
    "    'PredSeasonInterceptions': 2\n",
    "}"
   ]
  },
  {
   "cell_type": "code",
   "execution_count": 704,
   "metadata": {
    "collapsed": true
   },
   "outputs": [],
   "source": [
    "PredictDF['PredFantasyPoints'] = PredictDF.apply(score_player, args=(ScoreDF,), axis=1)"
   ]
  },
  {
   "cell_type": "code",
   "execution_count": 710,
   "metadata": {
    "collapsed": false
   },
   "outputs": [],
   "source": [
    "PredictDF[['Team', 'PredFantasyPoints', 'PredSeasonPointsAllowed', 'PredSeasonSacks', 'PredSeasonSafeties', \n",
    "           'PredSeasonTDs', 'PredSeasonInterceptions', \n",
    "           'PredSeasonFRecoveries']].sort('PredFantasyPoints', ascending=False).to_json('DF2017.json', orient='index')"
   ]
  },
  {
   "cell_type": "markdown",
   "metadata": {},
   "source": [
    "## Exporting"
   ]
  },
  {
   "cell_type": "code",
   "execution_count": 499,
   "metadata": {
    "collapsed": false,
    "scrolled": false
   },
   "outputs": [],
   "source": [
    "core_vars = ['Player', 'Team', 'Season', 'Position']\n",
    "pred_vars = [var for var in QB2017.columns if 'Pred' in str(var)]"
   ]
  },
  {
   "cell_type": "code",
   "execution_count": 500,
   "metadata": {
    "collapsed": false
   },
   "outputs": [],
   "source": [
    "QB2017[core_vars + pred_vars].to_json('QB2017.json', orient='index')\n",
    "RB2017[core_vars + pred_vars].to_json('RB2017.json', orient='index')\n",
    "\n",
    "pred_vars.remove('PredInterceptionRatio')\n",
    "pred_vars.remove('PredSeasonInterceptions')\n",
    "WR2017[core_vars + pred_vars].to_json('WR2017.json', orient='index')\n",
    "\n",
    "pred_vars.remove('PredRushTDAttRatio')\n",
    "pred_vars.remove('PredSeasonRushTDs')\n",
    "TE2017[core_vars + pred_vars].to_json('TE2017.json', orient='index')"
   ]
  },
  {
   "cell_type": "code",
   "execution_count": 672,
   "metadata": {
    "collapsed": false
   },
   "outputs": [],
   "source": [
    "PredictK[core_vars+['PredFantasyPoints', 'PredSeasonFGoals', 'PredSeasonExtraPoints', 'PredFGoalsPerGame', \n",
    "                    'PredExtraPointsPerGame']].sort('PredFantasyPoints', ascending=False).to_json('K2017.json', orient='index')"
   ]
  },
  {
   "cell_type": "code",
   "execution_count": null,
   "metadata": {
    "collapsed": true
   },
   "outputs": [],
   "source": []
  }
 ],
 "metadata": {
  "anaconda-cloud": {},
  "kernelspec": {
   "display_name": "Python [Root]",
   "language": "python",
   "name": "Python [Root]"
  },
  "language_info": {
   "codemirror_mode": {
    "name": "ipython",
    "version": 3
   },
   "file_extension": ".py",
   "mimetype": "text/x-python",
   "name": "python",
   "nbconvert_exporter": "python",
   "pygments_lexer": "ipython3",
   "version": "3.5.2"
  }
 },
 "nbformat": 4,
 "nbformat_minor": 0
}
