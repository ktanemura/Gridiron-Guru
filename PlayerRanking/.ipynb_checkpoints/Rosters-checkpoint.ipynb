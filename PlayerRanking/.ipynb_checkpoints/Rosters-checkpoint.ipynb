{
 "cells": [
  {
   "cell_type": "code",
   "execution_count": 2,
   "metadata": {
    "collapsed": true
   },
   "outputs": [],
   "source": [
    "import numpy as np\n",
    "import sklearn as sk\n",
    "import requests\n",
    "from bs4 import BeautifulSoup\n",
    "import pandas as pd\n",
    "import sqlite3\n",
    "from sqlite_api import *"
   ]
  },
  {
   "cell_type": "markdown",
   "metadata": {},
   "source": [
    "## Scraping Roster Data"
   ]
  },
  {
   "cell_type": "markdown",
   "metadata": {},
   "source": [
    "CREATE TABLE RosterSeason \n",
    "    (Player VARCHAR(40), \n",
    "        Team VARCHAR(3),\n",
    "        Position VARCHAR(2),\n",
    "        String INTEGER)"
   ]
  },
  {
   "cell_type": "code",
   "execution_count": 11,
   "metadata": {
    "collapsed": false,
    "scrolled": true
   },
   "outputs": [
    {
     "data": {
      "text/html": [
       "<div>\n",
       "<table border=\"1\" class=\"dataframe\">\n",
       "  <thead>\n",
       "    <tr style=\"text-align: right;\">\n",
       "      <th></th>\n",
       "      <th>Player</th>\n",
       "      <th>Position</th>\n",
       "      <th>Team</th>\n",
       "      <th>Season</th>\n",
       "      <th>StartingRank</th>\n",
       "    </tr>\n",
       "  </thead>\n",
       "  <tbody>\n",
       "    <tr>\n",
       "      <th>0</th>\n",
       "      <td>Larry Fitzgerald</td>\n",
       "      <td>WR</td>\n",
       "      <td>ARZ</td>\n",
       "      <td>2016.0</td>\n",
       "      <td>1.0</td>\n",
       "    </tr>\n",
       "    <tr>\n",
       "      <th>1</th>\n",
       "      <td>Jaron Brown</td>\n",
       "      <td>WR</td>\n",
       "      <td>ARZ</td>\n",
       "      <td>2016.0</td>\n",
       "      <td>2.0</td>\n",
       "    </tr>\n",
       "    <tr>\n",
       "      <th>2</th>\n",
       "      <td>Jermaine Gresham</td>\n",
       "      <td>TE</td>\n",
       "      <td>ARZ</td>\n",
       "      <td>2016.0</td>\n",
       "      <td>1.0</td>\n",
       "    </tr>\n",
       "    <tr>\n",
       "      <th>3</th>\n",
       "      <td>David Johnson</td>\n",
       "      <td>RB</td>\n",
       "      <td>ARZ</td>\n",
       "      <td>2016.0</td>\n",
       "      <td>1.0</td>\n",
       "    </tr>\n",
       "    <tr>\n",
       "      <th>4</th>\n",
       "      <td>Chris Johnson</td>\n",
       "      <td>RB</td>\n",
       "      <td>ARZ</td>\n",
       "      <td>2016.0</td>\n",
       "      <td>2.0</td>\n",
       "    </tr>\n",
       "    <tr>\n",
       "      <th>5</th>\n",
       "      <td>Andre Ellington</td>\n",
       "      <td>RB</td>\n",
       "      <td>ARZ</td>\n",
       "      <td>2016.0</td>\n",
       "      <td>3.0</td>\n",
       "    </tr>\n",
       "    <tr>\n",
       "      <th>6</th>\n",
       "      <td>Stepfan Taylor</td>\n",
       "      <td>RB</td>\n",
       "      <td>ARZ</td>\n",
       "      <td>2016.0</td>\n",
       "      <td>4.0</td>\n",
       "    </tr>\n",
       "    <tr>\n",
       "      <th>7</th>\n",
       "      <td>Michael Floyd</td>\n",
       "      <td>WR</td>\n",
       "      <td>ARZ</td>\n",
       "      <td>2016.0</td>\n",
       "      <td>1.0</td>\n",
       "    </tr>\n",
       "    <tr>\n",
       "      <th>8</th>\n",
       "      <td>John Brown</td>\n",
       "      <td>WR</td>\n",
       "      <td>ARZ</td>\n",
       "      <td>2016.0</td>\n",
       "      <td>2.0</td>\n",
       "    </tr>\n",
       "    <tr>\n",
       "      <th>9</th>\n",
       "      <td>Jj Nelson</td>\n",
       "      <td>WR</td>\n",
       "      <td>ARZ</td>\n",
       "      <td>2016.0</td>\n",
       "      <td>3.0</td>\n",
       "    </tr>\n",
       "    <tr>\n",
       "      <th>10</th>\n",
       "      <td>Darren Fells</td>\n",
       "      <td>TE</td>\n",
       "      <td>ARZ</td>\n",
       "      <td>2016.0</td>\n",
       "      <td>1.0</td>\n",
       "    </tr>\n",
       "    <tr>\n",
       "      <th>11</th>\n",
       "      <td>Ifeanyi Momah</td>\n",
       "      <td>TE</td>\n",
       "      <td>ARZ</td>\n",
       "      <td>2016.0</td>\n",
       "      <td>2.0</td>\n",
       "    </tr>\n",
       "    <tr>\n",
       "      <th>12</th>\n",
       "      <td>Carson Palmer</td>\n",
       "      <td>QB</td>\n",
       "      <td>ARZ</td>\n",
       "      <td>2016.0</td>\n",
       "      <td>1.0</td>\n",
       "    </tr>\n",
       "    <tr>\n",
       "      <th>13</th>\n",
       "      <td>Drew Stanton</td>\n",
       "      <td>QB</td>\n",
       "      <td>ARZ</td>\n",
       "      <td>2016.0</td>\n",
       "      <td>2.0</td>\n",
       "    </tr>\n",
       "    <tr>\n",
       "      <th>14</th>\n",
       "      <td>Chandler Catanzaro</td>\n",
       "      <td>K</td>\n",
       "      <td>ARZ</td>\n",
       "      <td>2016.0</td>\n",
       "      <td>1.0</td>\n",
       "    </tr>\n",
       "  </tbody>\n",
       "</table>\n",
       "</div>"
      ],
      "text/plain": [
       "                Player Position Team  Season  StartingRank\n",
       "0     Larry Fitzgerald       WR  ARZ  2016.0           1.0\n",
       "1          Jaron Brown       WR  ARZ  2016.0           2.0\n",
       "2     Jermaine Gresham       TE  ARZ  2016.0           1.0\n",
       "3        David Johnson       RB  ARZ  2016.0           1.0\n",
       "4        Chris Johnson       RB  ARZ  2016.0           2.0\n",
       "5      Andre Ellington       RB  ARZ  2016.0           3.0\n",
       "6       Stepfan Taylor       RB  ARZ  2016.0           4.0\n",
       "7        Michael Floyd       WR  ARZ  2016.0           1.0\n",
       "8           John Brown       WR  ARZ  2016.0           2.0\n",
       "9            Jj Nelson       WR  ARZ  2016.0           3.0\n",
       "10        Darren Fells       TE  ARZ  2016.0           1.0\n",
       "11       Ifeanyi Momah       TE  ARZ  2016.0           2.0\n",
       "12       Carson Palmer       QB  ARZ  2016.0           1.0\n",
       "13        Drew Stanton       QB  ARZ  2016.0           2.0\n",
       "14  Chandler Catanzaro        K  ARZ  2016.0           1.0"
      ]
     },
     "execution_count": 11,
     "metadata": {},
     "output_type": "execute_result"
    }
   ],
   "source": [
    "def scrape_roster(team, season):\n",
    "    archive_nums = {2016: '188', 2015: '176', 2014: '164', 2013: '151', 2012: '136',\n",
    "                    2011: '124', 2010: '112', 2009: '41', 2008: '30', 2007: '18'}\n",
    "    \n",
    "    roster = dict()\n",
    "    \n",
    "    # build url and request html\n",
    "    url = 'http://www.ourlads.com/nfldepthcharts/archive/' + archive_nums[season] + '/' + team\n",
    "    r  = requests.get(url, headers={'User-agent': 'Mozilla/5.0'})\n",
    "    contents = BeautifulSoup(r.text, 'lxml')\n",
    "    \n",
    "    df = pd.DataFrame(columns=['Player', 'Position', 'Team', 'Season', 'StartingRank'])\n",
    "    \n",
    "    table = contents.find('tbody')\n",
    "    white_rows = table.find_all('tr', {'class': 'row-dc-wht'})\n",
    "    for row in white_rows:\n",
    "        pos = row.find('td').text\n",
    "        if pos in ['QB', 'RB', 'LWR', 'RWR', 'TE', 'PK']:\n",
    "            if pos in ['LWR', 'RWR']:\n",
    "                pos = 'WR'\n",
    "            if pos  == 'PK':\n",
    "                pos = 'K'\n",
    "    \n",
    "            starters = list()\n",
    "            cols = row.findAll('td')\n",
    "            for idx in range(len(cols)):\n",
    "                if idx > 1 and idx % 2 == 0:\n",
    "                    if cols[idx].text != \"\":\n",
    "                        starters.append(extract_name(cols[idx].text))\n",
    "                    else:\n",
    "                        break\n",
    "            \n",
    "            for idx in range(len(starters)):\n",
    "                df = df.append({'Player': starters[idx], 'Position': pos, 'Team': team, 'Season': season, \n",
    "                                'StartingRank': int(idx+1)}, ignore_index=True)\n",
    "    \n",
    "    grey_rows = table.find_all('tr', {'class': 'row-dc-grey'})\n",
    "    for row in grey_rows:\n",
    "        pos = row.find('td').text\n",
    "        if pos in ['QB', 'RB', 'LWR', 'SWR', 'RWR', 'TE', 'PK']:\n",
    "            if pos in ['LWR', 'SWR', 'RWR']:\n",
    "                pos = 'WR'\n",
    "            if pos  == 'PK':\n",
    "                pos = 'K'\n",
    "    \n",
    "            starters = list()\n",
    "            cols = row.findAll('td')\n",
    "            for idx in range(len(cols)):\n",
    "                if idx > 1 and idx % 2 == 0:\n",
    "                    if cols[idx].text != \"\":\n",
    "                        starters.append(extract_name(cols[idx].text))\n",
    "                    else:\n",
    "                        break\n",
    "            \n",
    "            for idx in range(len(starters)):\n",
    "                df = df.append({'Player': starters[idx], 'Position': pos, 'Team': team, 'Season': season, \n",
    "                                'StartingRank': int(idx+1)}, ignore_index=True)\n",
    "    \n",
    "    return df\n",
    "    \n",
    "def extract_name(string):\n",
    "    if string == \"\":\n",
    "        return \"\"\n",
    "    \n",
    "    if ', ' in string:\n",
    "        split = string.split(', ')\n",
    "    else:\n",
    "        split = string.split(' ')\n",
    "\n",
    "    first = split[1].split(' ')[0]\n",
    "    if first.isupper():\n",
    "        first = first.title()\n",
    "    last = split[0]\n",
    "    if last.isupper():\n",
    "        last = last.title()\n",
    "    \n",
    "    return first + ' ' + last\n",
    "    \n",
    "    \n",
    "scrape_roster('ARZ', 2016)"
   ]
  },
  {
   "cell_type": "code",
   "execution_count": 33,
   "metadata": {
    "collapsed": false
   },
   "outputs": [],
   "source": [
    "conn = sqlite3.connect('fantasy.db')\n",
    "c = conn.cursor()"
   ]
  },
  {
   "cell_type": "code",
   "execution_count": 98,
   "metadata": {
    "collapsed": false
   },
   "outputs": [
    {
     "data": {
      "text/plain": [
       "<sqlite3.Cursor at 0x94635e0>"
      ]
     },
     "execution_count": 98,
     "metadata": {},
     "output_type": "execute_result"
    }
   ],
   "source": [
    "c.execute('''CREATE TABLE Roster\n",
    "                (Player VARCHAR(30),\n",
    "                Team VARCHAR(3),\n",
    "                Position CHARACTER(2),\n",
    "                Season CHARACTER(4),\n",
    "                Rank INT,\n",
    "                PRIMARY KEY (Player, Team, Season, Position))''')"
   ]
  },
  {
   "cell_type": "code",
   "execution_count": 15,
   "metadata": {
    "collapsed": true
   },
   "outputs": [],
   "source": [
    "teams = {'Arizona' : 'ARZ',\n",
    "                'Atlanta' : 'ATL',\n",
    "                'Baltimore': 'BAL',\n",
    "                'Buffalo': 'BUF',\n",
    "                'Carolina': 'CAR',\n",
    "                'Chicago': 'CHI',\n",
    "                'Cincinnati': 'CIN',\n",
    "                'Cleveland': 'CLE',\n",
    "                'Dallas': 'DAL',\n",
    "                'Denver': 'DEN',\n",
    "                'Detroit': 'DET',\n",
    "                'Green Bay': 'GB',\n",
    "                'Houston': 'HOU',\n",
    "                'Indianapolis': 'IND',\n",
    "                'Jacksonville': 'JAX',\n",
    "                'Kansas City': 'KC',\n",
    "                'Miami': 'MIA',\n",
    "                'Minnesota': 'MIN',\n",
    "                'New England': 'NE',\n",
    "                'New Orleans': 'NO',\n",
    "                'NY Giants': 'NYG',\n",
    "                'NY Jets': 'NYJ',\n",
    "                'Oakland': 'OAK',\n",
    "                'Philadelphia': 'PHI',\n",
    "                'Pittsburgh': 'PIT',\n",
    "                'LA Chargers': 'LAC',\n",
    "                'Seattle': 'SEA',\n",
    "                'San Francisco': 'SF',\n",
    "                'LA Rams': 'LAR',\n",
    "                'Tampa Bay': 'TB',\n",
    "                'Tennessee': 'TEN',\n",
    "                'Washington': 'WAS'}"
   ]
  },
  {
   "cell_type": "code",
   "execution_count": 34,
   "metadata": {
    "collapsed": false,
    "scrolled": true
   },
   "outputs": [
    {
     "name": "stdout",
     "output_type": "stream",
     "text": [
      "Scraping season 2007...\n",
      "Scraping season 2008...\n",
      "Scraping season 2009...\n",
      "Scraping season 2010...\n",
      "Scraping season 2011...\n",
      "Scraping season 2012...\n",
      "Scraping season 2013...\n",
      "Scraping season 2014...\n",
      "Scraping season 2015...\n",
      "Scraping season 2016...\n"
     ]
    }
   ],
   "source": [
    "for season in range(2007, 2017):\n",
    "    print('Scraping season '+str(season)+'...')\n",
    "    for key in teams:\n",
    "        team = teams[key]\n",
    "        \n",
    "        df = scrape_roster(team, season)\n",
    "        for tup in df.iterrows():\n",
    "            row = tup[1]\n",
    "            try:\n",
    "                to_insert = (row['Player'], row['Team'], row['Position'], \n",
    "                             str(int(row['Season'])), int(row['StartingRank']))\n",
    "                c.execute('INSERT INTO Roster VALUES (?,?,?,?,?)', to_insert)\n",
    "            except sqlite3.IntegrityError:\n",
    "                j = 0\n",
    "                #print('Unique constraint failed with ' + str(to_insert))"
   ]
  },
  {
   "cell_type": "code",
   "execution_count": 36,
   "metadata": {
    "collapsed": true
   },
   "outputs": [],
   "source": [
    "conn.commit()"
   ]
  },
  {
   "cell_type": "code",
   "execution_count": 9,
   "metadata": {
    "collapsed": false,
    "scrolled": true
   },
   "outputs": [
    {
     "name": "stdout",
     "output_type": "stream",
     "text": [
      "('Morten Andersen', 'ATL', 'K', '2007', 1)\n",
      "('Sebastian Janikowski', 'OAK', 'K', '2007', 1)\n",
      "('Mason Crosby', 'GB', 'K', '2007', 1)\n",
      "('Matt Stover', 'BAL', 'K', '2007', 1)\n",
      "('Rhys Lloyd', 'BAL', 'K', '2007', 2)\n",
      "('Rian Lindell', 'BUF', 'K', '2007', 1)\n",
      "('John Kasay', 'CAR', 'K', '2007', 1)\n",
      "('Adam Vinatieri', 'IND', 'K', '2007', 1)\n",
      "('David Akers', 'PHI', 'K', '2007', 1)\n",
      "('Shaun Suisham', 'WAS', 'K', '2007', 1)\n",
      "('Jay Feely', 'MIA', 'K', '2007', 1)\n",
      "('Lawrence Tynes', 'NYG', 'K', '2007', 1)\n",
      "('Nick Folk', 'DAL', 'K', '2007', 1)\n",
      "('Jason Hanson', 'DET', 'K', '2007', 1)\n",
      "('Josh Brown', 'SEA', 'K', '2007', 1)\n",
      "('Nate Kaeding', 'LAC', 'K', '2007', 1)\n",
      "('Jeff Wilkins', 'LAR', 'K', '2007', 1)\n",
      "('Joe Nedney', 'SF', 'K', '2007', 1)\n",
      "('Phil Dawson', 'CLE', 'K', '2007', 1)\n",
      "('Olindo Mare', 'NO', 'K', '2007', 1)\n",
      "('Bironas 2', 'TEN', 'K', '2007', 1)\n",
      "('Jason Elam', 'DEN', 'K', '2007', 1)\n",
      "('Robbie Gould', 'CHI', 'K', '2007', 1)\n",
      "('Shayne Graham', 'CIN', 'K', '2007', 1)\n",
      "('Stephen Gostkowski', 'NE', 'K', '2007', 1)\n",
      "('Dave Rayner', 'KC', 'K', '2007', 1)\n",
      "('Jeff Reed', 'PIT', 'K', '2007', 1)\n",
      "('John Carney', 'JAX', 'K', '2007', 1)\n",
      "('Josh Scobee', 'JAX', 'K', '2007', 2)\n",
      "('Ryan Longwell', 'MIN', 'K', '2007', 1)\n",
      "('Mike Nugent', 'NYJ', 'K', '2007', 1)\n",
      "('Matt Bryant', 'TB', 'K', '2007', 1)\n",
      "('Kris Brown', 'HOU', 'K', '2007', 1)\n",
      "('Jason Elam', 'ATL', 'K', '2008', 1)\n",
      "('Sebastian Janikowski', 'OAK', 'K', '2008', 1)\n",
      "('Mason Crosby', 'GB', 'K', '2008', 1)\n",
      "('Matt Stover', 'BAL', 'K', '2008', 1)\n",
      "('Steven Hauschka', 'BAL', 'K', '2008', 2)\n",
      "('Rian Lindell', 'BUF', 'K', '2008', 1)\n",
      "('John Kasay', 'CAR', 'K', '2008', 1)\n",
      "('Rhys Lloyd', 'CAR', 'K', '2008', 2)\n",
      "('Adam Vinatieri', 'IND', 'K', '2008', 1)\n",
      "('David Akers', 'PHI', 'K', '2008', 1)\n",
      "('Shaun Suisham', 'WAS', 'K', '2008', 1)\n",
      "('Dan Carpenter', 'MIA', 'K', '2008', 1)\n",
      "('John Carney', 'NYG', 'K', '2008', 1)\n",
      "('Lawrence Tynes', 'NYG', 'K', '2008', 2)\n",
      "('Nick Folk', 'DAL', 'K', '2008', 1)\n",
      "('Jason Hanson', 'DET', 'K', '2008', 1)\n",
      "('Olindo Mare', 'SEA', 'K', '2008', 1)\n"
     ]
    }
   ],
   "source": [
    "cn = 0\n",
    "\n",
    "for row in c.execute('SELECT * FROM Roster WHERE Position = \\'K\\''):\n",
    "    cn += 1\n",
    "    print(row)\n",
    "    if cn == 50:\n",
    "        break"
   ]
  },
  {
   "cell_type": "code",
   "execution_count": 21,
   "metadata": {
    "collapsed": false
   },
   "outputs": [],
   "source": [
    "c.execute('UPDATE Roster SET Team = \\'ARI\\' WHERE Team = \\'ARZ\\'')\n",
    "conn.commit()"
   ]
  },
  {
   "cell_type": "code",
   "execution_count": 37,
   "metadata": {
    "collapsed": true
   },
   "outputs": [],
   "source": [
    "conn.close()"
   ]
  },
  {
   "cell_type": "code",
   "execution_count": null,
   "metadata": {
    "collapsed": true
   },
   "outputs": [],
   "source": []
  }
 ],
 "metadata": {
  "anaconda-cloud": {},
  "kernelspec": {
   "display_name": "Python [Root]",
   "language": "python",
   "name": "Python [Root]"
  },
  "language_info": {
   "codemirror_mode": {
    "name": "ipython",
    "version": 3
   },
   "file_extension": ".py",
   "mimetype": "text/x-python",
   "name": "python",
   "nbconvert_exporter": "python",
   "pygments_lexer": "ipython3",
   "version": "3.5.2"
  }
 },
 "nbformat": 4,
 "nbformat_minor": 0
}
