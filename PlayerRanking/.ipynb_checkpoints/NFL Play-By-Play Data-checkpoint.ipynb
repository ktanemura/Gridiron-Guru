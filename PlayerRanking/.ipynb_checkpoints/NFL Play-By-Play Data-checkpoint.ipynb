{
 "cells": [
  {
   "cell_type": "code",
   "execution_count": 5,
   "metadata": {
    "collapsed": false
   },
   "outputs": [],
   "source": [
    "import numpy as np\n",
    "import sklearn as sk\n",
    "import pandas as pd\n",
    "import sqlite3\n",
    "import pickle\n",
    "import requests\n",
    "from bs4 import BeautifulSoup"
   ]
  },
  {
   "cell_type": "code",
   "execution_count": 3,
   "metadata": {
    "collapsed": true
   },
   "outputs": [],
   "source": [
    "f = open('df', 'rb')\n",
    "df = pickle.load(f)"
   ]
  },
  {
   "cell_type": "code",
   "execution_count": 14,
   "metadata": {
    "collapsed": false
   },
   "outputs": [],
   "source": [
    "def feat_pass_yrds(row):\n",
    "    return row.IsPass * row.Yards\n",
    "\n",
    "def feat_rush_yrds(row):\n",
    "    return row.IsRush * row.Yards\n",
    "\n",
    "def feat_pass_tds(row):\n",
    "    return row.IsPass * row.IsTouchdown\n",
    "\n",
    "def feat_rush_tds(row):\n",
    "    return row.IsRush * row.IsTouchdown"
   ]
  },
  {
   "cell_type": "code",
   "execution_count": 69,
   "metadata": {
    "collapsed": false
   },
   "outputs": [],
   "source": [
    "def scrape_offense(season):\n",
    "    teams = {'Arizona' : 'ARI',\n",
    "                'Atlanta' : 'ATL',\n",
    "                'Baltimore': 'BAL',\n",
    "                'Buffalo': 'BUF',\n",
    "                'Carolina': 'CAR',\n",
    "                'Chicago': 'CHI',\n",
    "                'Cincinnati': 'CIN',\n",
    "                'Cleveland': 'CLE',\n",
    "                'Dallas': 'DAL',\n",
    "                'Denver': 'DEN',\n",
    "                'Detroit': 'DET',\n",
    "                'Green Bay': 'GB',\n",
    "                'Houston': 'HOU',\n",
    "                'Indianapolis': 'IND',\n",
    "                'Jacksonville': 'JAX',\n",
    "                'Kansas City': 'KC',\n",
    "                'Miami': 'MIA',\n",
    "                'Minnesota': 'MIN',\n",
    "                'New England': 'NE',\n",
    "                'New Orleans': 'NO',\n",
    "                'NY Giants': 'NYG',\n",
    "                'NY Jets': 'NYJ',\n",
    "                'Oakland': 'OAK',\n",
    "                'Philadelphia': 'PHI',\n",
    "                'Pittsburgh': 'PIT',\n",
    "                'LA Chargers': 'LAC',\n",
    "                'Seattle': 'SEA',\n",
    "                'San Francisco': 'SF',\n",
    "                'LA Rams': 'LAR',\n",
    "                'Tampa Bay': 'TB',\n",
    "                'Tennessee': 'TEN',\n",
    "                'Washington': 'WAS'}\n",
    "    \n",
    "    off_labels = ['Team', 'Season', 'Yards', 'PassYrds', 'RushYrds', 'Points']\n",
    "\n",
    "    df = pd.DataFrame(columns=off_labels)\n",
    "\n",
    "    url = 'http://www.espn.com/nfl/statistics/team/_/stat/total/year/'+str(season)\n",
    "    r  = requests.get(url, headers={'User-agent': 'Mozilla/5.0'})\n",
    "    contents = BeautifulSoup(r.text, 'lxml')\n",
    "    #table = contents.findAll('table', {'class': \"tablehead\"})\n",
    "\n",
    "    table = contents.find_all('tr', {'class': 'oddrow'})\n",
    "    for row_idx in range(len(table)):\n",
    "        cur_row = dict()\n",
    "        table_row = table[row_idx]\n",
    "        cur_row['Team'] = teams[table_row.find('a').text]\n",
    "        cur_row['Season'] = str(season)\n",
    "        cur_row['Yards'] = table_row.find('td', {'class': 'sortcell'}).text\n",
    "        cur_row['PassYrds'] = table_row.find_all('td')[4].text\n",
    "        cur_row['RushYrds'] = table_row.find_all('td')[6].text\n",
    "        cur_row['Points'] = table_row.find_all('td')[8].text\n",
    "        df = df.append(cur_row, ignore_index=True)\n",
    "\n",
    "    table = contents.find_all('tr', {'class': 'evenrow'})\n",
    "    for row_idx in range(len(table)):\n",
    "        cur_row = dict()\n",
    "        table_row = table[row_idx]\n",
    "        cur_row['Team'] = teams[table_row.find('a').text]\n",
    "        cur_row['Season'] = str(season)\n",
    "        cur_row['Yards'] = table_row.find('td', {'class': 'sortcell'}).text\n",
    "        cur_row['PassYrds'] = table_row.find_all('td')[4].text\n",
    "        cur_row['RushYrds'] = table_row.find_all('td')[6].text\n",
    "        cur_row['Points'] = table_row.find_all('td')[8].text\n",
    "        df = df.append(cur_row, ignore_index=True)\n",
    "    \n",
    "    return df"
   ]
  },
  {
   "cell_type": "code",
   "execution_count": 15,
   "metadata": {
    "collapsed": false
   },
   "outputs": [],
   "source": [
    "def get_off_stats(filename):\n",
    "    nfl = pd.read_csv(filename)\n",
    "    var_list = ['GameDate', 'Quarter', 'Minute', 'Second', 'OffenseTeam',\n",
    "       'DefenseTeam', 'Down', 'ToGo', 'YardLine', 'Description',\n",
    "       'SeasonYear', 'Yards', 'Formation',\n",
    "       'PlayType', 'IsRush', 'IsPass', 'IsIncomplete', 'IsTouchdown',\n",
    "       'PassType', 'IsSack']\n",
    "\n",
    "    nfl = nfl[var_list]\n",
    "    nfl = nfl.dropna(subset=['OffenseTeam'])\n",
    "    \n",
    "    nfl['PassYrds'] = nfl.apply(feat_pass_yrds, axis=1)\n",
    "    nfl['RushYrds'] = nfl.apply(feat_rush_yrds, axis=1)\n",
    "    nfl['PassTDs'] = nfl.apply(feat_pass_tds, axis=1)\n",
    "    nfl['RushTDs'] = nfl.apply(feat_rush_tds, axis=1)\n",
    "    \n",
    "    off_vars = ['SeasonYear', 'Yards', 'IsRush', 'IsPass', 'IsIncomplete', \n",
    "            'PassYrds', 'RushYrds', 'PassTDs', 'RushTDs', 'IsTouchdown']\n",
    "    \n",
    "    teams_off_counts = nfl.groupby('OffenseTeam').size()\n",
    "    teams_off = nfl.groupby('OffenseTeam')\n",
    "    teams_off = pd.DataFrame(teams_off.agg({'SeasonYear': 'first', 'Yards': 'sum', 'IsRush': 'sum', 'IsPass': 'sum', \n",
    "                                        'IsIncomplete': 'sum', 'PassYrds': 'sum', 'RushYrds': 'sum', 'PassTDs': 'sum', \n",
    "                                        'RushTDs': 'sum', 'IsTouchdown': 'sum'})[off_vars])\n",
    "    teams_off['Plays'] = teams_off_counts\n",
    "    teams_off.reset_index(level=0, inplace=True)\n",
    "    teams_off = teams_off.rename(columns={'OffenseTeam': 'Team', 'SeasonYear': 'Season', 'IsRush': 'Rushes', 'IsPass': 'Passes', \n",
    "                                      'IsIncomplete': 'Incompletes', 'IsTouchdown': 'TDs'})\n",
    "    \n",
    "    return teams_off"
   ]
  },
  {
   "cell_type": "code",
   "execution_count": null,
   "metadata": {
    "collapsed": true
   },
   "outputs": [],
   "source": [
    "def scrape_offense(year):\n",
    "    labels = "
   ]
  },
  {
   "cell_type": "code",
   "execution_count": 16,
   "metadata": {
    "collapsed": false,
    "scrolled": true
   },
   "outputs": [],
   "source": [
    "#df = get_off_stats('../data/pbp-2016.csv')\n",
    "#df = df.append(get_off_stats('../data/pbp-2015.csv'))\n",
    "#df = df.append(get_off_stats('../data/pbp-2014.csv'))"
   ]
  },
  {
   "cell_type": "code",
   "execution_count": 70,
   "metadata": {
    "collapsed": true
   },
   "outputs": [],
   "source": [
    "conn = sqlite3.connect('fantasy.db')\n",
    "c = conn.cursor()"
   ]
  },
  {
   "cell_type": "code",
   "execution_count": 71,
   "metadata": {
    "collapsed": false,
    "scrolled": true
   },
   "outputs": [
    {
     "data": {
      "text/html": [
       "<div>\n",
       "<table border=\"1\" class=\"dataframe\">\n",
       "  <thead>\n",
       "    <tr style=\"text-align: right;\">\n",
       "      <th></th>\n",
       "      <th>Team</th>\n",
       "      <th>Season</th>\n",
       "      <th>Yards</th>\n",
       "      <th>PassYrds</th>\n",
       "      <th>RushYrds</th>\n",
       "      <th>Points</th>\n",
       "    </tr>\n",
       "  </thead>\n",
       "  <tbody>\n",
       "    <tr>\n",
       "      <th>27</th>\n",
       "      <td>MIA</td>\n",
       "      <td>2016</td>\n",
       "      <td>5324</td>\n",
       "      <td>3500</td>\n",
       "      <td>1824</td>\n",
       "      <td>363</td>\n",
       "    </tr>\n",
       "    <tr>\n",
       "      <th>28</th>\n",
       "      <td>NYJ</td>\n",
       "      <td>2016</td>\n",
       "      <td>5268</td>\n",
       "      <td>3466</td>\n",
       "      <td>1802</td>\n",
       "      <td>275</td>\n",
       "    </tr>\n",
       "    <tr>\n",
       "      <th>29</th>\n",
       "      <td>MIN</td>\n",
       "      <td>2016</td>\n",
       "      <td>5041</td>\n",
       "      <td>3836</td>\n",
       "      <td>1205</td>\n",
       "      <td>327</td>\n",
       "    </tr>\n",
       "    <tr>\n",
       "      <th>30</th>\n",
       "      <td>CLE</td>\n",
       "      <td>2016</td>\n",
       "      <td>4976</td>\n",
       "      <td>3264</td>\n",
       "      <td>1712</td>\n",
       "      <td>264</td>\n",
       "    </tr>\n",
       "    <tr>\n",
       "      <th>31</th>\n",
       "      <td>LAR</td>\n",
       "      <td>2016</td>\n",
       "      <td>4203</td>\n",
       "      <td>2951</td>\n",
       "      <td>1252</td>\n",
       "      <td>224</td>\n",
       "    </tr>\n",
       "  </tbody>\n",
       "</table>\n",
       "</div>"
      ],
      "text/plain": [
       "   Team Season Yards PassYrds RushYrds Points\n",
       "27  MIA   2016  5324     3500     1824    363\n",
       "28  NYJ   2016  5268     3466     1802    275\n",
       "29  MIN   2016  5041     3836     1205    327\n",
       "30  CLE   2016  4976     3264     1712    264\n",
       "31  LAR   2016  4203     2951     1252    224"
      ]
     },
     "execution_count": 71,
     "metadata": {},
     "output_type": "execute_result"
    }
   ],
   "source": [
    "df = scrape_offense(2007)\n",
    "for year in range(2008, 2017):\n",
    "    df = df.append(scrape_offense(year))\n",
    "\n",
    "df.tail()"
   ]
  },
  {
   "cell_type": "code",
   "execution_count": 72,
   "metadata": {
    "collapsed": false
   },
   "outputs": [
    {
     "data": {
      "text/plain": [
       "<sqlite3.Cursor at 0x218c8b487a0>"
      ]
     },
     "execution_count": 72,
     "metadata": {},
     "output_type": "execute_result"
    }
   ],
   "source": [
    "c.execute('DROP TABLE OffenseSeason')"
   ]
  },
  {
   "cell_type": "code",
   "execution_count": 73,
   "metadata": {
    "collapsed": false
   },
   "outputs": [
    {
     "data": {
      "text/plain": [
       "<sqlite3.Cursor at 0x218c8b487a0>"
      ]
     },
     "execution_count": 73,
     "metadata": {},
     "output_type": "execute_result"
    }
   ],
   "source": [
    "c.execute('''CREATE TABLE OffenseSeason\n",
    "             (Team VARCHAR(3), \n",
    "             Season CHARACTER(4), \n",
    "             Yards SMALLINT,\n",
    "             PassYrds SMALLINT,\n",
    "             RushYrds SMALLINT,\n",
    "             Points SMALLINT,\n",
    "             UNIQUE (Team, Season))''')"
   ]
  },
  {
   "cell_type": "code",
   "execution_count": 74,
   "metadata": {
    "collapsed": false
   },
   "outputs": [],
   "source": [
    "for ndx in range(len(df)):\n",
    "    try:\n",
    "        c.execute('INSERT INTO OffenseSeason VALUES (?,?,?,?,?,?)', tuple(df.iloc[ndx].astype('str'))) \n",
    "    except:\n",
    "        print(str(df.iloc[ndx]['Team'])+' '+str(df.iloc[ndx]['Season'])+' already in table')"
   ]
  },
  {
   "cell_type": "code",
   "execution_count": 75,
   "metadata": {
    "collapsed": false
   },
   "outputs": [],
   "source": [
    "conn.commit()"
   ]
  },
  {
   "cell_type": "code",
   "execution_count": 76,
   "metadata": {
    "collapsed": true
   },
   "outputs": [],
   "source": [
    "conn.close()"
   ]
  },
  {
   "cell_type": "code",
   "execution_count": null,
   "metadata": {
    "collapsed": true
   },
   "outputs": [],
   "source": []
  }
 ],
 "metadata": {
  "anaconda-cloud": {},
  "kernelspec": {
   "display_name": "Python 3",
   "language": "python",
   "name": "python3"
  },
  "language_info": {
   "codemirror_mode": {
    "name": "ipython",
    "version": 3
   },
   "file_extension": ".py",
   "mimetype": "text/x-python",
   "name": "python",
   "nbconvert_exporter": "python",
   "pygments_lexer": "ipython3",
   "version": "3.5.1"
  }
 },
 "nbformat": 4,
 "nbformat_minor": 0
}
