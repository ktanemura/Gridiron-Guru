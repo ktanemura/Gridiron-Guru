{
 "cells": [
  {
   "cell_type": "code",
   "execution_count": 1,
   "metadata": {
    "collapsed": false
   },
   "outputs": [],
   "source": [
    "import numpy as np\n",
    "import sklearn as sk\n",
    "import requests\n",
    "from bs4 import BeautifulSoup\n",
    "import pandas as pd\n",
    "import sqlite3\n",
    "from sqlite_api import *"
   ]
  },
  {
   "cell_type": "code",
   "execution_count": 2,
   "metadata": {
    "collapsed": false
   },
   "outputs": [],
   "source": [
    "def scrape(season, position):\n",
    "    # column name for the dataframe to be created\n",
    "    labels = ['Player', 'Team', 'Plays', 'Fantasy', 'Games', 'FPG', 'NumRuns', \n",
    "              'RushYrds', 'RushTDs', 'PassAttempts', 'Complete', 'PassYrds', 'PassTDs', 'Fumbles', 'Interceptions']\n",
    "    \n",
    "    # build pandas dataframe for this season's data\n",
    "    df = pd.DataFrame(columns=labels)\n",
    "    \n",
    "    # build url and request html\n",
    "    url = 'http://thehuddle.com/stats/'+str(season)+'/plays_std.php?pos=' + position\n",
    "    r  = requests.get(url, headers={'User-agent': 'Mozilla/5.0'})\n",
    "    contents = BeautifulSoup(r.text, 'lxml')\n",
    "    \n",
    "    # hard-coded number of columns in table\n",
    "    num_cols = 15\n",
    "    table = contents.find(\"tbody\")\n",
    "    entries = table.find_all(\"td\")\n",
    "    \n",
    "    # find number of rows in the table\n",
    "    num_rows = int(len(entries)/15)\n",
    "    \n",
    "    for rowN in range(num_rows):\n",
    "        cur_row = dict()\n",
    "        for colN in range(len(labels)):\n",
    "            cur_row[labels[colN]] = entries[rowN*num_cols + colN].text.strip()\n",
    "        cur_row['Season'] = str(season)\n",
    "        cur_row['Position'] = position\n",
    "        df = df.append(pd.Series(cur_row), ignore_index=True)\n",
    "        \n",
    "    return df\n",
    "        #print('row ' + str(rowN) +': '+str(cur_row))\n",
    "    \n",
    "qb2010 = scrape(2010, 'QB')"
   ]
  },
  {
   "cell_type": "code",
   "execution_count": 3,
   "metadata": {
    "collapsed": false,
    "scrolled": true
   },
   "outputs": [],
   "source": [
    "def scrape_kicker(season, position='PK'):\n",
    "    labels = ['Player', 'Team', 'Fantasy', 'Games', 'FPG', 'FGoals', \n",
    "              'FGoalsMissed', 'ExtraPoints', 'ExtraPointsMissed']\n",
    "    \n",
    "    # build pandas dataframe for this season's data\n",
    "    df = pd.DataFrame(columns=labels)\n",
    "    \n",
    "    # build url and request html\n",
    "    url = 'http://thehuddle.com/stats/'+str(season)+'/plays_std.php?pos=' + position\n",
    "    r  = requests.get(url, headers={'User-agent': 'Mozilla/5.0'})\n",
    "    contents = BeautifulSoup(r.text, 'lxml')\n",
    "    \n",
    "    # number of columns in table\n",
    "    num_cols = len(labels)\n",
    "    table = contents.find(\"tbody\")\n",
    "    entries = table.find_all(\"td\")\n",
    "    \n",
    "    # find number of rows in the table\n",
    "    num_rows = int(len(entries)/num_cols)\n",
    "    \n",
    "    for rowN in range(num_rows):\n",
    "        cur_row = dict()\n",
    "        for colN in range(len(labels)):\n",
    "            cur_row[labels[colN]] = entries[rowN*num_cols + colN].text.strip()\n",
    "        cur_row['Season'] = str(season)\n",
    "        cur_row['Position'] = position\n",
    "        df = df.append(pd.Series(cur_row), ignore_index=True)\n",
    "        \n",
    "    return df"
   ]
  },
  {
   "cell_type": "code",
   "execution_count": 4,
   "metadata": {
    "collapsed": false
   },
   "outputs": [],
   "source": [
    "def scrape_defense(season, position='DF'):\n",
    "    labels = ['City', 'Team', 'Fantasy', 'Games', 'FPG', 'Sacks', 'FRecoveries', \n",
    "              'Interceptions', 'TDs', 'Safeties', 'RushYrdsAllowed', 'PassYrdsAllowed', 'TotalYrdsAllowed']\n",
    "    \n",
    "    # build pandas dataframe for this season's data\n",
    "    df = pd.DataFrame(columns=labels)\n",
    "    \n",
    "    # build url and request html\n",
    "    url = 'http://thehuddle.com/stats/'+str(season)+'/plays_std.php?pos=' + position\n",
    "    r  = requests.get(url, headers={'User-agent': 'Mozilla/5.0'})\n",
    "    contents = BeautifulSoup(r.text, 'lxml')\n",
    "    \n",
    "    # number of columns in table\n",
    "    num_cols = len(labels)\n",
    "    table = contents.find(\"tbody\")\n",
    "    entries = table.find_all(\"td\")\n",
    "    \n",
    "    # find number of rows in the table\n",
    "    num_rows = int(len(entries)/num_cols)\n",
    "    \n",
    "    for rowN in range(num_rows):\n",
    "        cur_row = dict()\n",
    "        for colN in range(len(labels)):\n",
    "            cur_row[labels[colN]] = entries[rowN*num_cols + colN].text.strip()\n",
    "        cur_row['Season'] = str(season)\n",
    "        cur_row['Position'] = position\n",
    "        df = df.append(pd.Series(cur_row), ignore_index=True)\n",
    "        \n",
    "    return df"
   ]
  },
  {
   "cell_type": "code",
   "execution_count": 5,
   "metadata": {
    "collapsed": true
   },
   "outputs": [],
   "source": [
    "conn = sqlite3.connect('fantasy.db')\n",
    "\n",
    "c = conn.cursor()"
   ]
  },
  {
   "cell_type": "code",
   "execution_count": 6,
   "metadata": {
    "collapsed": false
   },
   "outputs": [
    {
     "data": {
      "text/plain": [
       "<sqlite3.Cursor at 0x5eed730>"
      ]
     },
     "execution_count": 6,
     "metadata": {},
     "output_type": "execute_result"
    }
   ],
   "source": [
    "c.execute('''CREATE TABLE PlayerSeason\n",
    "             (Player VARCHAR(40), \n",
    "             Team VARCHAR(3), \n",
    "             Plays SMALLINT, \n",
    "             Fantasy SMALLINT, \n",
    "             Games SMALLINT,\n",
    "             FPG DECIMAL(5,2),\n",
    "             NumRuns SMALLINT,\n",
    "             RushYrds SMALLINT,\n",
    "             RushTDs SMALLINT,\n",
    "             PassAttempts SMALLINT, \n",
    "             Complete SMALLINT, \n",
    "             PassYrds SMALLINT, \n",
    "             PassTDs SMALLINT, \n",
    "             Fumbles SMALLINT, \n",
    "             Interceptions SMALLINT,\n",
    "             Position CHARACTER(2),\n",
    "             Season CHARACTER(4),\n",
    "             UNIQUE (Player, Season, Position, Team))''')"
   ]
  },
  {
   "cell_type": "code",
   "execution_count": 7,
   "metadata": {
    "collapsed": false
   },
   "outputs": [
    {
     "data": {
      "text/plain": [
       "<sqlite3.Cursor at 0x5eed730>"
      ]
     },
     "execution_count": 7,
     "metadata": {},
     "output_type": "execute_result"
    }
   ],
   "source": [
    "c.execute('''CREATE TABLE KickerSeason\n",
    "            (Player VARCHAR(40),\n",
    "            Team VARCHAR(3),\n",
    "            Fantasy SMALLINT,\n",
    "            Games SMALLINT,\n",
    "            FPG DECIMAL(5,2),\n",
    "            FGoals SMALLINT,\n",
    "            FGoalsMissed SMALLINT,\n",
    "            ExtraPoints SMALLINT,\n",
    "            ExtraPointsMissed SMALLINT,\n",
    "            Position CHARACTER(2),\n",
    "            Season CHARACTER(4),\n",
    "            UNIQUE (Player, Season))''')"
   ]
  },
  {
   "cell_type": "code",
   "execution_count": 8,
   "metadata": {
    "collapsed": false
   },
   "outputs": [
    {
     "data": {
      "text/plain": [
       "<sqlite3.Cursor at 0x5eed730>"
      ]
     },
     "execution_count": 8,
     "metadata": {},
     "output_type": "execute_result"
    }
   ],
   "source": [
    "c.execute('''CREATE TABLE DefenseSeason\n",
    "            (City VARCHAR(20),\n",
    "            Team VARCHAR(3),\n",
    "            Fantasy SMALLINT,\n",
    "            Games SMALLINT,\n",
    "            FPG DECIMAL(5,2),\n",
    "            Sacks SMALLINT,\n",
    "            FRecoveries SMALLINT,\n",
    "            Interceptions SMALLINT,\n",
    "            TDs SMALLINT,\n",
    "            Safeties SMALLINT,\n",
    "            RushYrdsAllowed SMALLINT,\n",
    "            PassYrdsAllowed SMALLINT,\n",
    "            TotalYrdsAllowed SMALLINT,\n",
    "            Position CHARACTER(2),\n",
    "            Season CHARACTER(4),\n",
    "            UNIQUE (Team, Season))''')"
   ]
  },
  {
   "cell_type": "code",
   "execution_count": 9,
   "metadata": {
    "collapsed": false
   },
   "outputs": [],
   "source": [
    "def update_players(conn, df):\n",
    "    tuple_list = []\n",
    "    \n",
    "    c = conn.cursor()\n",
    "    for ndx in range(len(df)):\n",
    "        try:\n",
    "            c.execute('INSERT INTO PlayerSeason VALUES (?,?,?,?,?,?,?,?,?,?,?,?,?,?,?,?,?)', tuple(df.iloc[ndx])) \n",
    "        except:\n",
    "            print(str(df.iloc[ndx]['Player'])+' '+str(df.iloc[ndx]['Season'])+' already in table')\n",
    "        \n",
    "    conn.commit()"
   ]
  },
  {
   "cell_type": "code",
   "execution_count": 10,
   "metadata": {
    "collapsed": true
   },
   "outputs": [],
   "source": [
    "def update_kickers(conn, df):\n",
    "    tuple_list = []\n",
    "    \n",
    "    c = conn.cursor()\n",
    "    for ndx in range(len(df)):\n",
    "        try:\n",
    "            c.execute('INSERT INTO KickerSeason VALUES (?,?,?,?,?,?,?,?,?,?,?)', tuple(df.iloc[ndx])) \n",
    "        except:\n",
    "            print(str(df.iloc[ndx]['Player'])+' '+str(df.iloc[ndx]['Season'])+' already in table')\n",
    "        \n",
    "    conn.commit()"
   ]
  },
  {
   "cell_type": "code",
   "execution_count": 11,
   "metadata": {
    "collapsed": true
   },
   "outputs": [],
   "source": [
    "def update_defense(conn, df):\n",
    "    tuple_list = []\n",
    "    \n",
    "    c = conn.cursor()\n",
    "    for ndx in range(len(df)):\n",
    "        try:\n",
    "            c.execute('INSERT INTO DefenseSeason VALUES (?,?,?,?,?,?,?,?,?,?,?,?,?,?,?)', tuple(df.iloc[ndx])) \n",
    "        except:\n",
    "            print(str(df.iloc[ndx]['City'])+' '+str(df.iloc[ndx]['Season'])+' already in table')\n",
    "        \n",
    "    conn.commit()"
   ]
  },
  {
   "cell_type": "code",
   "execution_count": 12,
   "metadata": {
    "collapsed": false
   },
   "outputs": [],
   "source": [
    "pos = ['QB', 'WR', 'RB', 'TE']\n",
    "\n",
    "conn = sqlite3.connect('fantasy.db')\n",
    "\n",
    "# loop through all seasons available\n",
    "for year in range(2006, 2017):\n",
    "    # loop through all positions\n",
    "    for cur_pos in pos:\n",
    "        update_players(conn, scrape(year, cur_pos))\n",
    "\n",
    "conn.close()"
   ]
  },
  {
   "cell_type": "code",
   "execution_count": 13,
   "metadata": {
    "collapsed": false
   },
   "outputs": [],
   "source": [
    "conn = sqlite3.connect('fantasy.db')\n",
    "\n",
    "for year in range(2006, 2017):\n",
    "    update_kickers(conn, scrape_kicker(year))\n",
    "    \n",
    "conn.close()"
   ]
  },
  {
   "cell_type": "code",
   "execution_count": 14,
   "metadata": {
    "collapsed": false
   },
   "outputs": [],
   "source": [
    "conn = sqlite3.connect('fantasy.db')\n",
    "\n",
    "for year in range(2006, 2017):\n",
    "    update_defense(conn, scrape_defense(year))\n",
    "    \n",
    "conn.close()"
   ]
  },
  {
   "cell_type": "code",
   "execution_count": 23,
   "metadata": {
    "collapsed": false
   },
   "outputs": [
    {
     "data": {
      "text/html": [
       "<div>\n",
       "<table border=\"1\" class=\"dataframe\">\n",
       "  <thead>\n",
       "    <tr style=\"text-align: right;\">\n",
       "      <th></th>\n",
       "      <th>Team</th>\n",
       "      <th>Season</th>\n",
       "      <th>Passes</th>\n",
       "      <th>Rushes</th>\n",
       "    </tr>\n",
       "  </thead>\n",
       "  <tbody>\n",
       "  </tbody>\n",
       "</table>\n",
       "</div>"
      ],
      "text/plain": [
       "Empty DataFrame\n",
       "Columns: [Team, Season, Passes, Rushes]\n",
       "Index: []"
      ]
     },
     "execution_count": 23,
     "metadata": {},
     "output_type": "execute_result"
    }
   ],
   "source": [
    "select_to_df('fantasy.db', 'OffenseSeason', ['Team', 'Season', 'Passes', 'Rushes'])"
   ]
  },
  {
   "cell_type": "code",
   "execution_count": 19,
   "metadata": {
    "collapsed": false
   },
   "outputs": [],
   "source": [
    "df = scrape_kicker(2010)"
   ]
  },
  {
   "cell_type": "code",
   "execution_count": 22,
   "metadata": {
    "collapsed": false
   },
   "outputs": [
    {
     "data": {
      "text/plain": [
       "str"
      ]
     },
     "execution_count": 22,
     "metadata": {},
     "output_type": "execute_result"
    }
   ],
   "source": [
    "type(tuple(df.iloc[4])[4])"
   ]
  },
  {
   "cell_type": "code",
   "execution_count": null,
   "metadata": {
    "collapsed": true
   },
   "outputs": [],
   "source": []
  }
 ],
 "metadata": {
  "anaconda-cloud": {},
  "kernelspec": {
   "display_name": "Python [Root]",
   "language": "python",
   "name": "Python [Root]"
  },
  "language_info": {
   "codemirror_mode": {
    "name": "ipython",
    "version": 3
   },
   "file_extension": ".py",
   "mimetype": "text/x-python",
   "name": "python",
   "nbconvert_exporter": "python",
   "pygments_lexer": "ipython3",
   "version": "3.5.2"
  }
 },
 "nbformat": 4,
 "nbformat_minor": 0
}
