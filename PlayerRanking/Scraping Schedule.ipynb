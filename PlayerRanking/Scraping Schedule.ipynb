{
 "cells": [
  {
   "cell_type": "code",
   "execution_count": 1,
   "metadata": {
    "collapsed": true
   },
   "outputs": [],
   "source": [
    "import numpy as np\n",
    "import sklearn as sk\n",
    "import requests\n",
    "from bs4 import BeautifulSoup\n",
    "import pandas as pd\n",
    "import sqlite3\n",
    "from sqlite_api import *"
   ]
  },
  {
   "cell_type": "code",
   "execution_count": 46,
   "metadata": {
    "collapsed": true
   },
   "outputs": [],
   "source": [
    "translateTeams = {'Arizona Cardinals' : 'ARZ',\n",
    "                'Atlanta Falcons' : 'ATL',\n",
    "                'Baltimore Ravens': 'BAL',\n",
    "                'Buffalo Bills': 'BUF',\n",
    "                'Carolina Panthers': 'CAR',\n",
    "                'Chicago Bears': 'CHI',\n",
    "                'Cincinnati Bengals': 'CIN',\n",
    "                'Cleveland Browns': 'CLE',\n",
    "                'Dallas Cowboys': 'DAL',\n",
    "                'Denver Broncos': 'DEN',\n",
    "                'Detroit Lions': 'DET',\n",
    "                'Green Bay Packers': 'GB',\n",
    "                'Houston Texans': 'HOU',\n",
    "                'Indianapolis Colts': 'IND',\n",
    "                'Jacksonville Jaguars': 'JAX',\n",
    "                'Kansas City Chiefs': 'KC',\n",
    "                'Miami Dolphins': 'MIA',\n",
    "                'Minnesota Vikings': 'MIN',\n",
    "                'New England Patriots': 'NE',\n",
    "                'New Orleans Saints': 'NO',\n",
    "                'New York Giants': 'NYG',\n",
    "                'New York Jets': 'NYJ',\n",
    "                'Oakland Raiders': 'OAK',\n",
    "                'Philadelphia Eagles': 'PHI',\n",
    "                'Pittsburgh Steelers': 'PIT',\n",
    "                'Los Angeles Chargers': 'LAC',\n",
    "                'Seattle Seahawks': 'SEA',\n",
    "                'San Francisco 49ers': 'SF',\n",
    "                'Los Angeles Rams': 'LAR',\n",
    "                'Tampa Bay Buccaneers': 'TB',\n",
    "                'Tennessee Titans': 'TEN',\n",
    "                'Washington Redskins': 'WAS'}"
   ]
  },
  {
   "cell_type": "code",
   "execution_count": 55,
   "metadata": {
    "collapsed": false
   },
   "outputs": [],
   "source": [
    "def scrape(translate):\n",
    "    # column name for the dataframe to be created\n",
    "    labels = ['Player', 'Team', 'Plays', 'FPT', 'Games', 'FPG', 'RushAttempts', \n",
    "              'RushYrds', 'RushTDs', 'PassAttempts', 'Complete', 'PassYrds', 'PassTDs', 'Fumbles', 'Interceptions']\n",
    "    \n",
    "    # build pandas dataframe for this season's data\n",
    "    df = pd.DataFrame(columns=labels)\n",
    "    \n",
    "    # build url and request html\n",
    "    url = 'http://www.cbssports.com/nfl/news/2017-nfl-schedule-release-heres-the-time-and-date-for-all-256-games/'\n",
    "    r  = requests.get(url, headers={'User-agent': 'Mozilla/5.0'})\n",
    "    contents = BeautifulSoup(r.text, 'lxml')\n",
    "    \n",
    "    # hard-coded number of columns in table\n",
    "    num_cols = 15\n",
    "    table = contents.find_all(\"td\", class_=\"xl66\")\n",
    "    entries = contents.find_all(\"td\", {'class':['xl72', 'xl66']})\n",
    "    \n",
    "    df = pd.DataFrame(columns=['Home', 'Away', 'Week'])\n",
    "    \n",
    "    cur_week = 0\n",
    "    for row in entries:\n",
    "        string = row.text.strip()\n",
    "        if 'WEEK' in string:\n",
    "            cur_week += 1\n",
    "        elif 'at' in string:\n",
    "            string = string.replace(' (London)', '')\n",
    "            string = string.replace(' (Mexico City)', '')\n",
    "            string = string.replace(' *', '')\n",
    "            teamStr = string.split(' at ')\n",
    "            df = df.append({'Home': translateTeams[teamStr[1].strip()], 'Away': translateTeams[teamStr[0].strip()], \n",
    "                            'Week': cur_week}, ignore_index=True)\n",
    "            \n",
    "    return df\n",
    "    \n",
    "sched = scrape(translateTeams)"
   ]
  },
  {
   "cell_type": "code",
   "execution_count": 57,
   "metadata": {
    "collapsed": false
   },
   "outputs": [],
   "source": [
    "sched.to_json('SCHEDULE2017.json', orient='index')"
   ]
  },
  {
   "cell_type": "code",
   "execution_count": null,
   "metadata": {
    "collapsed": true
   },
   "outputs": [],
   "source": []
  }
 ],
 "metadata": {
  "kernelspec": {
   "display_name": "Python [Root]",
   "language": "python",
   "name": "Python [Root]"
  },
  "language_info": {
   "codemirror_mode": {
    "name": "ipython",
    "version": 3
   },
   "file_extension": ".py",
   "mimetype": "text/x-python",
   "name": "python",
   "nbconvert_exporter": "python",
   "pygments_lexer": "ipython3",
   "version": "3.5.2"
  }
 },
 "nbformat": 4,
 "nbformat_minor": 0
}
