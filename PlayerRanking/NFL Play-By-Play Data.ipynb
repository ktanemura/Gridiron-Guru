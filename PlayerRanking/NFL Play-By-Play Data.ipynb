{
 "cells": [
  {
   "cell_type": "code",
   "execution_count": 1,
   "metadata": {
    "collapsed": true
   },
   "outputs": [],
   "source": [
    "import numpy as np\n",
    "import sklearn as sk\n",
    "import pandas as pd\n",
    "import sqlite3"
   ]
  },
  {
   "cell_type": "code",
   "execution_count": 3,
   "metadata": {
    "collapsed": false
   },
   "outputs": [],
   "source": [
    "nfl2016 = pd.read_csv('data/pbp-2016.csv')"
   ]
  },
  {
   "cell_type": "code",
   "execution_count": 4,
   "metadata": {
    "collapsed": false
   },
   "outputs": [],
   "source": [
    "var_list = ['GameDate', 'Quarter', 'Minute', 'Second', 'OffenseTeam',\n",
    "       'DefenseTeam', 'Down', 'ToGo', 'YardLine', 'Description',\n",
    "       'SeasonYear', 'Yards', 'Formation',\n",
    "       'PlayType', 'IsRush', 'IsPass', 'IsIncomplete', 'IsTouchdown',\n",
    "       'PassType', 'IsSack']\n",
    "\n",
    "nfl2016 = nfl2016[var_list]"
   ]
  },
  {
   "cell_type": "code",
   "execution_count": 5,
   "metadata": {
    "collapsed": false
   },
   "outputs": [],
   "source": [
    "nfl2016 = nfl2016.dropna(subset=['OffenseTeam'])"
   ]
  },
  {
   "cell_type": "code",
   "execution_count": 6,
   "metadata": {
    "collapsed": false
   },
   "outputs": [],
   "source": [
    "def feat_pass_yrds(row):\n",
    "    return row.IsPass * row.Yards\n",
    "\n",
    "def feat_rush_yrds(row):\n",
    "    return row.IsRush * row.Yards\n",
    "\n",
    "def feat_pass_tds(row):\n",
    "    return row.IsPass * row.IsTouchdown\n",
    "\n",
    "def feat_rush_tds(row):\n",
    "    return row.IsRush * row.IsTouchdown"
   ]
  },
  {
   "cell_type": "code",
   "execution_count": 7,
   "metadata": {
    "collapsed": false
   },
   "outputs": [],
   "source": [
    "nfl2016['PassYrds'] = nfl2016.apply(feat_pass_yrds, axis=1)\n",
    "nfl2016['RushYrds'] = nfl2016.apply(feat_rush_yrds, axis=1)\n",
    "nfl2016['PassTDs'] = nfl2016.apply(feat_pass_tds, axis=1)\n",
    "nfl2016['RushTDs'] = nfl2016.apply(feat_rush_tds, axis=1)"
   ]
  },
  {
   "cell_type": "code",
   "execution_count": 8,
   "metadata": {
    "collapsed": false
   },
   "outputs": [],
   "source": [
    "off_vars = ['SeasonYear', 'Yards', 'IsRush', 'IsPass', 'IsIncomplete', \n",
    "            'PassYrds', 'RushYrds', 'PassTDs', 'RushTDs', 'IsTouchdown']\n",
    "\n",
    "teams_off_counts = nfl2016.groupby('OffenseTeam').size()\n",
    "teams_off = nfl2016.groupby('OffenseTeam')\n",
    "teams_off = pd.DataFrame(teams_off.agg({'SeasonYear': 'first', 'Yards': 'sum', 'IsRush': 'sum', 'IsPass': 'sum', \n",
    "                                        'IsIncomplete': 'sum', 'PassYrds': 'sum', 'RushYrds': 'sum', 'PassTDs': 'sum', \n",
    "                                        'RushTDs': 'sum', 'IsTouchdown': 'sum'})[off_vars])\n",
    "teams_off['Plays'] = teams_off_counts\n",
    "teams_off.reset_index(level=0, inplace=True)\n",
    "teams_off = teams_off.rename(columns={'OffenseTeam': 'Team', 'SeasonYear': 'Season', 'IsRush': 'Rushes', 'IsPass': 'Passes', \n",
    "                                      'IsIncomplete': 'Incompletes', 'IsTouchdown': 'TDs'})"
   ]
  },
  {
   "cell_type": "code",
   "execution_count": 9,
   "metadata": {
    "collapsed": false
   },
   "outputs": [
    {
     "data": {
      "text/html": [
       "<div>\n",
       "<table border=\"1\" class=\"dataframe\">\n",
       "  <thead>\n",
       "    <tr style=\"text-align: right;\">\n",
       "      <th></th>\n",
       "      <th>Team</th>\n",
       "      <th>Season</th>\n",
       "      <th>Yards</th>\n",
       "      <th>Rushes</th>\n",
       "      <th>Passes</th>\n",
       "      <th>Incompletes</th>\n",
       "      <th>PassYrds</th>\n",
       "      <th>RushYrds</th>\n",
       "      <th>PassTDs</th>\n",
       "      <th>RushTDs</th>\n",
       "      <th>TDs</th>\n",
       "      <th>Plays</th>\n",
       "    </tr>\n",
       "  </thead>\n",
       "  <tbody>\n",
       "    <tr>\n",
       "      <th>0</th>\n",
       "      <td>ARI</td>\n",
       "      <td>2016</td>\n",
       "      <td>5803</td>\n",
       "      <td>365</td>\n",
       "      <td>647</td>\n",
       "      <td>255</td>\n",
       "      <td>4487</td>\n",
       "      <td>1627</td>\n",
       "      <td>27</td>\n",
       "      <td>19</td>\n",
       "      <td>50</td>\n",
       "      <td>1324</td>\n",
       "    </tr>\n",
       "    <tr>\n",
       "      <th>1</th>\n",
       "      <td>ATL</td>\n",
       "      <td>2016</td>\n",
       "      <td>6456</td>\n",
       "      <td>393</td>\n",
       "      <td>526</td>\n",
       "      <td>159</td>\n",
       "      <td>4847</td>\n",
       "      <td>1865</td>\n",
       "      <td>36</td>\n",
       "      <td>19</td>\n",
       "      <td>55</td>\n",
       "      <td>1240</td>\n",
       "    </tr>\n",
       "    <tr>\n",
       "      <th>2</th>\n",
       "      <td>BAL</td>\n",
       "      <td>2016</td>\n",
       "      <td>5789</td>\n",
       "      <td>345</td>\n",
       "      <td>658</td>\n",
       "      <td>222</td>\n",
       "      <td>4478</td>\n",
       "      <td>1551</td>\n",
       "      <td>21</td>\n",
       "      <td>9</td>\n",
       "      <td>31</td>\n",
       "      <td>1311</td>\n",
       "    </tr>\n",
       "    <tr>\n",
       "      <th>3</th>\n",
       "      <td>BUF</td>\n",
       "      <td>2016</td>\n",
       "      <td>5695</td>\n",
       "      <td>458</td>\n",
       "      <td>472</td>\n",
       "      <td>180</td>\n",
       "      <td>3245</td>\n",
       "      <td>2647</td>\n",
       "      <td>18</td>\n",
       "      <td>29</td>\n",
       "      <td>47</td>\n",
       "      <td>1250</td>\n",
       "    </tr>\n",
       "    <tr>\n",
       "      <th>4</th>\n",
       "      <td>CAR</td>\n",
       "      <td>2016</td>\n",
       "      <td>5718</td>\n",
       "      <td>426</td>\n",
       "      <td>563</td>\n",
       "      <td>252</td>\n",
       "      <td>4215</td>\n",
       "      <td>1760</td>\n",
       "      <td>26</td>\n",
       "      <td>16</td>\n",
       "      <td>43</td>\n",
       "      <td>1293</td>\n",
       "    </tr>\n",
       "  </tbody>\n",
       "</table>\n",
       "</div>"
      ],
      "text/plain": [
       "  Team  Season  Yards  Rushes  Passes  Incompletes  PassYrds  RushYrds  \\\n",
       "0  ARI    2016   5803     365     647          255      4487      1627   \n",
       "1  ATL    2016   6456     393     526          159      4847      1865   \n",
       "2  BAL    2016   5789     345     658          222      4478      1551   \n",
       "3  BUF    2016   5695     458     472          180      3245      2647   \n",
       "4  CAR    2016   5718     426     563          252      4215      1760   \n",
       "\n",
       "   PassTDs  RushTDs  TDs  Plays  \n",
       "0       27       19   50   1324  \n",
       "1       36       19   55   1240  \n",
       "2       21        9   31   1311  \n",
       "3       18       29   47   1250  \n",
       "4       26       16   43   1293  "
      ]
     },
     "execution_count": 9,
     "metadata": {},
     "output_type": "execute_result"
    }
   ],
   "source": [
    "teams_off.head()"
   ]
  },
  {
   "cell_type": "code",
   "execution_count": null,
   "metadata": {
    "collapsed": true
   },
   "outputs": [],
   "source": []
  }
 ],
 "metadata": {
  "anaconda-cloud": {},
  "kernelspec": {
   "display_name": "Python [Root]",
   "language": "python",
   "name": "Python [Root]"
  },
  "language_info": {
   "codemirror_mode": {
    "name": "ipython",
    "version": 3
   },
   "file_extension": ".py",
   "mimetype": "text/x-python",
   "name": "python",
   "nbconvert_exporter": "python",
   "pygments_lexer": "ipython3",
   "version": "3.5.2"
  }
 },
 "nbformat": 4,
 "nbformat_minor": 0
}
